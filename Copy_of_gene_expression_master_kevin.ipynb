{
  "nbformat": 4,
  "nbformat_minor": 0,
  "metadata": {
    "colab": {
      "provenance": [],
      "collapsed_sections": [],
      "include_colab_link": true
    },
    "kernelspec": {
      "name": "python3",
      "display_name": "Python 3"
    },
    "language_info": {
      "name": "python"
    }
  },
  "cells": [
    {
      "cell_type": "markdown",
      "metadata": {
        "id": "view-in-github",
        "colab_type": "text"
      },
      "source": [
        "<a href=\"https://colab.research.google.com/github/unique-subedi/gene-expression/blob/main/Copy_of_gene_expression_master_kevin.ipynb\" target=\"_parent\"><img src=\"https://colab.research.google.com/assets/colab-badge.svg\" alt=\"Open In Colab\"/></a>"
      ]
    },
    {
      "cell_type": "code",
      "source": [
        "import os\n",
        "import datetime\n",
        "import time\n",
        "import math\n",
        "import numpy as np\n",
        "from numpy import linalg as LA\n",
        "import pandas as pd\n",
        "import urllib.request\n",
        "import matplotlib.pyplot as plt\n",
        "import seaborn as sns\n",
        "import statsmodels.api as sm\n",
        "\n",
        "import warnings\n",
        "warnings.filterwarnings(\"ignore\")\n",
        "\n",
        "from tqdm import tqdm\n",
        "from copy import deepcopy"
      ],
      "metadata": {
        "id": "BmXo9Yr-pn3a"
      },
      "execution_count": 1,
      "outputs": []
    },
    {
      "cell_type": "code",
      "source": [
        "!pip install pyreadr\n",
        "import pyreadr\n",
        "urllib.request.urlretrieve(\"https://raw.githubusercontent.com/unique-subedi/gene-expression/main/data/brain.rda\", \"brain.rda\")\n",
        "brain = pyreadr.read_r(\"brain.rda\")"
      ],
      "metadata": {
        "id": "cISjdI7TGXg4",
        "outputId": "61f6a90d-269c-44fc-c987-0c4e60e7061a",
        "colab": {
          "base_uri": "https://localhost:8080/"
        }
      },
      "execution_count": 2,
      "outputs": [
        {
          "output_type": "stream",
          "name": "stdout",
          "text": [
            "Looking in indexes: https://pypi.org/simple, https://us-python.pkg.dev/colab-wheels/public/simple/\n",
            "Requirement already satisfied: pyreadr in /usr/local/lib/python3.7/dist-packages (0.4.7)\n",
            "Requirement already satisfied: pandas>=1.2.0 in /usr/local/lib/python3.7/dist-packages (from pyreadr) (1.3.5)\n",
            "Requirement already satisfied: numpy>=1.17.3 in /usr/local/lib/python3.7/dist-packages (from pandas>=1.2.0->pyreadr) (1.21.6)\n",
            "Requirement already satisfied: python-dateutil>=2.7.3 in /usr/local/lib/python3.7/dist-packages (from pandas>=1.2.0->pyreadr) (2.8.2)\n",
            "Requirement already satisfied: pytz>=2017.3 in /usr/local/lib/python3.7/dist-packages (from pandas>=1.2.0->pyreadr) (2022.2.1)\n",
            "Requirement already satisfied: six>=1.5 in /usr/local/lib/python3.7/dist-packages (from python-dateutil>=2.7.3->pandas>=1.2.0->pyreadr) (1.15.0)\n"
          ]
        }
      ]
    },
    {
      "cell_type": "code",
      "source": [
        "!pip install qnorm\n",
        "import qnorm"
      ],
      "metadata": {
        "id": "9RJZu8r6VVcZ",
        "outputId": "67cc326a-df95-4a7d-d1d6-bdaf6ec765ae",
        "colab": {
          "base_uri": "https://localhost:8080/"
        }
      },
      "execution_count": 3,
      "outputs": [
        {
          "output_type": "stream",
          "name": "stdout",
          "text": [
            "Looking in indexes: https://pypi.org/simple, https://us-python.pkg.dev/colab-wheels/public/simple/\n",
            "Requirement already satisfied: qnorm in /usr/local/lib/python3.7/dist-packages (0.8.1)\n",
            "Requirement already satisfied: numpy in /usr/local/lib/python3.7/dist-packages (from qnorm) (1.21.6)\n",
            "Requirement already satisfied: numba in /usr/local/lib/python3.7/dist-packages (from qnorm) (0.56.2)\n",
            "Requirement already satisfied: setuptools<60 in /usr/local/lib/python3.7/dist-packages (from numba->qnorm) (57.4.0)\n",
            "Requirement already satisfied: importlib-metadata in /usr/local/lib/python3.7/dist-packages (from numba->qnorm) (4.12.0)\n",
            "Requirement already satisfied: llvmlite<0.40,>=0.39.0dev0 in /usr/local/lib/python3.7/dist-packages (from numba->qnorm) (0.39.1)\n",
            "Requirement already satisfied: zipp>=0.5 in /usr/local/lib/python3.7/dist-packages (from importlib-metadata->numba->qnorm) (3.8.1)\n",
            "Requirement already satisfied: typing-extensions>=3.6.4 in /usr/local/lib/python3.7/dist-packages (from importlib-metadata->numba->qnorm) (4.1.1)\n"
          ]
        }
      ]
    },
    {
      "cell_type": "code",
      "source": [
        "expression = pd.DataFrame(brain[\"expression\"])\n",
        "genes = pd.DataFrame(brain[\"genes\"])\n",
        "samples = pd.DataFrame(brain[\"samples\"])"
      ],
      "metadata": {
        "id": "Z9-4Xnp2GZZs"
      },
      "execution_count": 129,
      "outputs": []
    },
    {
      "cell_type": "code",
      "source": [
        "genes.at[\"AFFX-BioDn-3_at\", 'chrom'] = float(\"Nan\")\n",
        "genes_control = genes[['AFFX' in s for s in genes.index]]\n",
        "genes_control = genes_control[['HUM' not in s for s in genes_control.index]]\n",
        "genes_control = genes_control[['hum' not in s for s in genes_control.index]]\n",
        "genes_bac_index = genes_control[genes_control.chrom.isnull() & genes_control.sym.isnull()].index\n",
        "genes_hum_index = [x for x in genes.index if x not in genes_bac_index]"
      ],
      "metadata": {
        "id": "XMO31D6OCyPU"
      },
      "execution_count": 130,
      "outputs": []
    },
    {
      "cell_type": "code",
      "source": [
        "genes_sym = genes[genes.sym.notnull()]\n",
        "unique_genes = genes_sym[\"sym\"].unique()\n",
        "gene_to_probe_set = {}\n",
        "\n",
        "for gene in unique_genes:\n",
        "  gene_to_probe_set[gene] = genes_sym.index[genes_sym.sym == gene].tolist()"
      ],
      "metadata": {
        "id": "albxMnTM5N-h"
      },
      "execution_count": 6,
      "outputs": []
    },
    {
      "cell_type": "code",
      "source": [
        "t = pd.melt(expression.T)\n",
        "t = pd.merge(t, samples[['lab']], left_on='variable', right_index = True)"
      ],
      "metadata": {
        "id": "y3bYyo9i8s5j"
      },
      "execution_count": 137,
      "outputs": []
    },
    {
      "cell_type": "code",
      "source": [
        "fig, ax = plt.subplots(1, 1, figsize=(22, 6), sharey = \"all\")\n",
        "sns.boxplot(x=\"variable\", y=\"value\", data=t, hue = 'lab', showfliers = False)\n",
        "ax.set_xlabel(\"Microarray\")\n",
        "ax.set_ylabel(\"log expression\")\n",
        "ax.set(xticklabels=[])\n",
        "ax.title.set_text('Note: outliers removed')\n",
        "ax.legend(bbox_to_anchor=(1.08, 1))"
      ],
      "metadata": {
        "colab": {
          "base_uri": "https://localhost:8080/",
          "height": 411
        },
        "id": "y_pcHUDN8s9m",
        "outputId": "77640469-37b2-46d0-a756-ffd07ddadc59"
      },
      "execution_count": 101,
      "outputs": [
        {
          "output_type": "execute_result",
          "data": {
            "text/plain": [
              "<matplotlib.legend.Legend at 0x7fa3fe876c10>"
            ]
          },
          "metadata": {},
          "execution_count": 101
        },
        {
          "output_type": "display_data",
          "data": {
            "text/plain": [
              "<Figure size 1584x432 with 1 Axes>"
            ],
            "image/png": "[encoded data removed]"
          },
          "metadata": {
            "needs_background": "light"
          }
        }
      ]
    },
    {
      "cell_type": "code",
      "source": [
        "t = pd.melt(expression.T)\n",
        "t = pd.merge(t, samples[['lab', 'chip.version']], left_on='variable', right_index = True)"
      ],
      "metadata": {
        "id": "pUQkp45LKXKC"
      },
      "execution_count": 139,
      "outputs": []
    },
    {
      "cell_type": "code",
      "source": [
        "fig, axs = plt.subplots(1, 2, figsize=(12, 6), sharey = \"all\")\n",
        "c = 0\n",
        "\n",
        "for chip_version in ['v1', 'v2']:\n",
        "  temp = t[(t['lab'] == 'Davis') & (t['chip.version'] == chip_version)]\n",
        "  sns.boxplot(x=\"variable\", y=\"value\", data=temp, showfliers = False, ax = axs[c], color = 'lightblue')\n",
        "  axs[c].set_xlabel(\"Microarray\")\n",
        "  axs[c].set_ylabel(\"Log expression\")\n",
        "  axs[c].set(xticklabels=[])\n",
        "  axs[c].title.set_text(chip_version)\n",
        "  c += 1\n",
        "plt.suptitle('Davis (note: outliers removed)');"
      ],
      "metadata": {
        "colab": {
          "base_uri": "https://localhost:8080/",
          "height": 421
        },
        "id": "7wVluur5KXuq",
        "outputId": "273022b5-c251-4256-9f83-5b413c66a554"
      },
      "execution_count": 150,
      "outputs": [
        {
          "output_type": "display_data",
          "data": {
            "text/plain": [
              "<Figure size 864x432 with 2 Axes>"
            ],
            "image/png": "[encoded data removed]"
          },
          "metadata": {
            "needs_background": "light"
          }
        }
      ]
    },
    {
      "cell_type": "code",
      "source": [
        "express_samp = pd.concat([expression, samples], axis=1)"
      ],
      "metadata": {
        "id": "ie94Eohb_Ejk"
      },
      "execution_count": 32,
      "outputs": []
    },
    {
      "cell_type": "code",
      "source": [
        "import random\n",
        "random.seed(2022)\n",
        "random.sample(range(len(genes_hum_index)), 3)"
      ],
      "metadata": {
        "colab": {
          "base_uri": "https://localhost:8080/"
        },
        "id": "TJorvLrPASpy",
        "outputId": "f7523736-1be2-4fee-d60f-5aae839f0509"
      },
      "execution_count": 49,
      "outputs": [
        {
          "output_type": "execute_result",
          "data": {
            "text/plain": [
              "[8710, 4733, 7251]"
            ]
          },
          "metadata": {},
          "execution_count": 49
        }
      ]
    },
    {
      "cell_type": "code",
      "source": [
        "sns.histplot(data = express_samp, x = genes_hum_index[8710], hue = 'lab', bins = 20)\n",
        "plt.title('Histogram of log expressions');"
      ],
      "metadata": {
        "colab": {
          "base_uri": "https://localhost:8080/",
          "height": 296
        },
        "id": "McsZ9hdy_Ych",
        "outputId": "745212a6-252f-4629-8192-483abab34434"
      },
      "execution_count": 50,
      "outputs": [
        {
          "output_type": "display_data",
          "data": {
            "text/plain": [
              "<Figure size 432x288 with 1 Axes>"
            ],
            "image/png": "[encoded data removed]"
          },
          "metadata": {
            "needs_background": "light"
          }
        }
      ]
    },
    {
      "cell_type": "code",
      "source": [
        "sns.histplot(data = express_samp, x = genes_hum_index[4733], hue = 'lab', bins = 20)\n",
        "plt.title('Histogram of log expressions');"
      ],
      "metadata": {
        "id": "YaRdwkbL5Rj5",
        "colab": {
          "base_uri": "https://localhost:8080/",
          "height": 296
        },
        "outputId": "73b33337-6bc5-41a9-b1e1-c8a94317618b"
      },
      "execution_count": 51,
      "outputs": [
        {
          "output_type": "display_data",
          "data": {
            "text/plain": [
              "<Figure size 432x288 with 1 Axes>"
            ],
            "image/png": "[encoded data removed]"
          },
          "metadata": {
            "needs_background": "light"
          }
        }
      ]
    },
    {
      "cell_type": "code",
      "source": [
        "sns.histplot(data = express_samp, x = genes_hum_index[7251], hue = 'lab', bins = 20)\n",
        "plt.title('Histogram of log expressions');"
      ],
      "metadata": {
        "id": "BoOX6C0h5RmV",
        "colab": {
          "base_uri": "https://localhost:8080/",
          "height": 296
        },
        "outputId": "53b11af9-0361-4d41-8659-21b02be0d200"
      },
      "execution_count": 52,
      "outputs": [
        {
          "output_type": "display_data",
          "data": {
            "text/plain": [
              "<Figure size 432x288 with 1 Axes>"
            ],
            "image/png": "[encoded data removed]"
          },
          "metadata": {
            "needs_background": "light"
          }
        }
      ]
    },
    {
      "cell_type": "code",
      "source": [
        "mean_bac_exp = expression[genes_bac_index].mean(axis=1)\n",
        "std_bac_exp = expression[genes_bac_index].std(axis=1)\n",
        "expression_norm =  (expression - mean_bac_exp.values[:, None]).divide(std_bac_exp, axis=0)\n",
        "express_norm_samp = pd.concat([expression_norm, samples], axis=1)"
      ],
      "metadata": {
        "id": "e01wcw5G5Ro1"
      },
      "execution_count": 151,
      "outputs": []
    },
    {
      "cell_type": "code",
      "source": [
        "t = pd.melt(expression_norm.T)\n",
        "t = pd.merge(t, samples['lab'], left_on='variable', right_index = True)"
      ],
      "metadata": {
        "id": "Qiu_IFwd5RrE"
      },
      "execution_count": 152,
      "outputs": []
    },
    {
      "cell_type": "code",
      "source": [
        "fig, ax = plt.subplots(1, 1, figsize=(22, 6), sharey = \"all\")\n",
        "sns.boxplot(x=\"variable\", y=\"value\", data=t, hue = 'lab', showfliers = False)\n",
        "ax.set_xlabel(\"Microarray\")\n",
        "ax.set_ylabel(\"log expression\")\n",
        "ax.set(xticklabels=[])\n",
        "ax.title.set_text('Note: outliers removed')\n",
        "ax.legend(bbox_to_anchor=(1.08, 1))"
      ],
      "metadata": {
        "id": "O8Ch8-Kd5RtL",
        "colab": {
          "base_uri": "https://localhost:8080/",
          "height": 411
        },
        "outputId": "0f23b2fa-1db9-4cc7-f57d-eb5e09701f20"
      },
      "execution_count": 153,
      "outputs": [
        {
          "output_type": "execute_result",
          "data": {
            "text/plain": [
              "<matplotlib.legend.Legend at 0x7fa3fb10fe90>"
            ]
          },
          "metadata": {},
          "execution_count": 153
        },
        {
          "output_type": "display_data",
          "data": {
            "text/plain": [
              "<Figure size 1584x432 with 1 Axes>"
            ],
            "image/png": "[encoded data removed]"
          },
          "metadata": {
            "needs_background": "light"
          }
        }
      ]
    },
    {
      "cell_type": "code",
      "source": [
        "t = pd.melt(expression_norm.T)\n",
        "t = pd.merge(t, samples[['lab', 'chip.version']], left_on='variable', right_index = True)"
      ],
      "metadata": {
        "id": "VnqUOQuVNsez"
      },
      "execution_count": 154,
      "outputs": []
    },
    {
      "cell_type": "code",
      "source": [
        "fig, axs = plt.subplots(1, 2, figsize=(12, 6), sharey = \"all\")\n",
        "c = 0\n",
        "\n",
        "for chip_version in ['v1', 'v2']:\n",
        "  temp = t[(t['lab'] == 'Davis') & (t['chip.version'] == chip_version)]\n",
        "  sns.boxplot(x=\"variable\", y=\"value\", data=temp, showfliers = False, ax = axs[c], color = 'lightblue')\n",
        "  axs[c].set_xlabel(\"Microarray\")\n",
        "  axs[c].set_ylabel(\"Log expression\")\n",
        "  axs[c].set(xticklabels=[])\n",
        "  axs[c].title.set_text(chip_version)\n",
        "  c += 1\n",
        "plt.suptitle('Davis (note: outliers removed)');"
      ],
      "metadata": {
        "colab": {
          "base_uri": "https://localhost:8080/",
          "height": 421
        },
        "id": "G2D8CkB0NshG",
        "outputId": "28d0c200-5d27-4d5c-edfb-eb9d0aa1ba63"
      },
      "execution_count": 156,
      "outputs": [
        {
          "output_type": "display_data",
          "data": {
            "text/plain": [
              "<Figure size 864x432 with 2 Axes>"
            ],
            "image/png": "[encoded data removed]"
          },
          "metadata": {
            "needs_background": "light"
          }
        }
      ]
    },
    {
      "cell_type": "code",
      "source": [],
      "metadata": {
        "id": "G4J_WjpTNsjF"
      },
      "execution_count": null,
      "outputs": []
    },
    {
      "cell_type": "code",
      "source": [],
      "metadata": {
        "id": "tgioM4LjNslH"
      },
      "execution_count": null,
      "outputs": []
    },
    {
      "cell_type": "code",
      "source": [],
      "metadata": {
        "id": "OBET3-I_NsnO"
      },
      "execution_count": null,
      "outputs": []
    },
    {
      "cell_type": "code",
      "source": [
        "express_norm_samp = pd.concat([expression_norm, samples], axis=1)"
      ],
      "metadata": {
        "id": "KZijtahP-0zQ"
      },
      "execution_count": 115,
      "outputs": []
    },
    {
      "cell_type": "code",
      "source": [
        "sns.histplot(data = express_norm_samp, x = genes_hum_index[8710], hue = 'lab', bins = 20)\n",
        "plt.title('Histogram of log expressions');"
      ],
      "metadata": {
        "colab": {
          "base_uri": "https://localhost:8080/",
          "height": 296
        },
        "id": "36EkCqEZGrtV",
        "outputId": "d7113cbd-7ff3-41b1-d938-834ac631c497"
      },
      "execution_count": 119,
      "outputs": [
        {
          "output_type": "display_data",
          "data": {
            "text/plain": [
              "<Figure size 432x288 with 1 Axes>"
            ],
            "image/png": "[encoded data removed]"
          },
          "metadata": {
            "needs_background": "light"
          }
        }
      ]
    },
    {
      "cell_type": "code",
      "source": [
        "sns.histplot(data = express_norm_samp, x = genes_hum_index[4733], hue = 'lab', bins = 20)\n",
        "plt.title('Histogram of log expressions');"
      ],
      "metadata": {
        "colab": {
          "base_uri": "https://localhost:8080/",
          "height": 296
        },
        "id": "LASXvzoSGrvi",
        "outputId": "953790ce-e2b7-4ab2-f4cd-32898cc98892"
      },
      "execution_count": 120,
      "outputs": [
        {
          "output_type": "display_data",
          "data": {
            "text/plain": [
              "<Figure size 432x288 with 1 Axes>"
            ],
            "image/png": "[encoded data removed]"
          },
          "metadata": {
            "needs_background": "light"
          }
        }
      ]
    },
    {
      "cell_type": "code",
      "source": [
        "sns.histplot(data = express_norm_samp, x = genes_hum_index[7251], hue = 'lab', bins = 20)\n",
        "plt.title('Histogram of log expressions');"
      ],
      "metadata": {
        "colab": {
          "base_uri": "https://localhost:8080/",
          "height": 296
        },
        "id": "fiq7AHibGrxm",
        "outputId": "34ff9d15-0a37-498f-e07a-2d8f82776114"
      },
      "execution_count": 121,
      "outputs": [
        {
          "output_type": "display_data",
          "data": {
            "text/plain": [
              "<Figure size 432x288 with 1 Axes>"
            ],
            "image/png": "[encoded data removed]"
          },
          "metadata": {
            "needs_background": "light"
          }
        }
      ]
    },
    {
      "cell_type": "code",
      "source": [],
      "metadata": {
        "id": "DD5rebPvGrzp"
      },
      "execution_count": null,
      "outputs": []
    },
    {
      "cell_type": "code",
      "source": [
        "mean_bac_exp = expression[genes_bac_index].mean(axis=1)\n",
        "std_bac_exp = expression[genes_bac_index].std(axis=1)\n",
        "expression_norm =  (expression - mean_bac_exp.values[:, None]).divide(std_bac_exp, axis=0)\n",
        "express_norm_samp = pd.concat([expression_norm, samples], axis=1)"
      ],
      "metadata": {
        "id": "ev_UyioXGr2K"
      },
      "execution_count": 187,
      "outputs": []
    },
    {
      "cell_type": "code",
      "source": [
        "# expression = b0 + b1 * sex + b2 * region + b3 * lab\n",
        "# train one model per gene. \n",
        "\n",
        "samples_tmp = samples.drop(columns= [\"patient\", \"chip.version\"]);\n",
        "one_hot_encoding = pd.get_dummies(samples_tmp);\n",
        "one_hot_encoding = one_hot_encoding.drop(columns= [\"sex_female\", \"region_cerebellum\", \"lab_Davis\"]);\n",
        "X = sm.add_constant(one_hot_encoding);\n",
        "\n",
        "coef_gene = []\n",
        "for i in tqdm(range(len(genes_hum_index[:]))):\n",
        "  gene = genes_hum_index[i]\n",
        "  model = sm.OLS(express_norm_samp[gene],X);\n",
        "  results = model.fit(cov_type='HC3');\n",
        "  pval = results.pvalues[1]\n",
        "  coef_gene.append((gene, pval, np.abs(results.params[\"sex_male\"])))"
      ],
      "metadata": {
        "colab": {
          "base_uri": "https://localhost:8080/"
        },
        "id": "fW4axn1B-01X",
        "outputId": "c64660ac-e2c8-49da-e031-e3155f7bf0bc"
      },
      "execution_count": 234,
      "outputs": [
        {
          "output_type": "stream",
          "name": "stderr",
          "text": [
            "100%|██████████| 12556/12556 [00:19<00:00, 643.43it/s]\n"
          ]
        }
      ]
    },
    {
      "cell_type": "code",
      "source": [
        "res = []\n",
        "for gene in gene_to_probe_set:\n",
        "  probes = gene_to_probe_set[gene]\n",
        "  temp = [x for x in coef_gene if x[0] in probes]\n",
        "  max_pval = -100\n",
        "  max_pval_gene = None\n",
        "  for i in temp:\n",
        "    if i[1] > max_pval:\n",
        "      max_pval = i[1]\n",
        "      max_pval_gene = i[0]\n",
        "  res.append((max_pval_gene, max_pval))"
      ],
      "metadata": {
        "id": "zX1z9pJBUCVK"
      },
      "execution_count": 235,
      "outputs": []
    },
    {
      "cell_type": "code",
      "source": [
        "sorted_coef_gene = sorted(res, key=lambda tup: tup[1])\n",
        "top10genes = [tup[0] for tup in sorted_coef_gene[:50]]\n",
        "op_chrom = np.array(genes.loc[top10genes].loc[:, 'chrom'].values)\n",
        "op_genes = np.array(genes.loc[top10genes].loc[:, 'sym'].values)"
      ],
      "metadata": {
        "id": "tSDMn4GWUCbe"
      },
      "execution_count": 236,
      "outputs": []
    },
    {
      "cell_type": "code",
      "source": [
        "op_chrom"
      ],
      "metadata": {
        "colab": {
          "base_uri": "https://localhost:8080/"
        },
        "id": "PbLDYMalUCeF",
        "outputId": "4019943f-1a0d-427e-a918-6b3541c5ce81"
      },
      "execution_count": 237,
      "outputs": [
        {
          "output_type": "execute_result",
          "data": {
            "text/plain": [
              "array(['Y', 'Y', 'Y', 'Y', 'X', 'Y', 'Y', 'Y', 'Y', '6', 'Y', '19', '2',\n",
              "       '17', '16', '10', '13', '1', '9', '4', '9', '10', '10', '7', '22',\n",
              "       'X', '2', '7', '1', '13', '21', '14', 'X Y', '5', '1', '6', '6',\n",
              "       '7', '3', '2', '3', '11', '11', '16', '14', '10', '16', '5', '11',\n",
              "       '17'], dtype=object)"
            ]
          },
          "metadata": {},
          "execution_count": 237
        }
      ]
    },
    {
      "cell_type": "code",
      "source": [
        "op_genes"
      ],
      "metadata": {
        "colab": {
          "base_uri": "https://localhost:8080/"
        },
        "id": "VkikpRvGUCgm",
        "outputId": "705a27d8-b74f-4116-b634-239af343d572"
      },
      "execution_count": 238,
      "outputs": [
        {
          "output_type": "execute_result",
          "data": {
            "text/plain": [
              "array(['RPS4Y1', 'DDX3Y', 'KDM5D', 'USP9Y', 'XIST', 'UTY', 'TTTY15',\n",
              "       'CYorf15B', 'NLGN4Y', 'CD24', 'EIF1AY', 'CIRBP', 'GAD1', 'ICT1',\n",
              "       'CRYM', 'IL2RA', 'UCHL3', 'TARBP1', 'DBC1', 'USP46', 'SET',\n",
              "       'KIAA1279', 'ATP5C1', 'NDUFA5', 'DGCR9', 'RBMX', 'NCL', 'PION',\n",
              "       'NMNAT2', 'UPF3A', 'ATP5J', 'RPL36AL', 'ASMTL', 'GABRA6',\n",
              "       'KHDRBS1', 'FABP7', 'CNR1', 'CYCS', 'SR140', 'PSMD14', 'MRPL3',\n",
              "       'PIK3C2A', 'CAPRIN1', 'UQCRC2', 'TTC9', 'DUSP5', 'CBLN1',\n",
              "       'FAM153A', 'HBB', 'ATP5H'], dtype=object)"
            ]
          },
          "metadata": {},
          "execution_count": 238
        }
      ]
    },
    {
      "cell_type": "code",
      "source": [
        "# expression = b0 + b1 * sex + b2 * region + b3 * labchip\n",
        "#train one model per gene. \n",
        "\n",
        "samples_tmp = deepcopy(samples)\n",
        "samples_tmp['labchip'] = samples_tmp['lab'].astype(str) + '.' + samples_tmp['chip.version'].astype(str)\n",
        "samples_tmp = samples_tmp.drop(columns= [\"patient\", \"lab\", \"chip.version\"]);\n",
        "one_hot_encoding = pd.get_dummies(samples_tmp);\n",
        "one_hot_encoding = one_hot_encoding.drop(columns= [\"sex_female\", \"region_cerebellum\", \"labchip_Michigan.v2\"]);\n",
        "\n",
        "coef_gene = []\n",
        "for i in tqdm(range(len(genes_hum_index[:]))):\n",
        "  gene = genes_hum_index[i]\n",
        "  X = sm.add_constant(one_hot_encoding);\n",
        "  model = sm.OLS(express_norm_samp[gene],X);\n",
        "  results = model.fit(cov_type=\"HC3\");\n",
        "  pval = results.pvalues[1]\n",
        "  coef_gene.append((gene, pval, np.abs(results.params[\"sex_male\"])))"
      ],
      "metadata": {
        "colab": {
          "base_uri": "https://localhost:8080/"
        },
        "id": "DOgUXhYRUClT",
        "outputId": "b26994f6-edea-407f-d4b5-d64ec9e56a29"
      },
      "execution_count": 218,
      "outputs": [
        {
          "output_type": "stream",
          "name": "stderr",
          "text": [
            "100%|██████████| 12556/12556 [00:55<00:00, 226.71it/s]\n"
          ]
        }
      ]
    },
    {
      "cell_type": "code",
      "source": [
        "res = []\n",
        "for gene in gene_to_probe_set:\n",
        "  probes = gene_to_probe_set[gene]\n",
        "  temp = [x for x in coef_gene if x[0] in probes]\n",
        "  max_pval = -100\n",
        "  max_pval_gene = None\n",
        "  for i in temp:\n",
        "    if i[1] > max_pval:\n",
        "      max_pval = i[1]\n",
        "      max_pval_gene = i[0]\n",
        "  res.append((max_pval_gene, max_pval))"
      ],
      "metadata": {
        "id": "SIqLCIzwUCnl"
      },
      "execution_count": 220,
      "outputs": []
    },
    {
      "cell_type": "code",
      "source": [
        "sorted_coef_gene = sorted(res, key=lambda tup: tup[1])\n",
        "top10genes = [tup[0] for tup in sorted_coef_gene[:10]]\n",
        "op_chrom = np.array(genes.loc[top10genes].loc[:, 'chrom'].values)\n",
        "op_genes = np.array(genes.loc[top10genes].loc[:, 'sym'].values)"
      ],
      "metadata": {
        "id": "eYkGCr38PJp6"
      },
      "execution_count": 221,
      "outputs": []
    },
    {
      "cell_type": "code",
      "source": [
        "op_chrom"
      ],
      "metadata": {
        "colab": {
          "base_uri": "https://localhost:8080/"
        },
        "id": "GaPYqFEsPJsG",
        "outputId": "042333da-73bb-47d6-97e8-37fc12d97550"
      },
      "execution_count": 222,
      "outputs": [
        {
          "output_type": "execute_result",
          "data": {
            "text/plain": [
              "array(['Y', 'Y', 'Y', 'Y', 'Y', 'X', 'Y', 'Y', 'Y', '6'], dtype=object)"
            ]
          },
          "metadata": {},
          "execution_count": 222
        }
      ]
    },
    {
      "cell_type": "code",
      "source": [
        "op_genes"
      ],
      "metadata": {
        "colab": {
          "base_uri": "https://localhost:8080/"
        },
        "id": "EsC7UODwPJuL",
        "outputId": "5e870b70-7d43-482a-b684-c40a1cd6e638"
      },
      "execution_count": 223,
      "outputs": [
        {
          "output_type": "execute_result",
          "data": {
            "text/plain": [
              "array(['RPS4Y1', 'DDX3Y', 'KDM5D', 'USP9Y', 'UTY', 'XIST', 'TTTY15',\n",
              "       'CYorf15B', 'NLGN4Y', 'CD24'], dtype=object)"
            ]
          },
          "metadata": {},
          "execution_count": 223
        }
      ]
    },
    {
      "cell_type": "code",
      "source": [
        "# expression = b0 + b1 * sex + b2 * region\n",
        "# train one model per gene. \n",
        "\n",
        "samples_tmp = samples.drop(columns= [\"patient\", \"chip.version\", \"lab\"]);\n",
        "one_hot_encoding = pd.get_dummies(samples_tmp);\n",
        "one_hot_encoding = one_hot_encoding.drop(columns= [\"sex_female\", \"region_cerebellum\"]);\n",
        "X = sm.add_constant(one_hot_encoding);\n",
        "\n",
        "coef_gene = []\n",
        "for i in tqdm(range(len(genes_hum_index[:]))):\n",
        "  gene = genes_hum_index[i]\n",
        "  model = sm.OLS(express_norm_samp[gene],X);\n",
        "  results = model.fit(cov_type='HC3');\n",
        "  pval = results.pvalues[1]\n",
        "  coef_gene.append((gene, pval, np.abs(results.params[\"sex_male\"])))"
      ],
      "metadata": {
        "colab": {
          "base_uri": "https://localhost:8080/"
        },
        "id": "vj_OWRIZPJwG",
        "outputId": "9a74c1b7-eaf0-4038-d0d5-a047dead0dd4"
      },
      "execution_count": 225,
      "outputs": [
        {
          "output_type": "stream",
          "name": "stderr",
          "text": [
            "100%|██████████| 12556/12556 [00:20<00:00, 601.12it/s]\n"
          ]
        }
      ]
    },
    {
      "cell_type": "code",
      "source": [
        "res = []\n",
        "for gene in gene_to_probe_set:\n",
        "  probes = gene_to_probe_set[gene]\n",
        "  temp = [x for x in coef_gene if x[0] in probes]\n",
        "  max_pval = -100\n",
        "  max_pval_gene = None\n",
        "  for i in temp:\n",
        "    if i[1] > max_pval:\n",
        "      max_pval = i[1]\n",
        "      max_pval_gene = i[0]\n",
        "  res.append((max_pval_gene, max_pval))"
      ],
      "metadata": {
        "id": "vLvV3dRIPJyO"
      },
      "execution_count": 226,
      "outputs": []
    },
    {
      "cell_type": "code",
      "source": [
        "sorted_coef_gene = sorted(res, key=lambda tup: tup[1])\n",
        "top10genes = [tup[0] for tup in sorted_coef_gene[:50]]\n",
        "op_chrom = np.array(genes.loc[top10genes].loc[:, 'chrom'].values)\n",
        "op_genes = np.array(genes.loc[top10genes].loc[:, 'sym'].values)"
      ],
      "metadata": {
        "id": "AilrWfy1-05v"
      },
      "execution_count": 231,
      "outputs": []
    },
    {
      "cell_type": "code",
      "source": [
        "op_chrom"
      ],
      "metadata": {
        "colab": {
          "base_uri": "https://localhost:8080/"
        },
        "id": "_nUXPUe2-08C",
        "outputId": "876ec48a-8f1f-4103-b6d6-7ab387e44357"
      },
      "execution_count": 232,
      "outputs": [
        {
          "output_type": "execute_result",
          "data": {
            "text/plain": [
              "array(['Y', 'Y', 'Y', 'Y', 'X', 'Y', 'Y', 'Y', 'Y', '6', 'Y', '10', '13',\n",
              "       '19', '5', '11', '2', '16', '9', '12', '17', '16', '22', '3', '3',\n",
              "       '6', '11', '10', '22', '1', '6', '9', '10', '11', '2', '6', '12',\n",
              "       '1', '17', '11', '1', '1', '7', '1', '18', '1', '8', '12', '4',\n",
              "       '17'], dtype=object)"
            ]
          },
          "metadata": {},
          "execution_count": 232
        }
      ]
    },
    {
      "cell_type": "code",
      "source": [
        "op_genes"
      ],
      "metadata": {
        "colab": {
          "base_uri": "https://localhost:8080/"
        },
        "id": "cf8Y1SvL-0-M",
        "outputId": "e8b42f55-1249-4eca-9050-24e126f04073"
      },
      "execution_count": 233,
      "outputs": [
        {
          "output_type": "execute_result",
          "data": {
            "text/plain": [
              "array(['RPS4Y1', 'DDX3Y', 'KDM5D', 'USP9Y', 'XIST', 'UTY', 'TTTY15',\n",
              "       'NLGN4Y', 'EIF1AY', 'CD24', 'CYorf15B', 'IL2RA', 'UCHL3', 'CIRBP',\n",
              "       'GABRA6', 'HBB', 'GAD1', 'CBLN1', 'ZBTB43', 'ATF1', 'ICT1', 'CRYM',\n",
              "       'DGCR9', 'SLC6A1', 'UMPS', 'CRISP3', 'SLC1A2', 'ANKRD26', 'SLC5A1',\n",
              "       'PRKAB2', 'CTGF', 'DBC1', 'DUSP5', 'CAPRIN1', 'MTHFD2', 'RAB32',\n",
              "       'KLRA1', 'SMYD2', 'C17orf75', 'CSRP3', 'NMNAT2', 'TARBP1', 'PION',\n",
              "       'GABRD', 'ATP5A1', 'NID1', 'STC1', 'CYP27B1', 'FAM149A', 'ATP5H'],\n",
              "      dtype=object)"
            ]
          },
          "metadata": {},
          "execution_count": 233
        }
      ]
    },
    {
      "cell_type": "code",
      "source": [],
      "metadata": {
        "id": "2GVqzwO7Gso4"
      },
      "execution_count": null,
      "outputs": []
    },
    {
      "cell_type": "code",
      "source": [],
      "metadata": {
        "id": "3I0YD2raXtr9"
      },
      "execution_count": null,
      "outputs": []
    },
    {
      "cell_type": "code",
      "source": [],
      "metadata": {
        "id": "o6TN-1c5XtuZ"
      },
      "execution_count": null,
      "outputs": []
    },
    {
      "cell_type": "code",
      "source": [],
      "metadata": {
        "id": "FO1tV2JnXtwX"
      },
      "execution_count": null,
      "outputs": []
    },
    {
      "cell_type": "code",
      "source": [],
      "metadata": {
        "id": "fLEvYRtZXtyu"
      },
      "execution_count": null,
      "outputs": []
    },
    {
      "cell_type": "code",
      "source": [],
      "metadata": {
        "id": "2hwQJsQnGsrN"
      },
      "execution_count": null,
      "outputs": []
    },
    {
      "cell_type": "code",
      "source": [],
      "metadata": {
        "id": "CWRgnSk8GstN"
      },
      "execution_count": null,
      "outputs": []
    },
    {
      "cell_type": "code",
      "source": [],
      "metadata": {
        "id": "IYpU1OMWGsvN"
      },
      "execution_count": null,
      "outputs": []
    },
    {
      "cell_type": "code",
      "source": [],
      "metadata": {
        "id": "lX9_DDozGsxV"
      },
      "execution_count": null,
      "outputs": []
    },
    {
      "cell_type": "code",
      "source": [
        "mean_bac_exp = expression[genes_bac_index].mean(axis=1)\n",
        "std_bac_exp = expression[genes_bac_index].std(axis=1)\n",
        "expression_norm =  (expression - mean_bac_exp.values[:, None]).divide(std_bac_exp, axis=0)\n",
        "express_norm_samp = pd.concat([expression_norm, samples], axis=1)\n",
        "\n",
        "expression_qnorm = qnorm.quantile_normalize(expression, axis=0)\n",
        "express_qnorm_samp = pd.concat([expression_qnorm, samples], axis=1)"
      ],
      "metadata": {
        "id": "oGWtjLKzCyUu"
      },
      "execution_count": null,
      "outputs": []
    },
    {
      "cell_type": "markdown",
      "source": [
        "Regression model based on (plate-wise bacteria-based) normalized data"
      ],
      "metadata": {
        "id": "t5rnRcuCFwRJ"
      }
    },
    {
      "cell_type": "code",
      "source": [
        "# expression = b0 + b1 * sex + b2 * region + b3 * lab\n",
        "# train one model per gene. \n",
        "\n",
        "samples_tmp = samples.drop(columns= [\"patient\", \"chip.version\"]);\n",
        "one_hot_encoding = pd.get_dummies(samples_tmp);\n",
        "one_hot_encoding = one_hot_encoding.drop(columns= [\"sex_female\", \"region_cerebellum\", \"lab_Davis\"]);\n",
        "X = sm.add_constant(one_hot_encoding);\n",
        "\n",
        "coef_gene = []\n",
        "for i in tqdm(range(len(genes_hum_index[:]))):\n",
        "  gene = genes_hum_index[i]\n",
        "  model = sm.OLS(express_norm_samp[gene],X);\n",
        "  results = model.fit();\n",
        "  pval = results.pvalues[1]\n",
        "  coef_gene.append((gene, pval, np.abs(results.params[\"sex_male\"])))"
      ],
      "metadata": {
        "colab": {
          "base_uri": "https://localhost:8080/"
        },
        "id": "lRj35RJ3CyXP",
        "outputId": "c2c8f9fe-869d-45ef-ffc3-4d54b7bf4b34"
      },
      "execution_count": 175,
      "outputs": [
        {
          "output_type": "stream",
          "name": "stderr",
          "text": [
            "100%|██████████| 12556/12556 [00:17<00:00, 722.98it/s]\n"
          ]
        }
      ]
    },
    {
      "cell_type": "code",
      "source": [
        "sorted_coef_gene = sorted(coef_gene, key=lambda tup: tup[1])\n",
        "top100genes = [tup[0] for tup in sorted_coef_gene[:100]]\n",
        "op_chrom = np.array(genes.loc[top100genes].loc[:, 'chrom'].values)\n",
        "op_genes = np.array(genes.loc[top100genes].loc[:, 'sym'].values)\n",
        "print(op_chrom)"
      ],
      "metadata": {
        "colab": {
          "base_uri": "https://localhost:8080/"
        },
        "id": "7QIn31lbEL10",
        "outputId": "9bdbad88-0bb7-4cb5-d345-cfac74ac6fc4"
      },
      "execution_count": 176,
      "outputs": [
        {
          "output_type": "stream",
          "name": "stdout",
          "text": [
            "['Y' 'Y' 'Y' 'Y' 'Y' 'X' 'X' 'Y' 'Y' 'Y' 'X' '10ptp*' '6' 'Y' '5' '19'\n",
            " 'X Y' '11hbg' '2' '11' '17' '16' '22' '10' '7' '1' '3' '13' '9' '3' '4'\n",
            " '16hba1' '16' '3' '9' '10' '10' nan '3' '22' '7' '2' 'X Y' 'X' '17' 'X Y'\n",
            " '21' '5' '7' '45ac*' '13' '20' '1' nan '14' '21' '2' '7' '6' '19' '11'\n",
            " '3' '6' '1' '16' '14' '10' '11' '2' '1' '6' '7' '12' '16' '5' '3' '17'\n",
            " '5' '3' '2' '21' '1' '11' '3' '12' '6' '4' '16nomo1' '2' '13' '14' '1'\n",
            " '3' '17' '17loc*' '6' '20' '7' '2' '20']\n"
          ]
        }
      ]
    },
    {
      "cell_type": "code",
      "source": [
        "top100genes[:10]"
      ],
      "metadata": {
        "colab": {
          "base_uri": "https://localhost:8080/"
        },
        "id": "zSoO5Ne-R9ps",
        "outputId": "01aa1af4-d59b-4c8f-a791-e9e3667a3f27"
      },
      "execution_count": 178,
      "outputs": [
        {
          "output_type": "execute_result",
          "data": {
            "text/plain": [
              "['41214_at',\n",
              " '38355_at',\n",
              " '37583_at',\n",
              " '35885_at',\n",
              " '34477_at',\n",
              " '38446_at',\n",
              " '36367_at',\n",
              " '36321_at',\n",
              " '38182_at',\n",
              " '32930_f_at']"
            ]
          },
          "metadata": {},
          "execution_count": 178
        }
      ]
    },
    {
      "cell_type": "code",
      "source": [
        "op_genes"
      ],
      "metadata": {
        "colab": {
          "base_uri": "https://localhost:8080/"
        },
        "id": "tvVyhYeSR5X0",
        "outputId": "c0ec4864-f838-4d86-8d1e-faca788e2c9a"
      },
      "execution_count": 177,
      "outputs": [
        {
          "output_type": "execute_result",
          "data": {
            "text/plain": [
              "array(['RPS4Y1', 'DDX3Y', 'KDM5D', 'USP9Y', 'UTY', 'XIST', nan, 'TTTY15',\n",
              "       'CYorf15B', 'NLGN4Y', nan, nan, 'CD24', 'EIF1AY', 'BRD8', 'CIRBP',\n",
              "       'ASMTL', nan, 'GAD1', 'HBB', 'ICT1', 'CRYM', 'DDX17', 'IL2RA',\n",
              "       'GHRHR', 'TARBP1', 'ZNF148', 'UCHL3', 'DBC1', 'SNX4', 'USP46', nan,\n",
              "       'LOC730092', 'KCNAB1', 'SET', 'KIAA1279', 'ATP5C1', nan, 'RAB5A',\n",
              "       'DGCR9', 'NDUFA5', 'NCL', 'SLC25A6', 'RBMX', 'USP6', 'ASMTL',\n",
              "       'SH3BGR', 'GABRA6', 'PION', nan, 'UPF3A', 'SFRS6', 'NMNAT2', nan,\n",
              "       'RPL36AL', 'ATP5J', 'PTPN4', 'PMS2L3', 'EEF1E1', 'TNNT1',\n",
              "       'PIK3C2A', 'SR140', 'FABP7', 'KHDRBS1', 'CBLN1', 'PARP2', 'DUSP5',\n",
              "       'HBB', 'SUMO1', 'DR1', 'CNR1', 'CYCS', 'HNRNPA1', 'UQCRC2', 'IK',\n",
              "       'RHOA', 'ATP5H', 'FAM153A', 'MRPL3', 'PSMD14', 'OLIG2', 'FH',\n",
              "       'CAPRIN1', 'UMPS', 'CNTN1', 'FBXO9', 'SLC25A4', nan, 'ATP5G3',\n",
              "       'RAP2A', 'TTC9', 'TAF12', 'CSPG5', 'PRKAR1A', nan, 'GSTA4', 'CHGB',\n",
              "       'PTN', 'NR4A2', 'SNAP25'], dtype=object)"
            ]
          },
          "metadata": {},
          "execution_count": 177
        }
      ]
    },
    {
      "cell_type": "code",
      "source": [
        "print(np.isin(op_chrom[:10], ['X', 'Y', 'X Y']).sum())\n",
        "print(np.isin(op_chrom[:20], ['X', 'Y', 'X Y']).sum())\n",
        "print(np.isin(op_chrom[:50], ['X', 'Y', 'X Y']).sum())\n",
        "print(np.isin(op_chrom[:100], ['X', 'Y', 'X Y']).sum())"
      ],
      "metadata": {
        "colab": {
          "base_uri": "https://localhost:8080/"
        },
        "id": "4uPNvtApTLZw",
        "outputId": "ae38f8ce-ff70-4208-f3ae-a587d6626496"
      },
      "execution_count": null,
      "outputs": [
        {
          "output_type": "stream",
          "name": "stdout",
          "text": [
            "10\n",
            "13\n",
            "14\n",
            "16\n"
          ]
        }
      ]
    },
    {
      "cell_type": "code",
      "source": [
        "# expression = b0 + b1 * sex + b2 * region + b3 * labchip\n",
        "#train one model per gene. \n",
        "\n",
        "samples_tmp = deepcopy(samples)\n",
        "samples_tmp['labchip'] = samples_tmp['lab'].astype(str) + '.' + samples_tmp['chip.version'].astype(str)\n",
        "samples_tmp = samples_tmp.drop(columns= [\"patient\", \"lab\", \"chip.version\"]);\n",
        "one_hot_encoding = pd.get_dummies(samples_tmp);\n",
        "one_hot_encoding = one_hot_encoding.drop(columns= [\"sex_female\", \"region_cerebellum\", \"labchip_Michigan.v2\"]);\n",
        "\n",
        "coef_gene = []\n",
        "for i in tqdm(range(len(genes_hum_index[:]))):\n",
        "  gene = genes_hum_index[i]\n",
        "  X = sm.add_constant(one_hot_encoding);\n",
        "  model = sm.OLS(express_norm_samp[gene],X);\n",
        "  results = model.fit();\n",
        "  pval = results.pvalues[1]\n",
        "  coef_gene.append((gene, pval, np.abs(results.params[\"sex_male\"])))"
      ],
      "metadata": {
        "colab": {
          "base_uri": "https://localhost:8080/"
        },
        "id": "vyfbQ5z9bT2g",
        "outputId": "27604b92-1512-418b-eff2-b0e3ac9d391b"
      },
      "execution_count": null,
      "outputs": [
        {
          "output_type": "stream",
          "name": "stderr",
          "text": [
            "100%|██████████| 12556/12556 [00:59<00:00, 212.40it/s]\n"
          ]
        }
      ]
    },
    {
      "cell_type": "code",
      "source": [
        "sorted_coef_gene = sorted(coef_gene, key=lambda tup: tup[1])\n",
        "top100genes = [tup[0] for tup in sorted_coef_gene[:100]]\n",
        "op_chrom = np.array(genes.loc[top100genes].loc[:, 'chrom'].values)\n",
        "op_genes = np.array(genes.loc[top100genes].loc[:, 'sym'].values)\n",
        "print(op_chrom)"
      ],
      "metadata": {
        "colab": {
          "base_uri": "https://localhost:8080/"
        },
        "id": "A8XNFh3AbT61",
        "outputId": "42958937-0a6a-45e4-80f5-563969b586c2"
      },
      "execution_count": null,
      "outputs": [
        {
          "output_type": "stream",
          "name": "stdout",
          "text": [
            "['Y' 'Y' 'Y' 'Y' 'Y' 'X' 'X' 'Y' 'Y' 'Y' 'X' '10ptp*' '6' '5' 'Y' '19'\n",
            " '11hbg' 'X Y' '17' '11' '2' '13' '16hba1' '22' '16' '4' '10' '9' '7' '1'\n",
            " '3' '9' '3' nan '16' '3' '4' '11' nan '10' 'X Y' '22' '10' '2' '45ac*'\n",
            " '20' '7' '3' '2' '17' 'X' '7' 'X Y' '5' '3' '14' '3' '1' '21' nan '21'\n",
            " '13' '2' '7' '6' '1' '19' '5' '6' '11' '13' '1' '17' '3' '2' '5' '18'\n",
            " '10' '6' '14' '6' '12' '11' '16' '16' '7' '9' '3' '1' '3' '21' '3' '5'\n",
            " '2' '11' '16nomo1' '16' '2' '5' '9']\n"
          ]
        }
      ]
    },
    {
      "cell_type": "code",
      "source": [
        "print(np.isin(op_chrom[:10], ['X', 'Y', 'X Y']).sum())\n",
        "print(np.isin(op_chrom[:20], ['X', 'Y', 'X Y']).sum())\n",
        "print(np.isin(op_chrom[:50], ['X', 'Y', 'X Y']).sum())\n",
        "print(np.isin(op_chrom[:100], ['X', 'Y', 'X Y']).sum())"
      ],
      "metadata": {
        "colab": {
          "base_uri": "https://localhost:8080/"
        },
        "id": "bx8blb-MbT_8",
        "outputId": "76964a2f-bbef-4a83-a8fe-1265d2ae3b31"
      },
      "execution_count": null,
      "outputs": [
        {
          "output_type": "stream",
          "name": "stdout",
          "text": [
            "10\n",
            "13\n",
            "14\n",
            "16\n"
          ]
        }
      ]
    },
    {
      "cell_type": "markdown",
      "source": [
        "Regression model based on (plate-wise quantile-based) QUANTILE normalized data"
      ],
      "metadata": {
        "id": "3nEhsB-pViIm"
      }
    },
    {
      "cell_type": "code",
      "source": [
        "# expression = b0 + b1 * sex + b2 * region + b3 * lab\n",
        "#train one model per gene. \n",
        "\n",
        "samples_tmp = samples.drop(columns= [\"patient\", \"chip.version\"]);\n",
        "one_hot_encoding = pd.get_dummies(samples_tmp);\n",
        "one_hot_encoding = one_hot_encoding.drop(columns= [\"sex_female\", \"region_cerebellum\", \"lab_Davis\"]);\n",
        "X = sm.add_constant(one_hot_encoding);\n",
        "\n",
        "coef_gene = []\n",
        "for i in tqdm(range(len(genes_hum_index[:]))):\n",
        "  gene = genes_hum_index[i]\n",
        "  model = sm.OLS(express_qnorm_samp[gene],X);\n",
        "  results = model.fit();\n",
        "  pval = results.pvalues[1]\n",
        "  coef_gene.append((gene, pval, np.abs(results.params[\"sex_male\"])))"
      ],
      "metadata": {
        "id": "tALzrwviVlf1",
        "outputId": "3fe45544-2c01-4a39-bdc0-c75e9957b5fa",
        "colab": {
          "base_uri": "https://localhost:8080/"
        }
      },
      "execution_count": null,
      "outputs": [
        {
          "output_type": "stream",
          "name": "stderr",
          "text": [
            "100%|██████████| 12556/12556 [00:24<00:00, 512.18it/s]\n"
          ]
        }
      ]
    },
    {
      "cell_type": "code",
      "source": [
        "sorted_coef_gene = sorted(coef_gene, key=lambda tup: tup[1])\n",
        "top100genes = [tup[0] for tup in sorted_coef_gene[:100]]\n",
        "op_chrom = np.array(genes.loc[top100genes].loc[:, 'chrom'].values)\n",
        "op_genes = np.array(genes.loc[top100genes].loc[:, 'sym'].values)\n",
        "print(op_chrom)"
      ],
      "metadata": {
        "id": "AXWmFn63Vlh6",
        "outputId": "6eee0497-6ecc-4375-ba65-adad03515379",
        "colab": {
          "base_uri": "https://localhost:8080/"
        }
      },
      "execution_count": null,
      "outputs": [
        {
          "output_type": "stream",
          "name": "stdout",
          "text": [
            "['Y' 'Y' 'Y' 'X' 'Y' 'Y' 'Y' 'Y' 'X' 'Y' 'X' '11hbg' 'Y' '6' '11' 'X'\n",
            " 'X Y' '10ptp*' '10' '16hba1' 'X Y' '19' '3' '16nomo1' '7' '21' 'X' 'X Y'\n",
            " '2' '17' '11' nan nan '11' '3' '7' '45ac*' '1' '7' '11' '17' '17' '14'\n",
            " '19' '2' '1' '9' '22' '2' '18' '16' '1' nan '3' '5' '3' '14' '11' '2'\n",
            " '14' '21' '17' 'X Y' '10' '12' 'X' nan '2' '8' nan '19' '20' '11' '1' '4'\n",
            " '3' '15' '12' '1' '12' '11' '22' '10' 'X Y' '1' '3' '3' '6' '1' '6' '6'\n",
            " '2' '17' '14' '18' '11' '1' '21' '11' '7']\n"
          ]
        }
      ]
    },
    {
      "cell_type": "code",
      "source": [
        "print(np.isin(op_chrom[:10], ['X', 'Y', 'X Y']).sum())\n",
        "print(np.isin(op_chrom[:20], ['X', 'Y', 'X Y']).sum())\n",
        "print(np.isin(op_chrom[:50], ['X', 'Y', 'X Y']).sum())\n",
        "print(np.isin(op_chrom[:100], ['X', 'Y', 'X Y']).sum())"
      ],
      "metadata": {
        "id": "kUYlZ3OmVlkR",
        "outputId": "2eef1cb9-181b-461a-bef9-8d6d0dffc1e8",
        "colab": {
          "base_uri": "https://localhost:8080/"
        }
      },
      "execution_count": null,
      "outputs": [
        {
          "output_type": "stream",
          "name": "stdout",
          "text": [
            "10\n",
            "14\n",
            "17\n",
            "20\n"
          ]
        }
      ]
    },
    {
      "cell_type": "markdown",
      "source": [
        "Regression model based on (plate-wise quantile-based) QUANTILE normalized data (only SEX)"
      ],
      "metadata": {
        "id": "e04Qy57nbszA"
      }
    },
    {
      "cell_type": "code",
      "source": [
        "# expression = b0 + b1 * sex\n",
        "#train one model per gene. \n",
        "\n",
        "samples_tmp = samples.drop(columns= [\"patient\", \"chip.version\",\"region\",\"lab\"]);\n",
        "one_hot_encoding = pd.get_dummies(samples_tmp);\n",
        "one_hot_encoding = one_hot_encoding.drop(columns= [\"sex_female\"]);\n",
        "X = sm.add_constant(one_hot_encoding);\n",
        "\n",
        "coef_gene = []\n",
        "for i in tqdm(range(len(genes_hum_index[:]))):\n",
        "  gene = genes_hum_index[i]\n",
        "  model = sm.OLS(express_qnorm_samp[gene],X);\n",
        "  results = model.fit();\n",
        "  pval = results.pvalues[1]\n",
        "  coef_gene.append((gene, pval, np.abs(results.params[\"sex_male\"])))"
      ],
      "metadata": {
        "id": "tJ7PPuTqbvA0",
        "outputId": "da16d76e-0def-455d-e881-486ddc4545c2",
        "colab": {
          "base_uri": "https://localhost:8080/"
        }
      },
      "execution_count": null,
      "outputs": [
        {
          "output_type": "stream",
          "name": "stderr",
          "text": [
            "100%|██████████| 12556/12556 [00:22<00:00, 560.23it/s]\n"
          ]
        }
      ]
    },
    {
      "cell_type": "code",
      "source": [
        "sorted_coef_gene = sorted(coef_gene, key=lambda tup: tup[1])\n",
        "top100genes = [tup[0] for tup in sorted_coef_gene[:100]]\n",
        "op_chrom = np.array(genes.loc[top100genes].loc[:, 'chrom'].values)\n",
        "op_genes = np.array(genes.loc[top100genes].loc[:, 'sym'].values)\n",
        "print(op_chrom)"
      ],
      "metadata": {
        "id": "wb78FvEkbvE7",
        "outputId": "743b9e23-3c77-4d47-e31e-bd84817bc723",
        "colab": {
          "base_uri": "https://localhost:8080/"
        }
      },
      "execution_count": null,
      "outputs": [
        {
          "output_type": "stream",
          "name": "stdout",
          "text": [
            "['Y' 'Y' 'Y' 'X' 'Y' 'Y' 'Y' 'Y' '11' '11hbg' 'X' '6' 'Y' 'X' 'X Y' '19'\n",
            " '17' '10' '16hba1' 'X Y' '11' '2' '11' '3' '18' 'Y' '1' '11' '10ptp*' '6'\n",
            " '11' '18' nan '2' '5' '17' '1' '22' 'X Y' '13' '45ac*' '17' '11' 'X' '8'\n",
            " '16' '11' '12' '8' '6' '16nomo1' '1' '14' '20' '3' '3' '10' '14' '22'\n",
            " '20' '9' '8' '1' '5' 'X' '12' 'X' '11' '7cb*' '1' '19' '12' nan '2' '1'\n",
            " '14' '3' '3' '12' '4' '2' '11' '17' '16' '1' '20' '12' '6' '12' '6' '2'\n",
            " '1' '19' '21' '8' '17' 'X Y' 'X' '1' '7']\n"
          ]
        }
      ]
    },
    {
      "cell_type": "code",
      "source": [
        "print(np.isin(op_chrom[:10], ['X', 'Y', 'X Y']).sum())\n",
        "print(np.isin(op_chrom[:20], ['X', 'Y', 'X Y']).sum())\n",
        "print(np.isin(op_chrom[:50], ['X', 'Y', 'X Y']).sum())\n",
        "print(np.isin(op_chrom[:100], ['X', 'Y', 'X Y']).sum())"
      ],
      "metadata": {
        "id": "kGT9OAFkbvHQ",
        "outputId": "bf9e905f-6cab-4b7d-dd46-b4d60edc924f",
        "colab": {
          "base_uri": "https://localhost:8080/"
        }
      },
      "execution_count": null,
      "outputs": [
        {
          "output_type": "stream",
          "name": "stdout",
          "text": [
            "8\n",
            "13\n",
            "16\n",
            "20\n"
          ]
        }
      ]
    },
    {
      "cell_type": "markdown",
      "source": [
        "Bacteria norm followed by quantile norm"
      ],
      "metadata": {
        "id": "PG7hao-lV-53"
      }
    },
    {
      "cell_type": "code",
      "source": [
        "expression_norm =  (expression - mean_bac_exp.values[:, None]).divide(std_bac_exp, axis=0)\n",
        "expression_qnorm_bac = qnorm.quantile_normalize(expression_norm, axis=0)\n",
        "express_qnorm_samp_bac = pd.concat([expression_qnorm_bac, samples], axis=1)"
      ],
      "metadata": {
        "id": "aVb8EvtAV6WI"
      },
      "execution_count": null,
      "outputs": []
    },
    {
      "cell_type": "code",
      "source": [
        "# expression = b0 + b1 * sex + b2 * region + b3 * lab\n",
        "#train one model per gene. \n",
        "\n",
        "samples_tmp = samples.drop(columns= [\"patient\", \"chip.version\"]);\n",
        "one_hot_encoding = pd.get_dummies(samples_tmp);\n",
        "one_hot_encoding = one_hot_encoding.drop(columns= [\"sex_female\", \"region_cerebellum\", \"lab_Davis\"]);\n",
        "X = sm.add_constant(one_hot_encoding);\n",
        "\n",
        "coef_gene = []\n",
        "for i in tqdm(range(len(genes_hum_index[:]))):\n",
        "  gene = genes_hum_index[i]\n",
        "  model = sm.OLS(express_qnorm_samp_bac[gene],X);\n",
        "  results = model.fit();\n",
        "  pval = results.pvalues[1]\n",
        "  coef_gene.append((gene, pval, np.abs(results.params[\"sex_male\"])))"
      ],
      "metadata": {
        "id": "E-S-Sl2-V6ZH",
        "outputId": "be3c12e4-6898-48ca-ca7b-54f694ab62d0",
        "colab": {
          "base_uri": "https://localhost:8080/"
        }
      },
      "execution_count": null,
      "outputs": [
        {
          "output_type": "stream",
          "name": "stderr",
          "text": [
            "100%|██████████| 12556/12556 [00:26<00:00, 478.70it/s]\n"
          ]
        }
      ]
    },
    {
      "cell_type": "code",
      "source": [
        "sorted_coef_gene = sorted(coef_gene, key=lambda tup: tup[1])\n",
        "top100genes = [tup[0] for tup in sorted_coef_gene[:100]]\n",
        "op_chrom = np.array(genes.loc[top100genes].loc[:, 'chrom'].values)\n",
        "op_genes = np.array(genes.loc[top100genes].loc[:, 'sym'].values)\n",
        "print(op_chrom)"
      ],
      "metadata": {
        "id": "hdnQI5_xV6b-",
        "outputId": "c5adaba2-ceea-4705-a5e5-c76c82c98887",
        "colab": {
          "base_uri": "https://localhost:8080/"
        }
      },
      "execution_count": null,
      "outputs": [
        {
          "output_type": "stream",
          "name": "stdout",
          "text": [
            "['Y' 'Y' 'Y' 'X' 'Y' 'Y' 'Y' 'Y' 'X' 'Y' 'X' '11hbg' 'Y' '6' '11' 'X'\n",
            " 'X Y' '10ptp*' '10' '16hba1' 'X Y' '19' '3' '16nomo1' '7' '21' 'X' 'X Y'\n",
            " '2' '17' '11' nan nan '11' '3' '7' '1' '45ac*' '7' '11' '17' '17' '14'\n",
            " '19' '2' '1' '9' '22' '18' '2' '16' '1' nan '3' '5' '3' '14' '11' '2'\n",
            " '14' '17' '21' 'X Y' '12' '10' 'X' nan '2' '8' nan '19' '20' '11' '1' '4'\n",
            " '3' '12' '15' '1' '1' '12' '11' '22' '10' 'X Y' '3' '3' '6' '1' '6' '2'\n",
            " '6' '17' '14' '18' '11' '1' '11' '21' '7']\n"
          ]
        }
      ]
    },
    {
      "cell_type": "code",
      "source": [
        "print(np.isin(op_chrom[:10], ['X', 'Y', 'X Y']).sum())\n",
        "print(np.isin(op_chrom[:20], ['X', 'Y', 'X Y']).sum())\n",
        "print(np.isin(op_chrom[:50], ['X', 'Y', 'X Y']).sum())\n",
        "print(np.isin(op_chrom[:100], ['X', 'Y', 'X Y']).sum())"
      ],
      "metadata": {
        "id": "VdmmDpmqV6e0",
        "outputId": "56bdfdcc-34d8-4e3b-b897-f298d3800624",
        "colab": {
          "base_uri": "https://localhost:8080/"
        }
      },
      "execution_count": null,
      "outputs": [
        {
          "output_type": "stream",
          "name": "stdout",
          "text": [
            "10\n",
            "14\n",
            "17\n",
            "20\n"
          ]
        }
      ]
    },
    {
      "cell_type": "markdown",
      "source": [
        "Regression model based on (plate-wise bacteria-based) normalized data, for each lab"
      ],
      "metadata": {
        "id": "EKTvv4ZMNvrA"
      }
    },
    {
      "cell_type": "code",
      "source": [
        "# expression = b0 + b1 * sex + b2 * region\n",
        "#train one model per gene. \n",
        "\n",
        "temp = express_norm_samp[express_norm_samp['lab'] == 'Michigan']\n",
        "coef_gene = []\n",
        "samples_tmp = samples[samples['lab'] == 'Michigan']\n",
        "samples_tmp = samples_tmp.drop(columns= [\"patient\", \"chip.version\", \"lab\"]);\n",
        "one_hot_encoding = pd.get_dummies(samples_tmp);\n",
        "one_hot_encoding = one_hot_encoding.drop(columns= [\"sex_female\", \"region_cerebellum\"]);\n",
        "X = sm.add_constant(one_hot_encoding);\n",
        "\n",
        "for i in tqdm(range(len(genes_hum_index[:]))):\n",
        "  gene = genes_hum_index[i]\n",
        "  model = sm.OLS(temp[gene],X);\n",
        "  results = model.fit();\n",
        "  pval = results.pvalues[1]\n",
        "  coef_gene.append((gene, pval, np.abs(results.params[\"sex_male\"])))"
      ],
      "metadata": {
        "colab": {
          "base_uri": "https://localhost:8080/"
        },
        "id": "1Q8i_07zEL38",
        "outputId": "c69873c4-1598-4cd2-e189-0a0e37cc1c0a"
      },
      "execution_count": null,
      "outputs": [
        {
          "output_type": "stream",
          "name": "stderr",
          "text": [
            "100%|██████████| 12556/12556 [00:22<00:00, 559.87it/s]\n"
          ]
        }
      ]
    },
    {
      "cell_type": "code",
      "source": [
        "sorted_coef_gene = sorted(coef_gene, key=lambda tup: tup[1])\n",
        "top100genes = [tup[0] for tup in sorted_coef_gene[:100]]\n",
        "op_chrom = genes.loc[top100genes].loc[:, 'chrom'].values\n",
        "op_genes = genes.loc[top100genes].loc[:, 'sym'].values\n",
        "print(np.array(op_chrom))\n",
        "print(np.array(op_genes))\n",
        "print([x[0] for x in sorted_coef_gene[:10]])"
      ],
      "metadata": {
        "colab": {
          "base_uri": "https://localhost:8080/"
        },
        "id": "n3KaezWyM3lh",
        "outputId": "dd71c753-935f-4db6-9505-e1830e76b44d"
      },
      "execution_count": null,
      "outputs": [
        {
          "output_type": "stream",
          "name": "stdout",
          "text": [
            "['Y' 'Y' 'X' 'Y' 'X' 'Y' '8' 'Y' '19' 'Y' '11hbg' nan '7' '16' 'Y' '1' nan\n",
            " '16' '22' '7' '2' 'X Y' '6' '19' '2' '9' '3' '22gg*' '20' '6' '19' '4'\n",
            " '1' 'X' '11' '6' '21' nan '1' '3' '17' '12' '1' '3' nan '5' 'X' '12' '21'\n",
            " 'X' nan '7' '17' '19' '9' '4' '6' nan '12' 'X' '10' '4' '14' '6' '19' '3'\n",
            " '22' '4' 'X' '4' '17' '17' '14' '11' '19' '4' '14' '12' '19' '19' '7'\n",
            " '12' '4' '3' '19' '17' '13' '19' '15' '10ptp*' '3' '13' '12' '15' '11'\n",
            " nan '7' '15' '14' '5']\n",
            "['RPS4Y1' 'DDX3Y' nan 'KDM5D' 'XIST' 'TTTY15' 'MOS' 'CYorf15B' 'LYL1'\n",
            " 'USP9Y' nan nan 'CASP2' 'MYLPF' 'UTY' 'MYOC' nan 'KIAA0430' 'LGALS2'\n",
            " 'IKZF1' 'IL18R1' 'CD99' 'FLOT1' 'GRIN2D' 'SIX3' 'NFX1' 'RAP2B' nan 'GDF5'\n",
            " 'ZKSCAN3' 'CRX' 'BMP3' 'AK3L1' 'THOC2' 'LPXN' 'HIST1H3E' 'SH3BGR' nan\n",
            " 'CDC2L2' 'SR140' 'MAPK7' 'APOF' 'FCN3' 'CASR' nan 'C9' 'IL13RA1'\n",
            " 'SNRNP35' 'DOPEY2' 'AMELX' nan 'HOXA9' 'EVPL' 'KIR3DL3' 'MLANA' 'NPY2R'\n",
            " 'FGFR1OP' nan 'HTR7P' nan 'COL13A1' 'HPGDS' 'TM9SF1' 'MED20' 'CD79A'\n",
            " 'PRKCD' 'RNF185' 'C4orf8' 'CTAG2' 'PROL1' 'TNK1' 'GRIN2C' 'TGFB3' 'VEGFB'\n",
            " 'LAIR1' 'TMPRSS11D' 'KLC1' 'DAO' 'F2RL3' 'CYP4F12' 'DPP6' 'PAWR' 'NAAA'\n",
            " 'ITIH4' 'MLLT1' 'TNK1' 'RB1' 'IRF2BP1' 'LTK' nan 'AMT' 'CDX2' 'SMARCD1'\n",
            " 'SLC28A2' 'FADS1' nan 'GLI3' 'ACAN' 'GPR135' 'BRD8']\n",
            "['41214_at', '38355_at', '969_s_at', '37583_at', '38446_at', '36321_at', '1174_at', '38182_at', '39971_at', '35885_at']\n"
          ]
        }
      ]
    },
    {
      "cell_type": "code",
      "source": [
        "print(np.isin(op_chrom[:10], ['X', 'Y', 'X Y']).sum())\n",
        "print(np.isin(op_chrom[:20], ['X', 'Y', 'X Y']).sum())\n",
        "print(np.isin(op_chrom[:50], ['X', 'Y', 'X Y']).sum())\n",
        "print(np.isin(op_chrom[:100], ['X', 'Y', 'X Y']).sum())"
      ],
      "metadata": {
        "colab": {
          "base_uri": "https://localhost:8080/"
        },
        "id": "RJTdfOKJT47u",
        "outputId": "1c99a388-e970-4480-b26a-52fed47bd1ad"
      },
      "execution_count": null,
      "outputs": [
        {
          "output_type": "stream",
          "name": "stdout",
          "text": [
            "8\n",
            "9\n",
            "13\n",
            "15\n"
          ]
        }
      ]
    },
    {
      "cell_type": "code",
      "source": [
        "# expression = b0 + b1 * sex + b2 * region + b3 * chip version\n",
        "#train one model per gene. \n",
        "\n",
        "temp = express_norm_samp[express_norm_samp['lab'] == 'Michigan']\n",
        "coef_gene = []\n",
        "\n",
        "samples_tmp = samples[samples['lab'] == 'Michigan']\n",
        "samples_tmp = samples_tmp.drop(columns= [\"patient\", \"lab\"]);\n",
        "one_hot_encoding = pd.get_dummies(samples_tmp);\n",
        "one_hot_encoding = one_hot_encoding.drop(columns= [\"sex_female\", \"region_cerebellum\", \"chip.version_v1\"]);\n",
        "X = sm.add_constant(one_hot_encoding);\n",
        "\n",
        "for i in tqdm(range(len(genes_hum_index[:]))):\n",
        "  gene = genes_hum_index[i]\n",
        "  model = sm.OLS(temp[gene],X);\n",
        "  results = model.fit();\n",
        "  pval = results.pvalues[1]\n",
        "  coef_gene.append((gene, pval, np.abs(results.params[\"sex_male\"])))"
      ],
      "metadata": {
        "colab": {
          "base_uri": "https://localhost:8080/"
        },
        "id": "EVppe_FkczFG",
        "outputId": "1e2c0544-8b52-4b9d-d4a8-c52c2530c0ea"
      },
      "execution_count": null,
      "outputs": [
        {
          "output_type": "stream",
          "name": "stderr",
          "text": [
            "100%|██████████| 12556/12556 [00:23<00:00, 529.08it/s]\n"
          ]
        }
      ]
    },
    {
      "cell_type": "code",
      "source": [
        "sorted_coef_gene = sorted(coef_gene, key=lambda tup: tup[1])\n",
        "top100genes = [tup[0] for tup in sorted_coef_gene[:100]]\n",
        "op_chrom = genes.loc[top100genes].loc[:, 'chrom'].values\n",
        "op_genes = genes.loc[top100genes].loc[:, 'sym'].values\n",
        "print(np.array(op_chrom))\n",
        "print(np.array(op_genes))\n",
        "print([x[0] for x in sorted_coef_gene[:10]])"
      ],
      "metadata": {
        "colab": {
          "base_uri": "https://localhost:8080/"
        },
        "id": "eeQjTHmyczNB",
        "outputId": "b53839d9-7c9a-49b3-eaf4-9c65e6fcbfda"
      },
      "execution_count": null,
      "outputs": [
        {
          "output_type": "stream",
          "name": "stdout",
          "text": [
            "['Y' 'Y' 'Y' 'X' 'X' '8' 'Y' 'Y' 'Y' 'Y' '19' '16' '4' '11hbg' '9' '1'\n",
            " '18' '7' '7' '22gg*' '4' '22' nan '12' '2' '21' '11' '16' '12' '1' '17'\n",
            " nan nan '10' '1' 'X Y' '2' '11' '9' '3' '6' nan '6' '21' '3' '3' 'X' '3'\n",
            " '19' '6' '20' '19' '6' '1' '4' '11' nan '1' '2' '11' 'X' 'X Y' '3' '19'\n",
            " '16' 'X' '9' '11' 'X Y' nan '16' '17' '19' '1' '3' '1' 'Y' '4' '12' '4'\n",
            " '10' 'X Y' '7' '12' '12' '4' '1' '19' '5' 'X' '1' '4' '1' '1' '3' '19'\n",
            " nan '4' '9' '6']\n",
            "['RPS4Y1' 'DDX3Y' 'KDM5D' nan 'XIST' 'MOS' 'TTTY15' 'UTY' 'CYorf15B'\n",
            " 'USP9Y' 'LYL1' 'MYLPF' 'USP46' nan 'MLANA' 'CACYBP' 'SERPINB2' 'IKZF1'\n",
            " 'CASP2' nan 'PROL1' 'LGALS2' nan 'SLC6A12' 'IL18R1' 'SH3BGR' 'FADS1'\n",
            " 'KIAA0430' 'PAWR' 'MYOC' 'EVPL' nan nan 'COL13A1' 'LAD1' 'CD99' 'SIX3'\n",
            " 'FADS1' 'NFX1' 'GNAT1' 'FLOT1' nan 'ZKSCAN3' 'DOPEY2' 'SR140' 'KIAA0226'\n",
            " nan 'RAP2B' 'GRIN2D' 'ZNF259P' 'GDF5' 'CRX' 'HIST1H3E' 'AK3L1' 'BMP3'\n",
            " 'LPXN' nan 'FCN3' 'PTPN18' 'CAPRIN1' 'THOC2' 'SLC25A6' 'AMT' 'MLL4'\n",
            " 'WWOX' 'IL13RA1' 'FXN' 'KRTAP5-9' 'ASMTL' nan 'ATMIN' 'MAPK7' 'F2RL3'\n",
            " 'CDC2L2' 'CASR' 'GALE' 'ZFY' 'NAAA' 'APOF' 'GYPB' 'FGF8' 'ASMTL' 'HOXA9'\n",
            " 'SNRNP35' 'DAO' 'NPY2R' 'SERBP1' 'C19orf29' 'C9' 'AMELX' 'S100A5' 'LRBA'\n",
            " 'RSC1A1' 'DNAJC16' 'ITIH4' 'CD79A' nan 'GK2' 'SURF2' 'MED20']\n",
            "['41214_at', '38355_at', '37583_at', '969_s_at', '38446_at', '1174_at', '36321_at', '34477_at', '38182_at', '35885_at']\n"
          ]
        }
      ]
    },
    {
      "cell_type": "code",
      "source": [
        "print(np.isin(op_chrom[:10], ['X', 'Y', 'X Y']).sum())\n",
        "print(np.isin(op_chrom[:20], ['X', 'Y', 'X Y']).sum())\n",
        "print(np.isin(op_chrom[:50], ['X', 'Y', 'X Y']).sum())\n",
        "print(np.isin(op_chrom[:100], ['X', 'Y', 'X Y']).sum())"
      ],
      "metadata": {
        "colab": {
          "base_uri": "https://localhost:8080/"
        },
        "id": "cNx1EshSdYWd",
        "outputId": "2f776dc2-aea8-4491-ba03-7472d77133af"
      },
      "execution_count": null,
      "outputs": [
        {
          "output_type": "stream",
          "name": "stdout",
          "text": [
            "9\n",
            "9\n",
            "11\n",
            "18\n"
          ]
        }
      ]
    },
    {
      "cell_type": "code",
      "source": [
        "# expression = b0 + b1 * sex + b2 * region\n",
        "#train one model per gene. \n",
        "\n",
        "temp = express_norm_samp[express_norm_samp['lab'] == 'Davis']\n",
        "coef_gene = []\n",
        "samples_tmp = samples[samples['lab'] == 'Davis']\n",
        "samples_tmp = samples_tmp.drop(columns= [\"patient\", \"chip.version\", \"lab\"]);\n",
        "one_hot_encoding = pd.get_dummies(samples_tmp);\n",
        "one_hot_encoding = one_hot_encoding.drop(columns= [\"sex_female\", \"region_cerebellum\"]);\n",
        "X = sm.add_constant(one_hot_encoding);\n",
        "\n",
        "for i in tqdm(range(len(genes_hum_index[:]))):\n",
        "  gene = genes_hum_index[i]\n",
        "  model = sm.OLS(temp[gene],X);\n",
        "  results = model.fit();\n",
        "  pval = results.pvalues[1]\n",
        "  coef_gene.append((gene, pval, np.abs(results.params[\"sex_male\"])))"
      ],
      "metadata": {
        "colab": {
          "base_uri": "https://localhost:8080/"
        },
        "id": "ZY1p6YIyM3n2",
        "outputId": "b3d1b02d-d576-4e33-c721-a714ecff3dc4"
      },
      "execution_count": null,
      "outputs": [
        {
          "output_type": "stream",
          "name": "stderr",
          "text": [
            "100%|██████████| 12556/12556 [00:20<00:00, 622.25it/s]\n"
          ]
        }
      ]
    },
    {
      "cell_type": "code",
      "source": [
        "sorted_coef_gene = sorted(coef_gene, key=lambda tup: tup[1])\n",
        "top100genes = [tup[0] for tup in sorted_coef_gene[:100]]\n",
        "op_chrom = genes.loc[top100genes].loc[:, 'chrom'].values\n",
        "op_genes = genes.loc[top100genes].loc[:, 'sym'].values\n",
        "print(np.array(op_chrom))\n",
        "print(np.array(op_genes))\n",
        "print([x[0] for x in sorted_coef_gene[:10]])"
      ],
      "metadata": {
        "colab": {
          "base_uri": "https://localhost:8080/"
        },
        "id": "E8K7BafbEL6L",
        "outputId": "074298ff-0dc5-48bd-f165-03d5592ae8a3"
      },
      "execution_count": null,
      "outputs": [
        {
          "output_type": "stream",
          "name": "stdout",
          "text": [
            "['Y' 'Y' 'Y' 'Y' 'X' 'Y' 'Y' 'X' 'Y' '10ptp*' '7' '6' 'Y' '11' nan '3' nan\n",
            " '12' nan '4' nan 'X' '4' '2' '1' '3' '5' '6' '4' '11' '11' 'X' nan nan\n",
            " '14' 'Y' '6' '16' nan nan '11' nan '17' '22' '17' '5' '2' '3' '19' '19'\n",
            " '3' '16' '10' '21' '12' '3' '2' nan '10' '7' nan '16' '15' nan '6' '17'\n",
            " nan nan '7' '22' '16' '1' '6' '7' '7' '17' '4' '20' nan '7' '5' '10' nan\n",
            " '17' '19' '1' 'X' '12' 'X' '1' '11' '13' '3' '2' '1' '3' nan '6' '4' '10']\n",
            "['RPS4Y1' 'DDX3Y' 'USP9Y' 'UTY' 'XIST' 'TTTY15' 'KDM5D' nan 'NLGN4Y' nan\n",
            " 'GHRHR' 'CD24' 'EIF1AY' 'CSRP3' nan 'FETUB' nan 'APOF' nan 'EXOSC9' nan\n",
            " nan 'UGT2B17' 'GAD1' 'KIAA0040' 'ZNF148' 'BRD8' 'C6orf124' 'PDLIM5'\n",
            " 'CD44' 'PIK3C2A' 'LOC100272228' nan nan 'RNASE1' 'CYorf15B' 'MAS1'\n",
            " 'ZNF23' nan nan 'CDKN1C' nan 'KRT37' 'MN1' 'TP53' 'IL4' 'SP100' 'PRKAR2A'\n",
            " 'CIRBP' 'PSG11' 'TF' 'ACSM3' 'FAS' 'KRTAP26-1' 'LRRC23' 'HYAL1' 'USP34'\n",
            " nan 'GAD2' 'ZPBP' nan 'LITAF' 'LOC644761' nan 'CCNC' 'ST6GALNAC2' nan nan\n",
            " 'NDUFA5' 'SLC5A1' 'IRX5' 'TRAF3IP3' 'CNR1' 'INHBA' 'PION' 'TOP2A' 'PCDH7'\n",
            " 'PHF20' nan 'C7orf54' 'PCDHB17' 'IL2RA' nan 'PECAM1' 'TGFB1' 'SNHG3'\n",
            " 'IDS' 'GRIP1' 'MAGEA11' 'TACSTD2' 'SLC1A2' 'EDNRB' 'KCNAB1' 'EIF5B'\n",
            " 'RSC1A1' 'CCR2' nan 'GPLD1' 'USP46' 'RGS10']\n",
            "['41214_at', '38355_at', '35885_at', '34477_at', '38446_at', '36321_at', '37583_at', '36367_at', '32930_f_at', '32932_at']\n"
          ]
        }
      ]
    },
    {
      "cell_type": "code",
      "source": [
        "print(np.isin(op_chrom[:10], ['X', 'Y', 'X Y']).sum())\n",
        "print(np.isin(op_chrom[:20], ['X', 'Y', 'X Y']).sum())\n",
        "print(np.isin(op_chrom[:50], ['X', 'Y', 'X Y']).sum())\n",
        "print(np.isin(op_chrom[:100], ['X', 'Y', 'X Y']).sum())"
      ],
      "metadata": {
        "colab": {
          "base_uri": "https://localhost:8080/"
        },
        "id": "IzKtgLxNT8B-",
        "outputId": "62a4c435-dced-4de0-f2d0-08407c48866a"
      },
      "execution_count": null,
      "outputs": [
        {
          "output_type": "stream",
          "name": "stdout",
          "text": [
            "9\n",
            "10\n",
            "13\n",
            "15\n"
          ]
        }
      ]
    },
    {
      "cell_type": "code",
      "source": [
        "# expression = b0 + b1 * sex + b2 * region + b3 * chip version\n",
        "#train one model per gene. \n",
        "\n",
        "temp = express_norm_samp[express_norm_samp['lab'] == 'Davis']\n",
        "coef_gene = []\n",
        "\n",
        "samples_tmp = samples[samples['lab'] == 'Davis']\n",
        "samples_tmp = samples_tmp.drop(columns= [\"patient\", \"lab\"]);\n",
        "one_hot_encoding = pd.get_dummies(samples_tmp);\n",
        "one_hot_encoding = one_hot_encoding.drop(columns= [\"sex_female\", \"region_cerebellum\", \"chip.version_v1\"]);\n",
        "X = sm.add_constant(one_hot_encoding);\n",
        "\n",
        "for i in tqdm(range(len(genes_hum_index[:]))):\n",
        "  gene = genes_hum_index[i]\n",
        "  model = sm.OLS(temp[gene],X);\n",
        "  results = model.fit();\n",
        "  pval = results.pvalues[1]\n",
        "  coef_gene.append((gene, pval, np.abs(results.params[\"sex_male\"])))"
      ],
      "metadata": {
        "colab": {
          "base_uri": "https://localhost:8080/"
        },
        "id": "es4qGKCidcRE",
        "outputId": "81b9432a-a0c3-48a3-ce52-2a9d141b76f1"
      },
      "execution_count": null,
      "outputs": [
        {
          "output_type": "stream",
          "name": "stderr",
          "text": [
            "100%|██████████| 12556/12556 [00:19<00:00, 642.19it/s]\n"
          ]
        }
      ]
    },
    {
      "cell_type": "code",
      "source": [
        "sorted_coef_gene = sorted(coef_gene, key=lambda tup: tup[1])\n",
        "top100genes = [tup[0] for tup in sorted_coef_gene[:100]]\n",
        "op_chrom = genes.loc[top100genes].loc[:, 'chrom'].values\n",
        "op_genes = genes.loc[top100genes].loc[:, 'sym'].values\n",
        "print(np.array(op_chrom))\n",
        "print(np.array(op_genes))\n",
        "print([x[0] for x in sorted_coef_gene[:10]])"
      ],
      "metadata": {
        "colab": {
          "base_uri": "https://localhost:8080/"
        },
        "id": "jiE37diAdcVh",
        "outputId": "0818b04c-f705-482e-cebb-b355408def61"
      },
      "execution_count": null,
      "outputs": [
        {
          "output_type": "stream",
          "name": "stdout",
          "text": [
            "['Y' 'Y' 'Y' 'Y' 'X' 'Y' 'Y' 'X' 'Y' '7' '10ptp*' '6' 'Y' '6' nan '11' nan\n",
            " '3' nan '1' '11' nan '12' '2' '5' '4' '1' nan 'X' '4' '4' '21' '17' '1'\n",
            " '2' 'Y' '3' 'X' '6' nan '3' '4' '11' '16' '16' nan nan nan '14' '10' nan\n",
            " nan '3' '15' '11hbg' '2' '11' '17' '10' '5' '1' '2' nan '12' '15' '5' nan\n",
            " '22' nan '19' '7' '19' '3' nan '2' '12' '8' '11' '7' '17' '16' '12' '21'\n",
            " nan nan '4' nan '3' '6' '5' '10' '10' '17' '7' '11' '16' '6' '1' '17' '7']\n",
            "['RPS4Y1' 'DDX3Y' 'USP9Y' 'UTY' 'XIST' 'TTTY15' 'KDM5D' nan 'NLGN4Y'\n",
            " 'GHRHR' nan 'CD24' 'EIF1AY' 'C6orf124' nan 'CSRP3' nan 'FETUB' nan\n",
            " 'KIAA0040' 'CD44' nan 'APOF' 'GAD1' 'BRD8' 'EXOSC9' 'ANXA9' nan nan\n",
            " 'UGT2B17' 'PDLIM5' 'KRTAP26-1' 'KRT37' 'RSC1A1' 'NCAPH' 'CYorf15B'\n",
            " 'ZNF148' 'LOC100272228' 'MAS1' nan 'PRKAR2A' 'FAM13A' 'PIK3C2A' 'ZNF23'\n",
            " 'PRM1' nan nan nan 'RNASE1' 'FAM53B' nan nan 'TF' 'MAP1A' nan 'NXPH2'\n",
            " 'CDKN1C' 'TP53' 'FAS' 'IL4' 'SNHG3' 'SP100' nan 'MSI1' 'LOC644761'\n",
            " 'IQGAP2' nan 'MN1' nan 'CIRBP' 'PION' 'PSG11' 'HYAL1' nan 'USP34' 'GRIP1'\n",
            " 'ANXA13' 'RBM14' 'ZPBP' 'PECAM1' 'ACSM3' 'LRRC23' 'DYRK1A' nan nan\n",
            " 'CCNA2' nan 'AGTR1' 'HIST1H2BK' 'PCDHB17' 'GAD2' 'IL2RA' 'CCL23' 'INHBA'\n",
            " 'SAA4' 'LITAF' 'CCNC' 'TRAF3IP3' 'ST6GALNAC2' 'NDUFA5']\n",
            "['41214_at', '38355_at', '35885_at', '34477_at', '38446_at', '36321_at', '37583_at', '36367_at', '32930_f_at', '32383_at']\n"
          ]
        }
      ]
    },
    {
      "cell_type": "code",
      "source": [
        "print(np.isin(op_chrom[:10], ['X', 'Y', 'X Y']).sum())\n",
        "print(np.isin(op_chrom[:20], ['X', 'Y', 'X Y']).sum())\n",
        "print(np.isin(op_chrom[:50], ['X', 'Y', 'X Y']).sum())\n",
        "print(np.isin(op_chrom[:100], ['X', 'Y', 'X Y']).sum())"
      ],
      "metadata": {
        "colab": {
          "base_uri": "https://localhost:8080/"
        },
        "id": "lsHpYoOWdcX4",
        "outputId": "c67f018b-6b58-4088-f998-5dd50d79cbc4"
      },
      "execution_count": null,
      "outputs": [
        {
          "output_type": "stream",
          "name": "stdout",
          "text": [
            "9\n",
            "10\n",
            "13\n",
            "13\n"
          ]
        }
      ]
    },
    {
      "cell_type": "code",
      "source": [
        "# expression = b0 + b1 * sex + b2 * region\n",
        "#train one model per gene. \n",
        "\n",
        "temp = express_norm_samp[express_norm_samp['lab'] == 'Irvine']\n",
        "coef_gene = []\n",
        "samples_tmp = samples[samples['lab'] == 'Irvine']\n",
        "samples_tmp = samples_tmp.drop(columns= [\"patient\", \"chip.version\", \"lab\"]);\n",
        "one_hot_encoding = pd.get_dummies(samples_tmp);\n",
        "one_hot_encoding = one_hot_encoding.drop(columns= [\"sex_female\", \"region_cerebellum\"]);\n",
        "X = sm.add_constant(one_hot_encoding);\n",
        "\n",
        "for i in tqdm(range(len(genes_hum_index[:]))):\n",
        "  gene = genes_hum_index[i]\n",
        "  model = sm.OLS(temp[gene],X);\n",
        "  results = model.fit();\n",
        "  pval = results.pvalues[1]\n",
        "  coef_gene.append((gene, pval, np.abs(results.params[\"sex_male\"])))"
      ],
      "metadata": {
        "colab": {
          "base_uri": "https://localhost:8080/"
        },
        "id": "I13KCwcHEL8b",
        "outputId": "fd3f0956-713c-4568-ddd6-d8396f918f73"
      },
      "execution_count": null,
      "outputs": [
        {
          "output_type": "stream",
          "name": "stderr",
          "text": [
            "100%|██████████| 12556/12556 [00:21<00:00, 596.46it/s]\n"
          ]
        }
      ]
    },
    {
      "cell_type": "code",
      "source": [
        "sorted_coef_gene = sorted(coef_gene, key=lambda tup: tup[1])\n",
        "top100genes = [tup[0] for tup in sorted_coef_gene[:100]]\n",
        "op_chrom = genes.loc[top100genes].loc[:, 'chrom'].values\n",
        "op_genes = genes.loc[top100genes].loc[:, 'sym'].values\n",
        "print(np.array(op_chrom))\n",
        "print(np.array(op_genes))\n",
        "print([x[0] for x in sorted_coef_gene[:10]])"
      ],
      "metadata": {
        "colab": {
          "base_uri": "https://localhost:8080/"
        },
        "id": "wVOBETdjEMAJ",
        "outputId": "9e41d548-6536-4423-a191-ff6aabad51fd"
      },
      "execution_count": null,
      "outputs": [
        {
          "output_type": "stream",
          "name": "stdout",
          "text": [
            "['Y' 'Y' 'Y' 'Y' 'X' 'Y' 'X' '2' '2' '12' '21' '8' '1' '13' '6' '7' '3'\n",
            " '16' '3' 'X' '19' '19' '3' 'X Y' '19' '1' '14' '11' '1' '11' '2' 'Y' '4'\n",
            " 'X Y' '22' '14' '21' '4' '1' 'Y' 'X' '1' '1' '9' '12' '11' nan nan '9'\n",
            " '12' '6' '9' '22' '14' '17' '20' nan 'X' '16' '4' nan '8' 'X' nan '45ac*'\n",
            " nan '2' '15' '21' 'X' '20' nan '15' '14' '20' '2' '17' '5' '6' '1' '18'\n",
            " '3' '20' 'X' '3' '3' '9' '12' '3' '10' '3' '9' '4' '11' '6' '7' '1' '7'\n",
            " '16hba1' 'X Y']\n",
            "['RPS4Y1' 'DDX3Y' 'UTY' 'KDM5D' 'XIST' 'USP9Y' nan 'REG1P' 'IL8RA' 'APAF1'\n",
            " 'SH3BGR' 'COL14A1' 'DR1' 'RAP2A' 'KIF25' 'LRRC17' 'SR140' 'UBN1' 'RBMS3'\n",
            " 'LAMP2' 'TNNT1' 'ZNF473' 'NCBP2' 'GTPBP6' 'PRPF31' 'PLA2G2A' 'CRIP1'\n",
            " 'HBB' 'SPRR2C' 'FADS1' 'COL4A3' 'ZFY' 'HMGB2' 'SFRS17A' 'RABL4' 'DCAF4'\n",
            " 'GART' 'PDE5A' 'CDC2L2' 'CYorf15B' 'CLCN4' 'DFFB' 'MTF1' 'ZBTB43' 'GAPDH'\n",
            " 'PLEKHB1' nan nan 'SVEP1' 'CBX5' 'GNL1' 'FCN2' 'POM121L9P' 'EML1'\n",
            " 'CYB561' 'ATRN' nan 'DDX3X' 'POLR2C' 'GRK4' nan 'PROSC' 'ELF4' nan nan\n",
            " nan 'COL3A1' 'TTBK2' 'IL10RB' 'EDA' 'SYCP2' nan 'TUBGCP4' 'PPP2R5C'\n",
            " 'SFRS6' 'PTPN4' 'NAGLU' 'TNPO1' 'COL19A1' 'EFNA4' 'TNFRSF11A' 'ACY1'\n",
            " 'SLC9A8' 'CENPI' 'MLH1' 'HYAL3' 'BRD3' 'NR4A1' 'CCR8' 'COL13A1' 'P2RY1'\n",
            " 'APBA1' 'GK2' 'API5' 'RIPK1' 'RAC1' 'SMYD2' 'CRHR2' nan 'SLC25A6']\n",
            "['41214_at', '38355_at', '34477_at', '37583_at', '38446_at', '35885_at', '36367_at', '33498_at', '1352_at', '37227_at']\n"
          ]
        }
      ]
    },
    {
      "cell_type": "code",
      "source": [
        "print(np.isin(op_chrom[:10], ['X', 'Y', 'X Y']).sum())\n",
        "print(np.isin(op_chrom[:20], ['X', 'Y', 'X Y']).sum())\n",
        "print(np.isin(op_chrom[:50], ['X', 'Y', 'X Y']).sum())\n",
        "print(np.isin(op_chrom[:100], ['X', 'Y', 'X Y']).sum())"
      ],
      "metadata": {
        "colab": {
          "base_uri": "https://localhost:8080/"
        },
        "id": "zOSyFMp-EMCg",
        "outputId": "a7478942-2673-440b-c4f8-fc164b5382fa"
      },
      "execution_count": null,
      "outputs": [
        {
          "output_type": "stream",
          "name": "stdout",
          "text": [
            "7\n",
            "8\n",
            "13\n",
            "18\n"
          ]
        }
      ]
    },
    {
      "cell_type": "code",
      "source": [
        "sns.histplot(express_norm_samp[express_norm_samp['lab'] == 'Irvine'][genes_hum_index[0]], binwidth = 0.1, color = 'red')\n",
        "sns.histplot(express_norm_samp[express_norm_samp['lab'] == 'Davis'][genes_hum_index[0]], binwidth = 0.1, color = 'blue')\n",
        "sns.histplot(express_norm_samp[express_norm_samp['lab'] == 'Michigan'][genes_hum_index[0]], binwidth = 0.1, color = 'green')\n",
        "plt.legend(labels = ['irvine', 'davis', 'michigan'])"
      ],
      "metadata": {
        "colab": {
          "base_uri": "https://localhost:8080/",
          "height": 298
        },
        "id": "RsZ4L6sdCybj",
        "outputId": "99b59c3e-2a4d-40ba-8cb4-c39c1f278929"
      },
      "execution_count": null,
      "outputs": [
        {
          "output_type": "execute_result",
          "data": {
            "text/plain": [
              "<matplotlib.legend.Legend at 0x7f8b04628e10>"
            ]
          },
          "metadata": {},
          "execution_count": 163
        },
        {
          "output_type": "display_data",
          "data": {
            "text/plain": [
              "<Figure size 432x288 with 1 Axes>"
            ],
            "image/png": "[encoded data removed]"
          },
          "metadata": {
            "needs_background": "light"
          }
        }
      ]
    },
    {
      "cell_type": "code",
      "source": [
        "sns.histplot(express_norm_samp[express_norm_samp['lab'] == 'Irvine'][genes_hum_index[1]], binwidth = 0.05, color = 'red')\n",
        "sns.histplot(express_norm_samp[express_norm_samp['lab'] == 'Davis'][genes_hum_index[1]], binwidth = 0.05, color = 'blue')\n",
        "sns.histplot(express_norm_samp[express_norm_samp['lab'] == 'Michigan'][genes_hum_index[1]], binwidth = 0.05, color = 'green')\n",
        "plt.legend(labels = ['irvine', 'davis', 'michigan'])"
      ],
      "metadata": {
        "colab": {
          "base_uri": "https://localhost:8080/",
          "height": 298
        },
        "id": "9c06dLIgPL39",
        "outputId": "b23da751-0bdd-4dcf-c9dd-e4ae38aff722"
      },
      "execution_count": null,
      "outputs": [
        {
          "output_type": "execute_result",
          "data": {
            "text/plain": [
              "<matplotlib.legend.Legend at 0x7f8b0371f850>"
            ]
          },
          "metadata": {},
          "execution_count": 164
        },
        {
          "output_type": "display_data",
          "data": {
            "text/plain": [
              "<Figure size 432x288 with 1 Axes>"
            ],
            "image/png": "[encoded data removed]"
          },
          "metadata": {
            "needs_background": "light"
          }
        }
      ]
    },
    {
      "cell_type": "code",
      "source": [
        "sns.histplot(express_norm_samp[express_norm_samp['lab'] == 'Irvine'][genes_hum_index[2]], binwidth = 0.05, color = 'red')\n",
        "sns.histplot(express_norm_samp[express_norm_samp['lab'] == 'Davis'][genes_hum_index[2]], binwidth = 0.05, color = 'blue')\n",
        "sns.histplot(express_norm_samp[express_norm_samp['lab'] == 'Michigan'][genes_hum_index[2]], binwidth = 0.05, color = 'green')\n",
        "plt.legend(labels = ['irvine', 'davis', 'michigan'])"
      ],
      "metadata": {
        "colab": {
          "base_uri": "https://localhost:8080/",
          "height": 298
        },
        "id": "2fH4nGQePL6I",
        "outputId": "dc5d5556-d4e2-4af3-9a6a-b6aced8a0beb"
      },
      "execution_count": null,
      "outputs": [
        {
          "output_type": "execute_result",
          "data": {
            "text/plain": [
              "<matplotlib.legend.Legend at 0x7f8b032b1310>"
            ]
          },
          "metadata": {},
          "execution_count": 165
        },
        {
          "output_type": "display_data",
          "data": {
            "text/plain": [
              "<Figure size 432x288 with 1 Axes>"
            ],
            "image/png": "[encoded data removed]"
          },
          "metadata": {
            "needs_background": "light"
          }
        }
      ]
    },
    {
      "cell_type": "code",
      "source": [
        "sns.histplot(express_norm_samp[express_norm_samp['lab'] == 'Irvine'][genes_hum_index[30]], binwidth = 0.05, color = 'red')\n",
        "sns.histplot(express_norm_samp[express_norm_samp['lab'] == 'Davis'][genes_hum_index[30]], binwidth = 0.05, color = 'blue')\n",
        "sns.histplot(express_norm_samp[express_norm_samp['lab'] == 'Michigan'][genes_hum_index[30]], binwidth = 0.05, color = 'green')\n",
        "plt.legend(labels = ['irvine', 'davis', 'michigan'])"
      ],
      "metadata": {
        "colab": {
          "base_uri": "https://localhost:8080/",
          "height": 298
        },
        "id": "e2HO3O4dPL8M",
        "outputId": "e07999bb-7d08-4949-faca-d6af3f0cfd42"
      },
      "execution_count": null,
      "outputs": [
        {
          "output_type": "execute_result",
          "data": {
            "text/plain": [
              "<matplotlib.legend.Legend at 0x7f8b032a5fd0>"
            ]
          },
          "metadata": {},
          "execution_count": 166
        },
        {
          "output_type": "display_data",
          "data": {
            "text/plain": [
              "<Figure size 432x288 with 1 Axes>"
            ],
            "image/png": "[encoded data removed]"
          },
          "metadata": {
            "needs_background": "light"
          }
        }
      ]
    },
    {
      "cell_type": "code",
      "source": [
        "genes_hum_index[30]"
      ],
      "metadata": {
        "colab": {
          "base_uri": "https://localhost:8080/",
          "height": 35
        },
        "id": "V03LBstRCyd8",
        "outputId": "dba6221c-bd6e-43d7-dcd0-a3b2b184a32c"
      },
      "execution_count": null,
      "outputs": [
        {
          "output_type": "execute_result",
          "data": {
            "text/plain": [
              "'1028_at'"
            ],
            "application/vnd.google.colaboratory.intrinsic+json": {
              "type": "string"
            }
          },
          "metadata": {},
          "execution_count": 167
        }
      ]
    },
    {
      "cell_type": "code",
      "source": [
        "expression.shape"
      ],
      "metadata": {
        "id": "13Ihn1z2y9mL",
        "outputId": "257f7ae6-9320-4cf4-c852-eef1a4ad78e8",
        "colab": {
          "base_uri": "https://localhost:8080/"
        }
      },
      "execution_count": null,
      "outputs": [
        {
          "output_type": "execute_result",
          "data": {
            "text/plain": [
              "(84, 12600)"
            ]
          },
          "metadata": {},
          "execution_count": 6
        }
      ]
    },
    {
      "cell_type": "code",
      "source": [
        "expression.head()"
      ],
      "metadata": {
        "colab": {
          "base_uri": "https://localhost:8080/",
          "height": 334
        },
        "id": "bmgwqH_gGbWc",
        "outputId": "f871efb3-751b-4c38-b394-89bd2e8dd546"
      },
      "execution_count": null,
      "outputs": [
        {
          "output_type": "execute_result",
          "data": {
            "text/plain": [
              "                  1000_at   1001_at  1002_f_at  1003_s_at   1004_at  \\\n",
              "01_a_D_f_2.CEL   9.521934  7.453767   7.045636   7.743690  7.728274   \n",
              "01_a_I_f_2.CEL  10.930684  9.455482   9.233291   9.777128  9.612399   \n",
              "01_a_M_f_1.CEL   6.852731  5.298974   5.033266   6.040661  5.890083   \n",
              "01_c_D_f_1.CEL   7.285181  6.258114   6.119443   6.631768  6.744592   \n",
              "01_c_I_f_2.CEL  11.224543  9.800931   9.407753  10.113212  9.871853   \n",
              "\n",
              "                  1005_at   1006_at  1007_s_at  1008_f_at    1009_at  ...  \\\n",
              "01_a_D_f_2.CEL   8.081243  6.927978   9.294152   8.888816   8.290944  ...   \n",
              "01_a_I_f_2.CEL   9.845444  9.149639  10.580062  11.505571   9.846817  ...   \n",
              "01_a_M_f_1.CEL   5.810144  5.098923   6.240855   7.280948   6.124910  ...   \n",
              "01_c_D_f_1.CEL   6.589478  6.156638   7.417750   8.663882   8.203275  ...   \n",
              "01_c_I_f_2.CEL  10.495533  9.449701  11.084619  11.969619  10.479006  ...   \n",
              "\n",
              "                AFFX-ThrX-5_at  AFFX-ThrX-M_at  AFFX-TrpnX-3_at  \\\n",
              "01_a_D_f_2.CEL        7.065597        6.803698         6.631766   \n",
              "01_a_I_f_2.CEL        9.366604        9.067484         8.945584   \n",
              "01_a_M_f_1.CEL        5.374457        5.165619         5.032617   \n",
              "01_c_D_f_1.CEL        6.332162        6.278864         6.108778   \n",
              "01_c_I_f_2.CEL        9.443910        9.242560         9.272848   \n",
              "\n",
              "                AFFX-TrpnX-5_at  AFFX-TrpnX-M_at  AFFX-YEL002c/WBP1_at  \\\n",
              "01_a_D_f_2.CEL         6.981474         7.003319              6.999630   \n",
              "01_a_I_f_2.CEL         9.118070         9.137492              9.067202   \n",
              "01_a_M_f_1.CEL         5.382904         5.509690              5.113946   \n",
              "01_c_D_f_1.CEL         6.341791         6.339638              6.167335   \n",
              "01_c_I_f_2.CEL         9.435175         9.448927              9.395768   \n",
              "\n",
              "                AFFX-YEL018w/_at  AFFX-YEL021w/URA3_at  AFFX-YEL024w/RIP1_at  \\\n",
              "01_a_D_f_2.CEL          7.005495              6.864895              7.030665   \n",
              "01_a_I_f_2.CEL          9.129742              9.256544              9.171725   \n",
              "01_a_M_f_1.CEL          5.273243              5.321357              5.321636   \n",
              "01_c_D_f_1.CEL          6.170734              6.734936              6.275118   \n",
              "01_c_I_f_2.CEL          9.306998              9.863770              9.404475   \n",
              "\n",
              "                AFFX-hum_alu_at  \n",
              "01_a_D_f_2.CEL        14.394582  \n",
              "01_a_I_f_2.CEL        15.494106  \n",
              "01_a_M_f_1.CEL        12.856782  \n",
              "01_c_D_f_1.CEL        13.683484  \n",
              "01_c_I_f_2.CEL        15.494106  \n",
              "\n",
              "[5 rows x 12600 columns]"
            ],
            "text/html": [
              "\n",
              "  <div id=\"df-e89d6847-3a1a-4a57-a39b-cabaf29c9fa5\">\n",
              "    <div class=\"colab-df-container\">\n",
              "      <div>\n",
              "<style scoped>\n",
              "    .dataframe tbody tr th:only-of-type {\n",
              "        vertical-align: middle;\n",
              "    }\n",
              "\n",
              "    .dataframe tbody tr th {\n",
              "        vertical-align: top;\n",
              "    }\n",
              "\n",
              "    .dataframe thead th {\n",
              "        text-align: right;\n",
              "    }\n",
              "</style>\n",
              "<table border=\"1\" class=\"dataframe\">\n",
              "  <thead>\n",
              "    <tr style=\"text-align: right;\">\n",
              "      <th></th>\n",
              "      <th>1000_at</th>\n",
              "      <th>1001_at</th>\n",
              "      <th>1002_f_at</th>\n",
              "      <th>1003_s_at</th>\n",
              "      <th>1004_at</th>\n",
              "      <th>1005_at</th>\n",
              "      <th>1006_at</th>\n",
              "      <th>1007_s_at</th>\n",
              "      <th>1008_f_at</th>\n",
              "      <th>1009_at</th>\n",
              "      <th>...</th>\n",
              "      <th>AFFX-ThrX-5_at</th>\n",
              "      <th>AFFX-ThrX-M_at</th>\n",
              "      <th>AFFX-TrpnX-3_at</th>\n",
              "      <th>AFFX-TrpnX-5_at</th>\n",
              "      <th>AFFX-TrpnX-M_at</th>\n",
              "      <th>AFFX-YEL002c/WBP1_at</th>\n",
              "      <th>AFFX-YEL018w/_at</th>\n",
              "      <th>AFFX-YEL021w/URA3_at</th>\n",
              "      <th>AFFX-YEL024w/RIP1_at</th>\n",
              "      <th>AFFX-hum_alu_at</th>\n",
              "    </tr>\n",
              "  </thead>\n",
              "  <tbody>\n",
              "    <tr>\n",
              "      <th>01_a_D_f_2.CEL</th>\n",
              "      <td>9.521934</td>\n",
              "      <td>7.453767</td>\n",
              "      <td>7.045636</td>\n",
              "      <td>7.743690</td>\n",
              "      <td>7.728274</td>\n",
              "      <td>8.081243</td>\n",
              "      <td>6.927978</td>\n",
              "      <td>9.294152</td>\n",
              "      <td>8.888816</td>\n",
              "      <td>8.290944</td>\n",
              "      <td>...</td>\n",
              "      <td>7.065597</td>\n",
              "      <td>6.803698</td>\n",
              "      <td>6.631766</td>\n",
              "      <td>6.981474</td>\n",
              "      <td>7.003319</td>\n",
              "      <td>6.999630</td>\n",
              "      <td>7.005495</td>\n",
              "      <td>6.864895</td>\n",
              "      <td>7.030665</td>\n",
              "      <td>14.394582</td>\n",
              "    </tr>\n",
              "    <tr>\n",
              "      <th>01_a_I_f_2.CEL</th>\n",
              "      <td>10.930684</td>\n",
              "      <td>9.455482</td>\n",
              "      <td>9.233291</td>\n",
              "      <td>9.777128</td>\n",
              "      <td>9.612399</td>\n",
              "      <td>9.845444</td>\n",
              "      <td>9.149639</td>\n",
              "      <td>10.580062</td>\n",
              "      <td>11.505571</td>\n",
              "      <td>9.846817</td>\n",
              "      <td>...</td>\n",
              "      <td>9.366604</td>\n",
              "      <td>9.067484</td>\n",
              "      <td>8.945584</td>\n",
              "      <td>9.118070</td>\n",
              "      <td>9.137492</td>\n",
              "      <td>9.067202</td>\n",
              "      <td>9.129742</td>\n",
              "      <td>9.256544</td>\n",
              "      <td>9.171725</td>\n",
              "      <td>15.494106</td>\n",
              "    </tr>\n",
              "    <tr>\n",
              "      <th>01_a_M_f_1.CEL</th>\n",
              "      <td>6.852731</td>\n",
              "      <td>5.298974</td>\n",
              "      <td>5.033266</td>\n",
              "      <td>6.040661</td>\n",
              "      <td>5.890083</td>\n",
              "      <td>5.810144</td>\n",
              "      <td>5.098923</td>\n",
              "      <td>6.240855</td>\n",
              "      <td>7.280948</td>\n",
              "      <td>6.124910</td>\n",
              "      <td>...</td>\n",
              "      <td>5.374457</td>\n",
              "      <td>5.165619</td>\n",
              "      <td>5.032617</td>\n",
              "      <td>5.382904</td>\n",
              "      <td>5.509690</td>\n",
              "      <td>5.113946</td>\n",
              "      <td>5.273243</td>\n",
              "      <td>5.321357</td>\n",
              "      <td>5.321636</td>\n",
              "      <td>12.856782</td>\n",
              "    </tr>\n",
              "    <tr>\n",
              "      <th>01_c_D_f_1.CEL</th>\n",
              "      <td>7.285181</td>\n",
              "      <td>6.258114</td>\n",
              "      <td>6.119443</td>\n",
              "      <td>6.631768</td>\n",
              "      <td>6.744592</td>\n",
              "      <td>6.589478</td>\n",
              "      <td>6.156638</td>\n",
              "      <td>7.417750</td>\n",
              "      <td>8.663882</td>\n",
              "      <td>8.203275</td>\n",
              "      <td>...</td>\n",
              "      <td>6.332162</td>\n",
              "      <td>6.278864</td>\n",
              "      <td>6.108778</td>\n",
              "      <td>6.341791</td>\n",
              "      <td>6.339638</td>\n",
              "      <td>6.167335</td>\n",
              "      <td>6.170734</td>\n",
              "      <td>6.734936</td>\n",
              "      <td>6.275118</td>\n",
              "      <td>13.683484</td>\n",
              "    </tr>\n",
              "    <tr>\n",
              "      <th>01_c_I_f_2.CEL</th>\n",
              "      <td>11.224543</td>\n",
              "      <td>9.800931</td>\n",
              "      <td>9.407753</td>\n",
              "      <td>10.113212</td>\n",
              "      <td>9.871853</td>\n",
              "      <td>10.495533</td>\n",
              "      <td>9.449701</td>\n",
              "      <td>11.084619</td>\n",
              "      <td>11.969619</td>\n",
              "      <td>10.479006</td>\n",
              "      <td>...</td>\n",
              "      <td>9.443910</td>\n",
              "      <td>9.242560</td>\n",
              "      <td>9.272848</td>\n",
              "      <td>9.435175</td>\n",
              "      <td>9.448927</td>\n",
              "      <td>9.395768</td>\n",
              "      <td>9.306998</td>\n",
              "      <td>9.863770</td>\n",
              "      <td>9.404475</td>\n",
              "      <td>15.494106</td>\n",
              "    </tr>\n",
              "  </tbody>\n",
              "</table>\n",
              "<p>5 rows × 12600 columns</p>\n",
              "</div>\n",
              "      <button class=\"colab-df-convert\" onclick=\"convertToInteractive('df-e89d6847-3a1a-4a57-a39b-cabaf29c9fa5')\"\n",
              "              title=\"Convert this dataframe to an interactive table.\"\n",
              "              style=\"display:none;\">\n",
              "        \n",
              "  <svg xmlns=\"http://www.w3.org/2000/svg\" height=\"24px\"viewBox=\"0 0 24 24\"\n",
              "       width=\"24px\">\n",
              "    <path d=\"M0 0h24v24H0V0z\" fill=\"none\"/>\n",
              "    <path d=\"M18.56 5.44l.94 2.06.94-2.06 2.06-.94-2.06-.94-.94-2.06-.94 2.06-2.06.94zm-11 1L8.5 8.5l.94-2.06 2.06-.94-2.06-.94L8.5 2.5l-.94 2.06-2.06.94zm10 10l.94 2.06.94-2.06 2.06-.94-2.06-.94-.94-2.06-.94 2.06-2.06.94z\"/><path d=\"M17.41 7.96l-1.37-1.37c-.4-.4-.92-.59-1.43-.59-.52 0-1.04.2-1.43.59L10.3 9.45l-7.72 7.72c-.78.78-.78 2.05 0 2.83L4 21.41c.39.39.9.59 1.41.59.51 0 1.02-.2 1.41-.59l7.78-7.78 2.81-2.81c.8-.78.8-2.07 0-2.86zM5.41 20L4 18.59l7.72-7.72 1.47 1.35L5.41 20z\"/>\n",
              "  </svg>\n",
              "      </button>\n",
              "      \n",
              "  <style>\n",
              "    .colab-df-container {\n",
              "      display:flex;\n",
              "      flex-wrap:wrap;\n",
              "      gap: 12px;\n",
              "    }\n",
              "\n",
              "    .colab-df-convert {\n",
              "      background-color: #E8F0FE;\n",
              "      border: none;\n",
              "      border-radius: 50%;\n",
              "      cursor: pointer;\n",
              "      display: none;\n",
              "      fill: #1967D2;\n",
              "      height: 32px;\n",
              "      padding: 0 0 0 0;\n",
              "      width: 32px;\n",
              "    }\n",
              "\n",
              "    .colab-df-convert:hover {\n",
              "      background-color: #E2EBFA;\n",
              "      box-shadow: 0px 1px 2px rgba(60, 64, 67, 0.3), 0px 1px 3px 1px rgba(60, 64, 67, 0.15);\n",
              "      fill: #174EA6;\n",
              "    }\n",
              "\n",
              "    [theme=dark] .colab-df-convert {\n",
              "      background-color: #3B4455;\n",
              "      fill: #D2E3FC;\n",
              "    }\n",
              "\n",
              "    [theme=dark] .colab-df-convert:hover {\n",
              "      background-color: #434B5C;\n",
              "      box-shadow: 0px 1px 3px 1px rgba(0, 0, 0, 0.15);\n",
              "      filter: drop-shadow(0px 1px 2px rgba(0, 0, 0, 0.3));\n",
              "      fill: #FFFFFF;\n",
              "    }\n",
              "  </style>\n",
              "\n",
              "      <script>\n",
              "        const buttonEl =\n",
              "          document.querySelector('#df-e89d6847-3a1a-4a57-a39b-cabaf29c9fa5 button.colab-df-convert');\n",
              "        buttonEl.style.display =\n",
              "          google.colab.kernel.accessAllowed ? 'block' : 'none';\n",
              "\n",
              "        async function convertToInteractive(key) {\n",
              "          const element = document.querySelector('#df-e89d6847-3a1a-4a57-a39b-cabaf29c9fa5');\n",
              "          const dataTable =\n",
              "            await google.colab.kernel.invokeFunction('convertToInteractive',\n",
              "                                                     [key], {});\n",
              "          if (!dataTable) return;\n",
              "\n",
              "          const docLinkHtml = 'Like what you see? Visit the ' +\n",
              "            '<a target=\"_blank\" href=https://colab.research.google.com/notebooks/data_table.ipynb>data table notebook</a>'\n",
              "            + ' to learn more about interactive tables.';\n",
              "          element.innerHTML = '';\n",
              "          dataTable['output_type'] = 'display_data';\n",
              "          await google.colab.output.renderOutput(dataTable, element);\n",
              "          const docLink = document.createElement('div');\n",
              "          docLink.innerHTML = docLinkHtml;\n",
              "          element.appendChild(docLink);\n",
              "        }\n",
              "      </script>\n",
              "    </div>\n",
              "  </div>\n",
              "  "
            ]
          },
          "metadata": {},
          "execution_count": 7
        }
      ]
    },
    {
      "cell_type": "code",
      "source": [
        "samples.head()"
      ],
      "metadata": {
        "id": "svstzBzwtXvn",
        "outputId": "a6c116bd-b0a2-4805-972a-4c69deb15ea0",
        "colab": {
          "base_uri": "https://localhost:8080/",
          "height": 238
        }
      },
      "execution_count": null,
      "outputs": [
        {
          "output_type": "execute_result",
          "data": {
            "text/plain": [
              "                   patient     sex       region       lab chip.version\n",
              "rownames                                                              \n",
              "01_a_D_f_2.CEL  patient_01  female  A.C. cortex     Davis           v2\n",
              "01_a_I_f_2.CEL  patient_01  female  A.C. cortex    Irvine           v2\n",
              "01_a_M_f_1.CEL  patient_01  female  A.C. cortex  Michigan           v1\n",
              "01_c_D_f_1.CEL  patient_01  female   cerebellum     Davis           v1\n",
              "01_c_I_f_2.CEL  patient_01  female   cerebellum    Irvine           v2"
            ],
            "text/html": [
              "\n",
              "  <div id=\"df-0b7f9377-b2f8-44d0-8157-8b4bef6a061b\">\n",
              "    <div class=\"colab-df-container\">\n",
              "      <div>\n",
              "<style scoped>\n",
              "    .dataframe tbody tr th:only-of-type {\n",
              "        vertical-align: middle;\n",
              "    }\n",
              "\n",
              "    .dataframe tbody tr th {\n",
              "        vertical-align: top;\n",
              "    }\n",
              "\n",
              "    .dataframe thead th {\n",
              "        text-align: right;\n",
              "    }\n",
              "</style>\n",
              "<table border=\"1\" class=\"dataframe\">\n",
              "  <thead>\n",
              "    <tr style=\"text-align: right;\">\n",
              "      <th></th>\n",
              "      <th>patient</th>\n",
              "      <th>sex</th>\n",
              "      <th>region</th>\n",
              "      <th>lab</th>\n",
              "      <th>chip.version</th>\n",
              "    </tr>\n",
              "    <tr>\n",
              "      <th>rownames</th>\n",
              "      <th></th>\n",
              "      <th></th>\n",
              "      <th></th>\n",
              "      <th></th>\n",
              "      <th></th>\n",
              "    </tr>\n",
              "  </thead>\n",
              "  <tbody>\n",
              "    <tr>\n",
              "      <th>01_a_D_f_2.CEL</th>\n",
              "      <td>patient_01</td>\n",
              "      <td>female</td>\n",
              "      <td>A.C. cortex</td>\n",
              "      <td>Davis</td>\n",
              "      <td>v2</td>\n",
              "    </tr>\n",
              "    <tr>\n",
              "      <th>01_a_I_f_2.CEL</th>\n",
              "      <td>patient_01</td>\n",
              "      <td>female</td>\n",
              "      <td>A.C. cortex</td>\n",
              "      <td>Irvine</td>\n",
              "      <td>v2</td>\n",
              "    </tr>\n",
              "    <tr>\n",
              "      <th>01_a_M_f_1.CEL</th>\n",
              "      <td>patient_01</td>\n",
              "      <td>female</td>\n",
              "      <td>A.C. cortex</td>\n",
              "      <td>Michigan</td>\n",
              "      <td>v1</td>\n",
              "    </tr>\n",
              "    <tr>\n",
              "      <th>01_c_D_f_1.CEL</th>\n",
              "      <td>patient_01</td>\n",
              "      <td>female</td>\n",
              "      <td>cerebellum</td>\n",
              "      <td>Davis</td>\n",
              "      <td>v1</td>\n",
              "    </tr>\n",
              "    <tr>\n",
              "      <th>01_c_I_f_2.CEL</th>\n",
              "      <td>patient_01</td>\n",
              "      <td>female</td>\n",
              "      <td>cerebellum</td>\n",
              "      <td>Irvine</td>\n",
              "      <td>v2</td>\n",
              "    </tr>\n",
              "  </tbody>\n",
              "</table>\n",
              "</div>\n",
              "      <button class=\"colab-df-convert\" onclick=\"convertToInteractive('df-0b7f9377-b2f8-44d0-8157-8b4bef6a061b')\"\n",
              "              title=\"Convert this dataframe to an interactive table.\"\n",
              "              style=\"display:none;\">\n",
              "        \n",
              "  <svg xmlns=\"http://www.w3.org/2000/svg\" height=\"24px\"viewBox=\"0 0 24 24\"\n",
              "       width=\"24px\">\n",
              "    <path d=\"M0 0h24v24H0V0z\" fill=\"none\"/>\n",
              "    <path d=\"M18.56 5.44l.94 2.06.94-2.06 2.06-.94-2.06-.94-.94-2.06-.94 2.06-2.06.94zm-11 1L8.5 8.5l.94-2.06 2.06-.94-2.06-.94L8.5 2.5l-.94 2.06-2.06.94zm10 10l.94 2.06.94-2.06 2.06-.94-2.06-.94-.94-2.06-.94 2.06-2.06.94z\"/><path d=\"M17.41 7.96l-1.37-1.37c-.4-.4-.92-.59-1.43-.59-.52 0-1.04.2-1.43.59L10.3 9.45l-7.72 7.72c-.78.78-.78 2.05 0 2.83L4 21.41c.39.39.9.59 1.41.59.51 0 1.02-.2 1.41-.59l7.78-7.78 2.81-2.81c.8-.78.8-2.07 0-2.86zM5.41 20L4 18.59l7.72-7.72 1.47 1.35L5.41 20z\"/>\n",
              "  </svg>\n",
              "      </button>\n",
              "      \n",
              "  <style>\n",
              "    .colab-df-container {\n",
              "      display:flex;\n",
              "      flex-wrap:wrap;\n",
              "      gap: 12px;\n",
              "    }\n",
              "\n",
              "    .colab-df-convert {\n",
              "      background-color: #E8F0FE;\n",
              "      border: none;\n",
              "      border-radius: 50%;\n",
              "      cursor: pointer;\n",
              "      display: none;\n",
              "      fill: #1967D2;\n",
              "      height: 32px;\n",
              "      padding: 0 0 0 0;\n",
              "      width: 32px;\n",
              "    }\n",
              "\n",
              "    .colab-df-convert:hover {\n",
              "      background-color: #E2EBFA;\n",
              "      box-shadow: 0px 1px 2px rgba(60, 64, 67, 0.3), 0px 1px 3px 1px rgba(60, 64, 67, 0.15);\n",
              "      fill: #174EA6;\n",
              "    }\n",
              "\n",
              "    [theme=dark] .colab-df-convert {\n",
              "      background-color: #3B4455;\n",
              "      fill: #D2E3FC;\n",
              "    }\n",
              "\n",
              "    [theme=dark] .colab-df-convert:hover {\n",
              "      background-color: #434B5C;\n",
              "      box-shadow: 0px 1px 3px 1px rgba(0, 0, 0, 0.15);\n",
              "      filter: drop-shadow(0px 1px 2px rgba(0, 0, 0, 0.3));\n",
              "      fill: #FFFFFF;\n",
              "    }\n",
              "  </style>\n",
              "\n",
              "      <script>\n",
              "        const buttonEl =\n",
              "          document.querySelector('#df-0b7f9377-b2f8-44d0-8157-8b4bef6a061b button.colab-df-convert');\n",
              "        buttonEl.style.display =\n",
              "          google.colab.kernel.accessAllowed ? 'block' : 'none';\n",
              "\n",
              "        async function convertToInteractive(key) {\n",
              "          const element = document.querySelector('#df-0b7f9377-b2f8-44d0-8157-8b4bef6a061b');\n",
              "          const dataTable =\n",
              "            await google.colab.kernel.invokeFunction('convertToInteractive',\n",
              "                                                     [key], {});\n",
              "          if (!dataTable) return;\n",
              "\n",
              "          const docLinkHtml = 'Like what you see? Visit the ' +\n",
              "            '<a target=\"_blank\" href=https://colab.research.google.com/notebooks/data_table.ipynb>data table notebook</a>'\n",
              "            + ' to learn more about interactive tables.';\n",
              "          element.innerHTML = '';\n",
              "          dataTable['output_type'] = 'display_data';\n",
              "          await google.colab.output.renderOutput(dataTable, element);\n",
              "          const docLink = document.createElement('div');\n",
              "          docLink.innerHTML = docLinkHtml;\n",
              "          element.appendChild(docLink);\n",
              "        }\n",
              "      </script>\n",
              "    </div>\n",
              "  </div>\n",
              "  "
            ]
          },
          "metadata": {},
          "execution_count": 8
        }
      ]
    },
    {
      "cell_type": "markdown",
      "source": [
        "Comparing results from Davis, Irvine and Michigan"
      ],
      "metadata": {
        "id": "vu6Qjrwtuu4F"
      }
    },
    {
      "cell_type": "code",
      "source": [
        "# davis = expression[expression.index.str.contains('_D_')]\n",
        "# irvine = expression[expression.index.str.contains('_I_')]\n",
        "# michigan = expression[expression.index.str.contains('_M_')]\n",
        "# davis.index = [x.replace('_D','').replace('_1','').replace('_2','') for x in davis.index]\n",
        "# irvine.index = [x.replace('_I','').replace('_1','').replace('_2','') for x in irvine.index]\n",
        "# michigan.index = [x.replace('_M','').replace('_1','').replace('_2','') for x in michigan.index]\n",
        "\n",
        "davis = expression_norm[expression_norm.index.str.contains('_D_')]\n",
        "irvine = expression_norm[expression_norm.index.str.contains('_I_')]\n",
        "michigan = expression_norm[expression_norm.index.str.contains('_M_')]\n",
        "davis.index = [x.replace('_D','').replace('_1','').replace('_2','') for x in davis.index]\n",
        "irvine.index = [x.replace('_I','').replace('_1','').replace('_2','') for x in irvine.index]\n",
        "michigan.index = [x.replace('_M','').replace('_1','').replace('_2','') for x in michigan.index]"
      ],
      "metadata": {
        "id": "d8AST4cuu_iw"
      },
      "execution_count": 123,
      "outputs": []
    },
    {
      "cell_type": "code",
      "source": [
        "def histo(var_name):\n",
        "  sns.histplot(x = irvine[var_name], binwidth = 0.2, color = 'red')\n",
        "  sns.histplot(x = davis[var_name], binwidth = 0.2, color = 'blue')\n",
        "  sns.histplot(x = michigan[var_name], binwidth = 0.2, color = 'green')\n",
        "  plt.legend(labels = ['irvine', 'davis', 'michigan'])"
      ],
      "metadata": {
        "id": "DsS56yvk1u1-"
      },
      "execution_count": null,
      "outputs": []
    },
    {
      "cell_type": "code",
      "source": [
        "def linepl(var_name):\n",
        "  temp = pd.merge(irvine[[var_name]], davis[[var_name]], how = 'left', left_index = True, right_index = True) \\\n",
        "    .merge(michigan[[var_name]], how = 'left', left_index = True, right_index = True)\n",
        "  plt.plot(np.arange(1,31), temp[var_name + '_y'], marker = 'o', markersize = 4, label = 'Davis')\n",
        "  plt.plot(np.arange(1,31), temp[var_name + '_x'], marker = 'o', markersize = 4, label = 'Irvine')\n",
        "  plt.plot(np.arange(1,31), temp[var_name], marker = 'o', markersize = 4, label = 'Michigan')\n",
        "  plt.legend(bbox_to_anchor=(1.3, 1), loc=\"upper right\")\n",
        "  plt.xlabel('Individual - region index');\n",
        "  plt.ylabel('Log expression');\n",
        "  plt.title('Log expression for each individual - region in each lab (' + var_name + ')')"
      ],
      "metadata": {
        "id": "1xsQNvDJ15ip"
      },
      "execution_count": 124,
      "outputs": []
    },
    {
      "cell_type": "code",
      "source": [
        "linepl('37208_at')"
      ],
      "metadata": {
        "id": "Uey-th7j2Uo1",
        "outputId": "9359c517-b513-4f82-f5ab-52088952c5a3",
        "colab": {
          "base_uri": "https://localhost:8080/",
          "height": 295
        }
      },
      "execution_count": 128,
      "outputs": [
        {
          "output_type": "display_data",
          "data": {
            "text/plain": [
              "<Figure size 432x288 with 1 Axes>"
            ],
            "image/png": "[encoded data removed]"
          },
          "metadata": {
            "needs_background": "light"
          }
        }
      ]
    },
    {
      "cell_type": "code",
      "source": [
        "linepl(expression.columns[3698])"
      ],
      "metadata": {
        "id": "v0ZD1S3fI0ck",
        "outputId": "20db7233-162f-480b-9c47-abfbba3b4973",
        "colab": {
          "base_uri": "https://localhost:8080/",
          "height": 265
        }
      },
      "execution_count": null,
      "outputs": [
        {
          "output_type": "display_data",
          "data": {
            "text/plain": [
              "<Figure size 432x288 with 1 Axes>"
            ],
            "image/png": "[encoded data removed]"
          },
          "metadata": {
            "needs_background": "light"
          }
        }
      ]
    },
    {
      "cell_type": "code",
      "source": [
        "expression"
      ],
      "metadata": {
        "id": "ayamc7pfJeft",
        "outputId": "1a039cef-35d7-42a1-d5fd-472b7951f29f",
        "colab": {
          "base_uri": "https://localhost:8080/",
          "height": 522
        }
      },
      "execution_count": null,
      "outputs": [
        {
          "output_type": "execute_result",
          "data": {
            "text/plain": [
              "                  1000_at   1001_at  1002_f_at  1003_s_at   1004_at  \\\n",
              "01_a_D_f_2.CEL   9.521934  7.453767   7.045636   7.743690  7.728274   \n",
              "01_a_I_f_2.CEL  10.930684  9.455482   9.233291   9.777128  9.612399   \n",
              "01_a_M_f_1.CEL   6.852731  5.298974   5.033266   6.040661  5.890083   \n",
              "01_c_D_f_1.CEL   7.285181  6.258114   6.119443   6.631768  6.744592   \n",
              "01_c_I_f_2.CEL  11.224543  9.800931   9.407753  10.113212  9.871853   \n",
              "...                   ...       ...        ...        ...       ...   \n",
              "10_c_I_f_2.CEL  10.834992  9.375171   9.100567   9.766162  9.441591   \n",
              "10_c_M_f_1.CEL   6.990507  5.671513   5.398236   6.182388  6.088754   \n",
              "10_d_D_f_2.CEL   9.143998  6.862450   6.357731   7.134995  7.046711   \n",
              "10_d_I_f_2.CEL  10.963519  9.338467   9.047548   9.696127  9.541697   \n",
              "10_d_M_f_2.CEL   8.144239  6.028297   5.813491   6.543962  6.395579   \n",
              "\n",
              "                  1005_at   1006_at  1007_s_at  1008_f_at    1009_at  ...  \\\n",
              "01_a_D_f_2.CEL   8.081243  6.927978   9.294152   8.888816   8.290944  ...   \n",
              "01_a_I_f_2.CEL   9.845444  9.149639  10.580062  11.505571   9.846817  ...   \n",
              "01_a_M_f_1.CEL   5.810144  5.098923   6.240855   7.280948   6.124910  ...   \n",
              "01_c_D_f_1.CEL   6.589478  6.156638   7.417750   8.663882   8.203275  ...   \n",
              "01_c_I_f_2.CEL  10.495533  9.449701  11.084619  11.969619  10.479006  ...   \n",
              "...                   ...       ...        ...        ...        ...  ...   \n",
              "10_c_I_f_2.CEL  10.245868  9.065520  10.590598  11.039345  10.225186  ...   \n",
              "10_c_M_f_1.CEL   6.074909  5.479757   6.328909   7.675669   6.726671  ...   \n",
              "10_d_D_f_2.CEL   7.730850  6.183967   9.414389   9.065153   8.863422  ...   \n",
              "10_d_I_f_2.CEL   9.792356  9.073002  10.775091  11.373533  10.350302  ...   \n",
              "10_d_M_f_2.CEL   6.625704  5.766611   7.342089   8.085729   7.334496  ...   \n",
              "\n",
              "                AFFX-ThrX-5_at  AFFX-ThrX-M_at  AFFX-TrpnX-3_at  \\\n",
              "01_a_D_f_2.CEL        7.065597        6.803698         6.631766   \n",
              "01_a_I_f_2.CEL        9.366604        9.067484         8.945584   \n",
              "01_a_M_f_1.CEL        5.374457        5.165619         5.032617   \n",
              "01_c_D_f_1.CEL        6.332162        6.278864         6.108778   \n",
              "01_c_I_f_2.CEL        9.443910        9.242560         9.272848   \n",
              "...                        ...             ...              ...   \n",
              "10_c_I_f_2.CEL        9.197899        8.932622         8.950766   \n",
              "10_c_M_f_1.CEL        5.563038        5.453313         5.228861   \n",
              "10_d_D_f_2.CEL        6.258799        6.027364         5.907490   \n",
              "10_d_I_f_2.CEL        9.126488        8.891157         8.935299   \n",
              "10_d_M_f_2.CEL        5.957419        5.708379         5.659275   \n",
              "\n",
              "                AFFX-TrpnX-5_at  AFFX-TrpnX-M_at  AFFX-YEL002c/WBP1_at  \\\n",
              "01_a_D_f_2.CEL         6.981474         7.003319              6.999630   \n",
              "01_a_I_f_2.CEL         9.118070         9.137492              9.067202   \n",
              "01_a_M_f_1.CEL         5.382904         5.509690              5.113946   \n",
              "01_c_D_f_1.CEL         6.341791         6.339638              6.167335   \n",
              "01_c_I_f_2.CEL         9.435175         9.448927              9.395768   \n",
              "...                         ...              ...                   ...   \n",
              "10_c_I_f_2.CEL         9.120934         9.018108              9.007320   \n",
              "10_c_M_f_1.CEL         5.498717         5.515519              5.379649   \n",
              "10_d_D_f_2.CEL         6.171226         6.130500              6.080228   \n",
              "10_d_I_f_2.CEL         9.080840         9.166819              9.042159   \n",
              "10_d_M_f_2.CEL         5.840375         5.944471              5.770632   \n",
              "\n",
              "                AFFX-YEL018w/_at  AFFX-YEL021w/URA3_at  AFFX-YEL024w/RIP1_at  \\\n",
              "01_a_D_f_2.CEL          7.005495              6.864895              7.030665   \n",
              "01_a_I_f_2.CEL          9.129742              9.256544              9.171725   \n",
              "01_a_M_f_1.CEL          5.273243              5.321357              5.321636   \n",
              "01_c_D_f_1.CEL          6.170734              6.734936              6.275118   \n",
              "01_c_I_f_2.CEL          9.306998              9.863770              9.404475   \n",
              "...                          ...                   ...                   ...   \n",
              "10_c_I_f_2.CEL          9.010432              9.093493              8.986246   \n",
              "10_c_M_f_1.CEL          5.460068              5.455070              5.488273   \n",
              "10_d_D_f_2.CEL          5.966166              6.135691              6.023620   \n",
              "10_d_I_f_2.CEL          9.048415              9.007950              9.115568   \n",
              "10_d_M_f_2.CEL          5.721384              5.833984              5.880374   \n",
              "\n",
              "                AFFX-hum_alu_at  \n",
              "01_a_D_f_2.CEL        14.394582  \n",
              "01_a_I_f_2.CEL        15.494106  \n",
              "01_a_M_f_1.CEL        12.856782  \n",
              "01_c_D_f_1.CEL        13.683484  \n",
              "01_c_I_f_2.CEL        15.494106  \n",
              "...                         ...  \n",
              "10_c_I_f_2.CEL        15.493637  \n",
              "10_c_M_f_1.CEL        12.665336  \n",
              "10_d_D_f_2.CEL        14.244014  \n",
              "10_d_I_f_2.CEL        15.493855  \n",
              "10_d_M_f_2.CEL        12.794010  \n",
              "\n",
              "[84 rows x 12600 columns]"
            ],
            "text/html": [
              "\n",
              "  <div id=\"df-191a81c8-4ce2-414b-9f96-4d2c266cf589\">\n",
              "    <div class=\"colab-df-container\">\n",
              "      <div>\n",
              "<style scoped>\n",
              "    .dataframe tbody tr th:only-of-type {\n",
              "        vertical-align: middle;\n",
              "    }\n",
              "\n",
              "    .dataframe tbody tr th {\n",
              "        vertical-align: top;\n",
              "    }\n",
              "\n",
              "    .dataframe thead th {\n",
              "        text-align: right;\n",
              "    }\n",
              "</style>\n",
              "<table border=\"1\" class=\"dataframe\">\n",
              "  <thead>\n",
              "    <tr style=\"text-align: right;\">\n",
              "      <th></th>\n",
              "      <th>1000_at</th>\n",
              "      <th>1001_at</th>\n",
              "      <th>1002_f_at</th>\n",
              "      <th>1003_s_at</th>\n",
              "      <th>1004_at</th>\n",
              "      <th>1005_at</th>\n",
              "      <th>1006_at</th>\n",
              "      <th>1007_s_at</th>\n",
              "      <th>1008_f_at</th>\n",
              "      <th>1009_at</th>\n",
              "      <th>...</th>\n",
              "      <th>AFFX-ThrX-5_at</th>\n",
              "      <th>AFFX-ThrX-M_at</th>\n",
              "      <th>AFFX-TrpnX-3_at</th>\n",
              "      <th>AFFX-TrpnX-5_at</th>\n",
              "      <th>AFFX-TrpnX-M_at</th>\n",
              "      <th>AFFX-YEL002c/WBP1_at</th>\n",
              "      <th>AFFX-YEL018w/_at</th>\n",
              "      <th>AFFX-YEL021w/URA3_at</th>\n",
              "      <th>AFFX-YEL024w/RIP1_at</th>\n",
              "      <th>AFFX-hum_alu_at</th>\n",
              "    </tr>\n",
              "  </thead>\n",
              "  <tbody>\n",
              "    <tr>\n",
              "      <th>01_a_D_f_2.CEL</th>\n",
              "      <td>9.521934</td>\n",
              "      <td>7.453767</td>\n",
              "      <td>7.045636</td>\n",
              "      <td>7.743690</td>\n",
              "      <td>7.728274</td>\n",
              "      <td>8.081243</td>\n",
              "      <td>6.927978</td>\n",
              "      <td>9.294152</td>\n",
              "      <td>8.888816</td>\n",
              "      <td>8.290944</td>\n",
              "      <td>...</td>\n",
              "      <td>7.065597</td>\n",
              "      <td>6.803698</td>\n",
              "      <td>6.631766</td>\n",
              "      <td>6.981474</td>\n",
              "      <td>7.003319</td>\n",
              "      <td>6.999630</td>\n",
              "      <td>7.005495</td>\n",
              "      <td>6.864895</td>\n",
              "      <td>7.030665</td>\n",
              "      <td>14.394582</td>\n",
              "    </tr>\n",
              "    <tr>\n",
              "      <th>01_a_I_f_2.CEL</th>\n",
              "      <td>10.930684</td>\n",
              "      <td>9.455482</td>\n",
              "      <td>9.233291</td>\n",
              "      <td>9.777128</td>\n",
              "      <td>9.612399</td>\n",
              "      <td>9.845444</td>\n",
              "      <td>9.149639</td>\n",
              "      <td>10.580062</td>\n",
              "      <td>11.505571</td>\n",
              "      <td>9.846817</td>\n",
              "      <td>...</td>\n",
              "      <td>9.366604</td>\n",
              "      <td>9.067484</td>\n",
              "      <td>8.945584</td>\n",
              "      <td>9.118070</td>\n",
              "      <td>9.137492</td>\n",
              "      <td>9.067202</td>\n",
              "      <td>9.129742</td>\n",
              "      <td>9.256544</td>\n",
              "      <td>9.171725</td>\n",
              "      <td>15.494106</td>\n",
              "    </tr>\n",
              "    <tr>\n",
              "      <th>01_a_M_f_1.CEL</th>\n",
              "      <td>6.852731</td>\n",
              "      <td>5.298974</td>\n",
              "      <td>5.033266</td>\n",
              "      <td>6.040661</td>\n",
              "      <td>5.890083</td>\n",
              "      <td>5.810144</td>\n",
              "      <td>5.098923</td>\n",
              "      <td>6.240855</td>\n",
              "      <td>7.280948</td>\n",
              "      <td>6.124910</td>\n",
              "      <td>...</td>\n",
              "      <td>5.374457</td>\n",
              "      <td>5.165619</td>\n",
              "      <td>5.032617</td>\n",
              "      <td>5.382904</td>\n",
              "      <td>5.509690</td>\n",
              "      <td>5.113946</td>\n",
              "      <td>5.273243</td>\n",
              "      <td>5.321357</td>\n",
              "      <td>5.321636</td>\n",
              "      <td>12.856782</td>\n",
              "    </tr>\n",
              "    <tr>\n",
              "      <th>01_c_D_f_1.CEL</th>\n",
              "      <td>7.285181</td>\n",
              "      <td>6.258114</td>\n",
              "      <td>6.119443</td>\n",
              "      <td>6.631768</td>\n",
              "      <td>6.744592</td>\n",
              "      <td>6.589478</td>\n",
              "      <td>6.156638</td>\n",
              "      <td>7.417750</td>\n",
              "      <td>8.663882</td>\n",
              "      <td>8.203275</td>\n",
              "      <td>...</td>\n",
              "      <td>6.332162</td>\n",
              "      <td>6.278864</td>\n",
              "      <td>6.108778</td>\n",
              "      <td>6.341791</td>\n",
              "      <td>6.339638</td>\n",
              "      <td>6.167335</td>\n",
              "      <td>6.170734</td>\n",
              "      <td>6.734936</td>\n",
              "      <td>6.275118</td>\n",
              "      <td>13.683484</td>\n",
              "    </tr>\n",
              "    <tr>\n",
              "      <th>01_c_I_f_2.CEL</th>\n",
              "      <td>11.224543</td>\n",
              "      <td>9.800931</td>\n",
              "      <td>9.407753</td>\n",
              "      <td>10.113212</td>\n",
              "      <td>9.871853</td>\n",
              "      <td>10.495533</td>\n",
              "      <td>9.449701</td>\n",
              "      <td>11.084619</td>\n",
              "      <td>11.969619</td>\n",
              "      <td>10.479006</td>\n",
              "      <td>...</td>\n",
              "      <td>9.443910</td>\n",
              "      <td>9.242560</td>\n",
              "      <td>9.272848</td>\n",
              "      <td>9.435175</td>\n",
              "      <td>9.448927</td>\n",
              "      <td>9.395768</td>\n",
              "      <td>9.306998</td>\n",
              "      <td>9.863770</td>\n",
              "      <td>9.404475</td>\n",
              "      <td>15.494106</td>\n",
              "    </tr>\n",
              "    <tr>\n",
              "      <th>...</th>\n",
              "      <td>...</td>\n",
              "      <td>...</td>\n",
              "      <td>...</td>\n",
              "      <td>...</td>\n",
              "      <td>...</td>\n",
              "      <td>...</td>\n",
              "      <td>...</td>\n",
              "      <td>...</td>\n",
              "      <td>...</td>\n",
              "      <td>...</td>\n",
              "      <td>...</td>\n",
              "      <td>...</td>\n",
              "      <td>...</td>\n",
              "      <td>...</td>\n",
              "      <td>...</td>\n",
              "      <td>...</td>\n",
              "      <td>...</td>\n",
              "      <td>...</td>\n",
              "      <td>...</td>\n",
              "      <td>...</td>\n",
              "      <td>...</td>\n",
              "    </tr>\n",
              "    <tr>\n",
              "      <th>10_c_I_f_2.CEL</th>\n",
              "      <td>10.834992</td>\n",
              "      <td>9.375171</td>\n",
              "      <td>9.100567</td>\n",
              "      <td>9.766162</td>\n",
              "      <td>9.441591</td>\n",
              "      <td>10.245868</td>\n",
              "      <td>9.065520</td>\n",
              "      <td>10.590598</td>\n",
              "      <td>11.039345</td>\n",
              "      <td>10.225186</td>\n",
              "      <td>...</td>\n",
              "      <td>9.197899</td>\n",
              "      <td>8.932622</td>\n",
              "      <td>8.950766</td>\n",
              "      <td>9.120934</td>\n",
              "      <td>9.018108</td>\n",
              "      <td>9.007320</td>\n",
              "      <td>9.010432</td>\n",
              "      <td>9.093493</td>\n",
              "      <td>8.986246</td>\n",
              "      <td>15.493637</td>\n",
              "    </tr>\n",
              "    <tr>\n",
              "      <th>10_c_M_f_1.CEL</th>\n",
              "      <td>6.990507</td>\n",
              "      <td>5.671513</td>\n",
              "      <td>5.398236</td>\n",
              "      <td>6.182388</td>\n",
              "      <td>6.088754</td>\n",
              "      <td>6.074909</td>\n",
              "      <td>5.479757</td>\n",
              "      <td>6.328909</td>\n",
              "      <td>7.675669</td>\n",
              "      <td>6.726671</td>\n",
              "      <td>...</td>\n",
              "      <td>5.563038</td>\n",
              "      <td>5.453313</td>\n",
              "      <td>5.228861</td>\n",
              "      <td>5.498717</td>\n",
              "      <td>5.515519</td>\n",
              "      <td>5.379649</td>\n",
              "      <td>5.460068</td>\n",
              "      <td>5.455070</td>\n",
              "      <td>5.488273</td>\n",
              "      <td>12.665336</td>\n",
              "    </tr>\n",
              "    <tr>\n",
              "      <th>10_d_D_f_2.CEL</th>\n",
              "      <td>9.143998</td>\n",
              "      <td>6.862450</td>\n",
              "      <td>6.357731</td>\n",
              "      <td>7.134995</td>\n",
              "      <td>7.046711</td>\n",
              "      <td>7.730850</td>\n",
              "      <td>6.183967</td>\n",
              "      <td>9.414389</td>\n",
              "      <td>9.065153</td>\n",
              "      <td>8.863422</td>\n",
              "      <td>...</td>\n",
              "      <td>6.258799</td>\n",
              "      <td>6.027364</td>\n",
              "      <td>5.907490</td>\n",
              "      <td>6.171226</td>\n",
              "      <td>6.130500</td>\n",
              "      <td>6.080228</td>\n",
              "      <td>5.966166</td>\n",
              "      <td>6.135691</td>\n",
              "      <td>6.023620</td>\n",
              "      <td>14.244014</td>\n",
              "    </tr>\n",
              "    <tr>\n",
              "      <th>10_d_I_f_2.CEL</th>\n",
              "      <td>10.963519</td>\n",
              "      <td>9.338467</td>\n",
              "      <td>9.047548</td>\n",
              "      <td>9.696127</td>\n",
              "      <td>9.541697</td>\n",
              "      <td>9.792356</td>\n",
              "      <td>9.073002</td>\n",
              "      <td>10.775091</td>\n",
              "      <td>11.373533</td>\n",
              "      <td>10.350302</td>\n",
              "      <td>...</td>\n",
              "      <td>9.126488</td>\n",
              "      <td>8.891157</td>\n",
              "      <td>8.935299</td>\n",
              "      <td>9.080840</td>\n",
              "      <td>9.166819</td>\n",
              "      <td>9.042159</td>\n",
              "      <td>9.048415</td>\n",
              "      <td>9.007950</td>\n",
              "      <td>9.115568</td>\n",
              "      <td>15.493855</td>\n",
              "    </tr>\n",
              "    <tr>\n",
              "      <th>10_d_M_f_2.CEL</th>\n",
              "      <td>8.144239</td>\n",
              "      <td>6.028297</td>\n",
              "      <td>5.813491</td>\n",
              "      <td>6.543962</td>\n",
              "      <td>6.395579</td>\n",
              "      <td>6.625704</td>\n",
              "      <td>5.766611</td>\n",
              "      <td>7.342089</td>\n",
              "      <td>8.085729</td>\n",
              "      <td>7.334496</td>\n",
              "      <td>...</td>\n",
              "      <td>5.957419</td>\n",
              "      <td>5.708379</td>\n",
              "      <td>5.659275</td>\n",
              "      <td>5.840375</td>\n",
              "      <td>5.944471</td>\n",
              "      <td>5.770632</td>\n",
              "      <td>5.721384</td>\n",
              "      <td>5.833984</td>\n",
              "      <td>5.880374</td>\n",
              "      <td>12.794010</td>\n",
              "    </tr>\n",
              "  </tbody>\n",
              "</table>\n",
              "<p>84 rows × 12600 columns</p>\n",
              "</div>\n",
              "      <button class=\"colab-df-convert\" onclick=\"convertToInteractive('df-191a81c8-4ce2-414b-9f96-4d2c266cf589')\"\n",
              "              title=\"Convert this dataframe to an interactive table.\"\n",
              "              style=\"display:none;\">\n",
              "        \n",
              "  <svg xmlns=\"http://www.w3.org/2000/svg\" height=\"24px\"viewBox=\"0 0 24 24\"\n",
              "       width=\"24px\">\n",
              "    <path d=\"M0 0h24v24H0V0z\" fill=\"none\"/>\n",
              "    <path d=\"M18.56 5.44l.94 2.06.94-2.06 2.06-.94-2.06-.94-.94-2.06-.94 2.06-2.06.94zm-11 1L8.5 8.5l.94-2.06 2.06-.94-2.06-.94L8.5 2.5l-.94 2.06-2.06.94zm10 10l.94 2.06.94-2.06 2.06-.94-2.06-.94-.94-2.06-.94 2.06-2.06.94z\"/><path d=\"M17.41 7.96l-1.37-1.37c-.4-.4-.92-.59-1.43-.59-.52 0-1.04.2-1.43.59L10.3 9.45l-7.72 7.72c-.78.78-.78 2.05 0 2.83L4 21.41c.39.39.9.59 1.41.59.51 0 1.02-.2 1.41-.59l7.78-7.78 2.81-2.81c.8-.78.8-2.07 0-2.86zM5.41 20L4 18.59l7.72-7.72 1.47 1.35L5.41 20z\"/>\n",
              "  </svg>\n",
              "      </button>\n",
              "      \n",
              "  <style>\n",
              "    .colab-df-container {\n",
              "      display:flex;\n",
              "      flex-wrap:wrap;\n",
              "      gap: 12px;\n",
              "    }\n",
              "\n",
              "    .colab-df-convert {\n",
              "      background-color: #E8F0FE;\n",
              "      border: none;\n",
              "      border-radius: 50%;\n",
              "      cursor: pointer;\n",
              "      display: none;\n",
              "      fill: #1967D2;\n",
              "      height: 32px;\n",
              "      padding: 0 0 0 0;\n",
              "      width: 32px;\n",
              "    }\n",
              "\n",
              "    .colab-df-convert:hover {\n",
              "      background-color: #E2EBFA;\n",
              "      box-shadow: 0px 1px 2px rgba(60, 64, 67, 0.3), 0px 1px 3px 1px rgba(60, 64, 67, 0.15);\n",
              "      fill: #174EA6;\n",
              "    }\n",
              "\n",
              "    [theme=dark] .colab-df-convert {\n",
              "      background-color: #3B4455;\n",
              "      fill: #D2E3FC;\n",
              "    }\n",
              "\n",
              "    [theme=dark] .colab-df-convert:hover {\n",
              "      background-color: #434B5C;\n",
              "      box-shadow: 0px 1px 3px 1px rgba(0, 0, 0, 0.15);\n",
              "      filter: drop-shadow(0px 1px 2px rgba(0, 0, 0, 0.3));\n",
              "      fill: #FFFFFF;\n",
              "    }\n",
              "  </style>\n",
              "\n",
              "      <script>\n",
              "        const buttonEl =\n",
              "          document.querySelector('#df-191a81c8-4ce2-414b-9f96-4d2c266cf589 button.colab-df-convert');\n",
              "        buttonEl.style.display =\n",
              "          google.colab.kernel.accessAllowed ? 'block' : 'none';\n",
              "\n",
              "        async function convertToInteractive(key) {\n",
              "          const element = document.querySelector('#df-191a81c8-4ce2-414b-9f96-4d2c266cf589');\n",
              "          const dataTable =\n",
              "            await google.colab.kernel.invokeFunction('convertToInteractive',\n",
              "                                                     [key], {});\n",
              "          if (!dataTable) return;\n",
              "\n",
              "          const docLinkHtml = 'Like what you see? Visit the ' +\n",
              "            '<a target=\"_blank\" href=https://colab.research.google.com/notebooks/data_table.ipynb>data table notebook</a>'\n",
              "            + ' to learn more about interactive tables.';\n",
              "          element.innerHTML = '';\n",
              "          dataTable['output_type'] = 'display_data';\n",
              "          await google.colab.output.renderOutput(dataTable, element);\n",
              "          const docLink = document.createElement('div');\n",
              "          docLink.innerHTML = docLinkHtml;\n",
              "          element.appendChild(docLink);\n",
              "        }\n",
              "      </script>\n",
              "    </div>\n",
              "  </div>\n",
              "  "
            ]
          },
          "metadata": {},
          "execution_count": 19
        }
      ]
    },
    {
      "cell_type": "code",
      "source": [
        "linepl(expression.columns[-1])"
      ],
      "metadata": {
        "id": "zotXvN8KJanm",
        "outputId": "00a0760e-374b-4732-87fb-6c9aeb225d8a",
        "colab": {
          "base_uri": "https://localhost:8080/",
          "height": 265
        }
      },
      "execution_count": null,
      "outputs": [
        {
          "output_type": "display_data",
          "data": {
            "text/plain": [
              "<Figure size 432x288 with 1 Axes>"
            ],
            "image/png": "[encoded data removed]"
          },
          "metadata": {
            "needs_background": "light"
          }
        }
      ]
    },
    {
      "cell_type": "code",
      "source": [
        "linepl(expression.columns[0])"
      ],
      "metadata": {
        "id": "Mv_Cxp3AXJoL",
        "outputId": "bd2e7da2-cf89-4d69-856d-27e8d90bfb67",
        "colab": {
          "base_uri": "https://localhost:8080/",
          "height": 265
        }
      },
      "execution_count": null,
      "outputs": [
        {
          "output_type": "display_data",
          "data": {
            "text/plain": [
              "<Figure size 432x288 with 1 Axes>"
            ],
            "image/png": "[encoded data removed]"
          },
          "metadata": {
            "needs_background": "light"
          }
        }
      ]
    },
    {
      "cell_type": "code",
      "source": [
        "linepl(expression.columns[-2])"
      ],
      "metadata": {
        "id": "HKhpURMwJoiD",
        "outputId": "05fdbed9-003a-4618-f017-43ece7bc0bfb",
        "colab": {
          "base_uri": "https://localhost:8080/",
          "height": 265
        }
      },
      "execution_count": null,
      "outputs": [
        {
          "output_type": "display_data",
          "data": {
            "text/plain": [
              "<Figure size 432x288 with 1 Axes>"
            ],
            "image/png": "[encoded data removed]"
          },
          "metadata": {
            "needs_background": "light"
          }
        }
      ]
    },
    {
      "cell_type": "code",
      "source": [
        "linepl(expression.columns[129])"
      ],
      "metadata": {
        "id": "4gJx7iYBIx-R",
        "outputId": "8ec5a7c7-04a8-46ce-936f-48506464eff8",
        "colab": {
          "base_uri": "https://localhost:8080/",
          "height": 265
        }
      },
      "execution_count": null,
      "outputs": [
        {
          "output_type": "display_data",
          "data": {
            "text/plain": [
              "<Figure size 432x288 with 1 Axes>"
            ],
            "image/png": "[encoded data removed]"
          },
          "metadata": {
            "needs_background": "light"
          }
        }
      ]
    },
    {
      "cell_type": "code",
      "source": [
        "linepl(expression.columns[534])"
      ],
      "metadata": {
        "id": "BdUJfHUU2haI",
        "outputId": "ac15f12f-df86-4c9c-b48e-4ef217a7928d",
        "colab": {
          "base_uri": "https://localhost:8080/",
          "height": 268
        }
      },
      "execution_count": null,
      "outputs": [
        {
          "output_type": "display_data",
          "data": {
            "text/plain": [
              "<Figure size 432x288 with 1 Axes>"
            ],
            "image/png": "[encoded data removed]"
          },
          "metadata": {
            "needs_background": "light"
          }
        }
      ]
    },
    {
      "cell_type": "code",
      "source": [
        "np.corrcoef(expression[expression.columns[534]], expression[expression.columns[30]])"
      ],
      "metadata": {
        "id": "QH1Uo5bm2im9",
        "outputId": "d24badc8-9eaa-4196-b652-fba09a7d38dc",
        "colab": {
          "base_uri": "https://localhost:8080/"
        }
      },
      "execution_count": null,
      "outputs": [
        {
          "output_type": "execute_result",
          "data": {
            "text/plain": [
              "array([[1.        , 0.99641327],\n",
              "       [0.99641327, 1.        ]])"
            ]
          },
          "metadata": {},
          "execution_count": 117
        }
      ]
    },
    {
      "cell_type": "code",
      "source": [
        "np.corrcoef(expression[expression.columns[0]], expression[expression.columns[-2]])"
      ],
      "metadata": {
        "id": "Fz6qf46x20Kh",
        "outputId": "c4b43cec-67f2-4986-f1c2-1e2e65fef047",
        "colab": {
          "base_uri": "https://localhost:8080/"
        }
      },
      "execution_count": null,
      "outputs": [
        {
          "output_type": "execute_result",
          "data": {
            "text/plain": [
              "array([[1.        , 0.95821417],\n",
              "       [0.95821417, 1.        ]])"
            ]
          },
          "metadata": {},
          "execution_count": 32
        }
      ]
    },
    {
      "cell_type": "code",
      "source": [
        "plt.scatter(expression[expression.columns[0]],  expression[expression.columns[-2]])"
      ],
      "metadata": {
        "id": "ei7qQzYZQ8XS",
        "outputId": "93cf78a2-54e2-4cdf-d98c-315b1e0a767b",
        "colab": {
          "base_uri": "https://localhost:8080/",
          "height": 283
        }
      },
      "execution_count": null,
      "outputs": [
        {
          "output_type": "execute_result",
          "data": {
            "text/plain": [
              "<matplotlib.collections.PathCollection at 0x7fb646778090>"
            ]
          },
          "metadata": {},
          "execution_count": 33
        },
        {
          "output_type": "display_data",
          "data": {
            "text/plain": [
              "<Figure size 432x288 with 1 Axes>"
            ],
            "image/png": "[encoded data removed]"
          },
          "metadata": {
            "needs_background": "light"
          }
        }
      ]
    },
    {
      "cell_type": "code",
      "source": [
        "expression.columns[-2]"
      ],
      "metadata": {
        "id": "pzrBW6k7RhL9",
        "outputId": "c586f0fc-0923-40e4-8f72-21a2ce384c2c",
        "colab": {
          "base_uri": "https://localhost:8080/",
          "height": 35
        }
      },
      "execution_count": null,
      "outputs": [
        {
          "output_type": "execute_result",
          "data": {
            "text/plain": [
              "'AFFX-YEL024w/RIP1_at'"
            ],
            "application/vnd.google.colaboratory.intrinsic+json": {
              "type": "string"
            }
          },
          "metadata": {},
          "execution_count": 35
        }
      ]
    },
    {
      "cell_type": "code",
      "source": [
        "plt.scatter(expression[expression.columns[0]],  expression[expression.columns[1]])"
      ],
      "metadata": {
        "id": "XkJ-LvdHRDKM",
        "outputId": "f8c1ea96-319c-4333-9776-622e9de79966",
        "colab": {
          "base_uri": "https://localhost:8080/",
          "height": 283
        }
      },
      "execution_count": null,
      "outputs": [
        {
          "output_type": "execute_result",
          "data": {
            "text/plain": [
              "<matplotlib.collections.PathCollection at 0x7fb6467cd910>"
            ]
          },
          "metadata": {},
          "execution_count": 34
        },
        {
          "output_type": "display_data",
          "data": {
            "text/plain": [
              "<Figure size 432x288 with 1 Axes>"
            ],
            "image/png": "[encoded data removed]"
          },
          "metadata": {
            "needs_background": "light"
          }
        }
      ]
    },
    {
      "cell_type": "code",
      "source": [
        "joined = pd.merge(expression, samples, how = 'left', left_index = True, right_index = True)\n",
        "joined = joined[joined['lab'] == 'Michigan']\n",
        "joined = joined[['1000_at', 'sex', 'region']]\n",
        "joined = pd.concat([joined[['1000_at']], pd.get_dummies(joined['sex']), pd.get_dummies(joined['region'])], axis=1)\n",
        "joined = joined.drop(['female', 'A.C. cortex'], axis = 1)\n",
        "joined.columns = ['y', 'male', 'dlpf_cortex', 'cerebellum']\n",
        "\n",
        "# smf.logit(formula='y ~ x1 + x2 + x1:x2', data=df).fit()\n",
        "# smf.ols(formula='Lottery ~ Literacy + Wealth + Region', data=df)"
      ],
      "metadata": {
        "id": "1UWejuvSgKW4"
      },
      "execution_count": null,
      "outputs": []
    },
    {
      "cell_type": "code",
      "source": [
        "joined.columns"
      ],
      "metadata": {
        "id": "Cp7gSmaCifql",
        "outputId": "10414ee0-fe47-4e3c-93e7-5c952d2b32f3",
        "colab": {
          "base_uri": "https://localhost:8080/"
        }
      },
      "execution_count": null,
      "outputs": [
        {
          "output_type": "execute_result",
          "data": {
            "text/plain": [
              "Index(['y', 'male', 'dlpf_cortex', 'cerebellum'], dtype='object')"
            ]
          },
          "metadata": {},
          "execution_count": 77
        }
      ]
    },
    {
      "cell_type": "code",
      "source": [
        "import statsmodels.api as sm\n",
        "import statsmodels.formula.api as smf"
      ],
      "metadata": {
        "id": "VcfImKROhgBa"
      },
      "execution_count": null,
      "outputs": []
    },
    {
      "cell_type": "code",
      "source": [
        "model = smf.ols(formula = \"y ~ male + dlpf_cortex + cerebellum + male * dlpf_cortex + male * cerebellum\", data = joined)\n",
        "results = model.fit()"
      ],
      "metadata": {
        "id": "AXxd0MzT4849"
      },
      "execution_count": null,
      "outputs": []
    },
    {
      "cell_type": "code",
      "source": [
        "results.summary()"
      ],
      "metadata": {
        "id": "QODXoNljfmF8",
        "outputId": "771649a5-ddbc-471e-ac87-814f0420bf50",
        "colab": {
          "base_uri": "https://localhost:8080/",
          "height": 537
        }
      },
      "execution_count": null,
      "outputs": [
        {
          "output_type": "execute_result",
          "data": {
            "text/plain": [
              "<class 'statsmodels.iolib.summary.Summary'>\n",
              "\"\"\"\n",
              "                            OLS Regression Results                            \n",
              "==============================================================================\n",
              "Dep. Variable:                      y   R-squared:                       0.653\n",
              "Model:                            OLS   Adj. R-squared:                  0.580\n",
              "Method:                 Least Squares   F-statistic:                     9.014\n",
              "Date:                Sun, 25 Sep 2022   Prob (F-statistic):           6.29e-05\n",
              "Time:                        21:30:42   Log-Likelihood:                -5.7666\n",
              "No. Observations:                  30   AIC:                             23.53\n",
              "Df Residuals:                      24   BIC:                             31.94\n",
              "Df Model:                           5                                         \n",
              "Covariance Type:            nonrobust                                         \n",
              "====================================================================================\n",
              "                       coef    std err          t      P>|t|      [0.025      0.975]\n",
              "------------------------------------------------------------------------------------\n",
              "Intercept            7.3864      0.147     50.376      0.000       7.084       7.689\n",
              "male                 0.1549      0.207      0.747      0.462      -0.273       0.583\n",
              "dlpf_cortex          0.8602      0.207      4.148      0.000       0.432       1.288\n",
              "cerebellum          -0.0200      0.207     -0.097      0.924      -0.448       0.408\n",
              "male:dlpf_cortex    -0.0754      0.293     -0.257      0.799      -0.681       0.530\n",
              "male:cerebellum     -0.0383      0.293     -0.131      0.897      -0.644       0.567\n",
              "==============================================================================\n",
              "Omnibus:                        3.675   Durbin-Watson:                   0.938\n",
              "Prob(Omnibus):                  0.159   Jarque-Bera (JB):                1.794\n",
              "Skew:                          -0.277   Prob(JB):                        0.408\n",
              "Kurtosis:                       1.938   Cond. No.                         9.77\n",
              "==============================================================================\n",
              "\n",
              "Notes:\n",
              "[1] Standard Errors assume that the covariance matrix of the errors is correctly specified.\n",
              "\"\"\""
            ],
            "text/html": [
              "<table class=\"simpletable\">\n",
              "<caption>OLS Regression Results</caption>\n",
              "<tr>\n",
              "  <th>Dep. Variable:</th>            <td>y</td>        <th>  R-squared:         </th> <td>   0.653</td>\n",
              "</tr>\n",
              "<tr>\n",
              "  <th>Model:</th>                   <td>OLS</td>       <th>  Adj. R-squared:    </th> <td>   0.580</td>\n",
              "</tr>\n",
              "<tr>\n",
              "  <th>Method:</th>             <td>Least Squares</td>  <th>  F-statistic:       </th> <td>   9.014</td>\n",
              "</tr>\n",
              "<tr>\n",
              "  <th>Date:</th>             <td>Sun, 25 Sep 2022</td> <th>  Prob (F-statistic):</th> <td>6.29e-05</td>\n",
              "</tr>\n",
              "<tr>\n",
              "  <th>Time:</th>                 <td>21:30:42</td>     <th>  Log-Likelihood:    </th> <td> -5.7666</td>\n",
              "</tr>\n",
              "<tr>\n",
              "  <th>No. Observations:</th>      <td>    30</td>      <th>  AIC:               </th> <td>   23.53</td>\n",
              "</tr>\n",
              "<tr>\n",
              "  <th>Df Residuals:</th>          <td>    24</td>      <th>  BIC:               </th> <td>   31.94</td>\n",
              "</tr>\n",
              "<tr>\n",
              "  <th>Df Model:</th>              <td>     5</td>      <th>                     </th>     <td> </td>   \n",
              "</tr>\n",
              "<tr>\n",
              "  <th>Covariance Type:</th>      <td>nonrobust</td>    <th>                     </th>     <td> </td>   \n",
              "</tr>\n",
              "</table>\n",
              "<table class=\"simpletable\">\n",
              "<tr>\n",
              "          <td></td>            <th>coef</th>     <th>std err</th>      <th>t</th>      <th>P>|t|</th>  <th>[0.025</th>    <th>0.975]</th>  \n",
              "</tr>\n",
              "<tr>\n",
              "  <th>Intercept</th>        <td>    7.3864</td> <td>    0.147</td> <td>   50.376</td> <td> 0.000</td> <td>    7.084</td> <td>    7.689</td>\n",
              "</tr>\n",
              "<tr>\n",
              "  <th>male</th>             <td>    0.1549</td> <td>    0.207</td> <td>    0.747</td> <td> 0.462</td> <td>   -0.273</td> <td>    0.583</td>\n",
              "</tr>\n",
              "<tr>\n",
              "  <th>dlpf_cortex</th>      <td>    0.8602</td> <td>    0.207</td> <td>    4.148</td> <td> 0.000</td> <td>    0.432</td> <td>    1.288</td>\n",
              "</tr>\n",
              "<tr>\n",
              "  <th>cerebellum</th>       <td>   -0.0200</td> <td>    0.207</td> <td>   -0.097</td> <td> 0.924</td> <td>   -0.448</td> <td>    0.408</td>\n",
              "</tr>\n",
              "<tr>\n",
              "  <th>male:dlpf_cortex</th> <td>   -0.0754</td> <td>    0.293</td> <td>   -0.257</td> <td> 0.799</td> <td>   -0.681</td> <td>    0.530</td>\n",
              "</tr>\n",
              "<tr>\n",
              "  <th>male:cerebellum</th>  <td>   -0.0383</td> <td>    0.293</td> <td>   -0.131</td> <td> 0.897</td> <td>   -0.644</td> <td>    0.567</td>\n",
              "</tr>\n",
              "</table>\n",
              "<table class=\"simpletable\">\n",
              "<tr>\n",
              "  <th>Omnibus:</th>       <td> 3.675</td> <th>  Durbin-Watson:     </th> <td>   0.938</td>\n",
              "</tr>\n",
              "<tr>\n",
              "  <th>Prob(Omnibus):</th> <td> 0.159</td> <th>  Jarque-Bera (JB):  </th> <td>   1.794</td>\n",
              "</tr>\n",
              "<tr>\n",
              "  <th>Skew:</th>          <td>-0.277</td> <th>  Prob(JB):          </th> <td>   0.408</td>\n",
              "</tr>\n",
              "<tr>\n",
              "  <th>Kurtosis:</th>      <td> 1.938</td> <th>  Cond. No.          </th> <td>    9.77</td>\n",
              "</tr>\n",
              "</table><br/><br/>Notes:<br/>[1] Standard Errors assume that the covariance matrix of the errors is correctly specified."
            ]
          },
          "metadata": {},
          "execution_count": 82
        }
      ]
    },
    {
      "cell_type": "code",
      "source": [
        "# estimate ATE for ac cortex\n",
        "temp = joined[(joined['dlpf_cortex'] == 0) & (joined['cerebellum'] == 0)]\n",
        "print(temp[temp['male'] == 1]['y'].mean() - temp[temp['male'] == 0]['y'].mean())"
      ],
      "metadata": {
        "id": "KCEDS1uafz3l",
        "outputId": "1cb03cbf-bea0-4827-b48d-b248b7a30748",
        "colab": {
          "base_uri": "https://localhost:8080/"
        }
      },
      "execution_count": null,
      "outputs": [
        {
          "output_type": "stream",
          "name": "stdout",
          "text": [
            "0.15489461257420611\n"
          ]
        }
      ]
    },
    {
      "cell_type": "code",
      "source": [
        "# estimate ATE for dlpf cortex\n",
        "temp = joined[(joined['dlpf_cortex'] == 1) & (joined['cerebellum'] == 0)]\n",
        "print(temp[temp['male'] == 1]['y'].mean() - temp[temp['male'] == 0]['y'].mean())"
      ],
      "metadata": {
        "id": "cA8i-loBi5Iv",
        "outputId": "7c1315c4-0619-4d03-e7d9-382173b73713",
        "colab": {
          "base_uri": "https://localhost:8080/"
        }
      },
      "execution_count": null,
      "outputs": [
        {
          "output_type": "stream",
          "name": "stdout",
          "text": [
            "0.07950536451884815\n"
          ]
        }
      ]
    },
    {
      "cell_type": "code",
      "source": [
        "# estimate ATE for cerebellum\n",
        "temp = joined[(joined['dlpf_cortex'] == 0) & (joined['cerebellum'] == 1)]\n",
        "print(temp[temp['male'] == 1]['y'].mean() - temp[temp['male'] == 0]['y'].mean())"
      ],
      "metadata": {
        "id": "a6XEi2JTj7yY",
        "outputId": "aee66645-d339-4a4b-cf2e-5a8ac3525516",
        "colab": {
          "base_uri": "https://localhost:8080/"
        }
      },
      "execution_count": null,
      "outputs": [
        {
          "output_type": "stream",
          "name": "stdout",
          "text": [
            "0.11658115236642885\n"
          ]
        }
      ]
    },
    {
      "cell_type": "code",
      "source": [],
      "metadata": {
        "id": "YckRni7IkIoM"
      },
      "execution_count": null,
      "outputs": []
    }
  ]
}