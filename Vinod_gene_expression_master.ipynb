{
  "nbformat": 4,
  "nbformat_minor": 0,
  "metadata": {
    "colab": {
      "provenance": [],
      "collapsed_sections": [],
      "include_colab_link": true
    },
    "kernelspec": {
      "name": "python3",
      "display_name": "Python 3"
    },
    "language_info": {
      "name": "python"
    }
  },
  "cells": [
    {
      "cell_type": "markdown",
      "metadata": {
        "id": "view-in-github",
        "colab_type": "text"
      },
      "source": [
        "<a href=\"https://colab.research.google.com/github/unique-subedi/gene-expression/blob/main/Vinod_gene_expression_master.ipynb\" target=\"_parent\"><img src=\"https://colab.research.google.com/assets/colab-badge.svg\" alt=\"Open In Colab\"/></a>"
      ]
    },
    {
      "cell_type": "code",
      "source": [
        "import os\n",
        "import datetime\n",
        "import time\n",
        "import math\n",
        "import numpy as np\n",
        "from numpy import linalg as LA\n",
        "import pandas as pd\n",
        "import urllib.request\n",
        "import matplotlib.pyplot as plt\n",
        "import seaborn as sns"
      ],
      "metadata": {
        "id": "BmXo9Yr-pn3a"
      },
      "execution_count": 1,
      "outputs": []
    },
    {
      "cell_type": "code",
      "source": [
        "!pip install pyreadr\n",
        "import pyreadr\n",
        "urllib.request.urlretrieve(\"https://raw.githubusercontent.com/unique-subedi/gene-expression/main/data/brain.rda\", \"brain.rda\")\n",
        "brain = pyreadr.read_r(\"brain.rda\")"
      ],
      "metadata": {
        "id": "cISjdI7TGXg4",
        "colab": {
          "base_uri": "https://localhost:8080/"
        },
        "outputId": "8174efd4-b7a8-43b9-baee-7990929446e1"
      },
      "execution_count": 2,
      "outputs": [
        {
          "output_type": "stream",
          "name": "stdout",
          "text": [
            "Looking in indexes: https://pypi.org/simple, https://us-python.pkg.dev/colab-wheels/public/simple/\n",
            "Collecting pyreadr\n",
            "  Downloading pyreadr-0.4.7-cp37-cp37m-manylinux_2_17_x86_64.manylinux2014_x86_64.whl (363 kB)\n",
            "\u001b[K     |████████████████████████████████| 363 kB 4.9 MB/s \n",
            "\u001b[?25hRequirement already satisfied: pandas>=1.2.0 in /usr/local/lib/python3.7/dist-packages (from pyreadr) (1.3.5)\n",
            "Requirement already satisfied: pytz>=2017.3 in /usr/local/lib/python3.7/dist-packages (from pandas>=1.2.0->pyreadr) (2022.2.1)\n",
            "Requirement already satisfied: python-dateutil>=2.7.3 in /usr/local/lib/python3.7/dist-packages (from pandas>=1.2.0->pyreadr) (2.8.2)\n",
            "Requirement already satisfied: numpy>=1.17.3 in /usr/local/lib/python3.7/dist-packages (from pandas>=1.2.0->pyreadr) (1.21.6)\n",
            "Requirement already satisfied: six>=1.5 in /usr/local/lib/python3.7/dist-packages (from python-dateutil>=2.7.3->pandas>=1.2.0->pyreadr) (1.15.0)\n",
            "Installing collected packages: pyreadr\n",
            "Successfully installed pyreadr-0.4.7\n"
          ]
        }
      ]
    },
    {
      "cell_type": "code",
      "source": [
        "expression = pd.DataFrame(brain[\"expression\"])\n",
        "genes = pd.DataFrame(brain[\"genes\"])\n",
        "samples = pd.DataFrame(brain[\"samples\"])"
      ],
      "metadata": {
        "id": "Z9-4Xnp2GZZs"
      },
      "execution_count": 36,
      "outputs": []
    },
    {
      "cell_type": "code",
      "source": [
        "genes_Y_crom = genes[genes.chrom == \"Y\"].index\n",
        "genes_bac_index = genes[genes.chrom.isnull()].index\n",
        "mean_bac_exp = expression[genes_bac_index].mean(axis=1)\n",
        "print(mean_bac_exp)\n",
        "expression_norm =  expression - mean_bac_exp.values[:, None]"
      ],
      "metadata": {
        "id": "bmgwqH_gGbWc",
        "outputId": "4da19d09-54d9-48cc-9355-64151e5523f4",
        "colab": {
          "base_uri": "https://localhost:8080/"
        }
      },
      "execution_count": 47,
      "outputs": [
        {
          "output_type": "stream",
          "name": "stdout",
          "text": [
            "01_a_D_f_2.CEL    7.585395\n",
            "01_a_I_f_2.CEL    9.586479\n",
            "01_a_M_f_1.CEL    5.732075\n",
            "01_c_D_f_1.CEL    6.696566\n",
            "01_c_I_f_2.CEL    9.877747\n",
            "                    ...   \n",
            "10_c_I_f_2.CEL    9.566257\n",
            "10_c_M_f_1.CEL    5.932850\n",
            "10_d_D_f_2.CEL    6.902631\n",
            "10_d_I_f_2.CEL    9.528189\n",
            "10_d_M_f_2.CEL    6.350724\n",
            "Length: 84, dtype: float64\n"
          ]
        }
      ]
    },
    {
      "cell_type": "code",
      "source": [
        "express_norm_samp = pd.concat([expression_norm, samples], axis=1)\n",
        "\n",
        "express_norm_samp.head()\n",
        "fig, axs = plt.subplots(3, 1, figsize=(8, 5), constrained_layout=True, sharex='all')\n",
        "express_samp_loc = express_norm_samp\n",
        "# print(express_samp_UM.head())\n",
        "c = 0\n",
        "for tissue in express_samp_loc[\"region\"].unique():\n",
        "  print(tissue)\n",
        "  df_male = express_samp_loc[(express_samp_loc.region == tissue) & (express_samp_loc.sex == \"male\")]\n",
        "  df_female = express_samp_loc[(express_samp_loc.region == tissue) & (express_samp_loc.sex == \"female\")]\n",
        "\n",
        "  male_mean = expression_norm.loc[df_male.index].mean()\n",
        "  female_mean = expression_norm.loc[df_female.index].mean()\n",
        "\n",
        "  diff = np.abs(male_mean - female_mean)\n",
        "  sns.histplot(diff, ax = axs[c])\n",
        "  axs[c].set_title(tissue)\n",
        "  axs[c].set_xlabel(\"Male Average - Female Average\")\n",
        "  axs[c].set_ylabel(\"# of Genes\")\n",
        "  diff = diff.sort_values(ascending=False)\n",
        "  top_10 = diff.iloc[:10]\n",
        "  print(top_10)\n",
        "  op_genes = genes.loc[top_10.keys()].loc[:, 'chrom'].values\n",
        "  print(op_genes)\n",
        "  print(\"\")\n",
        "  c += 1\n",
        "\n",
        "\n",
        "\n"
      ],
      "metadata": {
        "colab": {
          "base_uri": "https://localhost:8080/",
          "height": 1000
        },
        "id": "u3-2Yy08SU_c",
        "outputId": "0c13d354-9d5b-4904-c1bd-d8fd09d09058"
      },
      "execution_count": 50,
      "outputs": [
        {
          "output_type": "stream",
          "name": "stdout",
          "text": [
            "A.C. cortex\n",
            "41214_at                     1.050694\n",
            "38355_at                     0.651265\n",
            "32052_at                     0.613733\n",
            "41158_at                     0.556277\n",
            "AFFX-HSAC07/X00351_M_at      0.486122\n",
            "38499_s_at                   0.458698\n",
            "31525_s_at                   0.457847\n",
            "AFFX-HUMGAPDH/M33197_5_at    0.446363\n",
            "33117_r_at                   0.391064\n",
            "31687_f_at                   0.382817\n",
            "dtype: float64\n",
            "['Y', 'Y', '11', 'X', '7', '3', '16hba1', '12', '6', '11']\n",
            "Categories (39, object): ['1', '10', '10ak*', '10ptp*', ..., 'X', 'X Y', 'Y', 'na']\n",
            "\n",
            "cerebellum\n",
            "41214_at      1.164016\n",
            "38355_at      0.934648\n",
            "32052_at      0.711199\n",
            "31687_f_at    0.689605\n",
            "31525_s_at    0.660768\n",
            "38285_at      0.574321\n",
            "39864_at      0.562130\n",
            "37714_at      0.527444\n",
            "41158_at      0.522396\n",
            "36567_at      0.515893\n",
            "dtype: float64\n",
            "['Y', 'Y', '11', '11', '16hba1', '16', '19', '3', 'X', '19']\n",
            "Categories (39, object): ['1', '10', '10ak*', '10ptp*', ..., 'X', 'X Y', 'Y', 'na']\n",
            "\n",
            "D.L.P.F. cortex\n",
            "41214_at      1.336382\n",
            "38355_at      0.774597\n",
            "32052_at      0.680452\n",
            "31525_s_at    0.662244\n",
            "31687_f_at    0.608263\n",
            "38650_at      0.550176\n",
            "34342_s_at    0.460756\n",
            "35885_at      0.396375\n",
            "1396_at       0.396265\n",
            "37583_at      0.391486\n",
            "dtype: float64\n",
            "['Y', 'Y', '11', '16hba1', '11', '2', '4', 'Y', '2', 'Y']\n",
            "Categories (39, object): ['1', '10', '10ak*', '10ptp*', ..., 'X', 'X Y', 'Y', 'na']\n",
            "\n"
          ]
        },
        {
          "output_type": "display_data",
          "data": {
            "text/plain": [
              "<Figure size 576x360 with 3 Axes>"
            ],
            "image/png": "[encoded data removed]"
          },
          "metadata": {
            "needs_background": "light"
          }
        }
      ]
    },
    {
      "cell_type": "code",
      "source": [
        "express_samp = pd.concat([expression, samples], axis=1)\n",
        "\n",
        "express_samp.head()\n",
        "fig, axs = plt.subplots(3, 1, figsize=(8, 5), constrained_layout=True, sharex='all')\n",
        "express_samp_UM = express_samp[express_samp.lab == \"Irvine\"]\n",
        "# print(express_samp_UM.head())\n",
        "c = 0\n",
        "for tissue in express_samp_UM[\"region\"].unique():\n",
        "  print(tissue)\n",
        "  df_male = express_samp_UM[(express_samp_UM.region == tissue) & (express_samp_UM.sex == \"male\")]\n",
        "  df_female = express_samp_UM[(express_samp_UM.region == tissue) & (express_samp_UM.sex == \"female\")]\n",
        "\n",
        "  male_mean = expression.loc[df_male.index].mean().drop(genes_Y_crom)\n",
        "  female_mean = expression.loc[df_female.index].mean().drop(genes_Y_crom)\n",
        "\n",
        "  diff = np.abs(male_mean - female_mean)\n",
        "  sns.histplot(diff, ax = axs[c])\n",
        "  axs[c].set_title(tissue)\n",
        "  axs[c].set_xlabel(\"Male Average - Female Average\")\n",
        "  axs[c].set_ylabel(\"# of Genes\")\n",
        "  diff = diff.sort_values(ascending=False)\n",
        "  top_10 = diff.iloc[:10]\n",
        "  print(top_10)\n",
        "  op_genes = genes.loc[top_10.keys()].loc[:, 'sym'].values\n",
        "  print(op_genes)\n",
        "  print(\"\")\n",
        "  c += 1\n"
      ],
      "metadata": {
        "id": "soMmcnD6o-Os",
        "outputId": "d37b43da-6801-4a30-a49d-05cbd562bb43",
        "colab": {
          "base_uri": "https://localhost:8080/",
          "height": 1000
        }
      },
      "execution_count": 12,
      "outputs": [
        {
          "output_type": "stream",
          "name": "stdout",
          "text": [
            "A.C. cortex\n",
            "41158_at                     0.922574\n",
            "AFFX-HSAC07/X00351_M_at      0.763263\n",
            "41123_s_at                   0.727383\n",
            "38499_s_at                   0.688549\n",
            "AFFX-HSAC07/X00351_5_at      0.677616\n",
            "36174_at                     0.640701\n",
            "AFFX-HUMGAPDH/M33197_5_at    0.620171\n",
            "32318_s_at                   0.611476\n",
            "32538_at                     0.611107\n",
            "35817_at                     0.600978\n",
            "dtype: float64\n",
            "['PLP1', 'ACTB', 'ENPP2', 'MOBP', 'ACTB', 'MARCKSL1', 'GAPDH', 'ACTB', 'TF', 'MBP']\n",
            "Categories (8783, object): ['AADAC', 'AAK1', 'AAMP', 'AANAT', ..., 'ZYX', 'ZZEF1', 'ZZZ3', 'psiTPTE22']\n",
            "\n",
            "cerebellum\n",
            "32052_at      1.130487\n",
            "31687_f_at    1.091789\n",
            "41158_at      1.023626\n",
            "31525_s_at    0.956235\n",
            "40185_at      0.928880\n",
            "34342_s_at    0.907448\n",
            "32243_g_at    0.860283\n",
            "32538_at      0.855866\n",
            "35817_at      0.854619\n",
            "41123_s_at    0.779115\n",
            "dtype: float64\n",
            "['HBB', 'HBB', 'PLP1', NaN, 'GFAP', 'SPP1', 'CRYAB', 'TF', 'MBP', 'ENPP2']\n",
            "Categories (8783, object): ['AADAC', 'AAK1', 'AAMP', 'AANAT', ..., 'ZYX', 'ZZEF1', 'ZZZ3', 'psiTPTE22']\n",
            "\n",
            "D.L.P.F. cortex\n",
            "41144_g_at                   0.591107\n",
            "38285_at                     0.569594\n",
            "37782_at                     0.559223\n",
            "AFFX-HUMGAPDH/M33197_5_at    0.542539\n",
            "37183_at                     0.540914\n",
            "36367_at                     0.538695\n",
            "35680_r_at                   0.535523\n",
            "1280_i_at                    0.527661\n",
            "1217_g_at                    0.508622\n",
            "34272_at                     0.506238\n",
            "dtype: float64\n",
            "['CALM1', 'CRYM', 'SST', 'GAPDH', 'GAD1', NaN, 'DPP6', 'MKNK2', 'PRKCB', 'RGS4']\n",
            "Categories (8783, object): ['AADAC', 'AAK1', 'AAMP', 'AANAT', ..., 'ZYX', 'ZZEF1', 'ZZZ3', 'psiTPTE22']\n",
            "\n"
          ]
        },
        {
          "output_type": "display_data",
          "data": {
            "text/plain": [
              "<Figure size 576x360 with 3 Axes>"
            ],
            "image/png": "[encoded data removed]"
          },
          "metadata": {
            "needs_background": "light"
          }
        }
      ]
    }
  ]
}