{
  "nbformat": 4,
  "nbformat_minor": 0,
  "metadata": {
    "colab": {
      "provenance": [],
      "collapsed_sections": [],
      "include_colab_link": true
    },
    "kernelspec": {
      "name": "python3",
      "display_name": "Python 3"
    },
    "language_info": {
      "name": "python"
    }
  },
  "cells": [
    {
      "cell_type": "markdown",
      "metadata": {
        "id": "view-in-github",
        "colab_type": "text"
      },
      "source": [
        "<a href=\"https://colab.research.google.com/github/unique-subedi/gene-expression/blob/main/Vinod_gene_expression_master.ipynb\" target=\"_parent\"><img src=\"https://colab.research.google.com/assets/colab-badge.svg\" alt=\"Open In Colab\"/></a>"
      ]
    },
    {
      "cell_type": "code",
      "source": [
        "import os\n",
        "import datetime\n",
        "import time\n",
        "import math\n",
        "import numpy as np\n",
        "from numpy import linalg as LA\n",
        "import pandas as pd\n",
        "import urllib.request\n",
        "import matplotlib.pyplot as plt\n",
        "import seaborn as sns\n",
        "from collections import Counter\n",
        "import scipy.stats as stats\n",
        "import statsmodels.api as sm\n",
        "from statsmodels.distributions.empirical_distribution import ECDF\n",
        "from statsmodels.stats.diagnostic import het_white\n",
        "import warnings\n",
        "warnings.simplefilter(action='ignore', category=FutureWarning)\n"
      ],
      "metadata": {
        "id": "BmXo9Yr-pn3a"
      },
      "execution_count": 117,
      "outputs": []
    },
    {
      "cell_type": "code",
      "source": [
        "!pip install qnorm\n",
        "import qnorm"
      ],
      "metadata": {
        "colab": {
          "base_uri": "https://localhost:8080/"
        },
        "id": "IpL3C9K9TGju",
        "outputId": "4f5e21b8-b9c6-436e-ee64-4ee3100b33c8"
      },
      "execution_count": 2,
      "outputs": [
        {
          "output_type": "stream",
          "name": "stdout",
          "text": [
            "Looking in indexes: https://pypi.org/simple, https://us-python.pkg.dev/colab-wheels/public/simple/\n",
            "Collecting qnorm\n",
            "  Downloading qnorm-0.8.1-py3-none-any.whl (15 kB)\n",
            "Requirement already satisfied: numba in /usr/local/lib/python3.7/dist-packages (from qnorm) (0.56.2)\n",
            "Requirement already satisfied: numpy in /usr/local/lib/python3.7/dist-packages (from qnorm) (1.21.6)\n",
            "Requirement already satisfied: llvmlite<0.40,>=0.39.0dev0 in /usr/local/lib/python3.7/dist-packages (from numba->qnorm) (0.39.1)\n",
            "Requirement already satisfied: setuptools<60 in /usr/local/lib/python3.7/dist-packages (from numba->qnorm) (57.4.0)\n",
            "Requirement already satisfied: importlib-metadata in /usr/local/lib/python3.7/dist-packages (from numba->qnorm) (4.12.0)\n",
            "Requirement already satisfied: typing-extensions>=3.6.4 in /usr/local/lib/python3.7/dist-packages (from importlib-metadata->numba->qnorm) (4.1.1)\n",
            "Requirement already satisfied: zipp>=0.5 in /usr/local/lib/python3.7/dist-packages (from importlib-metadata->numba->qnorm) (3.8.1)\n",
            "Installing collected packages: qnorm\n",
            "Successfully installed qnorm-0.8.1\n"
          ]
        }
      ]
    },
    {
      "cell_type": "code",
      "source": [
        "!pip install pyreadr\n",
        "import pyreadr\n",
        "urllib.request.urlretrieve(\"https://raw.githubusercontent.com/unique-subedi/gene-expression/main/data/brain.rda\", \"brain.rda\")\n",
        "brain = pyreadr.read_r(\"brain.rda\")"
      ],
      "metadata": {
        "id": "cISjdI7TGXg4",
        "colab": {
          "base_uri": "https://localhost:8080/"
        },
        "outputId": "e49bc596-b731-47ee-b8c1-9dcf816ab010"
      },
      "execution_count": 3,
      "outputs": [
        {
          "output_type": "stream",
          "name": "stdout",
          "text": [
            "Looking in indexes: https://pypi.org/simple, https://us-python.pkg.dev/colab-wheels/public/simple/\n",
            "Collecting pyreadr\n",
            "  Downloading pyreadr-0.4.7-cp37-cp37m-manylinux_2_17_x86_64.manylinux2014_x86_64.whl (363 kB)\n",
            "\u001b[K     |████████████████████████████████| 363 kB 29.0 MB/s \n",
            "\u001b[?25hRequirement already satisfied: pandas>=1.2.0 in /usr/local/lib/python3.7/dist-packages (from pyreadr) (1.3.5)\n",
            "Requirement already satisfied: pytz>=2017.3 in /usr/local/lib/python3.7/dist-packages (from pandas>=1.2.0->pyreadr) (2022.2.1)\n",
            "Requirement already satisfied: numpy>=1.17.3 in /usr/local/lib/python3.7/dist-packages (from pandas>=1.2.0->pyreadr) (1.21.6)\n",
            "Requirement already satisfied: python-dateutil>=2.7.3 in /usr/local/lib/python3.7/dist-packages (from pandas>=1.2.0->pyreadr) (2.8.2)\n",
            "Requirement already satisfied: six>=1.5 in /usr/local/lib/python3.7/dist-packages (from python-dateutil>=2.7.3->pandas>=1.2.0->pyreadr) (1.15.0)\n",
            "Installing collected packages: pyreadr\n",
            "Successfully installed pyreadr-0.4.7\n"
          ]
        }
      ]
    },
    {
      "cell_type": "code",
      "source": [
        "expression = pd.DataFrame(brain[\"expression\"])\n",
        "genes = pd.DataFrame(brain[\"genes\"])\n",
        "samples = pd.DataFrame(brain[\"samples\"])"
      ],
      "metadata": {
        "id": "Z9-4Xnp2GZZs"
      },
      "execution_count": 4,
      "outputs": []
    },
    {
      "cell_type": "code",
      "source": [
        "ACC = \"A.C. cortex\"\n",
        "CER = \"cerebellum\"\n",
        "DLPFC = \"D.L.P.F. cortex\"\n"
      ],
      "metadata": {
        "id": "mwsr9iDRONVw"
      },
      "execution_count": 5,
      "outputs": []
    },
    {
      "cell_type": "markdown",
      "source": [
        "# Compute Bacterial Genes"
      ],
      "metadata": {
        "id": "wtmClRSDOGZ1"
      }
    },
    {
      "cell_type": "code",
      "source": [
        "# Need to compute all bacteria genes. Contains AFFX, does Not have HUM\n",
        "genes.at[\"AFFX-BioDn-3_at\", 'chrom'] = float(\"Nan\")\n",
        "genes_control = genes[['AFFX' in s for s in genes.index]]\n",
        "genes_control = genes_control[['HUM' not in s for s in genes_control.index]]\n",
        "genes_control = genes_control[['hum' not in s for s in genes_control.index]]\n",
        "genes_bac_index = genes_control[genes_control.chrom.isnull() & genes_control.sym.isnull()].index\n",
        "print(genes_bac_index)\n"
      ],
      "metadata": {
        "colab": {
          "base_uri": "https://localhost:8080/"
        },
        "id": "24WkzjU29043",
        "outputId": "5465d5da-7d95-42ad-bfcb-672fc10159ef"
      },
      "execution_count": 90,
      "outputs": [
        {
          "output_type": "stream",
          "name": "stdout",
          "text": [
            "Index(['AFFX-BioB-3_at', 'AFFX-BioB-3_st', 'AFFX-BioB-5_at', 'AFFX-BioB-5_st',\n",
            "       'AFFX-BioB-M_at', 'AFFX-BioB-M_st', 'AFFX-BioC-3_at', 'AFFX-BioC-3_st',\n",
            "       'AFFX-BioC-5_at', 'AFFX-BioC-5_st', 'AFFX-BioDn-3_at',\n",
            "       'AFFX-BioDn-3_st', 'AFFX-BioDn-5_at', 'AFFX-BioDn-5_st',\n",
            "       'AFFX-CreX-3_at', 'AFFX-CreX-3_st', 'AFFX-CreX-5_at', 'AFFX-CreX-5_st',\n",
            "       'AFFX-DapX-3_at', 'AFFX-DapX-5_at', 'AFFX-DapX-M_at', 'AFFX-LysX-3_at',\n",
            "       'AFFX-LysX-5_at', 'AFFX-LysX-M_at', 'AFFX-M27830_3_at',\n",
            "       'AFFX-M27830_5_at', 'AFFX-M27830_M_at', 'AFFX-MurFAS_at',\n",
            "       'AFFX-MurIL10_at', 'AFFX-MurIL2_at', 'AFFX-MurIL4_at', 'AFFX-PheX-3_at',\n",
            "       'AFFX-PheX-5_at', 'AFFX-PheX-M_at', 'AFFX-ThrX-3_at', 'AFFX-ThrX-5_at',\n",
            "       'AFFX-ThrX-M_at', 'AFFX-TrpnX-3_at', 'AFFX-TrpnX-5_at',\n",
            "       'AFFX-TrpnX-M_at', 'AFFX-YEL002c/WBP1_at', 'AFFX-YEL018w/_at',\n",
            "       'AFFX-YEL021w/URA3_at', 'AFFX-YEL024w/RIP1_at'],\n",
            "      dtype='object', name='rownames')\n"
          ]
        }
      ]
    },
    {
      "cell_type": "markdown",
      "source": [
        "# Genes to Probe Set"
      ],
      "metadata": {
        "id": "EhIWCHIgfXwG"
      }
    },
    {
      "cell_type": "code",
      "source": [
        "genes_sym = genes[genes.sym.notnull()]\n",
        "unique_genes = genes_sym[\"sym\"].unique()\n",
        "gene_to_probe_set = {}\n",
        "\n",
        "for gene in unique_genes:\n",
        "  gene_to_probe_set[gene] = genes_sym.index[genes_sym.sym == gene].tolist()"
      ],
      "metadata": {
        "id": "U9fOVM_BfaHS"
      },
      "execution_count": 89,
      "outputs": []
    },
    {
      "cell_type": "markdown",
      "source": [
        "# Normalize Data"
      ],
      "metadata": {
        "id": "GkUonQwYOCmA"
      }
    },
    {
      "cell_type": "code",
      "source": [
        "genes_Y_crom = genes[genes.chrom == \"Y\"].index\n",
        "mean_bac_exp = expression[genes_bac_index].mean(axis=1)\n",
        "std_bac_exp = expression[genes_bac_index].std(axis=1)\n",
        "expression_norm =  (expression - mean_bac_exp.values[:, None]).divide(std_bac_exp, axis=0)\n",
        "expression_qnorm = qnorm.quantile_normalize(expression, axis=0)\n",
        "expression_ecdf = expression.copy()\n",
        "for i in range(len(expression)):\n",
        "  ecdf = ECDF(expression_ecdf.iloc[i, :].values)\n",
        "  expression_ecdf.iloc[i, :] = ecdf(expression_ecdf.iloc[i, :].values)"
      ],
      "metadata": {
        "id": "bmgwqH_gGbWc"
      },
      "execution_count": 88,
      "outputs": []
    },
    {
      "cell_type": "markdown",
      "source": [
        "# Hypothesis Testing"
      ],
      "metadata": {
        "id": "t9QRLCklsTOg"
      }
    },
    {
      "cell_type": "code",
      "source": [
        "def compute_top_genes_tissue(data, tissue):\n",
        "  express_norm_samp = pd.concat([data, samples], axis=1)\n",
        "  express_samp_loc = express_norm_samp\n",
        "\n",
        "  df_male = express_samp_loc[(express_samp_loc.region == tissue) & (express_samp_loc.sex == \"male\")]\n",
        "  df_female = express_samp_loc[(express_samp_loc.region == tissue) & (express_samp_loc.sex == \"female\")]\n",
        "\n",
        "  unique_probe_set = data.columns\n",
        "  probe_set_to_pvalue = {}\n",
        "\n",
        "  for probe_set in unique_probe_set:\n",
        "    stat, p = stats.ks_2samp(data.loc[df_male.index][probe_set], data.loc[df_female.index][probe_set])\n",
        "    probe_set_to_pvalue[probe_set] = p\n",
        "\n",
        "  gene_p_values = []\n",
        "\n",
        "  for gene in genes_sym[\"sym\"].unique():\n",
        "    gene_p = 0\n",
        "    gene_probes = gene_to_probe_set[gene]\n",
        "    for probe in gene_probes:\n",
        "      gene_p = max(gene_p, probe_set_to_pvalue[probe])\n",
        "    gene_p_values.append((gene_p, gene))\n",
        "    \n",
        "  sorted_pval = sorted(gene_p_values, key=lambda tup: tup[0])\n",
        "  topgenes = [tup[1] for tup in sorted_pval[:10]]\n",
        "  topchrom = [genes[genes.sym == tg][\"chrom\"][0] for tg in topgenes]\n",
        "  chrom_counter = Counter(topchrom)\n",
        "  count = np.sum([chrom_counter[key] for key, value in chrom_counter.items() if key in [\"X\", \"Y\", \"X Y\"]])\n",
        "  return topgenes, topchrom, count"
      ],
      "metadata": {
        "id": "D0gQxMcrF3iQ"
      },
      "execution_count": 64,
      "outputs": []
    },
    {
      "cell_type": "code",
      "source": [
        "topgenes, topchrom, cnt = compute_top_genes_tissue(expression_norm, ACC)\n",
        "print(topgenes)\n",
        "print(topchrom)\n",
        "print(cnt)"
      ],
      "metadata": {
        "colab": {
          "base_uri": "https://localhost:8080/"
        },
        "id": "QTvEIY0yGNAM",
        "outputId": "5b75e5fc-fa2d-448f-83a3-9c802a153788"
      },
      "execution_count": 65,
      "outputs": [
        {
          "output_type": "stream",
          "name": "stdout",
          "text": [
            "['DDX3Y', 'RPS4Y1', 'UTY', 'XIST', 'USP9Y', 'KDM5D', 'EIF1AY', 'SNRNP35', 'MOBP', 'SCGB1D1']\n",
            "['Y', 'Y', 'Y', 'X', 'Y', 'Y', 'Y', '12', '3', '11']\n",
            "7\n"
          ]
        }
      ]
    },
    {
      "cell_type": "code",
      "source": [
        "topgenes, topchrom, cnt = compute_top_genes_tissue(expression_norm, CER)\n",
        "print(topgenes)\n",
        "print(topchrom)\n",
        "print(cnt)"
      ],
      "metadata": {
        "colab": {
          "base_uri": "https://localhost:8080/"
        },
        "id": "l4V027PioYxf",
        "outputId": "670580f7-7c89-40df-caad-71323a19681e"
      },
      "execution_count": 66,
      "outputs": [
        {
          "output_type": "stream",
          "name": "stdout",
          "text": [
            "['DDX3Y', 'RPS4Y1', 'KDM5D', 'XIST', 'UTY', 'CD24', 'TTTY15', 'USP9Y', 'DUSP5', 'GEMIN4']\n",
            "['Y', 'Y', 'Y', 'X', 'Y', '6', 'Y', 'Y', '10', '17']\n",
            "7\n"
          ]
        }
      ]
    },
    {
      "cell_type": "code",
      "source": [
        "topgenes, topchrom, cnt = compute_top_genes_tissue(expression_norm, DLPFC)\n",
        "print(topgenes)\n",
        "print(topchrom)\n",
        "print(cnt)"
      ],
      "metadata": {
        "colab": {
          "base_uri": "https://localhost:8080/"
        },
        "id": "_nZ9XKO3oa9k",
        "outputId": "29400d3a-8189-413f-c2ff-f9e9a3c37ac4"
      },
      "execution_count": 67,
      "outputs": [
        {
          "output_type": "stream",
          "name": "stdout",
          "text": [
            "['DDX3Y', 'RPS4Y1', 'USP9Y', 'XIST', 'UTY', 'KDM5D', 'HNRNPF', 'TTTY15', 'NLGN4Y', 'HIST1H3I']\n",
            "['Y', 'Y', 'Y', 'X', 'Y', 'Y', '10', 'Y', 'Y', '6']\n",
            "8\n"
          ]
        }
      ]
    },
    {
      "cell_type": "markdown",
      "source": [
        "#OLS"
      ],
      "metadata": {
        "id": "gQRsbeDhGsZl"
      }
    },
    {
      "cell_type": "code",
      "source": [
        "human_probes = genes[genes.chrom.notnull()].index;\n",
        "print(human_probes)\n",
        "coef_gene = []\n",
        "num_sig = 0\n",
        "alpha = 0.05\n",
        "for probe in human_probes[:]:\n",
        "  samples_tmp = samples.drop(columns= [\"patient\"]);\n",
        "  one_hot_encoding = pd.get_dummies(samples_tmp);\n",
        "  one_hot_encoding = one_hot_encoding.drop(columns= [\"sex_female\", 'chip.version_v2', \"region_cerebellum\", \"lab_Davis\"]);\n",
        "  # one_hot_encoding = one_hot_encoding.drop(columns= [\"sex_female\", 'chip.version_v2', \"patient_patient_10\", \"region_cerebellum\", \"lab_Davis\"]);\n",
        "  X = sm.add_constant(one_hot_encoding);\n",
        "  model = sm.OLS(expression_norm[probe],X).fit();\n",
        "  white_test = het_white(model.resid,  model.model.exog)\n",
        "\n",
        "  #define labels to use for output of White's test\n",
        "  labels = ['Test Statistic', 'Test Statistic p-value', 'F-Statistic', 'F-Test p-value']\n",
        "\n",
        "  #print results of White's test\n",
        "  p = dict(zip(labels, white_test))[\"Test Statistic p-value\"]\n",
        "  if p <= alpha:\n",
        "    num_sig += 1\n",
        "print(num_sig)\n",
        "\n",
        "\n"
      ],
      "metadata": {
        "id": "an0p2BrKGtbL",
        "colab": {
          "base_uri": "https://localhost:8080/"
        },
        "outputId": "b6d5866e-880f-410a-c5db-9e7d5db9d63f"
      },
      "execution_count": 98,
      "outputs": [
        {
          "output_type": "stream",
          "name": "stdout",
          "text": [
            "Index(['1000_at', '1001_at', '1002_f_at', '1003_s_at', '1004_at', '1005_at',\n",
            "       '1006_at', '1007_s_at', '1008_f_at', '1009_at',\n",
            "       ...\n",
            "       'AFFX-HUMGAPDH/M33197_5_st', 'AFFX-HUMGAPDH/M33197_M_at',\n",
            "       'AFFX-HUMGAPDH/M33197_M_st', 'AFFX-HUMISGF3A/M97935_3_at',\n",
            "       'AFFX-HUMISGF3A/M97935_5_at', 'AFFX-HUMISGF3A/M97935_MA_at',\n",
            "       'AFFX-HUMISGF3A/M97935_MB_at', 'AFFX-HUMTFRR/M11507_3_at',\n",
            "       'AFFX-HUMTFRR/M11507_5_at', 'AFFX-HUMTFRR/M11507_M_at'],\n",
            "      dtype='object', name='rownames', length=11728)\n",
            "5891\n"
          ]
        }
      ]
    },
    {
      "cell_type": "code",
      "source": [
        "human_probes = genes[genes.chrom.notnull()].index;\n",
        "print(human_probes)\n",
        "coef_gene = []\n",
        "num_sig = 0\n",
        "alpha = 0.05\n",
        "for probe in human_probes[:1]:\n",
        "  samples_tmp = samples.drop(columns= [\"patient\"]);\n",
        "  one_hot_encoding = pd.get_dummies(samples_tmp);\n",
        "  one_hot_encoding = one_hot_encoding.drop(columns= [\"sex_female\", 'chip.version_v2', \"region_cerebellum\", \"lab_Davis\"]);\n",
        "  # one_hot_encoding = one_hot_encoding.drop(columns= [\"sex_female\", 'chip.version_v2', \"patient_patient_10\", \"region_cerebellum\", \"lab_Davis\"]);\n",
        "  X = sm.add_constant(one_hot_encoding);\n",
        "  model = sm.OLS(expression[probe],X).fit();\n",
        "  # fig = sm.qqplot(model.resid)\n",
        "  # plt.show()\n",
        "  white_test = het_white(model.resid,  model.model.exog)\n",
        "\n",
        "  #define labels to use for output of White's test\n",
        "  labels = ['Test Statistic', 'Test Statistic p-value', 'F-Statistic', 'F-Test p-value']\n",
        "\n",
        "  #print results of White's test\n",
        "  p = dict(zip(labels, white_test))[\"Test Statistic p-value\"]\n",
        "  if p <= alpha:\n",
        "    num_sig += 1\n",
        "print(num_sig)\n",
        "\n",
        "\n"
      ],
      "metadata": {
        "id": "axVrWHGku14u"
      },
      "execution_count": null,
      "outputs": []
    },
    {
      "cell_type": "code",
      "source": [
        "  # sorted_coef_gene = sorted(coef_gene, key=lambda tup: tup[1])\n",
        "  # print(sorted_coef_gene[-10:])\n",
        "  # top10genes = [tup[0] for tup in sorted_coef_gene[-10:]]\n",
        "  # op_chrom = genes.loc[top10genes].loc[:, 'chrom'].values\n",
        "  # op_genes = genes.loc[top10genes].loc[:, 'sym'].values\n",
        "\n",
        "  # print(op_chrom, op_genes)"
      ],
      "metadata": {
        "id": "6_GAe7EwMcvI",
        "outputId": "61e926d7-03b8-4cd1-ecf1-6e06adc5c54b",
        "colab": {
          "base_uri": "https://localhost:8080/"
        }
      },
      "execution_count": null,
      "outputs": [
        {
          "output_type": "stream",
          "name": "stdout",
          "text": [
            "[('38446_at', 0.32211163562325, -0.6392439071327769, -0.004979364113723184), ('32052_at', 0.6618093936031971, -1.2418658692260938, -0.08175291798030049), ('38355_at', 0.8080392266143466, 0.40988997154483925, 1.206188481683854), ('41214_at', 1.198685352333169, 0.8018963739565279, 1.5954743307098103)]\n",
            "['X', '11', 'Y', 'Y']\n",
            "Categories (39, object): ['1', '10', '10ak*', '10ptp*', ..., 'X', 'X Y', 'Y', 'na'] ['XIST', 'HBB', 'DDX3Y', 'RPS4Y1']\n",
            "Categories (8783, object): ['AADAC', 'AAK1', 'AAMP', 'AANAT', ..., 'ZYX', 'ZZEF1', 'ZZZ3', 'psiTPTE22']\n"
          ]
        }
      ]
    },
    {
      "cell_type": "markdown",
      "source": [
        "## OLS per lab"
      ],
      "metadata": {
        "id": "8Jn0xEw02dR-"
      }
    },
    {
      "cell_type": "code",
      "source": [
        "samples"
      ],
      "metadata": {
        "id": "R7HK2kZ-20X0",
        "outputId": "5c638701-ae06-4d7e-ddcb-4d83176e5075",
        "colab": {
          "base_uri": "https://localhost:8080/",
          "height": 450
        }
      },
      "execution_count": 102,
      "outputs": [
        {
          "output_type": "execute_result",
          "data": {
            "text/plain": [
              "                   patient     sex           region       lab chip.version\n",
              "rownames                                                                  \n",
              "01_a_D_f_2.CEL  patient_01  female      A.C. cortex     Davis           v2\n",
              "01_a_I_f_2.CEL  patient_01  female      A.C. cortex    Irvine           v2\n",
              "01_a_M_f_1.CEL  patient_01  female      A.C. cortex  Michigan           v1\n",
              "01_c_D_f_1.CEL  patient_01  female       cerebellum     Davis           v1\n",
              "01_c_I_f_2.CEL  patient_01  female       cerebellum    Irvine           v2\n",
              "...                    ...     ...              ...       ...          ...\n",
              "10_c_I_f_2.CEL  patient_10  female       cerebellum    Irvine           v2\n",
              "10_c_M_f_1.CEL  patient_10  female       cerebellum  Michigan           v1\n",
              "10_d_D_f_2.CEL  patient_10  female  D.L.P.F. cortex     Davis           v2\n",
              "10_d_I_f_2.CEL  patient_10  female  D.L.P.F. cortex    Irvine           v2\n",
              "10_d_M_f_2.CEL  patient_10  female  D.L.P.F. cortex  Michigan           v2\n",
              "\n",
              "[84 rows x 5 columns]"
            ],
            "text/html": [
              "\n",
              "  <div id=\"df-1b975c8a-7c33-4dc0-9050-bb01d3b28153\">\n",
              "    <div class=\"colab-df-container\">\n",
              "      <div>\n",
              "<style scoped>\n",
              "    .dataframe tbody tr th:only-of-type {\n",
              "        vertical-align: middle;\n",
              "    }\n",
              "\n",
              "    .dataframe tbody tr th {\n",
              "        vertical-align: top;\n",
              "    }\n",
              "\n",
              "    .dataframe thead th {\n",
              "        text-align: right;\n",
              "    }\n",
              "</style>\n",
              "<table border=\"1\" class=\"dataframe\">\n",
              "  <thead>\n",
              "    <tr style=\"text-align: right;\">\n",
              "      <th></th>\n",
              "      <th>patient</th>\n",
              "      <th>sex</th>\n",
              "      <th>region</th>\n",
              "      <th>lab</th>\n",
              "      <th>chip.version</th>\n",
              "    </tr>\n",
              "    <tr>\n",
              "      <th>rownames</th>\n",
              "      <th></th>\n",
              "      <th></th>\n",
              "      <th></th>\n",
              "      <th></th>\n",
              "      <th></th>\n",
              "    </tr>\n",
              "  </thead>\n",
              "  <tbody>\n",
              "    <tr>\n",
              "      <th>01_a_D_f_2.CEL</th>\n",
              "      <td>patient_01</td>\n",
              "      <td>female</td>\n",
              "      <td>A.C. cortex</td>\n",
              "      <td>Davis</td>\n",
              "      <td>v2</td>\n",
              "    </tr>\n",
              "    <tr>\n",
              "      <th>01_a_I_f_2.CEL</th>\n",
              "      <td>patient_01</td>\n",
              "      <td>female</td>\n",
              "      <td>A.C. cortex</td>\n",
              "      <td>Irvine</td>\n",
              "      <td>v2</td>\n",
              "    </tr>\n",
              "    <tr>\n",
              "      <th>01_a_M_f_1.CEL</th>\n",
              "      <td>patient_01</td>\n",
              "      <td>female</td>\n",
              "      <td>A.C. cortex</td>\n",
              "      <td>Michigan</td>\n",
              "      <td>v1</td>\n",
              "    </tr>\n",
              "    <tr>\n",
              "      <th>01_c_D_f_1.CEL</th>\n",
              "      <td>patient_01</td>\n",
              "      <td>female</td>\n",
              "      <td>cerebellum</td>\n",
              "      <td>Davis</td>\n",
              "      <td>v1</td>\n",
              "    </tr>\n",
              "    <tr>\n",
              "      <th>01_c_I_f_2.CEL</th>\n",
              "      <td>patient_01</td>\n",
              "      <td>female</td>\n",
              "      <td>cerebellum</td>\n",
              "      <td>Irvine</td>\n",
              "      <td>v2</td>\n",
              "    </tr>\n",
              "    <tr>\n",
              "      <th>...</th>\n",
              "      <td>...</td>\n",
              "      <td>...</td>\n",
              "      <td>...</td>\n",
              "      <td>...</td>\n",
              "      <td>...</td>\n",
              "    </tr>\n",
              "    <tr>\n",
              "      <th>10_c_I_f_2.CEL</th>\n",
              "      <td>patient_10</td>\n",
              "      <td>female</td>\n",
              "      <td>cerebellum</td>\n",
              "      <td>Irvine</td>\n",
              "      <td>v2</td>\n",
              "    </tr>\n",
              "    <tr>\n",
              "      <th>10_c_M_f_1.CEL</th>\n",
              "      <td>patient_10</td>\n",
              "      <td>female</td>\n",
              "      <td>cerebellum</td>\n",
              "      <td>Michigan</td>\n",
              "      <td>v1</td>\n",
              "    </tr>\n",
              "    <tr>\n",
              "      <th>10_d_D_f_2.CEL</th>\n",
              "      <td>patient_10</td>\n",
              "      <td>female</td>\n",
              "      <td>D.L.P.F. cortex</td>\n",
              "      <td>Davis</td>\n",
              "      <td>v2</td>\n",
              "    </tr>\n",
              "    <tr>\n",
              "      <th>10_d_I_f_2.CEL</th>\n",
              "      <td>patient_10</td>\n",
              "      <td>female</td>\n",
              "      <td>D.L.P.F. cortex</td>\n",
              "      <td>Irvine</td>\n",
              "      <td>v2</td>\n",
              "    </tr>\n",
              "    <tr>\n",
              "      <th>10_d_M_f_2.CEL</th>\n",
              "      <td>patient_10</td>\n",
              "      <td>female</td>\n",
              "      <td>D.L.P.F. cortex</td>\n",
              "      <td>Michigan</td>\n",
              "      <td>v2</td>\n",
              "    </tr>\n",
              "  </tbody>\n",
              "</table>\n",
              "<p>84 rows × 5 columns</p>\n",
              "</div>\n",
              "      <button class=\"colab-df-convert\" onclick=\"convertToInteractive('df-1b975c8a-7c33-4dc0-9050-bb01d3b28153')\"\n",
              "              title=\"Convert this dataframe to an interactive table.\"\n",
              "              style=\"display:none;\">\n",
              "        \n",
              "  <svg xmlns=\"http://www.w3.org/2000/svg\" height=\"24px\"viewBox=\"0 0 24 24\"\n",
              "       width=\"24px\">\n",
              "    <path d=\"M0 0h24v24H0V0z\" fill=\"none\"/>\n",
              "    <path d=\"M18.56 5.44l.94 2.06.94-2.06 2.06-.94-2.06-.94-.94-2.06-.94 2.06-2.06.94zm-11 1L8.5 8.5l.94-2.06 2.06-.94-2.06-.94L8.5 2.5l-.94 2.06-2.06.94zm10 10l.94 2.06.94-2.06 2.06-.94-2.06-.94-.94-2.06-.94 2.06-2.06.94z\"/><path d=\"M17.41 7.96l-1.37-1.37c-.4-.4-.92-.59-1.43-.59-.52 0-1.04.2-1.43.59L10.3 9.45l-7.72 7.72c-.78.78-.78 2.05 0 2.83L4 21.41c.39.39.9.59 1.41.59.51 0 1.02-.2 1.41-.59l7.78-7.78 2.81-2.81c.8-.78.8-2.07 0-2.86zM5.41 20L4 18.59l7.72-7.72 1.47 1.35L5.41 20z\"/>\n",
              "  </svg>\n",
              "      </button>\n",
              "      \n",
              "  <style>\n",
              "    .colab-df-container {\n",
              "      display:flex;\n",
              "      flex-wrap:wrap;\n",
              "      gap: 12px;\n",
              "    }\n",
              "\n",
              "    .colab-df-convert {\n",
              "      background-color: #E8F0FE;\n",
              "      border: none;\n",
              "      border-radius: 50%;\n",
              "      cursor: pointer;\n",
              "      display: none;\n",
              "      fill: #1967D2;\n",
              "      height: 32px;\n",
              "      padding: 0 0 0 0;\n",
              "      width: 32px;\n",
              "    }\n",
              "\n",
              "    .colab-df-convert:hover {\n",
              "      background-color: #E2EBFA;\n",
              "      box-shadow: 0px 1px 2px rgba(60, 64, 67, 0.3), 0px 1px 3px 1px rgba(60, 64, 67, 0.15);\n",
              "      fill: #174EA6;\n",
              "    }\n",
              "\n",
              "    [theme=dark] .colab-df-convert {\n",
              "      background-color: #3B4455;\n",
              "      fill: #D2E3FC;\n",
              "    }\n",
              "\n",
              "    [theme=dark] .colab-df-convert:hover {\n",
              "      background-color: #434B5C;\n",
              "      box-shadow: 0px 1px 3px 1px rgba(0, 0, 0, 0.15);\n",
              "      filter: drop-shadow(0px 1px 2px rgba(0, 0, 0, 0.3));\n",
              "      fill: #FFFFFF;\n",
              "    }\n",
              "  </style>\n",
              "\n",
              "      <script>\n",
              "        const buttonEl =\n",
              "          document.querySelector('#df-1b975c8a-7c33-4dc0-9050-bb01d3b28153 button.colab-df-convert');\n",
              "        buttonEl.style.display =\n",
              "          google.colab.kernel.accessAllowed ? 'block' : 'none';\n",
              "\n",
              "        async function convertToInteractive(key) {\n",
              "          const element = document.querySelector('#df-1b975c8a-7c33-4dc0-9050-bb01d3b28153');\n",
              "          const dataTable =\n",
              "            await google.colab.kernel.invokeFunction('convertToInteractive',\n",
              "                                                     [key], {});\n",
              "          if (!dataTable) return;\n",
              "\n",
              "          const docLinkHtml = 'Like what you see? Visit the ' +\n",
              "            '<a target=\"_blank\" href=https://colab.research.google.com/notebooks/data_table.ipynb>data table notebook</a>'\n",
              "            + ' to learn more about interactive tables.';\n",
              "          element.innerHTML = '';\n",
              "          dataTable['output_type'] = 'display_data';\n",
              "          await google.colab.output.renderOutput(dataTable, element);\n",
              "          const docLink = document.createElement('div');\n",
              "          docLink.innerHTML = docLinkHtml;\n",
              "          element.appendChild(docLink);\n",
              "        }\n",
              "      </script>\n",
              "    </div>\n",
              "  </div>\n",
              "  "
            ]
          },
          "metadata": {},
          "execution_count": 102
        }
      ]
    },
    {
      "cell_type": "code",
      "source": [
        "unique_probe_set = expression_norm.columns\n",
        "p_value_gene = []\n",
        "num_sig = 0\n",
        "alpha = 0.05\n",
        "for lab in samples.lab.unique():\n",
        "  print(lab)\n",
        "  probe_set_to_pvalue = {}\n",
        "  for probe_set in unique_probe_set:\n",
        "    lab_index = samples[samples.lab == lab].index;\n",
        "    samples_tmp = samples.drop(columns= [\"patient\", \"lab\"]);\n",
        "    one_hot_encoding = pd.get_dummies(samples_tmp);\n",
        "    one_hot_encoding = one_hot_encoding.drop(columns= [\"sex_female\", 'chip.version_v2', \"region_cerebellum\"]);\n",
        "    X = sm.add_constant(one_hot_encoding);\n",
        "    model = sm.OLS(expression_norm.loc[lab_index][probe_set],X.loc[lab_index]).fit();\n",
        "    p_value = model.pvalues[\"sex_male\"];\n",
        "    probe_set_to_pvalue[probe_set] = p_value\n",
        "\n",
        "  gene_p_values = []\n",
        "  for gene in genes_sym[\"sym\"].unique():\n",
        "    gene_p = 0\n",
        "    gene_probes = gene_to_probe_set[gene]\n",
        "    for probe in gene_probes:\n",
        "      gene_p = max(gene_p, probe_set_to_pvalue[probe])\n",
        "    gene_p_values.append((gene_p, gene))\n",
        "\n",
        "  sorted_pval = sorted(gene_p_values, key=lambda tup: tup[0])\n",
        "  topgenes = [tup[1] for tup in sorted_pval[:10]]\n",
        "  topchrom = [genes[genes.sym == tg][\"chrom\"][0] for tg in topgenes]\n",
        "  chrom_counter = Counter(topchrom)\n",
        "  count = np.sum([chrom_counter[key] for key, value in chrom_counter.items() if key in [\"X\", \"Y\", \"X Y\"]])\n",
        "    # print(model.pvalues[\"sex_male\"])\n",
        "  print(\"\")\n",
        "\n",
        "\n"
      ],
      "metadata": {
        "id": "RFV5_5WS2dCo",
        "outputId": "9d3d5344-1520-4fdd-92ed-7d4aed4bd35f",
        "colab": {
          "base_uri": "https://localhost:8080/"
        }
      },
      "execution_count": null,
      "outputs": [
        {
          "output_type": "stream",
          "name": "stdout",
          "text": [
            "Davis\n"
          ]
        }
      ]
    }
  ]
}