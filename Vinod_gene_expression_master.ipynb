{
  "nbformat": 4,
  "nbformat_minor": 0,
  "metadata": {
    "colab": {
      "provenance": [],
      "collapsed_sections": [],
      "include_colab_link": true
    },
    "kernelspec": {
      "name": "python3",
      "display_name": "Python 3"
    },
    "language_info": {
      "name": "python"
    }
  },
  "cells": [
    {
      "cell_type": "markdown",
      "metadata": {
        "id": "view-in-github",
        "colab_type": "text"
      },
      "source": [
        "<a href=\"https://colab.research.google.com/github/unique-subedi/gene-expression/blob/main/Vinod_gene_expression_master.ipynb\" target=\"_parent\"><img src=\"https://colab.research.google.com/assets/colab-badge.svg\" alt=\"Open In Colab\"/></a>"
      ]
    },
    {
      "cell_type": "code",
      "source": [
        "import os\n",
        "import datetime\n",
        "import time\n",
        "import math\n",
        "import numpy as np\n",
        "from numpy import linalg as LA\n",
        "import pandas as pd\n",
        "import urllib.request\n",
        "import matplotlib.pyplot as plt\n",
        "import seaborn as sns\n",
        "from collections import Counter\n",
        "import scipy.stats as stats\n",
        "import statsmodels.api as sm\n",
        "from statsmodels.distributions.empirical_distribution import ECDF"
      ],
      "metadata": {
        "id": "BmXo9Yr-pn3a"
      },
      "execution_count": 1,
      "outputs": []
    },
    {
      "cell_type": "code",
      "source": [
        "!pip install qnorm\n",
        "import qnorm"
      ],
      "metadata": {
        "colab": {
          "base_uri": "https://localhost:8080/"
        },
        "id": "IpL3C9K9TGju",
        "outputId": "4f5e21b8-b9c6-436e-ee64-4ee3100b33c8"
      },
      "execution_count": 2,
      "outputs": [
        {
          "output_type": "stream",
          "name": "stdout",
          "text": [
            "Looking in indexes: https://pypi.org/simple, https://us-python.pkg.dev/colab-wheels/public/simple/\n",
            "Collecting qnorm\n",
            "  Downloading qnorm-0.8.1-py3-none-any.whl (15 kB)\n",
            "Requirement already satisfied: numba in /usr/local/lib/python3.7/dist-packages (from qnorm) (0.56.2)\n",
            "Requirement already satisfied: numpy in /usr/local/lib/python3.7/dist-packages (from qnorm) (1.21.6)\n",
            "Requirement already satisfied: llvmlite<0.40,>=0.39.0dev0 in /usr/local/lib/python3.7/dist-packages (from numba->qnorm) (0.39.1)\n",
            "Requirement already satisfied: setuptools<60 in /usr/local/lib/python3.7/dist-packages (from numba->qnorm) (57.4.0)\n",
            "Requirement already satisfied: importlib-metadata in /usr/local/lib/python3.7/dist-packages (from numba->qnorm) (4.12.0)\n",
            "Requirement already satisfied: typing-extensions>=3.6.4 in /usr/local/lib/python3.7/dist-packages (from importlib-metadata->numba->qnorm) (4.1.1)\n",
            "Requirement already satisfied: zipp>=0.5 in /usr/local/lib/python3.7/dist-packages (from importlib-metadata->numba->qnorm) (3.8.1)\n",
            "Installing collected packages: qnorm\n",
            "Successfully installed qnorm-0.8.1\n"
          ]
        }
      ]
    },
    {
      "cell_type": "code",
      "source": [
        "!pip install pyreadr\n",
        "import pyreadr\n",
        "urllib.request.urlretrieve(\"https://raw.githubusercontent.com/unique-subedi/gene-expression/main/data/brain.rda\", \"brain.rda\")\n",
        "brain = pyreadr.read_r(\"brain.rda\")"
      ],
      "metadata": {
        "id": "cISjdI7TGXg4",
        "colab": {
          "base_uri": "https://localhost:8080/"
        },
        "outputId": "e49bc596-b731-47ee-b8c1-9dcf816ab010"
      },
      "execution_count": 3,
      "outputs": [
        {
          "output_type": "stream",
          "name": "stdout",
          "text": [
            "Looking in indexes: https://pypi.org/simple, https://us-python.pkg.dev/colab-wheels/public/simple/\n",
            "Collecting pyreadr\n",
            "  Downloading pyreadr-0.4.7-cp37-cp37m-manylinux_2_17_x86_64.manylinux2014_x86_64.whl (363 kB)\n",
            "\u001b[K     |████████████████████████████████| 363 kB 29.0 MB/s \n",
            "\u001b[?25hRequirement already satisfied: pandas>=1.2.0 in /usr/local/lib/python3.7/dist-packages (from pyreadr) (1.3.5)\n",
            "Requirement already satisfied: pytz>=2017.3 in /usr/local/lib/python3.7/dist-packages (from pandas>=1.2.0->pyreadr) (2022.2.1)\n",
            "Requirement already satisfied: numpy>=1.17.3 in /usr/local/lib/python3.7/dist-packages (from pandas>=1.2.0->pyreadr) (1.21.6)\n",
            "Requirement already satisfied: python-dateutil>=2.7.3 in /usr/local/lib/python3.7/dist-packages (from pandas>=1.2.0->pyreadr) (2.8.2)\n",
            "Requirement already satisfied: six>=1.5 in /usr/local/lib/python3.7/dist-packages (from python-dateutil>=2.7.3->pandas>=1.2.0->pyreadr) (1.15.0)\n",
            "Installing collected packages: pyreadr\n",
            "Successfully installed pyreadr-0.4.7\n"
          ]
        }
      ]
    },
    {
      "cell_type": "code",
      "source": [
        "expression = pd.DataFrame(brain[\"expression\"])\n",
        "genes = pd.DataFrame(brain[\"genes\"])\n",
        "samples = pd.DataFrame(brain[\"samples\"])"
      ],
      "metadata": {
        "id": "Z9-4Xnp2GZZs"
      },
      "execution_count": 4,
      "outputs": []
    },
    {
      "cell_type": "code",
      "source": [
        "ACC = \"A.C. cortex\"\n",
        "CER = \"cerebellum\"\n",
        "DLPFC = \"D.L.P.F. cortex\"\n"
      ],
      "metadata": {
        "id": "mwsr9iDRONVw"
      },
      "execution_count": 5,
      "outputs": []
    },
    {
      "cell_type": "markdown",
      "source": [
        "# Compute Bacterial Genes"
      ],
      "metadata": {
        "id": "wtmClRSDOGZ1"
      }
    },
    {
      "cell_type": "code",
      "source": [
        "# Need to compute all bacteria genes. Contains AFFX, does Not have HUM\n",
        "genes.at[\"AFFX-BioDn-3_at\", 'chrom'] = float(\"Nan\")\n",
        "genes_control = genes[['AFFX' in s for s in genes.index]]\n",
        "genes_control = genes_control[['HUM' not in s for s in genes_control.index]]\n",
        "genes_control = genes_control[['hum' not in s for s in genes_control.index]]\n",
        "genes_bac_index = genes_control[genes_control.chrom.isnull() & genes_control.sym.isnull()].index\n",
        "print(genes_bac_index)\n"
      ],
      "metadata": {
        "colab": {
          "base_uri": "https://localhost:8080/"
        },
        "id": "24WkzjU29043",
        "outputId": "7f398130-89de-43e9-fa72-27d3c608e344"
      },
      "execution_count": 6,
      "outputs": [
        {
          "output_type": "stream",
          "name": "stdout",
          "text": [
            "Index(['AFFX-BioB-3_at', 'AFFX-BioB-3_st', 'AFFX-BioB-5_at', 'AFFX-BioB-5_st',\n",
            "       'AFFX-BioB-M_at', 'AFFX-BioB-M_st', 'AFFX-BioC-3_at', 'AFFX-BioC-3_st',\n",
            "       'AFFX-BioC-5_at', 'AFFX-BioC-5_st', 'AFFX-BioDn-3_at',\n",
            "       'AFFX-BioDn-3_st', 'AFFX-BioDn-5_at', 'AFFX-BioDn-5_st',\n",
            "       'AFFX-CreX-3_at', 'AFFX-CreX-3_st', 'AFFX-CreX-5_at', 'AFFX-CreX-5_st',\n",
            "       'AFFX-DapX-3_at', 'AFFX-DapX-5_at', 'AFFX-DapX-M_at', 'AFFX-LysX-3_at',\n",
            "       'AFFX-LysX-5_at', 'AFFX-LysX-M_at', 'AFFX-M27830_3_at',\n",
            "       'AFFX-M27830_5_at', 'AFFX-M27830_M_at', 'AFFX-MurFAS_at',\n",
            "       'AFFX-MurIL10_at', 'AFFX-MurIL2_at', 'AFFX-MurIL4_at', 'AFFX-PheX-3_at',\n",
            "       'AFFX-PheX-5_at', 'AFFX-PheX-M_at', 'AFFX-ThrX-3_at', 'AFFX-ThrX-5_at',\n",
            "       'AFFX-ThrX-M_at', 'AFFX-TrpnX-3_at', 'AFFX-TrpnX-5_at',\n",
            "       'AFFX-TrpnX-M_at', 'AFFX-YEL002c/WBP1_at', 'AFFX-YEL018w/_at',\n",
            "       'AFFX-YEL021w/URA3_at', 'AFFX-YEL024w/RIP1_at'],\n",
            "      dtype='object', name='rownames')\n"
          ]
        }
      ]
    },
    {
      "cell_type": "markdown",
      "source": [
        "# Genes to Probe Set"
      ],
      "metadata": {
        "id": "EhIWCHIgfXwG"
      }
    },
    {
      "cell_type": "code",
      "source": [
        "genes_sym = genes[genes.sym.notnull()]\n",
        "unique_genes = genes_sym[\"sym\"].unique()\n",
        "gene_to_probe_set = {}\n",
        "\n",
        "for gene in unique_genes:\n",
        "  gene_to_probe_set[gene] = genes_sym.index[genes_sym.sym == gene].tolist()"
      ],
      "metadata": {
        "id": "U9fOVM_BfaHS"
      },
      "execution_count": 19,
      "outputs": []
    },
    {
      "cell_type": "code",
      "source": [
        "genes"
      ],
      "metadata": {
        "id": "r0TmldG_grsh",
        "outputId": "05455a6e-857f-47a7-d477-2546458c824d",
        "colab": {
          "base_uri": "https://localhost:8080/",
          "height": 450
        }
      },
      "execution_count": 45,
      "outputs": [
        {
          "output_type": "execute_result",
          "data": {
            "text/plain": [
              "                          sym chrom\n",
              "rownames                           \n",
              "1000_at                 MAPK3    16\n",
              "1001_at                  TIE1     1\n",
              "1002_f_at             CYP2C19    10\n",
              "1003_s_at               CXCR5    11\n",
              "1004_at                 CXCR5    11\n",
              "...                       ...   ...\n",
              "AFFX-YEL002c/WBP1_at      NaN   NaN\n",
              "AFFX-YEL018w/_at          NaN   NaN\n",
              "AFFX-YEL021w/URA3_at      NaN   NaN\n",
              "AFFX-YEL024w/RIP1_at      NaN   NaN\n",
              "AFFX-hum_alu_at           NaN   NaN\n",
              "\n",
              "[12600 rows x 2 columns]"
            ],
            "text/html": [
              "\n",
              "  <div id=\"df-364c37a0-da1f-4318-97f3-4e4c155c1f65\">\n",
              "    <div class=\"colab-df-container\">\n",
              "      <div>\n",
              "<style scoped>\n",
              "    .dataframe tbody tr th:only-of-type {\n",
              "        vertical-align: middle;\n",
              "    }\n",
              "\n",
              "    .dataframe tbody tr th {\n",
              "        vertical-align: top;\n",
              "    }\n",
              "\n",
              "    .dataframe thead th {\n",
              "        text-align: right;\n",
              "    }\n",
              "</style>\n",
              "<table border=\"1\" class=\"dataframe\">\n",
              "  <thead>\n",
              "    <tr style=\"text-align: right;\">\n",
              "      <th></th>\n",
              "      <th>sym</th>\n",
              "      <th>chrom</th>\n",
              "    </tr>\n",
              "    <tr>\n",
              "      <th>rownames</th>\n",
              "      <th></th>\n",
              "      <th></th>\n",
              "    </tr>\n",
              "  </thead>\n",
              "  <tbody>\n",
              "    <tr>\n",
              "      <th>1000_at</th>\n",
              "      <td>MAPK3</td>\n",
              "      <td>16</td>\n",
              "    </tr>\n",
              "    <tr>\n",
              "      <th>1001_at</th>\n",
              "      <td>TIE1</td>\n",
              "      <td>1</td>\n",
              "    </tr>\n",
              "    <tr>\n",
              "      <th>1002_f_at</th>\n",
              "      <td>CYP2C19</td>\n",
              "      <td>10</td>\n",
              "    </tr>\n",
              "    <tr>\n",
              "      <th>1003_s_at</th>\n",
              "      <td>CXCR5</td>\n",
              "      <td>11</td>\n",
              "    </tr>\n",
              "    <tr>\n",
              "      <th>1004_at</th>\n",
              "      <td>CXCR5</td>\n",
              "      <td>11</td>\n",
              "    </tr>\n",
              "    <tr>\n",
              "      <th>...</th>\n",
              "      <td>...</td>\n",
              "      <td>...</td>\n",
              "    </tr>\n",
              "    <tr>\n",
              "      <th>AFFX-YEL002c/WBP1_at</th>\n",
              "      <td>NaN</td>\n",
              "      <td>NaN</td>\n",
              "    </tr>\n",
              "    <tr>\n",
              "      <th>AFFX-YEL018w/_at</th>\n",
              "      <td>NaN</td>\n",
              "      <td>NaN</td>\n",
              "    </tr>\n",
              "    <tr>\n",
              "      <th>AFFX-YEL021w/URA3_at</th>\n",
              "      <td>NaN</td>\n",
              "      <td>NaN</td>\n",
              "    </tr>\n",
              "    <tr>\n",
              "      <th>AFFX-YEL024w/RIP1_at</th>\n",
              "      <td>NaN</td>\n",
              "      <td>NaN</td>\n",
              "    </tr>\n",
              "    <tr>\n",
              "      <th>AFFX-hum_alu_at</th>\n",
              "      <td>NaN</td>\n",
              "      <td>NaN</td>\n",
              "    </tr>\n",
              "  </tbody>\n",
              "</table>\n",
              "<p>12600 rows × 2 columns</p>\n",
              "</div>\n",
              "      <button class=\"colab-df-convert\" onclick=\"convertToInteractive('df-364c37a0-da1f-4318-97f3-4e4c155c1f65')\"\n",
              "              title=\"Convert this dataframe to an interactive table.\"\n",
              "              style=\"display:none;\">\n",
              "        \n",
              "  <svg xmlns=\"http://www.w3.org/2000/svg\" height=\"24px\"viewBox=\"0 0 24 24\"\n",
              "       width=\"24px\">\n",
              "    <path d=\"M0 0h24v24H0V0z\" fill=\"none\"/>\n",
              "    <path d=\"M18.56 5.44l.94 2.06.94-2.06 2.06-.94-2.06-.94-.94-2.06-.94 2.06-2.06.94zm-11 1L8.5 8.5l.94-2.06 2.06-.94-2.06-.94L8.5 2.5l-.94 2.06-2.06.94zm10 10l.94 2.06.94-2.06 2.06-.94-2.06-.94-.94-2.06-.94 2.06-2.06.94z\"/><path d=\"M17.41 7.96l-1.37-1.37c-.4-.4-.92-.59-1.43-.59-.52 0-1.04.2-1.43.59L10.3 9.45l-7.72 7.72c-.78.78-.78 2.05 0 2.83L4 21.41c.39.39.9.59 1.41.59.51 0 1.02-.2 1.41-.59l7.78-7.78 2.81-2.81c.8-.78.8-2.07 0-2.86zM5.41 20L4 18.59l7.72-7.72 1.47 1.35L5.41 20z\"/>\n",
              "  </svg>\n",
              "      </button>\n",
              "      \n",
              "  <style>\n",
              "    .colab-df-container {\n",
              "      display:flex;\n",
              "      flex-wrap:wrap;\n",
              "      gap: 12px;\n",
              "    }\n",
              "\n",
              "    .colab-df-convert {\n",
              "      background-color: #E8F0FE;\n",
              "      border: none;\n",
              "      border-radius: 50%;\n",
              "      cursor: pointer;\n",
              "      display: none;\n",
              "      fill: #1967D2;\n",
              "      height: 32px;\n",
              "      padding: 0 0 0 0;\n",
              "      width: 32px;\n",
              "    }\n",
              "\n",
              "    .colab-df-convert:hover {\n",
              "      background-color: #E2EBFA;\n",
              "      box-shadow: 0px 1px 2px rgba(60, 64, 67, 0.3), 0px 1px 3px 1px rgba(60, 64, 67, 0.15);\n",
              "      fill: #174EA6;\n",
              "    }\n",
              "\n",
              "    [theme=dark] .colab-df-convert {\n",
              "      background-color: #3B4455;\n",
              "      fill: #D2E3FC;\n",
              "    }\n",
              "\n",
              "    [theme=dark] .colab-df-convert:hover {\n",
              "      background-color: #434B5C;\n",
              "      box-shadow: 0px 1px 3px 1px rgba(0, 0, 0, 0.15);\n",
              "      filter: drop-shadow(0px 1px 2px rgba(0, 0, 0, 0.3));\n",
              "      fill: #FFFFFF;\n",
              "    }\n",
              "  </style>\n",
              "\n",
              "      <script>\n",
              "        const buttonEl =\n",
              "          document.querySelector('#df-364c37a0-da1f-4318-97f3-4e4c155c1f65 button.colab-df-convert');\n",
              "        buttonEl.style.display =\n",
              "          google.colab.kernel.accessAllowed ? 'block' : 'none';\n",
              "\n",
              "        async function convertToInteractive(key) {\n",
              "          const element = document.querySelector('#df-364c37a0-da1f-4318-97f3-4e4c155c1f65');\n",
              "          const dataTable =\n",
              "            await google.colab.kernel.invokeFunction('convertToInteractive',\n",
              "                                                     [key], {});\n",
              "          if (!dataTable) return;\n",
              "\n",
              "          const docLinkHtml = 'Like what you see? Visit the ' +\n",
              "            '<a target=\"_blank\" href=https://colab.research.google.com/notebooks/data_table.ipynb>data table notebook</a>'\n",
              "            + ' to learn more about interactive tables.';\n",
              "          element.innerHTML = '';\n",
              "          dataTable['output_type'] = 'display_data';\n",
              "          await google.colab.output.renderOutput(dataTable, element);\n",
              "          const docLink = document.createElement('div');\n",
              "          docLink.innerHTML = docLinkHtml;\n",
              "          element.appendChild(docLink);\n",
              "        }\n",
              "      </script>\n",
              "    </div>\n",
              "  </div>\n",
              "  "
            ]
          },
          "metadata": {},
          "execution_count": 45
        }
      ]
    },
    {
      "cell_type": "markdown",
      "source": [
        "# Normalize Data"
      ],
      "metadata": {
        "id": "GkUonQwYOCmA"
      }
    },
    {
      "cell_type": "code",
      "source": [
        "genes_Y_crom = genes[genes.chrom == \"Y\"].index\n",
        "mean_bac_exp = expression[genes_bac_index].mean(axis=1)\n",
        "std_bac_exp = expression[genes_bac_index].std(axis=1)\n",
        "expression_norm =  (expression - mean_bac_exp.values[:, None]).divide(std_bac_exp, axis=0)\n",
        "expression_qnorm = qnorm.quantile_normalize(expression, axis=0)\n",
        "expression_ecdf = expression.copy()\n",
        "for i in range(len(expression)):\n",
        "  ecdf = ECDF(expression_ecdf.iloc[i, :].values)\n",
        "  expression_ecdf.iloc[i, :] = ecdf(expression_ecdf.iloc[i, :].values)"
      ],
      "metadata": {
        "id": "bmgwqH_gGbWc"
      },
      "execution_count": 21,
      "outputs": []
    },
    {
      "cell_type": "code",
      "source": [
        "def compute_top_genes_tissue(data, tissue):\n",
        "  express_norm_samp = pd.concat([data, samples], axis=1)\n",
        "  express_samp_loc = express_norm_samp\n",
        "\n",
        "  df_male = express_samp_loc[(express_samp_loc.region == tissue) & (express_samp_loc.sex == \"male\")]\n",
        "  df_female = express_samp_loc[(express_samp_loc.region == tissue) & (express_samp_loc.sex == \"female\")]\n",
        "\n",
        "  unique_probe_set = data.columns\n",
        "  probe_set_to_pvalue = {}\n",
        "\n",
        "  for probe_set in unique_probe_set:\n",
        "    stat, p = stats.ks_2samp(data.loc[df_male.index][probe_set], data.loc[df_female.index][probe_set])\n",
        "    probe_set_to_pvalue[probe_set] = p\n",
        "\n",
        "  gene_p_values = []\n",
        "\n",
        "  for gene in genes_sym[\"sym\"].unique():\n",
        "    gene_p = 0\n",
        "    gene_probes = gene_to_probe_set[gene]\n",
        "    for probe in gene_probes:\n",
        "      gene_p = max(gene_p, probe_set_to_pvalue[probe])\n",
        "    gene_p_values.append((gene_p, gene))\n",
        "    \n",
        "  sorted_pval = sorted(gene_p_values, key=lambda tup: tup[0])\n",
        "  topgenes = [tup[1] for tup in sorted_pval[:10]]\n",
        "  topchrom = [genes[genes.sym == tg][\"chrom\"][0] for tg in topgenes]\n",
        "  chrom_counter = Counter(topchrom)\n",
        "  count = np.sum([chrom_counter[key] for key, value in chrom_counter.items() if key in [\"X\", \"Y\", \"X Y\"]])\n",
        "  return topgenes, topchrom, count"
      ],
      "metadata": {
        "id": "D0gQxMcrF3iQ"
      },
      "execution_count": 64,
      "outputs": []
    },
    {
      "cell_type": "code",
      "source": [
        "topgenes, topchrom, cnt = compute_top_genes_tissue(expression_norm, ACC)\n",
        "print(topgenes)\n",
        "print(topchrom)\n",
        "print(cnt)"
      ],
      "metadata": {
        "id": "QTvEIY0yGNAM"
      },
      "execution_count": null,
      "outputs": []
    },
    {
      "cell_type": "code",
      "source": [
        "topgenes, topchrom, cnt = compute_top_genes_tissue(expression_norm, CER)\n",
        "print(topgenes)\n",
        "print(topchrom)\n",
        "print(cnt)"
      ],
      "metadata": {
        "id": "l4V027PioYxf"
      },
      "execution_count": null,
      "outputs": []
    },
    {
      "cell_type": "code",
      "source": [
        "topgenes, topchrom, cnt = compute_top_genes_tissue(expression_norm, DLPFC)\n",
        "print(topgenes)\n",
        "print(topchrom)\n",
        "print(cnt)"
      ],
      "metadata": {
        "id": "_nZ9XKO3oa9k"
      },
      "execution_count": null,
      "outputs": []
    },
    {
      "cell_type": "code",
      "source": [
        "express_norm_samp = pd.concat([expression_qnorm, samples], axis=1)\n",
        "express_samp_loc = express_norm_samp\n",
        "c = 0\n",
        "for tissue in express_samp_loc[\"region\"].unique():\n",
        "  print(tissue)\n",
        "  df_male = express_samp_loc[(express_samp_loc.region == tissue) & (express_samp_loc.sex == \"male\")]\n",
        "  df_female = express_samp_loc[(express_samp_loc.region == tissue) & (express_samp_loc.sex == \"female\")]\n",
        "\n",
        "  unique_genes = expression_qnorm.columns\n",
        "  p_values= []\n",
        "\n",
        "  for gene in unique_genes:\n",
        "    print(gene)\n",
        "    stat, p = stats.ks_2samp(expression_qnorm.loc[df_male.index][gene], expression_qnorm.loc[df_female.index][gene])\n",
        "    # _, _, p = stats.anderson_ksamp([expression_norm.loc[df_male.index][gene], expression_norm.loc[df_female.index][gene]])\n",
        "    p_values.append((p, gene))\n",
        "\n",
        "  sorted_pval = sorted(p_values, key=lambda tup: tup[0])\n",
        "  top10genes = [tup[1] for tup in sorted_pval[:10]]\n",
        "  # print(top10genes)\n",
        "\n",
        "  op_chrom = genes.loc[top10genes].loc[:, 'chrom'].values\n",
        "  op_genes = genes.loc[top10genes].loc[:, 'sym'].values\n",
        "  chrom_counter = Counter(op_chrom)\n",
        "  count = np.sum([chrom_counter[key] for key, value in chrom_counter.items() if key in [\"X\", \"Y\", \"X Y\"]])\n",
        "  print(count)\n",
        "  print(op_chrom, op_genes)\n",
        "  print(\"\")\n",
        "  c += 1\n",
        "\n",
        "\n",
        "\n"
      ],
      "metadata": {
        "id": "8FoZMBBbVMdA"
      },
      "execution_count": null,
      "outputs": []
    },
    {
      "cell_type": "code",
      "source": [
        "for i in range(len(expression)):\n",
        "  ecdf = ECDF(expression.iloc[i, :].values)\n",
        "  expression.iloc[i, :] = ecdf(expression.iloc[i, :].values)"
      ],
      "metadata": {
        "id": "NCYSgphCk3h7"
      },
      "execution_count": 133,
      "outputs": []
    },
    {
      "cell_type": "code",
      "source": [
        "express_norm_samp = pd.concat([expression, samples], axis=1)\n",
        "express_samp_loc = express_norm_samp\n",
        "c = 0\n",
        "for tissue in express_samp_loc[\"region\"].unique():\n",
        "  print(tissue)\n",
        "  df_male = express_samp_loc[(express_samp_loc.region == tissue) & (express_samp_loc.sex == \"male\")]\n",
        "  df_female = express_samp_loc[(express_samp_loc.region == tissue) & (express_samp_loc.sex == \"female\")]\n",
        "\n",
        "  unique_genes = expression.columns\n",
        "  p_values= []\n",
        "\n",
        "  for gene in unique_genes:\n",
        "    # stat, p = stats.ttest_ind(a=expression.loc[df_male.index][gene], b=expression.loc[df_female.index][gene], equal_var=False)\n",
        "    # print(len(expression_norm.loc[df_male.index][gene]))\n",
        "    stat, p = stats.ks_2samp(expression.loc[df_male.index][gene], expression.loc[df_female.index][gene])\n",
        "    # _, _, p = stats.anderson_ksamp([expression.loc[df_male.index][gene], expression.loc[df_female.index][gene]])\n",
        "    p_values.append((p, gene))\n",
        "\n",
        "  sorted_pval = sorted(p_values, key=lambda tup: tup[0])\n",
        "  top10genes = [tup[1] for tup in sorted_pval[:10]]\n",
        "  # print(top10genes)\n",
        "\n",
        "  op_chrom = genes.loc[top10genes].loc[:, 'chrom'].values\n",
        "  op_genes = genes.loc[top10genes].loc[:, 'sym'].values\n",
        "  chrom_counter = Counter(op_chrom)\n",
        "  count = np.sum([chrom_counter[key] for key, value in chrom_counter.items() if key in [\"X\", \"Y\", \"X Y\"]])\n",
        "  print(count)\n",
        "  print(op_chrom, op_genes)\n",
        "  print(\"\")\n",
        "  c += 1\n",
        "\n",
        "\n",
        "\n"
      ],
      "metadata": {
        "colab": {
          "base_uri": "https://localhost:8080/"
        },
        "id": "tny1Xwyzk5AM",
        "outputId": "dd01d872-65a7-4f2e-da67-4121ff946b61"
      },
      "execution_count": 142,
      "outputs": [
        {
          "output_type": "stream",
          "name": "stdout",
          "text": [
            "A.C. cortex\n",
            "7\n",
            "['Y', 'Y', 'Y', 'Y', 'X', '8', 'Y', 'X', '8', '10']\n",
            "Categories (39, object): ['1', '10', '10ak*', '10ptp*', ..., 'X', 'X Y', 'Y', 'na'] ['UTY', 'KDM5D', 'DDX3Y', 'RPS4Y1', 'XIST', 'CRH', 'USP9Y', 'P2RY10', 'LY96', 'SH3PXD2A']\n",
            "Categories (8783, object): ['AADAC', 'AAK1', 'AAMP', 'AANAT', ..., 'ZYX', 'ZZEF1', 'ZZZ3', 'psiTPTE22']\n",
            "\n",
            "cerebellum\n",
            "8\n",
            "['Y', 'Y', 'Y', 'X', 'Y', 'Y', 'Y', '6', 'X', '8']\n",
            "Categories (39, object): ['1', '10', '10ak*', '10ptp*', ..., 'X', 'X Y', 'Y', 'na'] ['DDX3Y', 'RPS4Y1', 'KDM5D', 'XIST', 'TTTY15', 'UTY', 'USP9Y', 'CD24', 'PLXNB3', 'YWHAZ']\n",
            "Categories (8783, object): ['AADAC', 'AAK1', 'AAMP', 'AANAT', ..., 'ZYX', 'ZZEF1', 'ZZZ3', 'psiTPTE22']\n",
            "\n",
            "D.L.P.F. cortex\n",
            "9\n",
            "['Y', 'Y', 'Y', 'Y', 'Y', 'X', 'Y', 'Y', 'X', '9']\n",
            "Categories (39, object): ['1', '10', '10ak*', '10ptp*', ..., 'X', 'X Y', 'Y', 'na'] ['KDM5D', 'DDX3Y', 'RPS4Y1', 'NLGN4Y', 'TTTY15', 'XIST', 'UTY', 'USP9Y', NaN, 'NR4A3']\n",
            "Categories (8783, object): ['AADAC', 'AAK1', 'AAMP', 'AANAT', ..., 'ZYX', 'ZZEF1', 'ZZZ3', 'psiTPTE22']\n",
            "\n"
          ]
        }
      ]
    },
    {
      "cell_type": "markdown",
      "source": [
        "#OLS"
      ],
      "metadata": {
        "id": "gQRsbeDhGsZl"
      }
    },
    {
      "cell_type": "markdown",
      "source": [
        "expression"
      ],
      "metadata": {
        "id": "q74sjjLSTHND"
      }
    },
    {
      "cell_type": "code",
      "source": [
        "#need to create a design matrix - model \n",
        "# expression = beta_1*gender + beta_2* lab + beta_3* tissue * beta_4 * chrom + beta_5 * chip_version\n",
        "\n",
        "#train one model per gene. \n",
        "\n",
        "#so need to make this dataset\n",
        "human_genes = genes[genes.chrom.notnull() & genes.sym.notnull()].index;\n",
        "#est2.conf_int(alpha=0.05, cols=None)\n",
        "\n",
        "coef_gene = []\n",
        "for gene in human_genes[:]:\n",
        "  samples_tmp = samples.drop(columns= [\"patient\"]);\n",
        "  one_hot_encoding = pd.get_dummies(samples_tmp);\n",
        "  one_hot_encoding = one_hot_encoding.drop(columns= [\"sex_female\", 'chip.version_v2', \"region_cerebellum\", \"lab_Davis\"]);\n",
        "  # one_hot_encoding = one_hot_encoding.drop(columns= [\"sex_female\", 'chip.version_v2', \"patient_patient_10\", \"region_cerebellum\", \"lab_Davis\"]);\n",
        "  X = sm.add_constant(one_hot_encoding);\n",
        "  model = sm.OLS(expression[gene],X);\n",
        "  results = model.fit();\n",
        "  lcb = results.conf_int(alpha= 0.001).loc[\"sex_male\"][0]\n",
        "  ucb = results.conf_int(alpha= 0.001).loc[\"sex_male\"][1]\n",
        "  if not lcb < 0 < ucb:\n",
        "    coef_gene.append((gene, np.abs(results.params[\"sex_male\"]), lcb, ucb))\n"
      ],
      "metadata": {
        "id": "an0p2BrKGtbL"
      },
      "execution_count": null,
      "outputs": []
    },
    {
      "cell_type": "code",
      "source": [
        "  sorted_coef_gene = sorted(coef_gene, key=lambda tup: tup[1])\n",
        "  print(sorted_coef_gene[-10:])\n",
        "  top10genes = [tup[0] for tup in sorted_coef_gene[-10:]]\n",
        "  op_chrom = genes.loc[top10genes].loc[:, 'chrom'].values\n",
        "  op_genes = genes.loc[top10genes].loc[:, 'sym'].values\n",
        "\n",
        "  print(op_chrom, op_genes)"
      ],
      "metadata": {
        "id": "6_GAe7EwMcvI",
        "outputId": "61e926d7-03b8-4cd1-ecf1-6e06adc5c54b",
        "colab": {
          "base_uri": "https://localhost:8080/"
        }
      },
      "execution_count": null,
      "outputs": [
        {
          "output_type": "stream",
          "name": "stdout",
          "text": [
            "[('38446_at', 0.32211163562325, -0.6392439071327769, -0.004979364113723184), ('32052_at', 0.6618093936031971, -1.2418658692260938, -0.08175291798030049), ('38355_at', 0.8080392266143466, 0.40988997154483925, 1.206188481683854), ('41214_at', 1.198685352333169, 0.8018963739565279, 1.5954743307098103)]\n",
            "['X', '11', 'Y', 'Y']\n",
            "Categories (39, object): ['1', '10', '10ak*', '10ptp*', ..., 'X', 'X Y', 'Y', 'na'] ['XIST', 'HBB', 'DDX3Y', 'RPS4Y1']\n",
            "Categories (8783, object): ['AADAC', 'AAK1', 'AAMP', 'AANAT', ..., 'ZYX', 'ZZEF1', 'ZZZ3', 'psiTPTE22']\n"
          ]
        }
      ]
    },
    {
      "cell_type": "markdown",
      "source": [
        "expression_norm"
      ],
      "metadata": {
        "id": "Rg4LVbAyTIu-"
      }
    },
    {
      "cell_type": "code",
      "source": [
        "#need to create a design matrix - model \n",
        "# expression = beta_1*gender + beta_2* lab + beta_3* tissue * beta_4 * chrom + beta_5 * chip_version\n",
        "\n",
        "#train one model per gene. \n",
        "\n",
        "#so need to make this dataset\n",
        "human_genes = genes[genes.chrom.notnull() & genes.sym.notnull()].index;\n",
        "#est2.conf_int(alpha=0.05, cols=None)\n",
        "\n",
        "coef_gene = []\n",
        "for gene in human_genes[:]:\n",
        "  samples_tmp = samples.drop(columns= [\"patient\"]);\n",
        "  one_hot_encoding = pd.get_dummies(samples_tmp);\n",
        "  one_hot_encoding = one_hot_encoding.drop(columns= [\"sex_female\", 'chip.version_v2', \"region_cerebellum\", \"lab_Davis\"]);\n",
        "  # one_hot_encoding = one_hot_encoding.drop(columns= [\"sex_female\", 'chip.version_v2', \"patient_patient_10\", \"region_cerebellum\", \"lab_Davis\"]);\n",
        "  X = sm.add_constant(one_hot_encoding);\n",
        "  model = sm.OLS(expression[gene],X);\n",
        "  results = model.fit();\n",
        "  lcb = results.conf_int(alpha= 0.05).loc[\"lab_Michigan\"][0]\n",
        "  ucb = results.conf_int(alpha= 0.05).loc[\"lab_Michigan\"][1]\n",
        "  # if not lcb < 0 < ucb:\n",
        "  coef_gene.append((gene, np.abs(results.params[\"lab_Michigan\"] - results.params[\"lab_Irvine\"]), lcb, ucb))\n"
      ],
      "metadata": {
        "id": "X-KH3TYzTDHI"
      },
      "execution_count": null,
      "outputs": []
    },
    {
      "cell_type": "code",
      "source": [
        "  sorted_coef_gene = sorted(coef_gene, key=lambda tup: tup[1])\n",
        "  print(sorted_coef_gene[-10:])"
      ],
      "metadata": {
        "id": "sebxDqQzTGFL",
        "outputId": "56c71dc7-2182-42dc-e7c7-760e98fc935c",
        "colab": {
          "base_uri": "https://localhost:8080/"
        }
      },
      "execution_count": null,
      "outputs": [
        {
          "output_type": "stream",
          "name": "stdout",
          "text": [
            "[('39332_at', 4.47904464885951, -2.861892868285674, -1.869963654207997), ('38032_at', 4.480369541215368, -3.0167140310342293, -1.9652224158591367), ('38711_at', 4.480434385659045, -3.931502010098435, -2.89440882356684), ('38406_f_at', 4.480728639317509, -2.356090694292533, -1.4555582590719984), ('36410_f_at', 4.502172403652644, -2.2511984979069717, -1.4052621836064687), ('38708_at', 4.590756672580022, -3.6366487312536155, -2.5655383131606224), ('36285_at', 4.620910422292189, -3.0267875594923352, -1.8557433924323363), ('35778_at', 4.633202311285724, -3.7011445550498294, -2.67724605636883), ('38308_g_at', 4.640368895846539, -2.868998385275601, -1.575558789557934), ('37760_at', 4.673930828643323, -3.185903396188331, -2.29050951082583)]\n"
          ]
        }
      ]
    }
  ]
}