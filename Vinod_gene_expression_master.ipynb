{
  "nbformat": 4,
  "nbformat_minor": 0,
  "metadata": {
    "colab": {
      "provenance": [],
      "collapsed_sections": [],
      "include_colab_link": true
    },
    "kernelspec": {
      "name": "python3",
      "display_name": "Python 3"
    },
    "language_info": {
      "name": "python"
    }
  },
  "cells": [
    {
      "cell_type": "markdown",
      "metadata": {
        "id": "view-in-github",
        "colab_type": "text"
      },
      "source": [
        "<a href=\"https://colab.research.google.com/github/unique-subedi/gene-expression/blob/main/Vinod_gene_expression_master.ipynb\" target=\"_parent\"><img src=\"https://colab.research.google.com/assets/colab-badge.svg\" alt=\"Open In Colab\"/></a>"
      ]
    },
    {
      "cell_type": "code",
      "source": [
        "import os\n",
        "import datetime\n",
        "import time\n",
        "import math\n",
        "import numpy as np\n",
        "from numpy import linalg as LA\n",
        "import pandas as pd\n",
        "import urllib.request\n",
        "import matplotlib.pyplot as plt\n",
        "import seaborn as sns\n",
        "from collections import Counter\n",
        "import scipy.stats as stats\n",
        "import statsmodels.api as sm"
      ],
      "metadata": {
        "id": "BmXo9Yr-pn3a"
      },
      "execution_count": 1,
      "outputs": []
    },
    {
      "cell_type": "code",
      "source": [
        "!pip install qnorm\n",
        "import qnorm"
      ],
      "metadata": {
        "colab": {
          "base_uri": "https://localhost:8080/"
        },
        "id": "IpL3C9K9TGju",
        "outputId": "049bf94f-045f-436c-e1a4-1f465d0b936a"
      },
      "execution_count": 2,
      "outputs": [
        {
          "output_type": "stream",
          "name": "stdout",
          "text": [
            "Looking in indexes: https://pypi.org/simple, https://us-python.pkg.dev/colab-wheels/public/simple/\n",
            "Requirement already satisfied: qnorm in /usr/local/lib/python3.7/dist-packages (0.8.1)\n",
            "Requirement already satisfied: numpy in /usr/local/lib/python3.7/dist-packages (from qnorm) (1.21.6)\n",
            "Requirement already satisfied: numba in /usr/local/lib/python3.7/dist-packages (from qnorm) (0.56.2)\n",
            "Requirement already satisfied: llvmlite<0.40,>=0.39.0dev0 in /usr/local/lib/python3.7/dist-packages (from numba->qnorm) (0.39.1)\n",
            "Requirement already satisfied: importlib-metadata in /usr/local/lib/python3.7/dist-packages (from numba->qnorm) (4.12.0)\n",
            "Requirement already satisfied: setuptools<60 in /usr/local/lib/python3.7/dist-packages (from numba->qnorm) (57.4.0)\n",
            "Requirement already satisfied: zipp>=0.5 in /usr/local/lib/python3.7/dist-packages (from importlib-metadata->numba->qnorm) (3.8.1)\n",
            "Requirement already satisfied: typing-extensions>=3.6.4 in /usr/local/lib/python3.7/dist-packages (from importlib-metadata->numba->qnorm) (4.1.1)\n"
          ]
        }
      ]
    },
    {
      "cell_type": "code",
      "source": [
        "!pip install pyreadr\n",
        "import pyreadr\n",
        "urllib.request.urlretrieve(\"https://raw.githubusercontent.com/unique-subedi/gene-expression/main/data/brain.rda\", \"brain.rda\")\n",
        "brain = pyreadr.read_r(\"brain.rda\")"
      ],
      "metadata": {
        "id": "cISjdI7TGXg4",
        "colab": {
          "base_uri": "https://localhost:8080/"
        },
        "outputId": "05e73a5c-0a53-443f-f39a-2b64c64bdff2"
      },
      "execution_count": 3,
      "outputs": [
        {
          "output_type": "stream",
          "name": "stdout",
          "text": [
            "Looking in indexes: https://pypi.org/simple, https://us-python.pkg.dev/colab-wheels/public/simple/\n",
            "Requirement already satisfied: pyreadr in /usr/local/lib/python3.7/dist-packages (0.4.7)\n",
            "Requirement already satisfied: pandas>=1.2.0 in /usr/local/lib/python3.7/dist-packages (from pyreadr) (1.3.5)\n",
            "Requirement already satisfied: python-dateutil>=2.7.3 in /usr/local/lib/python3.7/dist-packages (from pandas>=1.2.0->pyreadr) (2.8.2)\n",
            "Requirement already satisfied: numpy>=1.17.3 in /usr/local/lib/python3.7/dist-packages (from pandas>=1.2.0->pyreadr) (1.21.6)\n",
            "Requirement already satisfied: pytz>=2017.3 in /usr/local/lib/python3.7/dist-packages (from pandas>=1.2.0->pyreadr) (2022.2.1)\n",
            "Requirement already satisfied: six>=1.5 in /usr/local/lib/python3.7/dist-packages (from python-dateutil>=2.7.3->pandas>=1.2.0->pyreadr) (1.15.0)\n"
          ]
        }
      ]
    },
    {
      "cell_type": "code",
      "source": [
        "expression = pd.DataFrame(brain[\"expression\"])\n",
        "genes = pd.DataFrame(brain[\"genes\"])\n",
        "samples = pd.DataFrame(brain[\"samples\"])"
      ],
      "metadata": {
        "id": "Z9-4Xnp2GZZs"
      },
      "execution_count": 44,
      "outputs": []
    },
    {
      "cell_type": "code",
      "source": [
        "genes_Y_crom = genes[genes.chrom == \"Y\"].index\n",
        "genes_bac_index = genes[genes.chrom.isnull()].index\n",
        "mean_bac_exp = expression[genes_bac_index].mean(axis=1)\n",
        "std_bac_exp = expression[genes_bac_index].std(axis=1)\n",
        "expression_norm =  (expression - mean_bac_exp.values[:, None]).divide(std_bac_exp, axis=0)\n",
        "expression_qnorm = qnorm.quantile_normalize(expression, axis=0)"
      ],
      "metadata": {
        "id": "bmgwqH_gGbWc"
      },
      "execution_count": 45,
      "outputs": []
    },
    {
      "cell_type": "code",
      "source": [
        "# expression.T.boxplot()\n",
        "expression_norm.T.boxplot()\n",
        "# expression_qnorm.T.boxplot()"
      ],
      "metadata": {
        "colab": {
          "base_uri": "https://localhost:8080/",
          "height": 283
        },
        "id": "XhHCFXcaSZ32",
        "outputId": "473a0bdb-fac9-4a6e-aa71-58f80af06ca8"
      },
      "execution_count": 46,
      "outputs": [
        {
          "output_type": "execute_result",
          "data": {
            "text/plain": [
              "<matplotlib.axes._subplots.AxesSubplot at 0x7f30d6db1810>"
            ]
          },
          "metadata": {},
          "execution_count": 46
        },
        {
          "output_type": "display_data",
          "data": {
            "text/plain": [
              "<Figure size 432x288 with 1 Axes>"
            ],
            "image/png": "[encoded data removed]"
          },
          "metadata": {
            "needs_background": "light"
          }
        }
      ]
    },
    {
      "cell_type": "code",
      "source": [
        "express_norm_samp = pd.concat([expression_qnorm, samples], axis=1)\n",
        "express_samp_loc = express_norm_samp\n",
        "c = 0\n",
        "for tissue in express_samp_loc[\"region\"].unique():\n",
        "  print(tissue)\n",
        "  df_male = express_samp_loc[(express_samp_loc.region == tissue) & (express_samp_loc.sex == \"male\")]\n",
        "  df_female = express_samp_loc[(express_samp_loc.region == tissue) & (express_samp_loc.sex == \"female\")]\n",
        "\n",
        "  male_mean = expression_qnorm.loc[df_male.index].mean()\n",
        "  female_mean = expression_qnorm.loc[df_female.index].mean()\n",
        "\n",
        "  diff = np.abs(male_mean - female_mean)\n",
        "  diff = diff.sort_values(ascending=False)\n",
        "  top_10 = diff.iloc[:10]\n",
        "  op_chrom = genes.loc[top_10.keys()].loc[:, 'chrom'].values\n",
        "  op_genes = genes.loc[top_10.keys()].loc[:, 'sym'].values\n",
        "  chrom_counter = Counter(op_chrom)\n",
        "  count = np.sum([chrom_counter[key] for key, value in chrom_counter.items() if key in [\"X\", \"Y\", \"X Y\"]])\n",
        "  print(count)\n",
        "  print(op_chrom, op_genes)\n",
        "  print(\"\")\n",
        "  c += 1\n",
        "\n",
        "\n",
        "\n"
      ],
      "metadata": {
        "colab": {
          "base_uri": "https://localhost:8080/"
        },
        "id": "u3-2Yy08SU_c",
        "outputId": "bf2186e5-f8f5-464e-ba3a-0738470ff4b7"
      },
      "execution_count": null,
      "outputs": [
        {
          "output_type": "stream",
          "name": "stdout",
          "text": [
            "A.C. cortex\n",
            "3\n",
            "['Y', 'Y', '11', '16hba1', '3', 'X', '12', '6', '8', '11']\n",
            "Categories (39, object): ['1', '10', '10ak*', '10ptp*', ..., 'X', 'X Y', 'Y', 'na'] ['RPS4Y1', 'DDX3Y', 'HBB', NaN, 'MOBP', 'PLP1', 'GAPDH', 'RPS12', 'ENPP2', 'HBB']\n",
            "Categories (8783, object): ['AADAC', 'AAK1', 'AAMP', 'AANAT', ..., 'ZYX', 'ZZEF1', 'ZZZ3', 'psiTPTE22']\n",
            "\n",
            "cerebellum\n",
            "3\n",
            "['Y', 'Y', '11', 'X', '11', '16hba1', '4', '18', '17', '11']\n",
            "Categories (39, object): ['1', '10', '10ak*', '10ptp*', ..., 'X', 'X Y', 'Y', 'na'] ['RPS4Y1', 'DDX3Y', 'HBB', 'PLP1', 'HBB', NaN, 'SPP1', 'MBP', 'GFAP', 'CRYAB']\n",
            "Categories (8783, object): ['AADAC', 'AAK1', 'AAMP', 'AANAT', ..., 'ZYX', 'ZZEF1', 'ZZZ3', 'psiTPTE22']\n",
            "\n",
            "D.L.P.F. cortex\n",
            "4\n",
            "['Y', 'Y', '11', '16hba1', '2', '11', '4', '2', 'Y', 'X']\n",
            "Categories (39, object): ['1', '10', '10ak*', '10ptp*', ..., 'X', 'X Y', 'Y', 'na'] ['RPS4Y1', 'DDX3Y', 'HBB', NaN, 'IGFBP5', 'HBB', 'SPP1', 'IGFBP5', 'KDM5D', 'XIST']\n",
            "Categories (8783, object): ['AADAC', 'AAK1', 'AAMP', 'AANAT', ..., 'ZYX', 'ZZEF1', 'ZZZ3', 'psiTPTE22']\n",
            "\n"
          ]
        }
      ]
    },
    {
      "cell_type": "code",
      "source": [
        "express_norm_samp = pd.concat([expression_norm, samples], axis=1)\n",
        "express_samp_loc = express_norm_samp\n",
        "c = 0\n",
        "for tissue in express_samp_loc[\"region\"].unique():\n",
        "  print(tissue)\n",
        "  df_male = express_samp_loc[(express_samp_loc.region == tissue) & (express_samp_loc.sex == \"male\")]\n",
        "  df_female = express_samp_loc[(express_samp_loc.region == tissue) & (express_samp_loc.sex == \"female\")]\n",
        "\n",
        "  unique_genes = expression_norm.columns\n",
        "  p_values= []\n",
        "\n",
        "  for gene in unique_genes:\n",
        "    # stat, p = stats.ttest_ind(a=expression_norm.loc[df_male.index][gene], b=expression_norm.loc[df_female.index][gene], equal_var=False)\n",
        "    stat, p = stats.ks_2samp(expression_norm.loc[df_male.index][gene], expression_norm.loc[df_female.index][gene])\n",
        "    p_values.append((p, gene))\n",
        "\n",
        "  sorted_pval = sorted(p_values, key=lambda tup: tup[0])\n",
        "  top10genes = [tup[1] for tup in sorted_pval[:10]]\n",
        "  # print(top10genes)\n",
        "\n",
        "  op_chrom = genes.loc[top10genes].loc[:, 'chrom'].values\n",
        "  op_genes = genes.loc[top10genes].loc[:, 'sym'].values\n",
        "  chrom_counter = Counter(op_chrom)\n",
        "  count = np.sum([chrom_counter[key] for key, value in chrom_counter.items() if key in [\"X\", \"Y\", \"X Y\"]])\n",
        "  print(count)\n",
        "  print(op_chrom, op_genes)\n",
        "  print(\"\")\n",
        "  c += 1\n",
        "\n",
        "\n",
        "\n"
      ],
      "metadata": {
        "colab": {
          "base_uri": "https://localhost:8080/"
        },
        "id": "8FoZMBBbVMdA",
        "outputId": "fb98a2eb-de46-4661-be0e-9a4d9f9e0cd6"
      },
      "execution_count": null,
      "outputs": [
        {
          "output_type": "stream",
          "name": "stdout",
          "text": [
            "A.C. cortex\n",
            "8\n",
            "['Y', 'Y', 'Y', 'Y', 'X', 'Y', '20', 'Y', '8', 'Y']\n",
            "Categories (39, object): ['1', '10', '10ak*', '10ptp*', ..., 'X', 'X Y', 'Y', 'na'] ['UTY', 'DDX3Y', 'RPS4Y1', 'KDM5D', 'XIST', 'USP9Y', 'TCFL5', 'EIF1AY', 'CRH', 'TTTY15']\n",
            "Categories (8783, object): ['AADAC', 'AAK1', 'AAMP', 'AANAT', ..., 'ZYX', 'ZZEF1', 'ZZZ3', 'psiTPTE22']\n",
            "\n",
            "cerebellum\n",
            "7\n",
            "['Y', 'Y', 'Y', 'X', 'Y', '17', 'Y', '20', '6', 'Y']\n",
            "Categories (39, object): ['1', '10', '10ak*', '10ptp*', ..., 'X', 'X Y', 'Y', 'na'] ['DDX3Y', 'RPS4Y1', 'KDM5D', 'XIST', 'UTY', 'JMJD6', 'TTTY15', 'HNF4A', 'CD24', 'USP9Y']\n",
            "Categories (8783, object): ['AADAC', 'AAK1', 'AAMP', 'AANAT', ..., 'ZYX', 'ZZEF1', 'ZZZ3', 'psiTPTE22']\n",
            "\n",
            "D.L.P.F. cortex\n",
            "9\n",
            "['Y', 'Y', 'Y', 'X', 'Y', 'Y', 'Y', 'X', '4', 'Y']\n",
            "Categories (39, object): ['1', '10', '10ak*', '10ptp*', ..., 'X', 'X Y', 'Y', 'na'] ['DDX3Y', 'RPS4Y1', 'KDM5D', 'XIST', 'UTY', 'USP9Y', 'TTTY15', 'DUSP9', 'TMPRSS11D', 'NLGN4Y']\n",
            "Categories (8783, object): ['AADAC', 'AAK1', 'AAMP', 'AANAT', ..., 'ZYX', 'ZZEF1', 'ZZZ3', 'psiTPTE22']\n",
            "\n"
          ]
        }
      ]
    },
    {
      "cell_type": "code",
      "source": [
        "express_norm_samp = pd.concat([expression_qnorm, samples], axis=1)\n",
        "express_samp_loc = express_norm_samp\n",
        "c = 0\n",
        "for tissue in express_samp_loc[\"region\"].unique():\n",
        "  print(tissue)\n",
        "  df_male = express_samp_loc[(express_samp_loc.region == tissue) & (express_samp_loc.sex == \"male\")]\n",
        "  df_female = express_samp_loc[(express_samp_loc.region == tissue) & (express_samp_loc.sex == \"female\")]\n",
        "\n",
        "  unique_genes = expression_qnorm.columns\n",
        "  p_values= []\n",
        "\n",
        "  for gene in unique_genes:\n",
        "    # stat, p = stats.ttest_ind(a=expression_qnorm.loc[df_male.index][gene], b=expression_qnorm.loc[df_female.index][gene], equal_var=False)\n",
        "    stat, p = stats.ks_2samp(expression_qnorm.loc[df_male.index][gene], expression_qnorm.loc[df_female.index][gene])\n",
        "    p_values.append((p, gene))\n",
        "\n",
        "  sorted_pval = sorted(p_values, key=lambda tup: tup[0])\n",
        "  top10genes = [tup[1] for tup in sorted_pval[:10]]\n",
        "\n",
        "  op_chrom = genes.loc[top10genes].loc[:, 'chrom'].values\n",
        "  op_genes = genes.loc[top10genes].loc[:, 'sym'].values\n",
        "  chrom_counter = Counter(op_chrom)\n",
        "  count = np.sum([chrom_counter[key] for key, value in chrom_counter.items() if key in [\"X\", \"Y\", \"X Y\"]])\n",
        "  print(count)\n",
        "  print(op_chrom, op_genes)\n",
        "  print(\"\")\n",
        "  c += 1\n",
        "\n",
        "\n",
        "\n"
      ],
      "metadata": {
        "colab": {
          "base_uri": "https://localhost:8080/"
        },
        "id": "mBxTo2gXY4iu",
        "outputId": "733a68fc-35b9-4a1a-c620-1a2a7542deff"
      },
      "execution_count": null,
      "outputs": [
        {
          "output_type": "stream",
          "name": "stdout",
          "text": [
            "A.C. cortex\n"
          ]
        }
      ]
    },
    {
      "cell_type": "markdown",
      "source": [
        "#OLS"
      ],
      "metadata": {
        "id": "gQRsbeDhGsZl"
      }
    },
    {
      "cell_type": "code",
      "source": [
        "samples"
      ],
      "metadata": {
        "colab": {
          "base_uri": "https://localhost:8080/",
          "height": 450
        },
        "id": "cKfPtzuqVEbN",
        "outputId": "b445c5bf-302e-4236-babe-9f7481b4be61"
      },
      "execution_count": 64,
      "outputs": [
        {
          "output_type": "execute_result",
          "data": {
            "text/plain": [
              "                   patient     sex           region       lab chip.version\n",
              "rownames                                                                  \n",
              "01_a_D_f_2.CEL  patient_01  female      A.C. cortex     Davis           v2\n",
              "01_a_I_f_2.CEL  patient_01  female      A.C. cortex    Irvine           v2\n",
              "01_a_M_f_1.CEL  patient_01  female      A.C. cortex  Michigan           v1\n",
              "01_c_D_f_1.CEL  patient_01  female       cerebellum     Davis           v1\n",
              "01_c_I_f_2.CEL  patient_01  female       cerebellum    Irvine           v2\n",
              "...                    ...     ...              ...       ...          ...\n",
              "10_c_I_f_2.CEL  patient_10  female       cerebellum    Irvine           v2\n",
              "10_c_M_f_1.CEL  patient_10  female       cerebellum  Michigan           v1\n",
              "10_d_D_f_2.CEL  patient_10  female  D.L.P.F. cortex     Davis           v2\n",
              "10_d_I_f_2.CEL  patient_10  female  D.L.P.F. cortex    Irvine           v2\n",
              "10_d_M_f_2.CEL  patient_10  female  D.L.P.F. cortex  Michigan           v2\n",
              "\n",
              "[84 rows x 5 columns]"
            ],
            "text/html": [
              "\n",
              "  <div id=\"df-00660cd2-e0a3-49aa-8e4d-481a47b66b24\">\n",
              "    <div class=\"colab-df-container\">\n",
              "      <div>\n",
              "<style scoped>\n",
              "    .dataframe tbody tr th:only-of-type {\n",
              "        vertical-align: middle;\n",
              "    }\n",
              "\n",
              "    .dataframe tbody tr th {\n",
              "        vertical-align: top;\n",
              "    }\n",
              "\n",
              "    .dataframe thead th {\n",
              "        text-align: right;\n",
              "    }\n",
              "</style>\n",
              "<table border=\"1\" class=\"dataframe\">\n",
              "  <thead>\n",
              "    <tr style=\"text-align: right;\">\n",
              "      <th></th>\n",
              "      <th>patient</th>\n",
              "      <th>sex</th>\n",
              "      <th>region</th>\n",
              "      <th>lab</th>\n",
              "      <th>chip.version</th>\n",
              "    </tr>\n",
              "    <tr>\n",
              "      <th>rownames</th>\n",
              "      <th></th>\n",
              "      <th></th>\n",
              "      <th></th>\n",
              "      <th></th>\n",
              "      <th></th>\n",
              "    </tr>\n",
              "  </thead>\n",
              "  <tbody>\n",
              "    <tr>\n",
              "      <th>01_a_D_f_2.CEL</th>\n",
              "      <td>patient_01</td>\n",
              "      <td>female</td>\n",
              "      <td>A.C. cortex</td>\n",
              "      <td>Davis</td>\n",
              "      <td>v2</td>\n",
              "    </tr>\n",
              "    <tr>\n",
              "      <th>01_a_I_f_2.CEL</th>\n",
              "      <td>patient_01</td>\n",
              "      <td>female</td>\n",
              "      <td>A.C. cortex</td>\n",
              "      <td>Irvine</td>\n",
              "      <td>v2</td>\n",
              "    </tr>\n",
              "    <tr>\n",
              "      <th>01_a_M_f_1.CEL</th>\n",
              "      <td>patient_01</td>\n",
              "      <td>female</td>\n",
              "      <td>A.C. cortex</td>\n",
              "      <td>Michigan</td>\n",
              "      <td>v1</td>\n",
              "    </tr>\n",
              "    <tr>\n",
              "      <th>01_c_D_f_1.CEL</th>\n",
              "      <td>patient_01</td>\n",
              "      <td>female</td>\n",
              "      <td>cerebellum</td>\n",
              "      <td>Davis</td>\n",
              "      <td>v1</td>\n",
              "    </tr>\n",
              "    <tr>\n",
              "      <th>01_c_I_f_2.CEL</th>\n",
              "      <td>patient_01</td>\n",
              "      <td>female</td>\n",
              "      <td>cerebellum</td>\n",
              "      <td>Irvine</td>\n",
              "      <td>v2</td>\n",
              "    </tr>\n",
              "    <tr>\n",
              "      <th>...</th>\n",
              "      <td>...</td>\n",
              "      <td>...</td>\n",
              "      <td>...</td>\n",
              "      <td>...</td>\n",
              "      <td>...</td>\n",
              "    </tr>\n",
              "    <tr>\n",
              "      <th>10_c_I_f_2.CEL</th>\n",
              "      <td>patient_10</td>\n",
              "      <td>female</td>\n",
              "      <td>cerebellum</td>\n",
              "      <td>Irvine</td>\n",
              "      <td>v2</td>\n",
              "    </tr>\n",
              "    <tr>\n",
              "      <th>10_c_M_f_1.CEL</th>\n",
              "      <td>patient_10</td>\n",
              "      <td>female</td>\n",
              "      <td>cerebellum</td>\n",
              "      <td>Michigan</td>\n",
              "      <td>v1</td>\n",
              "    </tr>\n",
              "    <tr>\n",
              "      <th>10_d_D_f_2.CEL</th>\n",
              "      <td>patient_10</td>\n",
              "      <td>female</td>\n",
              "      <td>D.L.P.F. cortex</td>\n",
              "      <td>Davis</td>\n",
              "      <td>v2</td>\n",
              "    </tr>\n",
              "    <tr>\n",
              "      <th>10_d_I_f_2.CEL</th>\n",
              "      <td>patient_10</td>\n",
              "      <td>female</td>\n",
              "      <td>D.L.P.F. cortex</td>\n",
              "      <td>Irvine</td>\n",
              "      <td>v2</td>\n",
              "    </tr>\n",
              "    <tr>\n",
              "      <th>10_d_M_f_2.CEL</th>\n",
              "      <td>patient_10</td>\n",
              "      <td>female</td>\n",
              "      <td>D.L.P.F. cortex</td>\n",
              "      <td>Michigan</td>\n",
              "      <td>v2</td>\n",
              "    </tr>\n",
              "  </tbody>\n",
              "</table>\n",
              "<p>84 rows × 5 columns</p>\n",
              "</div>\n",
              "      <button class=\"colab-df-convert\" onclick=\"convertToInteractive('df-00660cd2-e0a3-49aa-8e4d-481a47b66b24')\"\n",
              "              title=\"Convert this dataframe to an interactive table.\"\n",
              "              style=\"display:none;\">\n",
              "        \n",
              "  <svg xmlns=\"http://www.w3.org/2000/svg\" height=\"24px\"viewBox=\"0 0 24 24\"\n",
              "       width=\"24px\">\n",
              "    <path d=\"M0 0h24v24H0V0z\" fill=\"none\"/>\n",
              "    <path d=\"M18.56 5.44l.94 2.06.94-2.06 2.06-.94-2.06-.94-.94-2.06-.94 2.06-2.06.94zm-11 1L8.5 8.5l.94-2.06 2.06-.94-2.06-.94L8.5 2.5l-.94 2.06-2.06.94zm10 10l.94 2.06.94-2.06 2.06-.94-2.06-.94-.94-2.06-.94 2.06-2.06.94z\"/><path d=\"M17.41 7.96l-1.37-1.37c-.4-.4-.92-.59-1.43-.59-.52 0-1.04.2-1.43.59L10.3 9.45l-7.72 7.72c-.78.78-.78 2.05 0 2.83L4 21.41c.39.39.9.59 1.41.59.51 0 1.02-.2 1.41-.59l7.78-7.78 2.81-2.81c.8-.78.8-2.07 0-2.86zM5.41 20L4 18.59l7.72-7.72 1.47 1.35L5.41 20z\"/>\n",
              "  </svg>\n",
              "      </button>\n",
              "      \n",
              "  <style>\n",
              "    .colab-df-container {\n",
              "      display:flex;\n",
              "      flex-wrap:wrap;\n",
              "      gap: 12px;\n",
              "    }\n",
              "\n",
              "    .colab-df-convert {\n",
              "      background-color: #E8F0FE;\n",
              "      border: none;\n",
              "      border-radius: 50%;\n",
              "      cursor: pointer;\n",
              "      display: none;\n",
              "      fill: #1967D2;\n",
              "      height: 32px;\n",
              "      padding: 0 0 0 0;\n",
              "      width: 32px;\n",
              "    }\n",
              "\n",
              "    .colab-df-convert:hover {\n",
              "      background-color: #E2EBFA;\n",
              "      box-shadow: 0px 1px 2px rgba(60, 64, 67, 0.3), 0px 1px 3px 1px rgba(60, 64, 67, 0.15);\n",
              "      fill: #174EA6;\n",
              "    }\n",
              "\n",
              "    [theme=dark] .colab-df-convert {\n",
              "      background-color: #3B4455;\n",
              "      fill: #D2E3FC;\n",
              "    }\n",
              "\n",
              "    [theme=dark] .colab-df-convert:hover {\n",
              "      background-color: #434B5C;\n",
              "      box-shadow: 0px 1px 3px 1px rgba(0, 0, 0, 0.15);\n",
              "      filter: drop-shadow(0px 1px 2px rgba(0, 0, 0, 0.3));\n",
              "      fill: #FFFFFF;\n",
              "    }\n",
              "  </style>\n",
              "\n",
              "      <script>\n",
              "        const buttonEl =\n",
              "          document.querySelector('#df-00660cd2-e0a3-49aa-8e4d-481a47b66b24 button.colab-df-convert');\n",
              "        buttonEl.style.display =\n",
              "          google.colab.kernel.accessAllowed ? 'block' : 'none';\n",
              "\n",
              "        async function convertToInteractive(key) {\n",
              "          const element = document.querySelector('#df-00660cd2-e0a3-49aa-8e4d-481a47b66b24');\n",
              "          const dataTable =\n",
              "            await google.colab.kernel.invokeFunction('convertToInteractive',\n",
              "                                                     [key], {});\n",
              "          if (!dataTable) return;\n",
              "\n",
              "          const docLinkHtml = 'Like what you see? Visit the ' +\n",
              "            '<a target=\"_blank\" href=https://colab.research.google.com/notebooks/data_table.ipynb>data table notebook</a>'\n",
              "            + ' to learn more about interactive tables.';\n",
              "          element.innerHTML = '';\n",
              "          dataTable['output_type'] = 'display_data';\n",
              "          await google.colab.output.renderOutput(dataTable, element);\n",
              "          const docLink = document.createElement('div');\n",
              "          docLink.innerHTML = docLinkHtml;\n",
              "          element.appendChild(docLink);\n",
              "        }\n",
              "      </script>\n",
              "    </div>\n",
              "  </div>\n",
              "  "
            ]
          },
          "metadata": {},
          "execution_count": 64
        }
      ]
    },
    {
      "cell_type": "markdown",
      "source": [
        "expression"
      ],
      "metadata": {
        "id": "q74sjjLSTHND"
      }
    },
    {
      "cell_type": "code",
      "source": [
        "#need to create a design matrix - model \n",
        "# expression = beta_1*gender + beta_2* lab + beta_3* tissue * beta_4 * chrom + beta_5 * chip_version\n",
        "\n",
        "#train one model per gene. \n",
        "\n",
        "#so need to make this dataset\n",
        "human_genes = genes[genes.chrom.notnull() & genes.sym.notnull()].index;\n",
        "#est2.conf_int(alpha=0.05, cols=None)\n",
        "\n",
        "coef_gene = []\n",
        "for gene in human_genes[:]:\n",
        "  samples_tmp = samples.drop(columns= [\"patient\"]);\n",
        "  one_hot_encoding = pd.get_dummies(samples_tmp);\n",
        "  one_hot_encoding = one_hot_encoding.drop(columns= [\"sex_female\", 'chip.version_v2', \"region_cerebellum\", \"lab_Davis\"]);\n",
        "  # one_hot_encoding = one_hot_encoding.drop(columns= [\"sex_female\", 'chip.version_v2', \"patient_patient_10\", \"region_cerebellum\", \"lab_Davis\"]);\n",
        "  X = sm.add_constant(one_hot_encoding);\n",
        "  model = sm.OLS(expression[gene],X);\n",
        "  results = model.fit();\n",
        "  lcb = results.conf_int(alpha= 0.001).loc[\"sex_male\"][0]\n",
        "  ucb = results.conf_int(alpha= 0.001).loc[\"sex_male\"][1]\n",
        "  if not lcb < 0 < ucb:\n",
        "    coef_gene.append((gene, np.abs(results.params[\"sex_male\"]), lcb, ucb))\n"
      ],
      "metadata": {
        "id": "an0p2BrKGtbL"
      },
      "execution_count": 41,
      "outputs": []
    },
    {
      "cell_type": "code",
      "source": [
        "  sorted_coef_gene = sorted(coef_gene, key=lambda tup: tup[1])\n",
        "  print(sorted_coef_gene[-10:])\n",
        "  top10genes = [tup[0] for tup in sorted_coef_gene[-10:]]\n",
        "  op_chrom = genes.loc[top10genes].loc[:, 'chrom'].values\n",
        "  op_genes = genes.loc[top10genes].loc[:, 'sym'].values\n",
        "\n",
        "  print(op_chrom, op_genes)"
      ],
      "metadata": {
        "id": "6_GAe7EwMcvI",
        "outputId": "61e926d7-03b8-4cd1-ecf1-6e06adc5c54b",
        "colab": {
          "base_uri": "https://localhost:8080/"
        }
      },
      "execution_count": 42,
      "outputs": [
        {
          "output_type": "stream",
          "name": "stdout",
          "text": [
            "[('38446_at', 0.32211163562325, -0.6392439071327769, -0.004979364113723184), ('32052_at', 0.6618093936031971, -1.2418658692260938, -0.08175291798030049), ('38355_at', 0.8080392266143466, 0.40988997154483925, 1.206188481683854), ('41214_at', 1.198685352333169, 0.8018963739565279, 1.5954743307098103)]\n",
            "['X', '11', 'Y', 'Y']\n",
            "Categories (39, object): ['1', '10', '10ak*', '10ptp*', ..., 'X', 'X Y', 'Y', 'na'] ['XIST', 'HBB', 'DDX3Y', 'RPS4Y1']\n",
            "Categories (8783, object): ['AADAC', 'AAK1', 'AAMP', 'AANAT', ..., 'ZYX', 'ZZEF1', 'ZZZ3', 'psiTPTE22']\n"
          ]
        }
      ]
    },
    {
      "cell_type": "markdown",
      "source": [
        "expression_norm"
      ],
      "metadata": {
        "id": "Rg4LVbAyTIu-"
      }
    },
    {
      "cell_type": "code",
      "source": [
        "#need to create a design matrix - model \n",
        "# expression = beta_1*gender + beta_2* lab + beta_3* tissue * beta_4 * chrom + beta_5 * chip_version\n",
        "\n",
        "#train one model per gene. \n",
        "\n",
        "#so need to make this dataset\n",
        "human_genes = genes[genes.chrom.notnull() & genes.sym.notnull()].index;\n",
        "#est2.conf_int(alpha=0.05, cols=None)\n",
        "\n",
        "coef_gene = []\n",
        "for gene in human_genes[:]:\n",
        "  samples_tmp = samples.drop(columns= [\"patient\"]);\n",
        "  one_hot_encoding = pd.get_dummies(samples_tmp);\n",
        "  one_hot_encoding = one_hot_encoding.drop(columns= [\"sex_female\", 'chip.version_v2', \"region_cerebellum\", \"lab_Davis\"]);\n",
        "  # one_hot_encoding = one_hot_encoding.drop(columns= [\"sex_female\", 'chip.version_v2', \"patient_patient_10\", \"region_cerebellum\", \"lab_Davis\"]);\n",
        "  X = sm.add_constant(one_hot_encoding);\n",
        "  model = sm.OLS(expression[gene],X);\n",
        "  results = model.fit();\n",
        "  lcb = results.conf_int(alpha= 0.05).loc[\"lab_Michigan\"][0]\n",
        "  ucb = results.conf_int(alpha= 0.05).loc[\"lab_Michigan\"][1]\n",
        "  # if not lcb < 0 < ucb:\n",
        "  coef_gene.append((gene, np.abs(results.params[\"lab_Michigan\"] - results.params[\"lab_Irvine\"]), lcb, ucb))\n"
      ],
      "metadata": {
        "id": "X-KH3TYzTDHI"
      },
      "execution_count": 60,
      "outputs": []
    },
    {
      "cell_type": "code",
      "source": [
        "  sorted_coef_gene = sorted(coef_gene, key=lambda tup: tup[1])\n",
        "  print(sorted_coef_gene[-10:])"
      ],
      "metadata": {
        "id": "sebxDqQzTGFL",
        "outputId": "56c71dc7-2182-42dc-e7c7-760e98fc935c",
        "colab": {
          "base_uri": "https://localhost:8080/"
        }
      },
      "execution_count": 61,
      "outputs": [
        {
          "output_type": "stream",
          "name": "stdout",
          "text": [
            "[('39332_at', 4.47904464885951, -2.861892868285674, -1.869963654207997), ('38032_at', 4.480369541215368, -3.0167140310342293, -1.9652224158591367), ('38711_at', 4.480434385659045, -3.931502010098435, -2.89440882356684), ('38406_f_at', 4.480728639317509, -2.356090694292533, -1.4555582590719984), ('36410_f_at', 4.502172403652644, -2.2511984979069717, -1.4052621836064687), ('38708_at', 4.590756672580022, -3.6366487312536155, -2.5655383131606224), ('36285_at', 4.620910422292189, -3.0267875594923352, -1.8557433924323363), ('35778_at', 4.633202311285724, -3.7011445550498294, -2.67724605636883), ('38308_g_at', 4.640368895846539, -2.868998385275601, -1.575558789557934), ('37760_at', 4.673930828643323, -3.185903396188331, -2.29050951082583)]\n"
          ]
        }
      ]
    }
  ]
}