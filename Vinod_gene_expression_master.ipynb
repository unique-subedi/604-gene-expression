{
  "nbformat": 4,
  "nbformat_minor": 0,
  "metadata": {
    "colab": {
      "provenance": [],
      "collapsed_sections": [],
      "include_colab_link": true
    },
    "kernelspec": {
      "name": "python3",
      "display_name": "Python 3"
    },
    "language_info": {
      "name": "python"
    }
  },
  "cells": [
    {
      "cell_type": "markdown",
      "metadata": {
        "id": "view-in-github",
        "colab_type": "text"
      },
      "source": [
        "<a href=\"https://colab.research.google.com/github/unique-subedi/gene-expression/blob/main/Vinod_gene_expression_master.ipynb\" target=\"_parent\"><img src=\"https://colab.research.google.com/assets/colab-badge.svg\" alt=\"Open In Colab\"/></a>"
      ]
    },
    {
      "cell_type": "code",
      "source": [
        "import os\n",
        "import datetime\n",
        "import time\n",
        "import math\n",
        "import numpy as np\n",
        "from numpy import linalg as LA\n",
        "import pandas as pd\n",
        "import urllib.request\n",
        "import matplotlib.pyplot as plt\n",
        "import seaborn as sns"
      ],
      "metadata": {
        "id": "BmXo9Yr-pn3a"
      },
      "execution_count": 1,
      "outputs": []
    },
    {
      "cell_type": "code",
      "source": [
        "!pip install pyreadr\n",
        "import pyreadr\n",
        "urllib.request.urlretrieve(\"https://raw.githubusercontent.com/unique-subedi/gene-expression/main/data/brain.rda\", \"brain.rda\")\n",
        "brain = pyreadr.read_r(\"brain.rda\")"
      ],
      "metadata": {
        "id": "cISjdI7TGXg4",
        "colab": {
          "base_uri": "https://localhost:8080/"
        },
        "outputId": "3f59cca5-8e0b-4a51-a74b-28e1e81bb028"
      },
      "execution_count": 2,
      "outputs": [
        {
          "output_type": "stream",
          "name": "stdout",
          "text": [
            "Looking in indexes: https://pypi.org/simple, https://us-python.pkg.dev/colab-wheels/public/simple/\n",
            "Collecting pyreadr\n",
            "  Downloading pyreadr-0.4.7-cp37-cp37m-manylinux_2_17_x86_64.manylinux2014_x86_64.whl (363 kB)\n",
            "\u001b[K     |████████████████████████████████| 363 kB 2.1 MB/s \n",
            "\u001b[?25hRequirement already satisfied: pandas>=1.2.0 in /usr/local/lib/python3.7/dist-packages (from pyreadr) (1.3.5)\n",
            "Requirement already satisfied: pytz>=2017.3 in /usr/local/lib/python3.7/dist-packages (from pandas>=1.2.0->pyreadr) (2022.2.1)\n",
            "Requirement already satisfied: python-dateutil>=2.7.3 in /usr/local/lib/python3.7/dist-packages (from pandas>=1.2.0->pyreadr) (2.8.2)\n",
            "Requirement already satisfied: numpy>=1.17.3 in /usr/local/lib/python3.7/dist-packages (from pandas>=1.2.0->pyreadr) (1.21.6)\n",
            "Requirement already satisfied: six>=1.5 in /usr/local/lib/python3.7/dist-packages (from python-dateutil>=2.7.3->pandas>=1.2.0->pyreadr) (1.15.0)\n",
            "Installing collected packages: pyreadr\n",
            "Successfully installed pyreadr-0.4.7\n"
          ]
        }
      ]
    },
    {
      "cell_type": "code",
      "source": [
        "expression = pd.DataFrame(brain[\"expression\"])\n",
        "genes = pd.DataFrame(brain[\"genes\"])\n",
        "samples = pd.DataFrame(brain[\"samples\"])"
      ],
      "metadata": {
        "id": "Z9-4Xnp2GZZs"
      },
      "execution_count": 3,
      "outputs": []
    },
    {
      "cell_type": "code",
      "source": [
        "genes.head()\n",
        "genes_Y_crom = genes[genes.chrom == \"Y\"].index"
      ],
      "metadata": {
        "id": "bmgwqH_gGbWc"
      },
      "execution_count": 6,
      "outputs": []
    },
    {
      "cell_type": "code",
      "source": [
        "express_samp = pd.concat([expression, samples], axis=1)\n",
        "\n",
        "express_samp.head()\n",
        "fig, axs = plt.subplots(3, 1, figsize=(8, 5), constrained_layout=True, sharex='all')\n",
        "express_samp_UM = express_samp[express_samp.lab == \"Michigan\"]\n",
        "# print(express_samp_UM.head())\n",
        "c = 0\n",
        "for tissue in express_samp_UM[\"region\"].unique():\n",
        "  print(tissue)\n",
        "  df_male = express_samp_UM[(express_samp_UM.region == tissue) & (express_samp_UM.sex == \"male\")]\n",
        "  df_female = express_samp_UM[(express_samp_UM.region == tissue) & (express_samp_UM.sex == \"female\")]\n",
        "\n",
        "  male_mean = expression.loc[df_male.index].mean().drop(genes_Y_crom)\n",
        "  female_mean = expression.loc[df_female.index].mean().drop(genes_Y_crom)\n",
        "\n",
        "  diff = male_mean - female_mean\n",
        "  sns.histplot(diff, ax = axs[c])\n",
        "  axs[c].set_title(tissue)\n",
        "  axs[c].set_xlabel(\"Male Average - Female Average\")\n",
        "  axs[c].set_ylabel(\"# of Genes\")\n",
        "  diff = diff.sort_values(ascending=False)\n",
        "  top_10 = diff.iloc[:10]\n",
        "  print(top_10)\n",
        "  op_genes = genes.loc[top_10.keys()].loc[:, 'sym'].values\n",
        "  print(op_genes)\n",
        "  print(\"\")\n",
        "  c += 1\n",
        "\n",
        "\n",
        "\n"
      ],
      "metadata": {
        "colab": {
          "base_uri": "https://localhost:8080/",
          "height": 1000
        },
        "id": "u3-2Yy08SU_c",
        "outputId": "4945567b-818e-4211-b911-88e37b8b9749"
      },
      "execution_count": 9,
      "outputs": [
        {
          "output_type": "stream",
          "name": "stdout",
          "text": [
            "A.C. cortex\n",
            "41158_at      0.950039\n",
            "37743_at      0.631292\n",
            "41123_s_at    0.608219\n",
            "347_s_at      0.599001\n",
            "40567_at      0.594510\n",
            "33117_r_at    0.590882\n",
            "33676_at      0.572482\n",
            "32538_at      0.564630\n",
            "37449_i_at    0.556419\n",
            "38499_s_at    0.542464\n",
            "dtype: float64\n",
            "['PLP1', 'FEZ1', 'ENPP2', 'RPS23', NaN, 'RPS12', 'RPL31', 'TF', 'GNAS', 'MOBP']\n",
            "Categories (8783, object): ['AADAC', 'AAK1', 'AAMP', 'AANAT', ..., 'ZYX', 'ZZEF1', 'ZZZ3', 'psiTPTE22']\n",
            "\n",
            "cerebellum\n",
            "40326_at      0.428490\n",
            "39864_at      0.427431\n",
            "34526_s_at    0.413371\n",
            "38285_at      0.371332\n",
            "35098_at      0.366048\n",
            "40847_at      0.360177\n",
            "40435_at      0.340796\n",
            "36308_at      0.331721\n",
            "34277_at      0.316517\n",
            "40887_g_at    0.300265\n",
            "dtype: float64\n",
            "['CBLN1', 'CIRBP', 'LOC157627', 'CRYM', 'GABRD', 'MICAL2', 'SLC25A6', 'ZIC1', 'CA11', 'EEF1A1']\n",
            "Categories (8783, object): ['AADAC', 'AAK1', 'AAMP', 'AANAT', ..., 'ZYX', 'ZZEF1', 'ZZZ3', 'psiTPTE22']\n",
            "\n",
            "D.L.P.F. cortex\n",
            "AFFX-HUMGAPDH/M33197_5_at    0.466037\n",
            "34272_at                     0.438816\n",
            "1161_at                      0.430753\n",
            "38462_at                     0.421535\n",
            "32652_g_at                   0.419196\n",
            "37183_at                     0.415238\n",
            "AFFX-HUMGAPDH/M33197_M_at    0.415042\n",
            "39864_at                     0.413274\n",
            "38839_at                     0.411455\n",
            "31557_at                     0.386939\n",
            "dtype: float64\n",
            "['GAPDH', 'RGS4', 'HSP90AB1', 'NDUFA5', 'TAGLN3', 'GAD1', 'GAPDH', 'CIRBP', 'PFN2', 'TMSB4X']\n",
            "Categories (8783, object): ['AADAC', 'AAK1', 'AAMP', 'AANAT', ..., 'ZYX', 'ZZEF1', 'ZZZ3', 'psiTPTE22']\n",
            "\n"
          ]
        },
        {
          "output_type": "display_data",
          "data": {
            "text/plain": [
              "<Figure size 576x360 with 3 Axes>"
            ],
            "image/png": "[encoded data removed]"
          },
          "metadata": {
            "needs_background": "light"
          }
        }
      ]
    },
    {
      "cell_type": "code",
      "source": [
        "express_samp = pd.concat([expression, samples], axis=1)\n",
        "\n",
        "express_samp.head()\n",
        "fig, axs = plt.subplots(3, 1, figsize=(8, 5), constrained_layout=True, sharex='all')\n",
        "express_samp_UM = express_samp[express_samp.lab == \"Davis\"]\n",
        "# print(express_samp_UM.head())\n",
        "c = 0\n",
        "for tissue in express_samp_UM[\"region\"].unique():\n",
        "  print(tissue)\n",
        "  df_male = express_samp_UM[(express_samp_UM.region == tissue) & (express_samp_UM.sex == \"male\")]\n",
        "  df_female = express_samp_UM[(express_samp_UM.region == tissue) & (express_samp_UM.sex == \"female\")]\n",
        "\n",
        "  male_mean = expression.loc[df_male.index].mean().drop(genes_Y_crom)\n",
        "  female_mean = expression.loc[df_female.index].mean().drop(genes_Y_crom)\n",
        "\n",
        "  diff = male_mean - female_mean\n",
        "  sns.histplot(diff, ax = axs[c])\n",
        "  axs[c].set_title(tissue)\n",
        "  axs[c].set_xlabel(\"Male Average - Female Average\")\n",
        "  axs[c].set_ylabel(\"# of Genes\")\n",
        "  diff = diff.sort_values(ascending=False)\n",
        "  top_10 = diff.iloc[:10]\n",
        "  print(top_10)\n",
        "  op_genes = genes.loc[top_10.keys()].loc[:, 'sym'].values\n",
        "  print(op_genes)\n",
        "  print(\"\")\n",
        "  c += 1\n"
      ],
      "metadata": {
        "id": "soMmcnD6o-Os",
        "outputId": "dfbdbe76-e5fc-48c1-c134-3ca7714aae68",
        "colab": {
          "base_uri": "https://localhost:8080/",
          "height": 1000
        }
      },
      "execution_count": 11,
      "outputs": [
        {
          "output_type": "stream",
          "name": "stdout",
          "text": [
            "A.C. cortex\n",
            "37259_at      0.842716\n",
            "38957_at      0.668097\n",
            "37183_at      0.570563\n",
            "34393_r_at    0.568387\n",
            "38484_at      0.563024\n",
            "34677_f_at    0.554261\n",
            "38462_at      0.549610\n",
            "38839_at      0.536305\n",
            "31526_f_at    0.532844\n",
            "38708_at      0.526598\n",
            "dtype: float64\n",
            "['SERPINI1', 'DCLK1', 'GAD1', 'RAB1A', 'SNAP25', NaN, 'NDUFA5', 'PFN2', 'USP6', 'RAN']\n",
            "Categories (8783, object): ['AADAC', 'AAK1', 'AAMP', 'AANAT', ..., 'ZYX', 'ZZEF1', 'ZZZ3', 'psiTPTE22']\n",
            "\n",
            "cerebellum\n",
            "37714_at                   1.117817\n",
            "471_f_at                   1.077318\n",
            "32744_at                   1.048820\n",
            "33678_i_at                 1.033258\n",
            "36567_at                   1.029537\n",
            "AFFX-HSAC07/X00351_M_at    1.016441\n",
            "40193_at                   1.012676\n",
            "37450_r_at                 1.004883\n",
            "38957_at                   0.997769\n",
            "37669_s_at                 0.981077\n",
            "dtype: float64\n",
            "['GAP43', 'TUBB3', 'RPS21', 'TUBB2C', 'SLC17A7', 'ACTB', 'ENO2', 'GNAS', 'DCLK1', 'ATP1B1']\n",
            "Categories (8783, object): ['AADAC', 'AAK1', 'AAMP', 'AANAT', ..., 'ZYX', 'ZZEF1', 'ZZZ3', 'psiTPTE22']\n",
            "\n",
            "D.L.P.F. cortex\n",
            "35178_at                0.322296\n",
            "AFFX-BioDn-5_at         0.235065\n",
            "36367_at                0.200934\n",
            "AFFX-CreX-5_at          0.197886\n",
            "AFFX-BioC-3_at          0.196001\n",
            "34582_at                0.181169\n",
            "AFFX-BioB-M_at          0.170278\n",
            "AFFX-CreX-3_at          0.158964\n",
            "AFFX-YEL021w/URA3_at    0.151914\n",
            "AFFX-BioB-5_at          0.143761\n",
            "dtype: float64\n",
            "['WIF1', NaN, NaN, NaN, NaN, 'SLC1A2', NaN, NaN, NaN, NaN]\n",
            "Categories (8783, object): ['AADAC', 'AAK1', 'AAMP', 'AANAT', ..., 'ZYX', 'ZZEF1', 'ZZZ3', 'psiTPTE22']\n",
            "\n"
          ]
        },
        {
          "output_type": "display_data",
          "data": {
            "text/plain": [
              "<Figure size 576x360 with 3 Axes>"
            ],
            "image/png": "[encoded data removed]"
          },
          "metadata": {
            "needs_background": "light"
          }
        }
      ]
    }
  ]
}