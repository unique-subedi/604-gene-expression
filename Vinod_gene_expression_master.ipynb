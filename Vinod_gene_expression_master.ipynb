{
  "nbformat": 4,
  "nbformat_minor": 0,
  "metadata": {
    "colab": {
      "provenance": [],
      "collapsed_sections": [],
      "include_colab_link": true
    },
    "kernelspec": {
      "name": "python3",
      "display_name": "Python 3"
    },
    "language_info": {
      "name": "python"
    }
  },
  "cells": [
    {
      "cell_type": "markdown",
      "metadata": {
        "id": "view-in-github",
        "colab_type": "text"
      },
      "source": [
        "<a href=\"https://colab.research.google.com/github/unique-subedi/gene-expression/blob/main/Vinod_gene_expression_master.ipynb\" target=\"_parent\"><img src=\"https://colab.research.google.com/assets/colab-badge.svg\" alt=\"Open In Colab\"/></a>"
      ]
    },
    {
      "cell_type": "code",
      "source": [
        "import os\n",
        "import datetime\n",
        "import time\n",
        "import math\n",
        "import numpy as np\n",
        "from numpy import linalg as LA\n",
        "import pandas as pd\n",
        "import urllib.request\n",
        "import matplotlib.pyplot as plt\n",
        "import seaborn as sns\n",
        "from collections import Counter\n",
        "import scipy.stats as stats"
      ],
      "metadata": {
        "id": "BmXo9Yr-pn3a"
      },
      "execution_count": 25,
      "outputs": []
    },
    {
      "cell_type": "code",
      "source": [
        "!pip install qnorm\n",
        "import qnorm"
      ],
      "metadata": {
        "colab": {
          "base_uri": "https://localhost:8080/"
        },
        "id": "IpL3C9K9TGju",
        "outputId": "bb637c9e-48e1-4140-c2d8-ee29e30387a6"
      },
      "execution_count": 13,
      "outputs": [
        {
          "output_type": "stream",
          "name": "stdout",
          "text": [
            "Looking in indexes: https://pypi.org/simple, https://us-python.pkg.dev/colab-wheels/public/simple/\n",
            "Collecting qnorm\n",
            "  Downloading qnorm-0.8.1-py3-none-any.whl (15 kB)\n",
            "Requirement already satisfied: numba in /usr/local/lib/python3.7/dist-packages (from qnorm) (0.56.2)\n",
            "Requirement already satisfied: numpy in /usr/local/lib/python3.7/dist-packages (from qnorm) (1.21.6)\n",
            "Requirement already satisfied: importlib-metadata in /usr/local/lib/python3.7/dist-packages (from numba->qnorm) (4.12.0)\n",
            "Requirement already satisfied: llvmlite<0.40,>=0.39.0dev0 in /usr/local/lib/python3.7/dist-packages (from numba->qnorm) (0.39.1)\n",
            "Requirement already satisfied: setuptools<60 in /usr/local/lib/python3.7/dist-packages (from numba->qnorm) (57.4.0)\n",
            "Requirement already satisfied: zipp>=0.5 in /usr/local/lib/python3.7/dist-packages (from importlib-metadata->numba->qnorm) (3.8.1)\n",
            "Requirement already satisfied: typing-extensions>=3.6.4 in /usr/local/lib/python3.7/dist-packages (from importlib-metadata->numba->qnorm) (4.1.1)\n",
            "Installing collected packages: qnorm\n",
            "Successfully installed qnorm-0.8.1\n"
          ]
        }
      ]
    },
    {
      "cell_type": "code",
      "source": [
        "!pip install pyreadr\n",
        "import pyreadr\n",
        "urllib.request.urlretrieve(\"https://raw.githubusercontent.com/unique-subedi/gene-expression/main/data/brain.rda\", \"brain.rda\")\n",
        "brain = pyreadr.read_r(\"brain.rda\")"
      ],
      "metadata": {
        "id": "cISjdI7TGXg4",
        "colab": {
          "base_uri": "https://localhost:8080/"
        },
        "outputId": "b06b84b4-17ba-4448-ea60-cf42866a765d"
      },
      "execution_count": 6,
      "outputs": [
        {
          "output_type": "stream",
          "name": "stdout",
          "text": [
            "Looking in indexes: https://pypi.org/simple, https://us-python.pkg.dev/colab-wheels/public/simple/\n",
            "Requirement already satisfied: pyreadr in /usr/local/lib/python3.7/dist-packages (0.4.7)\n",
            "Requirement already satisfied: pandas>=1.2.0 in /usr/local/lib/python3.7/dist-packages (from pyreadr) (1.3.5)\n",
            "Requirement already satisfied: pytz>=2017.3 in /usr/local/lib/python3.7/dist-packages (from pandas>=1.2.0->pyreadr) (2022.2.1)\n",
            "Requirement already satisfied: numpy>=1.17.3 in /usr/local/lib/python3.7/dist-packages (from pandas>=1.2.0->pyreadr) (1.21.6)\n",
            "Requirement already satisfied: python-dateutil>=2.7.3 in /usr/local/lib/python3.7/dist-packages (from pandas>=1.2.0->pyreadr) (2.8.2)\n",
            "Requirement already satisfied: six>=1.5 in /usr/local/lib/python3.7/dist-packages (from python-dateutil>=2.7.3->pandas>=1.2.0->pyreadr) (1.15.0)\n"
          ]
        }
      ]
    },
    {
      "cell_type": "code",
      "source": [
        "expression = pd.DataFrame(brain[\"expression\"])\n",
        "genes = pd.DataFrame(brain[\"genes\"])\n",
        "samples = pd.DataFrame(brain[\"samples\"])"
      ],
      "metadata": {
        "id": "Z9-4Xnp2GZZs"
      },
      "execution_count": 7,
      "outputs": []
    },
    {
      "cell_type": "code",
      "source": [
        "genes_Y_crom = genes[genes.chrom == \"Y\"].index\n",
        "genes_bac_index = genes[genes.chrom.isnull()].index\n",
        "mean_bac_exp = expression[genes_bac_index].mean(axis=1)\n",
        "std_bac_exp = expression[genes_bac_index].std(axis=1)\n",
        "expression_norm =  (expression - mean_bac_exp.values[:, None]).divide(std_bac_exp, axis=0)\n",
        "expression_qnorm = qnorm.quantile_normalize(expression, axis=0)"
      ],
      "metadata": {
        "id": "bmgwqH_gGbWc"
      },
      "execution_count": 14,
      "outputs": []
    },
    {
      "cell_type": "code",
      "source": [
        "# expression.T.boxplot()\n",
        "# expression_norm.T.boxplot()\n",
        "expression_qnorm.T.boxplot()"
      ],
      "metadata": {
        "colab": {
          "base_uri": "https://localhost:8080/",
          "height": 283
        },
        "id": "XhHCFXcaSZ32",
        "outputId": "de004496-a6d2-453a-bcce-bfd2e16572bf"
      },
      "execution_count": 17,
      "outputs": [
        {
          "output_type": "execute_result",
          "data": {
            "text/plain": [
              "<matplotlib.axes._subplots.AxesSubplot at 0x7f239001b5d0>"
            ]
          },
          "metadata": {},
          "execution_count": 17
        },
        {
          "output_type": "display_data",
          "data": {
            "text/plain": [
              "<Figure size 432x288 with 1 Axes>"
            ],
            "image/png": "[encoded data removed]"
          },
          "metadata": {
            "needs_background": "light"
          }
        }
      ]
    },
    {
      "cell_type": "code",
      "source": [
        "express_norm_samp = pd.concat([expression_qnorm, samples], axis=1)\n",
        "express_samp_loc = express_norm_samp\n",
        "c = 0\n",
        "for tissue in express_samp_loc[\"region\"].unique():\n",
        "  print(tissue)\n",
        "  df_male = express_samp_loc[(express_samp_loc.region == tissue) & (express_samp_loc.sex == \"male\")]\n",
        "  df_female = express_samp_loc[(express_samp_loc.region == tissue) & (express_samp_loc.sex == \"female\")]\n",
        "\n",
        "  male_mean = expression_qnorm.loc[df_male.index].mean()\n",
        "  female_mean = expression_qnorm.loc[df_female.index].mean()\n",
        "\n",
        "  diff = np.abs(male_mean - female_mean)\n",
        "  diff = diff.sort_values(ascending=False)\n",
        "  top_10 = diff.iloc[:10]\n",
        "  op_chrom = genes.loc[top_10.keys()].loc[:, 'chrom'].values\n",
        "  op_genes = genes.loc[top_10.keys()].loc[:, 'sym'].values\n",
        "  chrom_counter = Counter(op_chrom)\n",
        "  count = np.sum([chrom_counter[key] for key, value in chrom_counter.items() if key in [\"X\", \"Y\", \"X Y\"]])\n",
        "  print(count)\n",
        "  print(op_chrom, op_genes)\n",
        "  print(\"\")\n",
        "  c += 1\n",
        "\n",
        "\n",
        "\n"
      ],
      "metadata": {
        "colab": {
          "base_uri": "https://localhost:8080/"
        },
        "id": "u3-2Yy08SU_c",
        "outputId": "4440a213-60ab-4d0d-f5d2-407f40809d71"
      },
      "execution_count": 28,
      "outputs": [
        {
          "output_type": "stream",
          "name": "stdout",
          "text": [
            "A.C. cortex\n",
            "3\n",
            "['Y', 'Y', '11', '16hba1', '3', 'X', '12', '6', '8', '11']\n",
            "Categories (39, object): ['1', '10', '10ak*', '10ptp*', ..., 'X', 'X Y', 'Y', 'na'] ['RPS4Y1', 'DDX3Y', 'HBB', NaN, 'MOBP', 'PLP1', 'GAPDH', 'RPS12', 'ENPP2', 'HBB']\n",
            "Categories (8783, object): ['AADAC', 'AAK1', 'AAMP', 'AANAT', ..., 'ZYX', 'ZZEF1', 'ZZZ3', 'psiTPTE22']\n",
            "\n",
            "cerebellum\n",
            "3\n",
            "['Y', 'Y', '11', 'X', '11', '16hba1', '4', '18', '17', '11']\n",
            "Categories (39, object): ['1', '10', '10ak*', '10ptp*', ..., 'X', 'X Y', 'Y', 'na'] ['RPS4Y1', 'DDX3Y', 'HBB', 'PLP1', 'HBB', NaN, 'SPP1', 'MBP', 'GFAP', 'CRYAB']\n",
            "Categories (8783, object): ['AADAC', 'AAK1', 'AAMP', 'AANAT', ..., 'ZYX', 'ZZEF1', 'ZZZ3', 'psiTPTE22']\n",
            "\n",
            "D.L.P.F. cortex\n",
            "4\n",
            "['Y', 'Y', '11', '16hba1', '2', '11', '4', '2', 'Y', 'X']\n",
            "Categories (39, object): ['1', '10', '10ak*', '10ptp*', ..., 'X', 'X Y', 'Y', 'na'] ['RPS4Y1', 'DDX3Y', 'HBB', NaN, 'IGFBP5', 'HBB', 'SPP1', 'IGFBP5', 'KDM5D', 'XIST']\n",
            "Categories (8783, object): ['AADAC', 'AAK1', 'AAMP', 'AANAT', ..., 'ZYX', 'ZZEF1', 'ZZZ3', 'psiTPTE22']\n",
            "\n"
          ]
        }
      ]
    },
    {
      "cell_type": "code",
      "source": [
        "express_norm_samp = pd.concat([expression_norm, samples], axis=1)\n",
        "express_samp_loc = express_norm_samp\n",
        "c = 0\n",
        "for tissue in express_samp_loc[\"region\"].unique():\n",
        "  print(tissue)\n",
        "  df_male = express_samp_loc[(express_samp_loc.region == tissue) & (express_samp_loc.sex == \"male\")]\n",
        "  df_female = express_samp_loc[(express_samp_loc.region == tissue) & (express_samp_loc.sex == \"female\")]\n",
        "\n",
        "  unique_genes = expression_norm.columns\n",
        "  p_values= []\n",
        "\n",
        "  for gene in unique_genes:\n",
        "    stat, p = stats.ttest_ind(a=expression_norm.loc[df_male.index][gene], b=expression_norm.loc[df_female.index][gene], equal_var=False)\n",
        "    p_values.append((p, gene))\n",
        "\n",
        "  sorted_pval = sorted(p_values, key=lambda tup: tup[0])\n",
        "  top10genes = [tup[1] for tup in sorted_pval[:10]]\n",
        "  # print(top10genes)\n",
        "\n",
        "  \n",
        "\n",
        "\n",
        "\n",
        "  # male_mean = expression_norm.loc[df_male.index].mean()\n",
        "  # female_mean = expression_norm.loc[df_female.index].mean()\n",
        "\n",
        "  # diff = np.abs(male_mean - female_mean)\n",
        "  # diff = diff.sort_values(ascending=False)\n",
        "  # top_10 = diff.iloc[:10]\n",
        "  op_chrom = genes.loc[top10genes].loc[:, 'chrom'].values\n",
        "  op_genes = genes.loc[top10genes].loc[:, 'sym'].values\n",
        "  chrom_counter = Counter(op_chrom)\n",
        "  count = np.sum([chrom_counter[key] for key, value in chrom_counter.items() if key in [\"X\", \"Y\", \"X Y\"]])\n",
        "  print(count)\n",
        "  print(op_chrom, op_genes)\n",
        "  print(\"\")\n",
        "  c += 1\n",
        "\n",
        "\n",
        "\n"
      ],
      "metadata": {
        "id": "8FoZMBBbVMdA",
        "outputId": "6cbe521e-3f5e-4235-ca88-c781a048d2e0",
        "colab": {
          "base_uri": "https://localhost:8080/"
        }
      },
      "execution_count": 39,
      "outputs": [
        {
          "output_type": "stream",
          "name": "stdout",
          "text": [
            "A.C. cortex\n",
            "6\n",
            "['Y', 'Y', 'X', 'Y', 'Y', 'Y', '21', NaN, '8', '2']\n",
            "Categories (39, object): ['1', '10', '10ak*', '10ptp*', ..., 'X', 'X Y', 'Y', 'na'] ['KDM5D', 'RPS4Y1', 'XIST', 'UTY', 'DDX3Y', 'USP9Y', 'OLIG2', NaN, 'IKBKB', 'AGPS']\n",
            "Categories (8783, object): ['AADAC', 'AAK1', 'AAMP', 'AANAT', ..., 'ZYX', 'ZZEF1', 'ZZZ3', 'psiTPTE22']\n",
            "\n",
            "cerebellum\n",
            "7\n",
            "['Y', 'Y', 'X', '6', 'Y', 'Y', 'Y', NaN, 'Y', '11']\n",
            "Categories (39, object): ['1', '10', '10ak*', '10ptp*', ..., 'X', 'X Y', 'Y', 'na'] ['KDM5D', 'RPS4Y1', 'XIST', 'CD24', 'TTTY15', 'USP9Y', 'DDX3Y', NaN, 'UTY', 'CD44']\n",
            "Categories (8783, object): ['AADAC', 'AAK1', 'AAMP', 'AANAT', ..., 'ZYX', 'ZZEF1', 'ZZZ3', 'psiTPTE22']\n",
            "\n",
            "D.L.P.F. cortex\n",
            "9\n",
            "['Y', 'Y', 'Y', 'X', 'Y', 'Y', 'Y', 'Y', 'X', '6']\n",
            "Categories (39, object): ['1', '10', '10ak*', '10ptp*', ..., 'X', 'X Y', 'Y', 'na'] ['RPS4Y1', 'KDM5D', 'DDX3Y', 'XIST', 'TTTY15', 'NLGN4Y', 'UTY', 'USP9Y', NaN, 'HIST1H3I']\n",
            "Categories (8783, object): ['AADAC', 'AAK1', 'AAMP', 'AANAT', ..., 'ZYX', 'ZZEF1', 'ZZZ3', 'psiTPTE22']\n",
            "\n"
          ]
        }
      ]
    },
    {
      "cell_type": "code",
      "source": [
        "express_norm_samp = pd.concat([expression_qnorm, samples], axis=1)\n",
        "express_samp_loc = express_norm_samp\n",
        "c = 0\n",
        "for tissue in express_samp_loc[\"region\"].unique():\n",
        "  print(tissue)\n",
        "  df_male = express_samp_loc[(express_samp_loc.region == tissue) & (express_samp_loc.sex == \"male\")]\n",
        "  df_female = express_samp_loc[(express_samp_loc.region == tissue) & (express_samp_loc.sex == \"female\")]\n",
        "\n",
        "  unique_genes = expression_qnorm.columns\n",
        "  p_values= []\n",
        "\n",
        "  for gene in unique_genes:\n",
        "    stat, p = stats.ttest_ind(a=expression_qnorm.loc[df_male.index][gene], b=expression_qnorm.loc[df_female.index][gene], equal_var=False)\n",
        "    p_values.append((p, gene))\n",
        "\n",
        "  sorted_pval = sorted(p_values, key=lambda tup: tup[0])\n",
        "  top10genes = [tup[1] for tup in sorted_pval[:10]]\n",
        "  # print(top10genes)\n",
        "\n",
        "  \n",
        "\n",
        "\n",
        "\n",
        "  # male_mean = expression_norm.loc[df_male.index].mean()\n",
        "  # female_mean = expression_norm.loc[df_female.index].mean()\n",
        "\n",
        "  # diff = np.abs(male_mean - female_mean)\n",
        "  # diff = diff.sort_values(ascending=False)\n",
        "  # top_10 = diff.iloc[:10]\n",
        "  op_chrom = genes.loc[top10genes].loc[:, 'chrom'].values\n",
        "  op_genes = genes.loc[top10genes].loc[:, 'sym'].values\n",
        "  chrom_counter = Counter(op_chrom)\n",
        "  count = np.sum([chrom_counter[key] for key, value in chrom_counter.items() if key in [\"X\", \"Y\", \"X Y\"]])\n",
        "  print(count)\n",
        "  print(op_chrom, op_genes)\n",
        "  print(\"\")\n",
        "  c += 1\n",
        "\n",
        "\n",
        "\n"
      ],
      "metadata": {
        "id": "mBxTo2gXY4iu",
        "outputId": "04b49243-ebad-452e-ba17-927e2c6c027f",
        "colab": {
          "base_uri": "https://localhost:8080/"
        }
      },
      "execution_count": null,
      "outputs": [
        {
          "output_type": "stream",
          "name": "stdout",
          "text": [
            "A.C. cortex\n"
          ]
        }
      ]
    }
  ]
}