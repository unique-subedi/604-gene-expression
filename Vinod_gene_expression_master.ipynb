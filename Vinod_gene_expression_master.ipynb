{
  "nbformat": 4,
  "nbformat_minor": 0,
  "metadata": {
    "colab": {
      "provenance": [],
      "collapsed_sections": [],
      "include_colab_link": true
    },
    "kernelspec": {
      "name": "python3",
      "display_name": "Python 3"
    },
    "language_info": {
      "name": "python"
    }
  },
  "cells": [
    {
      "cell_type": "markdown",
      "metadata": {
        "id": "view-in-github",
        "colab_type": "text"
      },
      "source": [
        "<a href=\"https://colab.research.google.com/github/unique-subedi/gene-expression/blob/main/Vinod_gene_expression_master.ipynb\" target=\"_parent\"><img src=\"https://colab.research.google.com/assets/colab-badge.svg\" alt=\"Open In Colab\"/></a>"
      ]
    },
    {
      "cell_type": "code",
      "source": [
        "import os\n",
        "import datetime\n",
        "import time\n",
        "import math\n",
        "import numpy as np\n",
        "from numpy import linalg as LA\n",
        "import pandas as pd\n",
        "import urllib.request\n",
        "import matplotlib.pyplot as plt\n",
        "import seaborn as sns\n",
        "from collections import Counter\n",
        "import scipy.stats as stats\n",
        "import statsmodels.api as sm\n",
        "from statsmodels.distributions.empirical_distribution import ECDF"
      ],
      "metadata": {
        "id": "BmXo9Yr-pn3a"
      },
      "execution_count": 1,
      "outputs": []
    },
    {
      "cell_type": "code",
      "source": [
        "!pip install qnorm\n",
        "import qnorm"
      ],
      "metadata": {
        "colab": {
          "base_uri": "https://localhost:8080/"
        },
        "id": "IpL3C9K9TGju",
        "outputId": "31fbce1f-e48b-4b23-9136-9caacb813459"
      },
      "execution_count": 2,
      "outputs": [
        {
          "output_type": "stream",
          "name": "stdout",
          "text": [
            "Looking in indexes: https://pypi.org/simple, https://us-python.pkg.dev/colab-wheels/public/simple/\n",
            "Collecting qnorm\n",
            "  Downloading qnorm-0.8.1-py3-none-any.whl (15 kB)\n",
            "Requirement already satisfied: numba in /usr/local/lib/python3.7/dist-packages (from qnorm) (0.56.2)\n",
            "Requirement already satisfied: numpy in /usr/local/lib/python3.7/dist-packages (from qnorm) (1.21.6)\n",
            "Requirement already satisfied: llvmlite<0.40,>=0.39.0dev0 in /usr/local/lib/python3.7/dist-packages (from numba->qnorm) (0.39.1)\n",
            "Requirement already satisfied: setuptools<60 in /usr/local/lib/python3.7/dist-packages (from numba->qnorm) (57.4.0)\n",
            "Requirement already satisfied: importlib-metadata in /usr/local/lib/python3.7/dist-packages (from numba->qnorm) (4.12.0)\n",
            "Requirement already satisfied: typing-extensions>=3.6.4 in /usr/local/lib/python3.7/dist-packages (from importlib-metadata->numba->qnorm) (4.1.1)\n",
            "Requirement already satisfied: zipp>=0.5 in /usr/local/lib/python3.7/dist-packages (from importlib-metadata->numba->qnorm) (3.8.1)\n",
            "Installing collected packages: qnorm\n",
            "Successfully installed qnorm-0.8.1\n"
          ]
        }
      ]
    },
    {
      "cell_type": "code",
      "source": [
        "!pip install pyreadr\n",
        "import pyreadr\n",
        "urllib.request.urlretrieve(\"https://raw.githubusercontent.com/unique-subedi/gene-expression/main/data/brain.rda\", \"brain.rda\")\n",
        "brain = pyreadr.read_r(\"brain.rda\")"
      ],
      "metadata": {
        "id": "cISjdI7TGXg4",
        "colab": {
          "base_uri": "https://localhost:8080/"
        },
        "outputId": "44592477-7bbc-452e-db6c-83683086d0bd"
      },
      "execution_count": 23,
      "outputs": [
        {
          "output_type": "stream",
          "name": "stdout",
          "text": [
            "Looking in indexes: https://pypi.org/simple, https://us-python.pkg.dev/colab-wheels/public/simple/\n",
            "Requirement already satisfied: pyreadr in /usr/local/lib/python3.7/dist-packages (0.4.7)\n",
            "Requirement already satisfied: pandas>=1.2.0 in /usr/local/lib/python3.7/dist-packages (from pyreadr) (1.3.5)\n",
            "Requirement already satisfied: pytz>=2017.3 in /usr/local/lib/python3.7/dist-packages (from pandas>=1.2.0->pyreadr) (2022.2.1)\n",
            "Requirement already satisfied: python-dateutil>=2.7.3 in /usr/local/lib/python3.7/dist-packages (from pandas>=1.2.0->pyreadr) (2.8.2)\n",
            "Requirement already satisfied: numpy>=1.17.3 in /usr/local/lib/python3.7/dist-packages (from pandas>=1.2.0->pyreadr) (1.21.6)\n",
            "Requirement already satisfied: six>=1.5 in /usr/local/lib/python3.7/dist-packages (from python-dateutil>=2.7.3->pandas>=1.2.0->pyreadr) (1.15.0)\n"
          ]
        }
      ]
    },
    {
      "cell_type": "code",
      "source": [
        "expression = pd.DataFrame(brain[\"expression\"])\n",
        "genes = pd.DataFrame(brain[\"genes\"])\n",
        "samples = pd.DataFrame(brain[\"samples\"])"
      ],
      "metadata": {
        "id": "Z9-4Xnp2GZZs"
      },
      "execution_count": 24,
      "outputs": []
    },
    {
      "cell_type": "code",
      "source": [
        "ACC = \"A.C. cortex\"\n",
        "CER = \"cerebellum\"\n",
        "DLPFC = \"D.L.P.F. cortex\"\n"
      ],
      "metadata": {
        "id": "mwsr9iDRONVw"
      },
      "execution_count": 33,
      "outputs": []
    },
    {
      "cell_type": "markdown",
      "source": [
        "# Compute Bacterial Genes"
      ],
      "metadata": {
        "id": "wtmClRSDOGZ1"
      }
    },
    {
      "cell_type": "code",
      "source": [
        "# Need to compute all bacteria genes. Contains AFFX, does Not have HUM\n",
        "genes.at[\"AFFX-BioDn-3_at\", 'chrom'] = float(\"Nan\")\n",
        "genes_control = genes[['AFFX' in s for s in genes.index]]\n",
        "genes_control = genes_control[['HUM' not in s for s in genes_control.index]]\n",
        "genes_control = genes_control[['hum' not in s for s in genes_control.index]]\n",
        "genes_bac_index = genes_control[genes_control.chrom.isnull() & genes_control.sym.isnull()].index\n",
        "print(genes_bac_index)\n"
      ],
      "metadata": {
        "id": "24WkzjU29043",
        "outputId": "e4a39961-f4b8-42f4-dcbf-551d683fece2",
        "colab": {
          "base_uri": "https://localhost:8080/"
        }
      },
      "execution_count": 25,
      "outputs": [
        {
          "output_type": "stream",
          "name": "stdout",
          "text": [
            "Index(['AFFX-BioB-3_at', 'AFFX-BioB-3_st', 'AFFX-BioB-5_at', 'AFFX-BioB-5_st',\n",
            "       'AFFX-BioB-M_at', 'AFFX-BioB-M_st', 'AFFX-BioC-3_at', 'AFFX-BioC-3_st',\n",
            "       'AFFX-BioC-5_at', 'AFFX-BioC-5_st', 'AFFX-BioDn-3_at',\n",
            "       'AFFX-BioDn-3_st', 'AFFX-BioDn-5_at', 'AFFX-BioDn-5_st',\n",
            "       'AFFX-CreX-3_at', 'AFFX-CreX-3_st', 'AFFX-CreX-5_at', 'AFFX-CreX-5_st',\n",
            "       'AFFX-DapX-3_at', 'AFFX-DapX-5_at', 'AFFX-DapX-M_at', 'AFFX-LysX-3_at',\n",
            "       'AFFX-LysX-5_at', 'AFFX-LysX-M_at', 'AFFX-M27830_3_at',\n",
            "       'AFFX-M27830_5_at', 'AFFX-M27830_M_at', 'AFFX-MurFAS_at',\n",
            "       'AFFX-MurIL10_at', 'AFFX-MurIL2_at', 'AFFX-MurIL4_at', 'AFFX-PheX-3_at',\n",
            "       'AFFX-PheX-5_at', 'AFFX-PheX-M_at', 'AFFX-ThrX-3_at', 'AFFX-ThrX-5_at',\n",
            "       'AFFX-ThrX-M_at', 'AFFX-TrpnX-3_at', 'AFFX-TrpnX-5_at',\n",
            "       'AFFX-TrpnX-M_at', 'AFFX-YEL002c/WBP1_at', 'AFFX-YEL018w/_at',\n",
            "       'AFFX-YEL021w/URA3_at', 'AFFX-YEL024w/RIP1_at'],\n",
            "      dtype='object', name='rownames')\n"
          ]
        }
      ]
    },
    {
      "cell_type": "markdown",
      "source": [
        "# Normalize Data"
      ],
      "metadata": {
        "id": "GkUonQwYOCmA"
      }
    },
    {
      "cell_type": "code",
      "source": [
        "genes_Y_crom = genes[genes.chrom == \"Y\"].index\n",
        "mean_bac_exp = expression[genes_bac_index].mean(axis=1)\n",
        "std_bac_exp = expression[genes_bac_index].std(axis=1)\n",
        "expression_norm =  (expression - mean_bac_exp.values[:, None]).divide(std_bac_exp, axis=0)\n",
        "expression_qnorm = qnorm.quantile_normalize(expression, axis=0)\n",
        "expression_ecdf = expression.copy()\n",
        "for i in range(len(expression)):\n",
        "  ecdf = ECDF(expression_ecdf.iloc[i, :].values)\n",
        "  expression_ecdf.iloc[i, :] = ecdf(expression_ecdf.iloc[i, :].values)"
      ],
      "metadata": {
        "id": "bmgwqH_gGbWc"
      },
      "execution_count": 50,
      "outputs": []
    },
    {
      "cell_type": "code",
      "source": [
        "def compute_top_genes_tissue(data, tissue):\n",
        "  express_norm_samp = pd.concat([data, samples], axis=1)\n",
        "  express_samp_loc = express_norm_samp\n",
        "\n",
        "  df_male = express_samp_loc[(express_samp_loc.region == tissue) & (express_samp_loc.sex == \"male\")]\n",
        "  df_female = express_samp_loc[(express_samp_loc.region == tissue) & (express_samp_loc.sex == \"female\")]\n",
        "\n",
        "  unique_genes = data.columns\n",
        "  p_values= []\n",
        "\n",
        "  for gene in unique_genes:\n",
        "    stat, p = stats.ks_2samp(data.loc[df_male.index][gene], data.loc[df_female.index][gene])\n",
        "    # _, _, p = stats.anderson_ksamp([expression_norm.loc[df_male.index][gene], expression_norm.loc[df_female.index][gene]])\n",
        "    p_values.append((p, gene))\n",
        "\n",
        "  sorted_pval = sorted(p_values, key=lambda tup: tup[0])\n",
        "  top10genes = [tup[1] for tup in sorted_pval[:20]]\n",
        "\n",
        "  op_chrom = genes.loc[top10genes].loc[:, 'chrom'].values\n",
        "  op_genes = genes.loc[top10genes].loc[:, 'sym'].values\n",
        "  chrom_counter = Counter(op_chrom)\n",
        "  count = np.sum([chrom_counter[key] for key, value in chrom_counter.items() if key in [\"X\", \"Y\", \"X Y\"]])\n",
        "  return op_chrom, op_genes, top10genes, count"
      ],
      "metadata": {
        "id": "D0gQxMcrF3iQ"
      },
      "execution_count": 58,
      "outputs": []
    },
    {
      "cell_type": "code",
      "source": [
        "op_chrom, op_genes, top10genes, cnt = compute_top_genes_tissue(expression_qnorm, ACC)\n",
        "print(cnt, op_chrom, op_genes, top10genes)"
      ],
      "metadata": {
        "id": "QTvEIY0yGNAM",
        "outputId": "09dd96a3-716c-4057-c6d2-a325a9ce76f3",
        "colab": {
          "base_uri": "https://localhost:8080/"
        }
      },
      "execution_count": 60,
      "outputs": [
        {
          "output_type": "stream",
          "name": "stdout",
          "text": [
            "8 ['Y', 'Y', 'Y', 'Y', 'X', ..., '21', 'Y', '10', NaN, '12']\n",
            "Length: 20\n",
            "Categories (39, object): ['1', '10', '10ak*', '10ptp*', ..., 'X', 'X Y', 'Y', 'na'] ['UTY', 'KDM5D', 'DDX3Y', 'RPS4Y1', 'XIST', ..., 'SIM2', 'EIF1AY', 'IFIT5', NaN, 'MSI1']\n",
            "Length: 20\n",
            "Categories (8783, object): ['AADAC', 'AAK1', 'AAMP', 'AANAT', ..., 'ZYX', 'ZZEF1', 'ZZZ3', 'psiTPTE22'] ['34477_at', '37583_at', '38355_at', '41214_at', '38446_at', '40382_at', '35885_at', '36413_at', '33956_at', '35476_at', '34420_at', '841_at', '34207_at', '36228_at', '37309_at', '39608_at', '40097_at', '1046_at', '31331_at', '31395_i_at']\n"
          ]
        }
      ]
    },
    {
      "cell_type": "code",
      "source": [
        "express_norm_samp = pd.concat([expression_qnorm, samples], axis=1)\n",
        "express_samp_loc = express_norm_samp\n",
        "c = 0\n",
        "for tissue in express_samp_loc[\"region\"].unique():\n",
        "  print(tissue)\n",
        "  df_male = express_samp_loc[(express_samp_loc.region == tissue) & (express_samp_loc.sex == \"male\")]\n",
        "  df_female = express_samp_loc[(express_samp_loc.region == tissue) & (express_samp_loc.sex == \"female\")]\n",
        "\n",
        "  unique_genes = expression_qnorm.columns\n",
        "  p_values= []\n",
        "\n",
        "  for gene in unique_genes:\n",
        "    stat, p = stats.ks_2samp(expression_qnorm.loc[df_male.index][gene], expression_qnorm.loc[df_female.index][gene])\n",
        "    # _, _, p = stats.anderson_ksamp([expression_norm.loc[df_male.index][gene], expression_norm.loc[df_female.index][gene]])\n",
        "    p_values.append((p, gene))\n",
        "\n",
        "  sorted_pval = sorted(p_values, key=lambda tup: tup[0])\n",
        "  top10genes = [tup[1] for tup in sorted_pval[:10]]\n",
        "  # print(top10genes)\n",
        "\n",
        "  op_chrom = genes.loc[top10genes].loc[:, 'chrom'].values\n",
        "  op_genes = genes.loc[top10genes].loc[:, 'sym'].values\n",
        "  chrom_counter = Counter(op_chrom)\n",
        "  count = np.sum([chrom_counter[key] for key, value in chrom_counter.items() if key in [\"X\", \"Y\", \"X Y\"]])\n",
        "  print(count)\n",
        "  print(op_chrom, op_genes)\n",
        "  print(\"\")\n",
        "  c += 1\n",
        "\n",
        "\n",
        "\n"
      ],
      "metadata": {
        "colab": {
          "base_uri": "https://localhost:8080/"
        },
        "id": "8FoZMBBbVMdA",
        "outputId": "26f721bd-06ef-4ad6-b6ae-9b3e2142ab69"
      },
      "execution_count": 8,
      "outputs": [
        {
          "output_type": "stream",
          "name": "stdout",
          "text": [
            "A.C. cortex\n",
            "7\n",
            "['Y', 'Y', 'Y', 'X', 'Y', 'Y', NaN, 'Y', '1', '12']\n",
            "Categories (39, object): ['1', '10', '10ak*', '10ptp*', ..., 'X', 'X Y', 'Y', 'na'] ['DDX3Y', 'RPS4Y1', 'UTY', 'XIST', 'USP9Y', 'KDM5D', NaN, 'EIF1AY', 'KCNH1', 'SNRNP35']\n",
            "Categories (8783, object): ['AADAC', 'AAK1', 'AAMP', 'AANAT', ..., 'ZYX', 'ZZEF1', 'ZZZ3', 'psiTPTE22']\n",
            "\n",
            "cerebellum\n",
            "7\n",
            "['Y', 'Y', 'Y', 'X', 'Y', '6', 'Y', 'Y', '20', '10']\n",
            "Categories (39, object): ['1', '10', '10ak*', '10ptp*', ..., 'X', 'X Y', 'Y', 'na'] ['DDX3Y', 'RPS4Y1', 'KDM5D', 'XIST', 'UTY', 'CD24', 'TTTY15', 'USP9Y', 'HNF4A', 'DUSP5']\n",
            "Categories (8783, object): ['AADAC', 'AAK1', 'AAMP', 'AANAT', ..., 'ZYX', 'ZZEF1', 'ZZZ3', 'psiTPTE22']\n",
            "\n",
            "D.L.P.F. cortex\n",
            "8\n",
            "['Y', 'Y', 'Y', 'X', 'Y', 'Y', '10', '3', 'Y', 'X']\n",
            "Categories (39, object): ['1', '10', '10ak*', '10ptp*', ..., 'X', 'X Y', 'Y', 'na'] ['DDX3Y', 'RPS4Y1', 'USP9Y', 'XIST', 'UTY', 'KDM5D', 'HNRNPF', 'PPP1R2', 'TTTY15', NaN]\n",
            "Categories (8783, object): ['AADAC', 'AAK1', 'AAMP', 'AANAT', ..., 'ZYX', 'ZZEF1', 'ZZZ3', 'psiTPTE22']\n",
            "\n"
          ]
        }
      ]
    },
    {
      "cell_type": "code",
      "source": [
        "for i in range(len(expression)):\n",
        "  ecdf = ECDF(expression.iloc[i, :].values)\n",
        "  expression.iloc[i, :] = ecdf(expression.iloc[i, :].values)"
      ],
      "metadata": {
        "id": "NCYSgphCk3h7"
      },
      "execution_count": 133,
      "outputs": []
    },
    {
      "cell_type": "code",
      "source": [
        "express_norm_samp = pd.concat([expression, samples], axis=1)\n",
        "express_samp_loc = express_norm_samp\n",
        "c = 0\n",
        "for tissue in express_samp_loc[\"region\"].unique():\n",
        "  print(tissue)\n",
        "  df_male = express_samp_loc[(express_samp_loc.region == tissue) & (express_samp_loc.sex == \"male\")]\n",
        "  df_female = express_samp_loc[(express_samp_loc.region == tissue) & (express_samp_loc.sex == \"female\")]\n",
        "\n",
        "  unique_genes = expression.columns\n",
        "  p_values= []\n",
        "\n",
        "  for gene in unique_genes:\n",
        "    # stat, p = stats.ttest_ind(a=expression.loc[df_male.index][gene], b=expression.loc[df_female.index][gene], equal_var=False)\n",
        "    # print(len(expression_norm.loc[df_male.index][gene]))\n",
        "    stat, p = stats.ks_2samp(expression.loc[df_male.index][gene], expression.loc[df_female.index][gene])\n",
        "    # _, _, p = stats.anderson_ksamp([expression.loc[df_male.index][gene], expression.loc[df_female.index][gene]])\n",
        "    p_values.append((p, gene))\n",
        "\n",
        "  sorted_pval = sorted(p_values, key=lambda tup: tup[0])\n",
        "  top10genes = [tup[1] for tup in sorted_pval[:10]]\n",
        "  # print(top10genes)\n",
        "\n",
        "  op_chrom = genes.loc[top10genes].loc[:, 'chrom'].values\n",
        "  op_genes = genes.loc[top10genes].loc[:, 'sym'].values\n",
        "  chrom_counter = Counter(op_chrom)\n",
        "  count = np.sum([chrom_counter[key] for key, value in chrom_counter.items() if key in [\"X\", \"Y\", \"X Y\"]])\n",
        "  print(count)\n",
        "  print(op_chrom, op_genes)\n",
        "  print(\"\")\n",
        "  c += 1\n",
        "\n",
        "\n",
        "\n"
      ],
      "metadata": {
        "id": "tny1Xwyzk5AM",
        "outputId": "dd01d872-65a7-4f2e-da67-4121ff946b61",
        "colab": {
          "base_uri": "https://localhost:8080/"
        }
      },
      "execution_count": 142,
      "outputs": [
        {
          "output_type": "stream",
          "name": "stdout",
          "text": [
            "A.C. cortex\n",
            "7\n",
            "['Y', 'Y', 'Y', 'Y', 'X', '8', 'Y', 'X', '8', '10']\n",
            "Categories (39, object): ['1', '10', '10ak*', '10ptp*', ..., 'X', 'X Y', 'Y', 'na'] ['UTY', 'KDM5D', 'DDX3Y', 'RPS4Y1', 'XIST', 'CRH', 'USP9Y', 'P2RY10', 'LY96', 'SH3PXD2A']\n",
            "Categories (8783, object): ['AADAC', 'AAK1', 'AAMP', 'AANAT', ..., 'ZYX', 'ZZEF1', 'ZZZ3', 'psiTPTE22']\n",
            "\n",
            "cerebellum\n",
            "8\n",
            "['Y', 'Y', 'Y', 'X', 'Y', 'Y', 'Y', '6', 'X', '8']\n",
            "Categories (39, object): ['1', '10', '10ak*', '10ptp*', ..., 'X', 'X Y', 'Y', 'na'] ['DDX3Y', 'RPS4Y1', 'KDM5D', 'XIST', 'TTTY15', 'UTY', 'USP9Y', 'CD24', 'PLXNB3', 'YWHAZ']\n",
            "Categories (8783, object): ['AADAC', 'AAK1', 'AAMP', 'AANAT', ..., 'ZYX', 'ZZEF1', 'ZZZ3', 'psiTPTE22']\n",
            "\n",
            "D.L.P.F. cortex\n",
            "9\n",
            "['Y', 'Y', 'Y', 'Y', 'Y', 'X', 'Y', 'Y', 'X', '9']\n",
            "Categories (39, object): ['1', '10', '10ak*', '10ptp*', ..., 'X', 'X Y', 'Y', 'na'] ['KDM5D', 'DDX3Y', 'RPS4Y1', 'NLGN4Y', 'TTTY15', 'XIST', 'UTY', 'USP9Y', NaN, 'NR4A3']\n",
            "Categories (8783, object): ['AADAC', 'AAK1', 'AAMP', 'AANAT', ..., 'ZYX', 'ZZEF1', 'ZZZ3', 'psiTPTE22']\n",
            "\n"
          ]
        }
      ]
    },
    {
      "cell_type": "markdown",
      "source": [
        "#OLS"
      ],
      "metadata": {
        "id": "gQRsbeDhGsZl"
      }
    },
    {
      "cell_type": "markdown",
      "source": [
        "expression"
      ],
      "metadata": {
        "id": "q74sjjLSTHND"
      }
    },
    {
      "cell_type": "code",
      "source": [
        "#need to create a design matrix - model \n",
        "# expression = beta_1*gender + beta_2* lab + beta_3* tissue * beta_4 * chrom + beta_5 * chip_version\n",
        "\n",
        "#train one model per gene. \n",
        "\n",
        "#so need to make this dataset\n",
        "human_genes = genes[genes.chrom.notnull() & genes.sym.notnull()].index;\n",
        "#est2.conf_int(alpha=0.05, cols=None)\n",
        "\n",
        "coef_gene = []\n",
        "for gene in human_genes[:]:\n",
        "  samples_tmp = samples.drop(columns= [\"patient\"]);\n",
        "  one_hot_encoding = pd.get_dummies(samples_tmp);\n",
        "  one_hot_encoding = one_hot_encoding.drop(columns= [\"sex_female\", 'chip.version_v2', \"region_cerebellum\", \"lab_Davis\"]);\n",
        "  # one_hot_encoding = one_hot_encoding.drop(columns= [\"sex_female\", 'chip.version_v2', \"patient_patient_10\", \"region_cerebellum\", \"lab_Davis\"]);\n",
        "  X = sm.add_constant(one_hot_encoding);\n",
        "  model = sm.OLS(expression[gene],X);\n",
        "  results = model.fit();\n",
        "  lcb = results.conf_int(alpha= 0.001).loc[\"sex_male\"][0]\n",
        "  ucb = results.conf_int(alpha= 0.001).loc[\"sex_male\"][1]\n",
        "  if not lcb < 0 < ucb:\n",
        "    coef_gene.append((gene, np.abs(results.params[\"sex_male\"]), lcb, ucb))\n"
      ],
      "metadata": {
        "id": "an0p2BrKGtbL"
      },
      "execution_count": null,
      "outputs": []
    },
    {
      "cell_type": "code",
      "source": [
        "  sorted_coef_gene = sorted(coef_gene, key=lambda tup: tup[1])\n",
        "  print(sorted_coef_gene[-10:])\n",
        "  top10genes = [tup[0] for tup in sorted_coef_gene[-10:]]\n",
        "  op_chrom = genes.loc[top10genes].loc[:, 'chrom'].values\n",
        "  op_genes = genes.loc[top10genes].loc[:, 'sym'].values\n",
        "\n",
        "  print(op_chrom, op_genes)"
      ],
      "metadata": {
        "id": "6_GAe7EwMcvI",
        "outputId": "61e926d7-03b8-4cd1-ecf1-6e06adc5c54b",
        "colab": {
          "base_uri": "https://localhost:8080/"
        }
      },
      "execution_count": null,
      "outputs": [
        {
          "output_type": "stream",
          "name": "stdout",
          "text": [
            "[('38446_at', 0.32211163562325, -0.6392439071327769, -0.004979364113723184), ('32052_at', 0.6618093936031971, -1.2418658692260938, -0.08175291798030049), ('38355_at', 0.8080392266143466, 0.40988997154483925, 1.206188481683854), ('41214_at', 1.198685352333169, 0.8018963739565279, 1.5954743307098103)]\n",
            "['X', '11', 'Y', 'Y']\n",
            "Categories (39, object): ['1', '10', '10ak*', '10ptp*', ..., 'X', 'X Y', 'Y', 'na'] ['XIST', 'HBB', 'DDX3Y', 'RPS4Y1']\n",
            "Categories (8783, object): ['AADAC', 'AAK1', 'AAMP', 'AANAT', ..., 'ZYX', 'ZZEF1', 'ZZZ3', 'psiTPTE22']\n"
          ]
        }
      ]
    },
    {
      "cell_type": "markdown",
      "source": [
        "expression_norm"
      ],
      "metadata": {
        "id": "Rg4LVbAyTIu-"
      }
    },
    {
      "cell_type": "code",
      "source": [
        "#need to create a design matrix - model \n",
        "# expression = beta_1*gender + beta_2* lab + beta_3* tissue * beta_4 * chrom + beta_5 * chip_version\n",
        "\n",
        "#train one model per gene. \n",
        "\n",
        "#so need to make this dataset\n",
        "human_genes = genes[genes.chrom.notnull() & genes.sym.notnull()].index;\n",
        "#est2.conf_int(alpha=0.05, cols=None)\n",
        "\n",
        "coef_gene = []\n",
        "for gene in human_genes[:]:\n",
        "  samples_tmp = samples.drop(columns= [\"patient\"]);\n",
        "  one_hot_encoding = pd.get_dummies(samples_tmp);\n",
        "  one_hot_encoding = one_hot_encoding.drop(columns= [\"sex_female\", 'chip.version_v2', \"region_cerebellum\", \"lab_Davis\"]);\n",
        "  # one_hot_encoding = one_hot_encoding.drop(columns= [\"sex_female\", 'chip.version_v2', \"patient_patient_10\", \"region_cerebellum\", \"lab_Davis\"]);\n",
        "  X = sm.add_constant(one_hot_encoding);\n",
        "  model = sm.OLS(expression[gene],X);\n",
        "  results = model.fit();\n",
        "  lcb = results.conf_int(alpha= 0.05).loc[\"lab_Michigan\"][0]\n",
        "  ucb = results.conf_int(alpha= 0.05).loc[\"lab_Michigan\"][1]\n",
        "  # if not lcb < 0 < ucb:\n",
        "  coef_gene.append((gene, np.abs(results.params[\"lab_Michigan\"] - results.params[\"lab_Irvine\"]), lcb, ucb))\n"
      ],
      "metadata": {
        "id": "X-KH3TYzTDHI"
      },
      "execution_count": null,
      "outputs": []
    },
    {
      "cell_type": "code",
      "source": [
        "  sorted_coef_gene = sorted(coef_gene, key=lambda tup: tup[1])\n",
        "  print(sorted_coef_gene[-10:])"
      ],
      "metadata": {
        "id": "sebxDqQzTGFL",
        "outputId": "56c71dc7-2182-42dc-e7c7-760e98fc935c",
        "colab": {
          "base_uri": "https://localhost:8080/"
        }
      },
      "execution_count": null,
      "outputs": [
        {
          "output_type": "stream",
          "name": "stdout",
          "text": [
            "[('39332_at', 4.47904464885951, -2.861892868285674, -1.869963654207997), ('38032_at', 4.480369541215368, -3.0167140310342293, -1.9652224158591367), ('38711_at', 4.480434385659045, -3.931502010098435, -2.89440882356684), ('38406_f_at', 4.480728639317509, -2.356090694292533, -1.4555582590719984), ('36410_f_at', 4.502172403652644, -2.2511984979069717, -1.4052621836064687), ('38708_at', 4.590756672580022, -3.6366487312536155, -2.5655383131606224), ('36285_at', 4.620910422292189, -3.0267875594923352, -1.8557433924323363), ('35778_at', 4.633202311285724, -3.7011445550498294, -2.67724605636883), ('38308_g_at', 4.640368895846539, -2.868998385275601, -1.575558789557934), ('37760_at', 4.673930828643323, -3.185903396188331, -2.29050951082583)]\n"
          ]
        }
      ]
    }
  ]
}