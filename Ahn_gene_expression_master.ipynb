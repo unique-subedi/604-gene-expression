{
  "nbformat": 4,
  "nbformat_minor": 0,
  "metadata": {
    "colab": {
      "provenance": [],
      "collapsed_sections": [
        "PRgbp7fbkIXC",
        "Fe78S190QYpk",
        "smRy5hmJZPH9"
      ],
      "toc_visible": true,
      "include_colab_link": true
    },
    "kernelspec": {
      "name": "python3",
      "display_name": "Python 3"
    },
    "language_info": {
      "name": "python"
    }
  },
  "cells": [
    {
      "cell_type": "markdown",
      "metadata": {
        "id": "view-in-github",
        "colab_type": "text"
      },
      "source": [
        "<a href=\"https://colab.research.google.com/github/unique-subedi/gene-expression/blob/main/Ahn_gene_expression_master.ipynb\" target=\"_parent\"><img src=\"https://colab.research.google.com/assets/colab-badge.svg\" alt=\"Open In Colab\"/></a>"
      ]
    },
    {
      "cell_type": "code",
      "source": [
        "import os\n",
        "import datetime\n",
        "import time\n",
        "import math\n",
        "import numpy as np\n",
        "from numpy import linalg as LA\n",
        "import scipy\n",
        "import pandas as pd\n",
        "import matplotlib.pyplot as plt\n",
        "import urllib.request"
      ],
      "metadata": {
        "id": "BmXo9Yr-pn3a"
      },
      "execution_count": 1,
      "outputs": []
    },
    {
      "cell_type": "code",
      "source": [
        "!pip install pyreadr\n",
        "import pyreadr\n",
        "urllib.request.urlretrieve(\"https://raw.githubusercontent.com/unique-subedi/gene-expression/main/data/brain.rda\", \"brain.rda\")\n",
        "brain = pyreadr.read_r(\"brain.rda\")\n",
        "\n",
        "expression = pd.DataFrame(brain[\"expression\"])\n",
        "genes = pd.DataFrame(brain[\"genes\"])\n",
        "samples = pd.DataFrame(brain[\"samples\"])\n",
        "\n",
        "# control genes\n",
        "genes_c = genes[(pd.isna(genes.sym)) & (pd.isna(genes.chrom))]"
      ],
      "metadata": {
        "id": "cISjdI7TGXg4",
        "outputId": "d28f31f1-2c6e-42fa-a88a-6303c470f7f1",
        "colab": {
          "base_uri": "https://localhost:8080/"
        }
      },
      "execution_count": 2,
      "outputs": [
        {
          "output_type": "stream",
          "name": "stdout",
          "text": [
            "Looking in indexes: https://pypi.org/simple, https://us-python.pkg.dev/colab-wheels/public/simple/\n",
            "Collecting pyreadr\n",
            "  Downloading pyreadr-0.4.7-cp37-cp37m-manylinux_2_17_x86_64.manylinux2014_x86_64.whl (363 kB)\n",
            "\u001b[K     |████████████████████████████████| 363 kB 15.0 MB/s \n",
            "\u001b[?25hRequirement already satisfied: pandas>=1.2.0 in /usr/local/lib/python3.7/dist-packages (from pyreadr) (1.3.5)\n",
            "Requirement already satisfied: numpy>=1.17.3 in /usr/local/lib/python3.7/dist-packages (from pandas>=1.2.0->pyreadr) (1.21.6)\n",
            "Requirement already satisfied: pytz>=2017.3 in /usr/local/lib/python3.7/dist-packages (from pandas>=1.2.0->pyreadr) (2022.2.1)\n",
            "Requirement already satisfied: python-dateutil>=2.7.3 in /usr/local/lib/python3.7/dist-packages (from pandas>=1.2.0->pyreadr) (2.8.2)\n",
            "Requirement already satisfied: six>=1.5 in /usr/local/lib/python3.7/dist-packages (from python-dateutil>=2.7.3->pandas>=1.2.0->pyreadr) (1.15.0)\n",
            "Installing collected packages: pyreadr\n",
            "Successfully installed pyreadr-0.4.7\n"
          ]
        }
      ]
    },
    {
      "cell_type": "markdown",
      "source": [
        "# Data Preparation\n",
        "\n",
        "`michigan` dataset contains the measurements, done at University of Michigan lab, of anterior cortex and dorsolateral cortex for each patient. \n",
        "\n",
        "`michigan_diff` subtracts measurement of anterior cortex from the dorsolateral cortex for each patient."
      ],
      "metadata": {
        "id": "dIwkhuiYVQRq"
      }
    },
    {
      "cell_type": "code",
      "source": [
        "# Michigan\n",
        "michigan = expression[(expression.index.str[5] == 'M') & (expression.index.str[3] != 'c') ]\n",
        "michigan_diff = michigan.diff().iloc[1::2,:]\n",
        "michigan_diff.index = \"patient\" + michigan_diff.index.str[:2]\n",
        "#michigan_diff\n",
        "\n",
        "# Davis\n",
        "davis = expression[(expression.index.str[5] == 'D') & (expression.index.str[3] != 'c') ]\n",
        "davis = davis[~davis.index.str[1].isin(['1', '2', '5', '6', '7', '9'])]\n",
        "#davis\n",
        "\n",
        "# Irvine\n",
        "irvine = expression[(expression.index.str[5] == 'I') & (expression.index.str[3] != 'c') ]\n",
        "irvine_diff = irvine.diff().iloc[1::2,:]\n",
        "irvine_diff.index = \"patient\" + irvine_diff.index.str[:2]\n",
        "#irvine_diff"
      ],
      "metadata": {
        "id": "aVw9uUW5gQLz"
      },
      "execution_count": 3,
      "outputs": []
    },
    {
      "cell_type": "markdown",
      "source": [
        "# Hypothesis testing \n",
        "Wilcoxon signed-rank test/paired t-test for each gene excluding controls\n",
        "Tests whether the median of the difference is 0/mean of the difference is 0.  \n",
        "Wilcoxon signed-rank test: A non-parametric alternative test to the paired t-test. "
      ],
      "metadata": {
        "id": "Y00XXP-7AQly"
      }
    },
    {
      "cell_type": "markdown",
      "source": [
        "## Multiple Hypotheses Testing on the actual data"
      ],
      "metadata": {
        "id": "PRgbp7fbkIXC"
      }
    },
    {
      "cell_type": "code",
      "source": [
        "from scipy.stats import wilcoxon\n",
        "from statsmodels.stats.multitest import multipletests\n",
        "\n",
        "# `pvals` stores the pvalues, `rejected` stores the rejected H0 from the multiple hypothesis testing\n",
        "pvals = {}\n",
        "rejected = {}\n",
        "\n",
        "# Remove controls\n",
        "michigan_diff = michigan_diff[[c for c in michigan_diff.columns if c not in genes_c.index]]\n",
        "irvine_diff = irvine_diff[[c for c in irvine_diff.columns if c not in genes_c.index]]\n",
        "\n",
        "# Wilcoxon signed-rank test\n",
        "p_val = michigan_diff.apply(wilcoxon).iloc[1,:]  ; pvals['michigan_w'] = p_val\n",
        "bonferr = multipletests(p_val, method='bonferroni')[0]  ; rejected['michigan_w_b'] = bonferr\n",
        "bh = multipletests(p_val, method='fdr_bh')[0]   ; rejected['michigan_w_bh'] = bh\n",
        "print('Wilcoxon signed-rank test')\n",
        "print('Michigan')\n",
        "print('rejected H0(no correction):{}'.format(sum(p_val<0.05)))\n",
        "print('rejected H0(bonferroni):{}'.format(sum(bonferr)))\n",
        "print('rejected H0(BH):{} \\n'.format(sum(bh)))\n",
        "plt.hist(p_val, bins=np.arange(0, 1, 0.05), alpha=0.7, label='Michigan')\n",
        "\n",
        "p_val = irvine_diff.apply(wilcoxon).iloc[1,:]   ; pvals['irvine_w'] = p_val\n",
        "bonferr = multipletests(p_val, method='bonferroni')[0]  ; rejected['irvine_w_b'] = bonferr\n",
        "bh = multipletests(p_val, method='fdr_bh')[0]  ; rejected['irvine_w_bh'] = bh\n",
        "print('Irvine')\n",
        "print('rejected H0(no correction):{}'.format(sum(p_val<0.05)))\n",
        "print('rejected H0(bonferroni):{}'.format(sum(bonferr)))\n",
        "print('rejected H0(BH):{} \\n'.format(sum(bh)))\n",
        "plt.hist(p_val, bins=np.arange(0, 1, 0.05), alpha=0.7, label='Irvine')\n",
        "plt.legend()"
      ],
      "metadata": {
        "colab": {
          "base_uri": "https://localhost:8080/",
          "height": 462
        },
        "id": "JE3hu8Ki4bbw",
        "outputId": "58d229f6-858f-4c31-f581-c11c29b9c1a9"
      },
      "execution_count": 4,
      "outputs": [
        {
          "output_type": "stream",
          "name": "stdout",
          "text": [
            "Wilcoxon signed-rank test\n",
            "Michigan\n",
            "rejected H0(no correction):11181\n",
            "rejected H0(bonferroni):0\n",
            "rejected H0(BH):11122 \n",
            "\n",
            "Irvine\n",
            "rejected H0(no correction):10\n",
            "rejected H0(bonferroni):0\n",
            "rejected H0(BH):0 \n",
            "\n"
          ]
        },
        {
          "output_type": "execute_result",
          "data": {
            "text/plain": [
              "<matplotlib.legend.Legend at 0x7f7968b00290>"
            ]
          },
          "metadata": {},
          "execution_count": 4
        },
        {
          "output_type": "display_data",
          "data": {
            "text/plain": [
              "<Figure size 432x288 with 1 Axes>"
            ],
            "image/png": "[encoded data removed]"
          },
          "metadata": {
            "needs_background": "light"
          }
        }
      ]
    },
    {
      "cell_type": "code",
      "source": [
        "# Paired t-test\n",
        "\n",
        "from scipy.stats import ttest_1samp\n",
        "# Michigan\n",
        "p_val = [ttest_1samp(michigan_diff.iloc[:,i], 0)[1] for i in np.arange(michigan_diff.shape[1])]\n",
        "pvals['michigan_t'] = p_val\n",
        "\n",
        "bonferr = multipletests(p_val, method='bonferroni')[0]  ; rejected['michigan_t_b'] = bonferr\n",
        "bh = multipletests(p_val, method='fdr_bh')[0]   ; rejected['michigan_t_bh'] = bh\n",
        "print('Paired t-test')\n",
        "print('Michigan')\n",
        "print('rejected H0(no correction):{}'.format(sum([i<0.05 for i in p_val])))\n",
        "print('rejected H0(bonferroni):{}'.format(sum(bonferr)))\n",
        "print('rejected H0(BH):{} \\n'.format(sum(bh)))\n",
        "plt.hist(p_val, bins=np.arange(0, 1, 0.05), alpha=0.7, label='Michigan')\n",
        "\n",
        "# Irvine\n",
        "p_val = [ttest_1samp(irvine_diff.iloc[:,i], 0)[1] for i in np.arange(irvine_diff.shape[1])]\n",
        "pvals['irvine_t'] = p_val\n",
        "\n",
        "bonferr = multipletests(p_val, method='bonferroni')[0]  ; rejected['irvine_t_b'] = bonferr\n",
        "bh = multipletests(p_val, method='fdr_bh')[0]   ; rejected['irinve_t_bh'] = bh\n",
        "print('Irvine')\n",
        "print('rejected H0(no correction):{}'.format(sum([i<0.05 for i in p_val])))\n",
        "print('rejected H0(bonferroni):{}'.format(sum(bonferr)))\n",
        "print('rejected H0(BH):{} \\n'.format(sum(bh)))\n",
        "plt.hist(p_val, bins=np.arange(0, 1, 0.05), alpha=0.7, label='Irvine')\n",
        "plt.legend()\n"
      ],
      "metadata": {
        "colab": {
          "base_uri": "https://localhost:8080/",
          "height": 462
        },
        "id": "KILaLMrfwxxF",
        "outputId": "9fd432b1-c423-4596-80f4-2e79c7c5923e"
      },
      "execution_count": 5,
      "outputs": [
        {
          "output_type": "stream",
          "name": "stdout",
          "text": [
            "Paired t-test\n",
            "Michigan\n",
            "rejected H0(no correction):11206\n",
            "rejected H0(bonferroni):458\n",
            "rejected H0(BH):11196 \n",
            "\n",
            "Irvine\n",
            "rejected H0(no correction):4\n",
            "rejected H0(bonferroni):0\n",
            "rejected H0(BH):0 \n",
            "\n"
          ]
        },
        {
          "output_type": "execute_result",
          "data": {
            "text/plain": [
              "<matplotlib.legend.Legend at 0x7f79684ef6d0>"
            ]
          },
          "metadata": {},
          "execution_count": 5
        },
        {
          "output_type": "display_data",
          "data": {
            "text/plain": [
              "<Figure size 432x288 with 1 Axes>"
            ],
            "image/png": "[encoded data removed]"
          },
          "metadata": {
            "needs_background": "light"
          }
        }
      ]
    },
    {
      "cell_type": "markdown",
      "source": [
        "## Multiple Hypothesis testing on the centered data\n",
        "Lab-wise\n",
        "1. Compute average measurements of the controls for each microarray. We assume the bacterial controls contain information about the microarray effect.\n",
        "2. Centering: subtract the control average for each gene.\n",
        "3. Do multiple hypothesis testing \n"
      ],
      "metadata": {
        "id": "Fe78S190QYpk"
      }
    },
    {
      "cell_type": "code",
      "source": [
        "# Data Centering \n",
        "\n",
        "# Michigan\n",
        "michigan = expression[(expression.index.str[5] == 'M') & (expression.index.str[3] != 'c') ]\n",
        "control = michigan.filter(regex='AFFX').apply(np.mean, axis=1)\n",
        "\n",
        "michigan_c = michigan.sub(control, axis='rows')\n",
        "michigan_c_diff = michigan_c.diff().iloc[1::2,:]\n",
        "michigan_c_diff.index = \"patient\" + michigan_c_diff.index.str[:2]\n",
        "\n",
        "# Irvine\n",
        "irvine = expression[(expression.index.str[5] == 'I') & (expression.index.str[3] != 'c') ]\n",
        "control = irvine.filter(regex='AFFX').apply(np.mean, axis=1)\n",
        "\n",
        "irvine_c = irvine.sub(control, axis='rows')\n",
        "irvine_c_diff = irvine_c.diff().iloc[1::2,:]\n",
        "irvine_c_diff.index = \"patient\" + irvine_c_diff.index.str[:2]"
      ],
      "metadata": {
        "id": "Q8ph_iC3LSyy"
      },
      "execution_count": 6,
      "outputs": []
    },
    {
      "cell_type": "code",
      "source": [
        "from scipy.stats import wilcoxon\n",
        "from statsmodels.stats.multitest import multipletests\n",
        "# Remove controls\n",
        "michigan_c_diff = michigan_c_diff[[c for c in michigan_c_diff.columns if c not in genes_c.index]]\n",
        "irvine_c_diff = irvine_c_diff[[c for c in irvine_c_diff.columns if c not in genes_c.index]]\n",
        "\n",
        "\n",
        "pvals_c = {}\n",
        "rejected_c = {}\n",
        "\n",
        "# Wilcoxon signed-rank test\n",
        "p_val = michigan_c_diff.apply(wilcoxon).iloc[1,:]   ;pvals_c['michigan_c_w'] = p_val\n",
        "bonferr = multipletests(p_val, method='bonferroni')[0]  ;rejected_c['michigan_c_w_b'] = bonferr\n",
        "bh = multipletests(p_val, method='fdr_bh')[0]   ;rejected_c['michigan_c_w_bh'] = bh\n",
        "print('Wilcoxon signed-rank test')\n",
        "print('Michigan')\n",
        "print('rejected H0(no correction):{}'.format(sum(p_val<0.05)))\n",
        "print('rejected H0(bonferroni):{}'.format(sum(bonferr)))\n",
        "print('rejected H0(BH):{} \\n'.format(sum(bh)))\n",
        "plt.hist(p_val, bins=np.arange(0, 1, 0.05), alpha=0.7, label='Michigan')\n",
        "\n",
        "p_val = irvine_c_diff.apply(wilcoxon).iloc[1,:]   ;pvals_c['irvine_c_w'] = p_val\n",
        "bonferr = multipletests(p_val, method='bonferroni')[0]  ;rejected_c['irvine_c_w_b'] = bonferr\n",
        "bh = multipletests(p_val, method='fdr_bh')[0]   ;rejected_c['irvine_c_w_bh'] = bonferr\n",
        "print('Irvine')\n",
        "print('rejected H0(no correction):{}'.format(sum(p_val<0.05)))\n",
        "print('rejected H0(bonferroni):{}'.format(sum(bonferr)))\n",
        "print('rejected H0(BH):{} \\n'.format(sum(bh)))\n",
        "plt.hist(p_val, bins=np.arange(0, 1, 0.05), alpha=0.7, label='Irvine')\n",
        "plt.legend()"
      ],
      "metadata": {
        "colab": {
          "base_uri": "https://localhost:8080/",
          "height": 462
        },
        "id": "Df8Y6TXlNbo5",
        "outputId": "bb5c9046-e0c7-4211-8af9-0c3f447d364d"
      },
      "execution_count": 7,
      "outputs": [
        {
          "output_type": "stream",
          "name": "stdout",
          "text": [
            "Wilcoxon signed-rank test\n",
            "Michigan\n",
            "rejected H0(no correction):4637\n",
            "rejected H0(bonferroni):0\n",
            "rejected H0(BH):3318 \n",
            "\n",
            "Irvine\n",
            "rejected H0(no correction):390\n",
            "rejected H0(bonferroni):0\n",
            "rejected H0(BH):0 \n",
            "\n"
          ]
        },
        {
          "output_type": "execute_result",
          "data": {
            "text/plain": [
              "<matplotlib.legend.Legend at 0x7f79685ff590>"
            ]
          },
          "metadata": {},
          "execution_count": 7
        },
        {
          "output_type": "display_data",
          "data": {
            "text/plain": [
              "<Figure size 432x288 with 1 Axes>"
            ],
            "image/png": "[encoded data removed]"
          },
          "metadata": {
            "needs_background": "light"
          }
        }
      ]
    },
    {
      "cell_type": "code",
      "source": [
        "# Paired t-test\n",
        "from scipy.stats import ttest_1samp\n",
        "from statsmodels.stats.multitest import multipletests\n",
        "\n",
        "# Michigan\n",
        "p_val = [ttest_1samp(michigan_c_diff.iloc[:,i], 0)[1] for i in np.arange(michigan_c_diff.shape[1])]\n",
        "pvals_c['michigan_c_t'] = p_val\n",
        "\n",
        "bonferr = multipletests(p_val, method='bonferroni')[0]    ; rejected_c['michigan_c_t_b'] = bonferr\n",
        "bh = multipletests(p_val, method='fdr_bh')[0]   ; rejected_c['michigan_c_t_bh'] = bh\n",
        "print('Paired t-test')\n",
        "print('Michigan')\n",
        "print('rejected H0(no correction):{}'.format(sum([i<0.05 for i in p_val])))\n",
        "print('rejected H0(bonferroni):{}'.format(sum(bonferr)))\n",
        "print('rejected H0(BH):{} \\n'.format(sum(bh)))\n",
        "plt.hist(p_val, bins=np.arange(0, 1, 0.05), alpha=0.5, label='Michigan')\n",
        "\n",
        "# Irvine\n",
        "p_val = [ttest_1samp(irvine_c_diff.iloc[:,i], 0)[1] for i in np.arange(irvine_c_diff.shape[1])]\n",
        "pvals_c['irvine_c_t'] = p_val\n",
        "\n",
        "bonferr = multipletests(p_val, method='bonferroni')[0]    ; rejected_c['irvine_c_t_b'] = bonferr\n",
        "bh = multipletests(p_val, method='fdr_bh')[0]   ; rejected_c['irvine_c_t_bh'] = bh\n",
        "print('Irvine')\n",
        "print('rejected H0(no correction):{}'.format(sum([i<0.05 for i in p_val])))\n",
        "print('rejected H0(bonferroni):{}'.format(sum(bonferr)))\n",
        "print('rejected H0(BH):{} \\n'.format(sum(bh)))\n",
        "plt.hist(p_val, bins=np.arange(0, 1, 0.05), alpha=0.5, label='Irvine')\n",
        "plt.legend()"
      ],
      "metadata": {
        "colab": {
          "base_uri": "https://localhost:8080/",
          "height": 462
        },
        "id": "HwnY6K_xOTVP",
        "outputId": "2d500b8b-a797-489a-a942-d7871e5f599b"
      },
      "execution_count": 8,
      "outputs": [
        {
          "output_type": "stream",
          "name": "stdout",
          "text": [
            "Paired t-test\n",
            "Michigan\n",
            "rejected H0(no correction):4870\n",
            "rejected H0(bonferroni):187\n",
            "rejected H0(BH):3492 \n",
            "\n",
            "Irvine\n",
            "rejected H0(no correction):380\n",
            "rejected H0(bonferroni):0\n",
            "rejected H0(BH):0 \n",
            "\n"
          ]
        },
        {
          "output_type": "execute_result",
          "data": {
            "text/plain": [
              "<matplotlib.legend.Legend at 0x7f798245d6d0>"
            ]
          },
          "metadata": {},
          "execution_count": 8
        },
        {
          "output_type": "display_data",
          "data": {
            "text/plain": [
              "<Figure size 432x288 with 1 Axes>"
            ],
            "image/png": "[encoded data removed]"
          },
          "metadata": {
            "needs_background": "light"
          }
        }
      ]
    },
    {
      "cell_type": "markdown",
      "source": [
        "## Multiple Hypothesis Testing results\n",
        "The keys are represented as : {lab}_{wilcoxon/t-test}_{bonferroni/B-H}.  \n",
        "The cotrol centered data gives the results that we expect."
      ],
      "metadata": {
        "id": "smRy5hmJZPH9"
      }
    },
    {
      "cell_type": "code",
      "source": [
        "print('# of rejected H0 using the actual data')\n",
        "print(pd.DataFrame(rejected).apply(np.sum))\n",
        "\n",
        "print('# of rejected H0 using the centered data')\n",
        "print(pd.DataFrame(rejected_c).apply(np.sum))\n"
      ],
      "metadata": {
        "colab": {
          "base_uri": "https://localhost:8080/"
        },
        "id": "gTVBbw8cT8sf",
        "outputId": "fb520fcf-0b08-4067-9b1e-bd166eac9fe7"
      },
      "execution_count": 9,
      "outputs": [
        {
          "output_type": "stream",
          "name": "stdout",
          "text": [
            "# of rejected H0 using the actual data\n",
            "michigan_w_b         0\n",
            "michigan_w_bh    11122\n",
            "irvine_w_b           0\n",
            "irvine_w_bh          0\n",
            "michigan_t_b       458\n",
            "michigan_t_bh    11196\n",
            "irvine_t_b           0\n",
            "irinve_t_bh          0\n",
            "dtype: int64\n",
            "# of rejected H0 using the centered data\n",
            "michigan_c_w_b        0\n",
            "michigan_c_w_bh    3318\n",
            "irvine_c_w_b          0\n",
            "irvine_c_w_bh         0\n",
            "michigan_c_t_b      187\n",
            "michigan_c_t_bh    3492\n",
            "irvine_c_t_b          0\n",
            "irvine_c_t_bh         0\n",
            "dtype: int64\n"
          ]
        }
      ]
    },
    {
      "cell_type": "markdown",
      "source": [
        "Do the same procedure on the aggregated (Michigan + Irvine) data"
      ],
      "metadata": {
        "id": "GgOwG1TxZkqp"
      }
    },
    {
      "cell_type": "code",
      "source": [
        "df = pd.concat([michigan_c_diff, irvine_c_diff])  # Row index not adjusted\n",
        "\n",
        "# Wilcoxon signed-rank test\n",
        "p_val = df.apply(wilcoxon).iloc[1,:] \n",
        "bonferr = multipletests(p_val, method='bonferroni')[0]  \n",
        "bh = multipletests(p_val, method='fdr_bh')[0]  \n",
        "print('Wilcoxon signed-rank test')\n",
        "print('rejected H0(no correction):{}'.format(sum(p_val<0.05)))\n",
        "print('rejected H0(bonferroni):{}'.format(sum(bonferr)))\n",
        "print('rejected H0(BH):{} \\n'.format(sum(bh)))\n",
        "plt.hist(p_val, bins=np.arange(0, 1, 0.05), alpha=0.7, label='Aggregate_W')\n",
        "\n",
        "\n",
        "# Paired t-test\n",
        "p_val = [ttest_1samp(df.iloc[:,i], 0)[1] for i in np.arange(df.shape[1])]\n",
        "bonferr = multipletests(p_val, method='bonferroni')[0]  \n",
        "bh = multipletests(p_val, method='fdr_bh')[0]   \n",
        "print('paired t-test')\n",
        "print('rejected H0(no correction):{}'.format(sum([i<0.05 for i in p_val])))\n",
        "print('rejected H0(bonferroni):{}'.format(sum(bonferr)))\n",
        "print('rejected H0(BH):{} \\n'.format(sum(bh)))\n",
        "plt.hist(p_val, bins=np.arange(0, 1, 0.05), alpha=0.5, label='Aggregate_T')\n",
        "plt.legend()\n"
      ],
      "metadata": {
        "colab": {
          "base_uri": "https://localhost:8080/",
          "height": 445
        },
        "id": "CXwk2BumYELL",
        "outputId": "1eade526-6a1d-48ec-e780-a55d87f90108"
      },
      "execution_count": 55,
      "outputs": [
        {
          "output_type": "stream",
          "name": "stdout",
          "text": [
            "Wilcoxon signed-rank test\n",
            "rejected H0(no correction):3136\n",
            "rejected H0(bonferroni):3\n",
            "rejected H0(BH):654 \n",
            "\n",
            "paired t-test\n",
            "rejected H0(no correction):3428\n",
            "rejected H0(bonferroni):3\n",
            "rejected H0(BH):780 \n",
            "\n"
          ]
        },
        {
          "output_type": "execute_result",
          "data": {
            "text/plain": [
              "<matplotlib.legend.Legend at 0x7f79643e4b90>"
            ]
          },
          "metadata": {},
          "execution_count": 55
        },
        {
          "output_type": "display_data",
          "data": {
            "text/plain": [
              "<Figure size 432x288 with 1 Axes>"
            ],
            "image/png": "[encoded data removed]"
          },
          "metadata": {
            "needs_background": "light"
          }
        }
      ]
    },
    {
      "cell_type": "markdown",
      "source": [
        "# Gene Investigation\n",
        "Investigate genes(187): centered data from Michigan lab using paired t-test w/ bonferroni correction: michigan_c_t_b "
      ],
      "metadata": {
        "id": "hcMs3tOoZ1T8"
      }
    },
    {
      "cell_type": "code",
      "source": [
        "g = michigan_c_diff.columns[rejected_c['michigan_c_t_b']]\n",
        "g_pval = np.array(pvals_c['michigan_c_t'])\n",
        "g_pval = g_pval[np.array(rejected_c['michigan_c_t_b'])]\n",
        "genes.loc[g]"
      ],
      "metadata": {
        "colab": {
          "base_uri": "https://localhost:8080/",
          "height": 411
        },
        "id": "mbLDfzPeaUds",
        "outputId": "8f8c0a1e-88c0-4760-a2d3-33e04206f95c"
      },
      "execution_count": 56,
      "outputs": [
        {
          "output_type": "execute_result",
          "data": {
            "text/plain": [
              "               sym chrom\n",
              "1225_g_at    PCTK1     X\n",
              "1310_at      PSMB2     1\n",
              "1347_at     CDC25B    20\n",
              "1383_at    PPP2R2A     8\n",
              "1392_at       GRK6     5\n",
              "...            ...   ...\n",
              "472_at      STAT5B    17\n",
              "534_s_at     FOLR1    11\n",
              "818_s_at      ATRX     X\n",
              "838_s_at     UBE2I    16\n",
              "956_at      TUBB2C     9\n",
              "\n",
              "[187 rows x 2 columns]"
            ],
            "text/html": [
              "\n",
              "  <div id=\"df-69be2d86-2392-4aa1-84be-8af605e6a42c\">\n",
              "    <div class=\"colab-df-container\">\n",
              "      <div>\n",
              "<style scoped>\n",
              "    .dataframe tbody tr th:only-of-type {\n",
              "        vertical-align: middle;\n",
              "    }\n",
              "\n",
              "    .dataframe tbody tr th {\n",
              "        vertical-align: top;\n",
              "    }\n",
              "\n",
              "    .dataframe thead th {\n",
              "        text-align: right;\n",
              "    }\n",
              "</style>\n",
              "<table border=\"1\" class=\"dataframe\">\n",
              "  <thead>\n",
              "    <tr style=\"text-align: right;\">\n",
              "      <th></th>\n",
              "      <th>sym</th>\n",
              "      <th>chrom</th>\n",
              "    </tr>\n",
              "  </thead>\n",
              "  <tbody>\n",
              "    <tr>\n",
              "      <th>1225_g_at</th>\n",
              "      <td>PCTK1</td>\n",
              "      <td>X</td>\n",
              "    </tr>\n",
              "    <tr>\n",
              "      <th>1310_at</th>\n",
              "      <td>PSMB2</td>\n",
              "      <td>1</td>\n",
              "    </tr>\n",
              "    <tr>\n",
              "      <th>1347_at</th>\n",
              "      <td>CDC25B</td>\n",
              "      <td>20</td>\n",
              "    </tr>\n",
              "    <tr>\n",
              "      <th>1383_at</th>\n",
              "      <td>PPP2R2A</td>\n",
              "      <td>8</td>\n",
              "    </tr>\n",
              "    <tr>\n",
              "      <th>1392_at</th>\n",
              "      <td>GRK6</td>\n",
              "      <td>5</td>\n",
              "    </tr>\n",
              "    <tr>\n",
              "      <th>...</th>\n",
              "      <td>...</td>\n",
              "      <td>...</td>\n",
              "    </tr>\n",
              "    <tr>\n",
              "      <th>472_at</th>\n",
              "      <td>STAT5B</td>\n",
              "      <td>17</td>\n",
              "    </tr>\n",
              "    <tr>\n",
              "      <th>534_s_at</th>\n",
              "      <td>FOLR1</td>\n",
              "      <td>11</td>\n",
              "    </tr>\n",
              "    <tr>\n",
              "      <th>818_s_at</th>\n",
              "      <td>ATRX</td>\n",
              "      <td>X</td>\n",
              "    </tr>\n",
              "    <tr>\n",
              "      <th>838_s_at</th>\n",
              "      <td>UBE2I</td>\n",
              "      <td>16</td>\n",
              "    </tr>\n",
              "    <tr>\n",
              "      <th>956_at</th>\n",
              "      <td>TUBB2C</td>\n",
              "      <td>9</td>\n",
              "    </tr>\n",
              "  </tbody>\n",
              "</table>\n",
              "<p>187 rows × 2 columns</p>\n",
              "</div>\n",
              "      <button class=\"colab-df-convert\" onclick=\"convertToInteractive('df-69be2d86-2392-4aa1-84be-8af605e6a42c')\"\n",
              "              title=\"Convert this dataframe to an interactive table.\"\n",
              "              style=\"display:none;\">\n",
              "        \n",
              "  <svg xmlns=\"http://www.w3.org/2000/svg\" height=\"24px\"viewBox=\"0 0 24 24\"\n",
              "       width=\"24px\">\n",
              "    <path d=\"M0 0h24v24H0V0z\" fill=\"none\"/>\n",
              "    <path d=\"M18.56 5.44l.94 2.06.94-2.06 2.06-.94-2.06-.94-.94-2.06-.94 2.06-2.06.94zm-11 1L8.5 8.5l.94-2.06 2.06-.94-2.06-.94L8.5 2.5l-.94 2.06-2.06.94zm10 10l.94 2.06.94-2.06 2.06-.94-2.06-.94-.94-2.06-.94 2.06-2.06.94z\"/><path d=\"M17.41 7.96l-1.37-1.37c-.4-.4-.92-.59-1.43-.59-.52 0-1.04.2-1.43.59L10.3 9.45l-7.72 7.72c-.78.78-.78 2.05 0 2.83L4 21.41c.39.39.9.59 1.41.59.51 0 1.02-.2 1.41-.59l7.78-7.78 2.81-2.81c.8-.78.8-2.07 0-2.86zM5.41 20L4 18.59l7.72-7.72 1.47 1.35L5.41 20z\"/>\n",
              "  </svg>\n",
              "      </button>\n",
              "      \n",
              "  <style>\n",
              "    .colab-df-container {\n",
              "      display:flex;\n",
              "      flex-wrap:wrap;\n",
              "      gap: 12px;\n",
              "    }\n",
              "\n",
              "    .colab-df-convert {\n",
              "      background-color: #E8F0FE;\n",
              "      border: none;\n",
              "      border-radius: 50%;\n",
              "      cursor: pointer;\n",
              "      display: none;\n",
              "      fill: #1967D2;\n",
              "      height: 32px;\n",
              "      padding: 0 0 0 0;\n",
              "      width: 32px;\n",
              "    }\n",
              "\n",
              "    .colab-df-convert:hover {\n",
              "      background-color: #E2EBFA;\n",
              "      box-shadow: 0px 1px 2px rgba(60, 64, 67, 0.3), 0px 1px 3px 1px rgba(60, 64, 67, 0.15);\n",
              "      fill: #174EA6;\n",
              "    }\n",
              "\n",
              "    [theme=dark] .colab-df-convert {\n",
              "      background-color: #3B4455;\n",
              "      fill: #D2E3FC;\n",
              "    }\n",
              "\n",
              "    [theme=dark] .colab-df-convert:hover {\n",
              "      background-color: #434B5C;\n",
              "      box-shadow: 0px 1px 3px 1px rgba(0, 0, 0, 0.15);\n",
              "      filter: drop-shadow(0px 1px 2px rgba(0, 0, 0, 0.3));\n",
              "      fill: #FFFFFF;\n",
              "    }\n",
              "  </style>\n",
              "\n",
              "      <script>\n",
              "        const buttonEl =\n",
              "          document.querySelector('#df-69be2d86-2392-4aa1-84be-8af605e6a42c button.colab-df-convert');\n",
              "        buttonEl.style.display =\n",
              "          google.colab.kernel.accessAllowed ? 'block' : 'none';\n",
              "\n",
              "        async function convertToInteractive(key) {\n",
              "          const element = document.querySelector('#df-69be2d86-2392-4aa1-84be-8af605e6a42c');\n",
              "          const dataTable =\n",
              "            await google.colab.kernel.invokeFunction('convertToInteractive',\n",
              "                                                     [key], {});\n",
              "          if (!dataTable) return;\n",
              "\n",
              "          const docLinkHtml = 'Like what you see? Visit the ' +\n",
              "            '<a target=\"_blank\" href=https://colab.research.google.com/notebooks/data_table.ipynb>data table notebook</a>'\n",
              "            + ' to learn more about interactive tables.';\n",
              "          element.innerHTML = '';\n",
              "          dataTable['output_type'] = 'display_data';\n",
              "          await google.colab.output.renderOutput(dataTable, element);\n",
              "          const docLink = document.createElement('div');\n",
              "          docLink.innerHTML = docLinkHtml;\n",
              "          element.appendChild(docLink);\n",
              "        }\n",
              "      </script>\n",
              "    </div>\n",
              "  </div>\n",
              "  "
            ]
          },
          "metadata": {},
          "execution_count": 56
        }
      ]
    },
    {
      "cell_type": "code",
      "source": [
        "genes.loc[g].groupby('chrom').size().sort_values(ascending=False)"
      ],
      "metadata": {
        "colab": {
          "base_uri": "https://localhost:8080/"
        },
        "id": "SfPvU797bNX0",
        "outputId": "c0e60710-dde9-4aaa-f3f8-95b364635bbd"
      },
      "execution_count": 54,
      "outputs": [
        {
          "output_type": "execute_result",
          "data": {
            "text/plain": [
              "chrom\n",
              "1          23\n",
              "17         17\n",
              "6          14\n",
              "19         13\n",
              "16         11\n",
              "11         10\n",
              "12         10\n",
              "X           9\n",
              "8           9\n",
              "7           9\n",
              "2           9\n",
              "20          9\n",
              "3           7\n",
              "22          6\n",
              "5           6\n",
              "15          6\n",
              "9           5\n",
              "4           4\n",
              "14          3\n",
              "10          3\n",
              "21          2\n",
              "18          2\n",
              "7cb*        0\n",
              "10ak*       0\n",
              "Un          0\n",
              "X Y         0\n",
              "10ptp*      0\n",
              "Y           0\n",
              "7ps*        0\n",
              "16hba1      0\n",
              "11hbg       0\n",
              "13          0\n",
              "45ac*       0\n",
              "16nomo1     0\n",
              "22gp*       0\n",
              "22gg*       0\n",
              "17loc*      0\n",
              "15ch*       0\n",
              "na          0\n",
              "dtype: int64"
            ]
          },
          "metadata": {},
          "execution_count": 54
        }
      ]
    }
  ]
}