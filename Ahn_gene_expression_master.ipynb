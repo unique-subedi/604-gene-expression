{
  "nbformat": 4,
  "nbformat_minor": 0,
  "metadata": {
    "colab": {
      "provenance": [],
      "collapsed_sections": [],
      "include_colab_link": true
    },
    "kernelspec": {
      "name": "python3",
      "display_name": "Python 3"
    },
    "language_info": {
      "name": "python"
    }
  },
  "cells": [
    {
      "cell_type": "markdown",
      "metadata": {
        "id": "view-in-github",
        "colab_type": "text"
      },
      "source": [
        "<a href=\"https://colab.research.google.com/github/unique-subedi/gene-expression/blob/main/Ahn_gene_expression_master.ipynb\" target=\"_parent\"><img src=\"https://colab.research.google.com/assets/colab-badge.svg\" alt=\"Open In Colab\"/></a>"
      ]
    },
    {
      "cell_type": "code",
      "source": [
        "import os\n",
        "import datetime\n",
        "import time\n",
        "import math\n",
        "import numpy as np\n",
        "from numpy import linalg as LA\n",
        "import scipy \n",
        "import pandas as pd\n",
        "import matplotlib.pyplot as plt\n",
        "import seaborn as sns\n",
        "import urllib.request"
      ],
      "metadata": {
        "id": "BmXo9Yr-pn3a"
      },
      "execution_count": 1,
      "outputs": []
    },
    {
      "cell_type": "code",
      "source": [
        "!pip install pyreadr\n",
        "import pyreadr\n",
        "urllib.request.urlretrieve(\"https://raw.githubusercontent.com/unique-subedi/gene-expression/main/data/brain.rda\", \"brain.rda\")\n",
        "brain = pyreadr.read_r(\"brain.rda\")\n",
        "\n",
        "expression = pd.DataFrame(brain[\"expression\"])\n",
        "genes = pd.DataFrame(brain[\"genes\"])\n",
        "samples = pd.DataFrame(brain[\"samples\"])\n",
        "\n",
        "# Select bacterial controls\n",
        "genes.at[\"AFFX-BioDn-3_at\", 'chrom'] = float(\"Nan\")\n",
        "genes_control = genes[['AFFX' in s for s in genes.index]]\n",
        "genes_control = genes_control[['HUM' not in s for s in genes_control.index]]\n",
        "genes_control = genes_control[['hum' not in s for s in genes_control.index]]\n",
        "genes_bac_index = genes_control[genes_control.chrom.isnull() & genes_control.sym.isnull()].index\n",
        "\n",
        "# Microarray level Normalization: Detected microarray-wise effects for both michigan and irvine\n",
        "# We ideally want very similar distribution(mean, std) for each microarray. \n",
        "# This does not remove lab effects/heterogeneity across labs\n",
        "mean_bac_exp = expression[genes_bac_index].mean(axis=1)\n",
        "std_bac_exp = expression[genes_bac_index].std(axis=1)\n",
        "expression_norm =  (expression - mean_bac_exp.values[:, None]).divide(std_bac_exp, axis=0)"
      ],
      "metadata": {
        "id": "cISjdI7TGXg4",
        "outputId": "abeb6d34-681c-4380-9c22-aa6f5de9c0ac",
        "colab": {
          "base_uri": "https://localhost:8080/"
        }
      },
      "execution_count": 2,
      "outputs": [
        {
          "output_type": "stream",
          "name": "stdout",
          "text": [
            "Looking in indexes: https://pypi.org/simple, https://us-python.pkg.dev/colab-wheels/public/simple/\n",
            "Collecting pyreadr\n",
            "  Downloading pyreadr-0.4.7-cp37-cp37m-manylinux_2_17_x86_64.manylinux2014_x86_64.whl (363 kB)\n",
            "\u001b[K     |████████████████████████████████| 363 kB 13.7 MB/s \n",
            "\u001b[?25hRequirement already satisfied: pandas>=1.2.0 in /usr/local/lib/python3.7/dist-packages (from pyreadr) (1.3.5)\n",
            "Requirement already satisfied: python-dateutil>=2.7.3 in /usr/local/lib/python3.7/dist-packages (from pandas>=1.2.0->pyreadr) (2.8.2)\n",
            "Requirement already satisfied: numpy>=1.17.3 in /usr/local/lib/python3.7/dist-packages (from pandas>=1.2.0->pyreadr) (1.21.6)\n",
            "Requirement already satisfied: pytz>=2017.3 in /usr/local/lib/python3.7/dist-packages (from pandas>=1.2.0->pyreadr) (2022.2.1)\n",
            "Requirement already satisfied: six>=1.5 in /usr/local/lib/python3.7/dist-packages (from python-dateutil>=2.7.3->pandas>=1.2.0->pyreadr) (1.15.0)\n",
            "Installing collected packages: pyreadr\n",
            "Successfully installed pyreadr-0.4.7\n"
          ]
        }
      ]
    },
    {
      "cell_type": "markdown",
      "source": [
        "# Data Preparation\n",
        "\n",
        "`michigan` dataset contains the measurements, done at University of Michigan lab, of anterior cortex and dorsolateral cortex for each patient. \n",
        "\n",
        "`michigan_diff` subtracts measurement of anterior cortex from the dorsolateral cortex for each patient."
      ],
      "metadata": {
        "id": "dIwkhuiYVQRq"
      }
    },
    {
      "cell_type": "code",
      "source": [
        "# Michigan\n",
        "michigan = expression_norm[(expression.index.str[5] == 'M') & (expression.index.str[3] != 'c') ]\n",
        "michigan_diff = michigan.diff().iloc[1::2,:]\n",
        "michigan_diff.index = \"patient\" + michigan_diff.index.str[:2]\n",
        "#michigan_diff\n",
        "\n",
        "# Davis\n",
        "davis = expression_norm[(expression.index.str[5] == 'D') & (expression.index.str[3] != 'c') ]\n",
        "davis = davis[~davis.index.str[1].isin(['1', '2', '5', '6', '7', '9'])]\n",
        "davis_diff = davis.diff().iloc[1::2,:]\n",
        "davis_diff.index = \"patient\" + davis_diff.index.str[:2]\n",
        "#davis\n",
        "\n",
        "# Irvine\n",
        "irvine = expression_norm[(expression.index.str[5] == 'I') & (expression.index.str[3] != 'c') ]\n",
        "irvine_diff = irvine.diff().iloc[1::2,:]\n",
        "irvine_diff.index = \"patient\" + irvine_diff.index.str[:2]\n",
        "#irvine_diff"
      ],
      "metadata": {
        "id": "aVw9uUW5gQLz"
      },
      "execution_count": 3,
      "outputs": []
    },
    {
      "cell_type": "code",
      "source": [
        "'''\n",
        "plt.figure(figsize=(20, 8))\n",
        "plt.grid()\n",
        "sns.boxplot(data=michigan.T)\n",
        "\n",
        "plt.figure(figsize=(20, 8))\n",
        "plt.grid()\n",
        "sns.boxplot(data=irvine.T)\n",
        "'''"
      ],
      "metadata": {
        "colab": {
          "base_uri": "https://localhost:8080/",
          "height": 37
        },
        "id": "G9thanYbynoW",
        "outputId": "51237942-7f51-4543-cd4c-360bf55ad925"
      },
      "execution_count": null,
      "outputs": [
        {
          "output_type": "execute_result",
          "data": {
            "text/plain": [
              "'\\nplt.figure(figsize=(20, 8))\\nplt.grid()\\nsns.boxplot(data=michigan.T)\\n\\nplt.figure(figsize=(20, 8))\\nplt.grid()\\nsns.boxplot(data=irvine.T)\\n'"
            ],
            "application/vnd.google.colaboratory.intrinsic+json": {
              "type": "string"
            }
          },
          "metadata": {},
          "execution_count": 64
        }
      ]
    },
    {
      "cell_type": "code",
      "source": [
        "# Plot human genes\n",
        "plt.figure(figsize=(20, 8))\n",
        "plt.grid()\n",
        "sns.boxplot(data=michigan_diff.iloc[:, 200:300])\n",
        "plt.title('Distirbution of the differences of 100 probe sets from Michigan')\n",
        "plt.tick_params(labelbottom=False, bottom = False)\n",
        "plt.ylabel('Difference')\n",
        "plt.xlabel('Probe sets')\n"
      ],
      "metadata": {
        "colab": {
          "base_uri": "https://localhost:8080/",
          "height": 520
        },
        "id": "DkE6dVxiR3_y",
        "outputId": "63feb362-d7a6-4baf-872c-abc34ff58128"
      },
      "execution_count": null,
      "outputs": [
        {
          "output_type": "execute_result",
          "data": {
            "text/plain": [
              "Text(0.5, 0, 'Probe sets')"
            ]
          },
          "metadata": {},
          "execution_count": 101
        },
        {
          "output_type": "display_data",
          "data": {
            "text/plain": [
              "<Figure size 1440x576 with 1 Axes>"
            ],
            "image/png": "[encoded data removed]"
          },
          "metadata": {
            "needs_background": "light"
          }
        }
      ]
    },
    {
      "cell_type": "code",
      "source": [
        "plt.figure(figsize=(20, 8))\n",
        "plt.grid()\n",
        "sns.boxplot(data=irvine_diff.iloc[:, 200:300])\n",
        "plt.title('Distirbution of the differences of 100 probe sets from Irvine')\n",
        "plt.tick_params(labelbottom = False, bottom=False)\n",
        "plt.ylabel('Difference')\n",
        "plt.xlabel('Probe sets')"
      ],
      "metadata": {
        "colab": {
          "base_uri": "https://localhost:8080/",
          "height": 520
        },
        "id": "QXuGOpjng5Tv",
        "outputId": "035fff90-16e2-4a1d-d470-ca27e2f012b4"
      },
      "execution_count": null,
      "outputs": [
        {
          "output_type": "execute_result",
          "data": {
            "text/plain": [
              "Text(0.5, 0, 'Probe sets')"
            ]
          },
          "metadata": {},
          "execution_count": 102
        },
        {
          "output_type": "display_data",
          "data": {
            "text/plain": [
              "<Figure size 1440x576 with 1 Axes>"
            ],
            "image/png": "[encoded data removed]"
          },
          "metadata": {
            "needs_background": "light"
          }
        }
      ]
    },
    {
      "cell_type": "code",
      "source": [
        "plt.figure(figsize=(20, 8))\n",
        "plt.grid()\n",
        "sns.boxplot(data=davis_diff.iloc[:, 300:400])\n",
        "plt.title('Distirbution of the differences of 100 probe sets from Irvine')\n",
        "plt.tick_params(labelbottom = False, bottom=False)\n",
        "plt.ylabel('Difference')\n",
        "plt.xlabel('Probe sets')"
      ],
      "metadata": {
        "colab": {
          "base_uri": "https://localhost:8080/",
          "height": 520
        },
        "id": "X7aGaWS_5hbJ",
        "outputId": "36a31811-fdbe-4e02-b275-3577243dc9f7"
      },
      "execution_count": null,
      "outputs": [
        {
          "output_type": "execute_result",
          "data": {
            "text/plain": [
              "Text(0.5, 0, 'Probe sets')"
            ]
          },
          "metadata": {},
          "execution_count": 114
        },
        {
          "output_type": "display_data",
          "data": {
            "text/plain": [
              "<Figure size 1440x576 with 1 Axes>"
            ],
            "image/png": "[encoded data removed]"
          },
          "metadata": {
            "needs_background": "light"
          }
        }
      ]
    },
    {
      "cell_type": "code",
      "source": [
        "'''\n",
        "m = michigan_diff.apply(np.mean)\n",
        "i = irvine_diff.apply(np.mean)\n",
        "\n",
        "means = pd.DataFrame({'M': m, 'I':i})\n",
        "plt.figure(figsize=(20, 10))\n",
        "plt.plot(means.M[300:600], label='Michigan')\n",
        "plt.plot(means.I[300:600], label='Irvine')\n",
        "plt.axhline(y=0, color='grey')\n",
        "plt.title('Mean of the differences for each gene')\n",
        "plt.legend()\n",
        "'''"
      ],
      "metadata": {
        "id": "1gNMro77E4Kx",
        "colab": {
          "base_uri": "https://localhost:8080/",
          "height": 71
        },
        "outputId": "92bdf8fc-ce40-407e-abb3-adff85e0590b"
      },
      "execution_count": null,
      "outputs": [
        {
          "output_type": "execute_result",
          "data": {
            "text/plain": [
              "\"\\nm = michigan_diff.apply(np.mean)\\ni = irvine_diff.apply(np.mean)\\n\\nmeans = pd.DataFrame({'M': m, 'I':i})\\nplt.figure(figsize=(20, 10))\\nplt.plot(means.M[300:600], label='Michigan')\\nplt.plot(means.I[300:600], label='Irvine')\\nplt.axhline(y=0, color='grey')\\nplt.title('Mean of the differences for each gene')\\nplt.legend()\\n\""
            ],
            "application/vnd.google.colaboratory.intrinsic+json": {
              "type": "string"
            }
          },
          "metadata": {},
          "execution_count": 66
        }
      ]
    },
    {
      "cell_type": "markdown",
      "source": [
        "# Hypothesis testing \n",
        "Wilcoxon signed-rank test/paired t-test for each gene excluding controls\n",
        "Tests whether the median of the difference is 0/mean of the difference is 0.  \n",
        "Wilcoxon signed-rank test: A non-parametric alternative test to the paired t-test. "
      ],
      "metadata": {
        "id": "Y00XXP-7AQly"
      }
    },
    {
      "cell_type": "markdown",
      "source": [
        "## Multiple Hypotheses Testing on the actual data"
      ],
      "metadata": {
        "id": "PRgbp7fbkIXC"
      }
    },
    {
      "cell_type": "code",
      "source": [
        "from scipy.stats import wilcoxon\n",
        "from scipy.stats import ttest_1samp\n",
        "from statsmodels.stats.multitest import multipletests\n",
        "\n",
        "def get_gene_pvalues(probe_set_pval):\n",
        "  '''\n",
        "  Outputs the p-values for each 'gene'.\n",
        "  For each gene, there could be multiple corresponding probesets. We take the maximum value of the p-values for the gene p-value\n",
        "  '''\n",
        "  unique_genes = genes_u.sym.unique()\n",
        "\n",
        "  # Match probeset to the gene\n",
        "  gene_to_probe_set = {}\n",
        "  for gene in unique_genes:\n",
        "    gene_to_probe_set[gene] = genes_u.index[genes_u.sym == gene].tolist()\n",
        "  \n",
        "  # Get the gene_pvalues(highest p-value among all the probesets)\n",
        "  gene_p_values = pd.Series()\n",
        "\n",
        "  # Iterate over genes:\n",
        "  for gene in unique_genes:\n",
        "    gene_p = 0\n",
        "    gene_probes = gene_to_probe_set[gene]\n",
        "    # For each probe from a gene\n",
        "    for probe in gene_probes:\n",
        "      gene_p = max(gene_p, probe_set_pval[probe])\n",
        "\n",
        "    gene_p_values[gene] = gene_p\n",
        "\n",
        "  return gene_p_values\n",
        "\n",
        "\n",
        "def testing(df, lab, mode):\n",
        "  \n",
        "  '''\n",
        "  do Wilcoxon signed-rank test/paired t-test for each gene. \n",
        "  Make either Bonferroni or Benjamini-Hochberg correction when doing the multiple testing\n",
        "\n",
        "  args:\n",
        "  -----\n",
        "  df: data frame without the controls\n",
        "  lab: should be one of 'michigan', 'irvine', 'davis'\n",
        "  mode: 'w' if Wilcoxon-signed-rank test, 't' if paired t-test\n",
        "  '''\n",
        "\n",
        "  if (mode=='w'):\n",
        "    p_val = df.apply(wilcoxon).iloc[1,:]\n",
        "\n",
        "    print(lab)\n",
        "    print('Wilcoxon signed-rank test')\n",
        "\n",
        "  else:\n",
        "    p_val = pd.Series([ttest_1samp(df.iloc[:,i], 0)[1] for i in np.arange(df.shape[1])], index=df.columns)\n",
        "\n",
        "    print(lab)\n",
        "    print('Paired t-test')\n",
        "\n",
        "  # Convert probeset p-values to gene p-values\n",
        "  p_val = get_gene_pvalues(p_val)\n",
        "  print(len(p_val))\n",
        "\n",
        "  bonferr = pd.Series(multipletests(p_val, method='bonferroni', alpha=0.05)[1], index=p_val.index)\n",
        "  bh = pd.Series(multipletests(p_val, method='fdr_bh', alpha=0.05)[1], index=p_val.index)\n",
        "\n",
        "  # Storing\n",
        "  pvals['_'.join([lab, mode])] = p_val\n",
        "  rejected['_'.join([lab, mode])+'_b'] = bonferr \n",
        "  rejected['_'.join([lab, mode])+'_bh'] = bh  \n",
        "\n",
        "  print('rejected H0(bonferroni):{}'.format(sum(bonferr)))\n",
        "  print('rejected H0(BH):{} \\n'.format(sum(bh)))\n",
        "  plt.title('Histogram of the p-values')\n",
        "  plt.hist(p_val, bins=np.arange(0, 1, 0.01), alpha=0.7, label=lab)\n",
        "  plt.legend()"
      ],
      "metadata": {
        "id": "-8zAm3qKD5Wc"
      },
      "execution_count": 4,
      "outputs": []
    },
    {
      "cell_type": "code",
      "source": [
        "# `pvals` stores the pvalues, `rejected` stores the rejected H0 from the multiple hypothesis testing\n",
        "pvals = {}\n",
        "rejected = {}\n",
        "\n",
        "# Genes that should be used\n",
        "genes_u = genes[~pd.isna(genes.sym)]\n",
        "genes_u = genes_u[['AFFX' not in s for s in genes_u.index]]\n",
        "genes_u\n",
        "\n",
        "# Remove controls, and select genes with symbols\n",
        "michigan_diff = michigan_diff[genes_u.index]\n",
        "irvine_diff = irvine_diff[genes_u.index]\n",
        "\n",
        "testing(michigan_diff, 'michigan', 'w')\n",
        "testing(irvine_diff, 'irvine', 'w')\n",
        "#testing(davis_diff, 'davis', 'w')"
      ],
      "metadata": {
        "id": "BA7KOWtAGhQ4",
        "colab": {
          "base_uri": "https://localhost:8080/",
          "height": 494
        },
        "outputId": "d808e9f3-f73e-492b-a386-de970520a9f3"
      },
      "execution_count": 5,
      "outputs": [
        {
          "output_type": "stream",
          "name": "stdout",
          "text": [
            "michigan\n",
            "Wilcoxon signed-rank test\n"
          ]
        },
        {
          "output_type": "stream",
          "name": "stderr",
          "text": [
            "/usr/local/lib/python3.7/dist-packages/ipykernel_launcher.py:18: DeprecationWarning: The default dtype for empty Series will be 'object' instead of 'float64' in a future version. Specify a dtype explicitly to silence this warning.\n"
          ]
        },
        {
          "output_type": "stream",
          "name": "stdout",
          "text": [
            "8783\n",
            "rejected H0(bonferroni):8783.0\n",
            "rejected H0(BH):3436.966328168272 \n",
            "\n",
            "irvine\n",
            "Wilcoxon signed-rank test\n",
            "8783\n",
            "rejected H0(bonferroni):8783.0\n",
            "rejected H0(BH):7781.363874035655 \n",
            "\n"
          ]
        },
        {
          "output_type": "display_data",
          "data": {
            "text/plain": [
              "<Figure size 432x288 with 1 Axes>"
            ],
            "image/png": "[encoded data removed]"
          },
          "metadata": {
            "needs_background": "light"
          }
        }
      ]
    },
    {
      "cell_type": "code",
      "source": [
        "testing(michigan_diff, 'michigan', 't')\n",
        "testing(irvine_diff, 'irvine', 't')\n",
        "#testing(davis_diff, 'davis', 't')"
      ],
      "metadata": {
        "id": "dJgl0GRKC_gc",
        "colab": {
          "base_uri": "https://localhost:8080/",
          "height": 494
        },
        "outputId": "9c313157-2bbc-419a-d7ea-15a5d43ad655"
      },
      "execution_count": 6,
      "outputs": [
        {
          "output_type": "stream",
          "name": "stdout",
          "text": [
            "michigan\n",
            "Paired t-test\n"
          ]
        },
        {
          "output_type": "stream",
          "name": "stderr",
          "text": [
            "/usr/local/lib/python3.7/dist-packages/ipykernel_launcher.py:18: DeprecationWarning: The default dtype for empty Series will be 'object' instead of 'float64' in a future version. Specify a dtype explicitly to silence this warning.\n"
          ]
        },
        {
          "output_type": "stream",
          "name": "stdout",
          "text": [
            "8783\n",
            "rejected H0(bonferroni):8571.128152044545\n",
            "rejected H0(BH):3117.4684668275345 \n",
            "\n",
            "irvine\n",
            "Paired t-test\n",
            "8783\n",
            "rejected H0(bonferroni):8782.346500063266\n",
            "rejected H0(BH):7633.972626568166 \n",
            "\n"
          ]
        },
        {
          "output_type": "display_data",
          "data": {
            "text/plain": [
              "<Figure size 432x288 with 1 Axes>"
            ],
            "image/png": "[encoded data removed]"
          },
          "metadata": {
            "needs_background": "light"
          }
        }
      ]
    },
    {
      "cell_type": "code",
      "source": [
        "plt.figure(figsize=(10, 6))\n",
        "plt.title('Histogram of the p-values(Wilcoxon Signed-rank test)')\n",
        "plt.hist(pvals['michigan_w'], bins=np.arange(0, 1, 0.01), alpha=0.7, label='Michigan')\n",
        "plt.hist(pvals['irvine_w'], bins=np.arange(0, 1, 0.01), alpha=0.7, label='Irvine')\n",
        "plt.xlabel('p-values')\n",
        "plt.ylabel('Frequency')\n",
        "plt.legend()"
      ],
      "metadata": {
        "id": "L7rGYFIlJiM4",
        "colab": {
          "base_uri": "https://localhost:8080/",
          "height": 421
        },
        "outputId": "2f2fabf3-2d08-4bb3-9ed4-037cdb08d357"
      },
      "execution_count": null,
      "outputs": [
        {
          "output_type": "execute_result",
          "data": {
            "text/plain": [
              "<matplotlib.legend.Legend at 0x7faf29baaa50>"
            ]
          },
          "metadata": {},
          "execution_count": 70
        },
        {
          "output_type": "display_data",
          "data": {
            "text/plain": [
              "<Figure size 720x432 with 1 Axes>"
            ],
            "image/png": "[encoded data removed]"
          },
          "metadata": {
            "needs_background": "light"
          }
        }
      ]
    },
    {
      "cell_type": "code",
      "source": [
        "plt.figure(figsize=(10, 6))\n",
        "plt.title('Histogram of the p-values(paired t-test)')\n",
        "plt.hist(pvals['michigan_t'], bins=np.arange(0, 1, 0.01), alpha=0.7, label='Michigan')\n",
        "plt.hist(pvals['irvine_t'], bins=np.arange(0, 1, 0.01), alpha=0.7, label='Irvine')\n",
        "plt.xlabel('p-values')\n",
        "plt.ylabel('Frequency')\n",
        "plt.legend()"
      ],
      "metadata": {
        "id": "YRNPbI0HC859",
        "colab": {
          "base_uri": "https://localhost:8080/",
          "height": 421
        },
        "outputId": "62a3e9db-c6e3-44a9-b9b7-a36d497d999d"
      },
      "execution_count": null,
      "outputs": [
        {
          "output_type": "execute_result",
          "data": {
            "text/plain": [
              "<matplotlib.legend.Legend at 0x7faf29b832d0>"
            ]
          },
          "metadata": {},
          "execution_count": 71
        },
        {
          "output_type": "display_data",
          "data": {
            "text/plain": [
              "<Figure size 720x432 with 1 Axes>"
            ],
            "image/png": "[encoded data removed]"
          },
          "metadata": {
            "needs_background": "light"
          }
        }
      ]
    },
    {
      "cell_type": "markdown",
      "source": [
        "# Gene Investigation"
      ],
      "metadata": {
        "id": "hcMs3tOoZ1T8"
      }
    },
    {
      "cell_type": "code",
      "source": [
        "pd.options.display.float_format = '{:.2e}'.format\n",
        "top20_m = pvals['michigan_t'].sort_values().head(20)\n",
        "top20_m.name='p-value'\n",
        "top20_m"
      ],
      "metadata": {
        "id": "wLhLXoHEOlHJ",
        "colab": {
          "base_uri": "https://localhost:8080/"
        },
        "outputId": "3becdbaa-b394-4aba-ca78-82f2a2691e52"
      },
      "execution_count": null,
      "outputs": [
        {
          "output_type": "execute_result",
          "data": {
            "text/plain": [
              "BTG2      3.28e-08\n",
              "PPIH      4.45e-08\n",
              "GALT      4.71e-08\n",
              "GGCT      1.49e-07\n",
              "CHI3L2    2.07e-07\n",
              "MYRIP     2.10e-07\n",
              "VASH1     2.55e-07\n",
              "UROD      2.60e-07\n",
              "GIPC1     4.96e-07\n",
              "ZNF638    5.05e-07\n",
              "ZBTB5     5.75e-07\n",
              "UBR4      5.84e-07\n",
              "HADHB     6.11e-07\n",
              "KLC1      6.24e-07\n",
              "RGP1      6.38e-07\n",
              "NDUFS8    7.56e-07\n",
              "SUMO3     7.68e-07\n",
              "RASGRP1   1.08e-06\n",
              "VCL       1.10e-06\n",
              "FAM32A    1.13e-06\n",
              "Name: p-value, dtype: float64"
            ]
          },
          "metadata": {},
          "execution_count": 124
        }
      ]
    },
    {
      "cell_type": "markdown",
      "source": [
        "Find common genes between wilcoxon and paired t-test"
      ],
      "metadata": {
        "id": "6J-yTJvsbSFq"
      }
    },
    {
      "cell_type": "code",
      "source": [
        "pd.options.display.float_format = '{:.2e}'.format\n",
        "# x, y: corrected p-values for the rejected genes\n",
        "x = rejected['michigan_w_bh']\n",
        "x = x[x<0.05].sort_values()\n",
        "x = x.iloc[:100]\n",
        "\n",
        "y = rejected['michigan_t_bh']\n",
        "y = y[y<0.05].sort_values()\n",
        "y = y.iloc[:100]\n",
        "\n",
        "x.reset_index().merge(y.reset_index(), on='index')\n",
        "#W = x.reset_index().merge(y.reset_index(), on='index').sort_values('0_x').head(50)\n",
        "#P = x.reset_index().merge(y.reset_index(), on='index').sort_values('0_y').head(50)\n",
        "#W.merge(P, on='index')\n"
      ],
      "metadata": {
        "colab": {
          "base_uri": "https://localhost:8080/",
          "height": 291
        },
        "id": "CU4Gz8sL6wIe",
        "outputId": "7d116fd8-3dad-43d1-e408-5e7a53ee4214"
      },
      "execution_count": 7,
      "outputs": [
        {
          "output_type": "execute_result",
          "data": {
            "text/plain": [
              "    index      0_x      0_y\n",
              "0   VASH1 1.90e-02 2.86e-04\n",
              "1      F8 1.90e-02 4.49e-04\n",
              "2  FAM32A 1.90e-02 4.49e-04\n",
              "3    DLG4 1.90e-02 5.02e-04\n",
              "4    UGDH 1.90e-02 5.81e-04\n",
              "5    EPRS 1.90e-02 9.75e-04\n",
              "6    NXF1 1.90e-02 9.75e-04\n",
              "7     AMH 1.90e-02 4.49e-04"
            ],
            "text/html": [
              "\n",
              "  <div id=\"df-0240fdd2-1305-4688-80c9-107dad72f8a9\">\n",
              "    <div class=\"colab-df-container\">\n",
              "      <div>\n",
              "<style scoped>\n",
              "    .dataframe tbody tr th:only-of-type {\n",
              "        vertical-align: middle;\n",
              "    }\n",
              "\n",
              "    .dataframe tbody tr th {\n",
              "        vertical-align: top;\n",
              "    }\n",
              "\n",
              "    .dataframe thead th {\n",
              "        text-align: right;\n",
              "    }\n",
              "</style>\n",
              "<table border=\"1\" class=\"dataframe\">\n",
              "  <thead>\n",
              "    <tr style=\"text-align: right;\">\n",
              "      <th></th>\n",
              "      <th>index</th>\n",
              "      <th>0_x</th>\n",
              "      <th>0_y</th>\n",
              "    </tr>\n",
              "  </thead>\n",
              "  <tbody>\n",
              "    <tr>\n",
              "      <th>0</th>\n",
              "      <td>VASH1</td>\n",
              "      <td>1.90e-02</td>\n",
              "      <td>2.86e-04</td>\n",
              "    </tr>\n",
              "    <tr>\n",
              "      <th>1</th>\n",
              "      <td>F8</td>\n",
              "      <td>1.90e-02</td>\n",
              "      <td>4.49e-04</td>\n",
              "    </tr>\n",
              "    <tr>\n",
              "      <th>2</th>\n",
              "      <td>FAM32A</td>\n",
              "      <td>1.90e-02</td>\n",
              "      <td>4.49e-04</td>\n",
              "    </tr>\n",
              "    <tr>\n",
              "      <th>3</th>\n",
              "      <td>DLG4</td>\n",
              "      <td>1.90e-02</td>\n",
              "      <td>5.02e-04</td>\n",
              "    </tr>\n",
              "    <tr>\n",
              "      <th>4</th>\n",
              "      <td>UGDH</td>\n",
              "      <td>1.90e-02</td>\n",
              "      <td>5.81e-04</td>\n",
              "    </tr>\n",
              "    <tr>\n",
              "      <th>5</th>\n",
              "      <td>EPRS</td>\n",
              "      <td>1.90e-02</td>\n",
              "      <td>9.75e-04</td>\n",
              "    </tr>\n",
              "    <tr>\n",
              "      <th>6</th>\n",
              "      <td>NXF1</td>\n",
              "      <td>1.90e-02</td>\n",
              "      <td>9.75e-04</td>\n",
              "    </tr>\n",
              "    <tr>\n",
              "      <th>7</th>\n",
              "      <td>AMH</td>\n",
              "      <td>1.90e-02</td>\n",
              "      <td>4.49e-04</td>\n",
              "    </tr>\n",
              "  </tbody>\n",
              "</table>\n",
              "</div>\n",
              "      <button class=\"colab-df-convert\" onclick=\"convertToInteractive('df-0240fdd2-1305-4688-80c9-107dad72f8a9')\"\n",
              "              title=\"Convert this dataframe to an interactive table.\"\n",
              "              style=\"display:none;\">\n",
              "        \n",
              "  <svg xmlns=\"http://www.w3.org/2000/svg\" height=\"24px\"viewBox=\"0 0 24 24\"\n",
              "       width=\"24px\">\n",
              "    <path d=\"M0 0h24v24H0V0z\" fill=\"none\"/>\n",
              "    <path d=\"M18.56 5.44l.94 2.06.94-2.06 2.06-.94-2.06-.94-.94-2.06-.94 2.06-2.06.94zm-11 1L8.5 8.5l.94-2.06 2.06-.94-2.06-.94L8.5 2.5l-.94 2.06-2.06.94zm10 10l.94 2.06.94-2.06 2.06-.94-2.06-.94-.94-2.06-.94 2.06-2.06.94z\"/><path d=\"M17.41 7.96l-1.37-1.37c-.4-.4-.92-.59-1.43-.59-.52 0-1.04.2-1.43.59L10.3 9.45l-7.72 7.72c-.78.78-.78 2.05 0 2.83L4 21.41c.39.39.9.59 1.41.59.51 0 1.02-.2 1.41-.59l7.78-7.78 2.81-2.81c.8-.78.8-2.07 0-2.86zM5.41 20L4 18.59l7.72-7.72 1.47 1.35L5.41 20z\"/>\n",
              "  </svg>\n",
              "      </button>\n",
              "      \n",
              "  <style>\n",
              "    .colab-df-container {\n",
              "      display:flex;\n",
              "      flex-wrap:wrap;\n",
              "      gap: 12px;\n",
              "    }\n",
              "\n",
              "    .colab-df-convert {\n",
              "      background-color: #E8F0FE;\n",
              "      border: none;\n",
              "      border-radius: 50%;\n",
              "      cursor: pointer;\n",
              "      display: none;\n",
              "      fill: #1967D2;\n",
              "      height: 32px;\n",
              "      padding: 0 0 0 0;\n",
              "      width: 32px;\n",
              "    }\n",
              "\n",
              "    .colab-df-convert:hover {\n",
              "      background-color: #E2EBFA;\n",
              "      box-shadow: 0px 1px 2px rgba(60, 64, 67, 0.3), 0px 1px 3px 1px rgba(60, 64, 67, 0.15);\n",
              "      fill: #174EA6;\n",
              "    }\n",
              "\n",
              "    [theme=dark] .colab-df-convert {\n",
              "      background-color: #3B4455;\n",
              "      fill: #D2E3FC;\n",
              "    }\n",
              "\n",
              "    [theme=dark] .colab-df-convert:hover {\n",
              "      background-color: #434B5C;\n",
              "      box-shadow: 0px 1px 3px 1px rgba(0, 0, 0, 0.15);\n",
              "      filter: drop-shadow(0px 1px 2px rgba(0, 0, 0, 0.3));\n",
              "      fill: #FFFFFF;\n",
              "    }\n",
              "  </style>\n",
              "\n",
              "      <script>\n",
              "        const buttonEl =\n",
              "          document.querySelector('#df-0240fdd2-1305-4688-80c9-107dad72f8a9 button.colab-df-convert');\n",
              "        buttonEl.style.display =\n",
              "          google.colab.kernel.accessAllowed ? 'block' : 'none';\n",
              "\n",
              "        async function convertToInteractive(key) {\n",
              "          const element = document.querySelector('#df-0240fdd2-1305-4688-80c9-107dad72f8a9');\n",
              "          const dataTable =\n",
              "            await google.colab.kernel.invokeFunction('convertToInteractive',\n",
              "                                                     [key], {});\n",
              "          if (!dataTable) return;\n",
              "\n",
              "          const docLinkHtml = 'Like what you see? Visit the ' +\n",
              "            '<a target=\"_blank\" href=https://colab.research.google.com/notebooks/data_table.ipynb>data table notebook</a>'\n",
              "            + ' to learn more about interactive tables.';\n",
              "          element.innerHTML = '';\n",
              "          dataTable['output_type'] = 'display_data';\n",
              "          await google.colab.output.renderOutput(dataTable, element);\n",
              "          const docLink = document.createElement('div');\n",
              "          docLink.innerHTML = docLinkHtml;\n",
              "          element.appendChild(docLink);\n",
              "        }\n",
              "      </script>\n",
              "    </div>\n",
              "  </div>\n",
              "  "
            ]
          },
          "metadata": {},
          "execution_count": 7
        }
      ]
    },
    {
      "cell_type": "code",
      "source": [
        "# Do the procedure on the uncorrected p-values\n",
        "x = rejected['michigan_w_bh']\n",
        "x = x[x<0.05].sort_values()\n",
        "\n",
        "\n",
        "y = rejected['michigan_t_bh']\n",
        "y = y[y<0.05].sort_values()\n",
        "\n",
        "\n",
        "x1 = pvals['michigan_t']\n",
        "x1 = x1[x.index]\n",
        "x1 = x1.iloc[:50]\n",
        "\n",
        "y1 = pvals['michigan_w']\n",
        "y1 = y1[y.index]\n",
        "y1 = y1.iloc[:50]\n",
        "\n",
        "#X = x1.reset_index().merge(y1.reset_index(), on='index').sort_values('p.val_x').head(50)\n",
        "#Y = x1.reset_index().merge(y1.reset_index(), on='index').sort_values('p.val_y').head(50)\n",
        "#X.merge(Y, on='index')\n",
        "x1.reset_index().merge(y1.reset_index(), on='index')\n"
      ],
      "metadata": {
        "colab": {
          "base_uri": "https://localhost:8080/",
          "height": 170
        },
        "id": "BSeST-68WCDZ",
        "outputId": "41a3e48c-e468-43c9-b7a9-045ba7562b85"
      },
      "execution_count": 8,
      "outputs": [
        {
          "output_type": "execute_result",
          "data": {
            "text/plain": [
              "    index      0_x      0_y\n",
              "0   VASH1 2.55e-07 1.95e-03\n",
              "1      F8 1.50e-06 1.95e-03\n",
              "2  FAM32A 1.13e-06 1.95e-03\n",
              "3    DLG4 2.35e-06 1.95e-03"
            ],
            "text/html": [
              "\n",
              "  <div id=\"df-975eded1-c1de-4a37-9de6-ab4eec2328b1\">\n",
              "    <div class=\"colab-df-container\">\n",
              "      <div>\n",
              "<style scoped>\n",
              "    .dataframe tbody tr th:only-of-type {\n",
              "        vertical-align: middle;\n",
              "    }\n",
              "\n",
              "    .dataframe tbody tr th {\n",
              "        vertical-align: top;\n",
              "    }\n",
              "\n",
              "    .dataframe thead th {\n",
              "        text-align: right;\n",
              "    }\n",
              "</style>\n",
              "<table border=\"1\" class=\"dataframe\">\n",
              "  <thead>\n",
              "    <tr style=\"text-align: right;\">\n",
              "      <th></th>\n",
              "      <th>index</th>\n",
              "      <th>0_x</th>\n",
              "      <th>0_y</th>\n",
              "    </tr>\n",
              "  </thead>\n",
              "  <tbody>\n",
              "    <tr>\n",
              "      <th>0</th>\n",
              "      <td>VASH1</td>\n",
              "      <td>2.55e-07</td>\n",
              "      <td>1.95e-03</td>\n",
              "    </tr>\n",
              "    <tr>\n",
              "      <th>1</th>\n",
              "      <td>F8</td>\n",
              "      <td>1.50e-06</td>\n",
              "      <td>1.95e-03</td>\n",
              "    </tr>\n",
              "    <tr>\n",
              "      <th>2</th>\n",
              "      <td>FAM32A</td>\n",
              "      <td>1.13e-06</td>\n",
              "      <td>1.95e-03</td>\n",
              "    </tr>\n",
              "    <tr>\n",
              "      <th>3</th>\n",
              "      <td>DLG4</td>\n",
              "      <td>2.35e-06</td>\n",
              "      <td>1.95e-03</td>\n",
              "    </tr>\n",
              "  </tbody>\n",
              "</table>\n",
              "</div>\n",
              "      <button class=\"colab-df-convert\" onclick=\"convertToInteractive('df-975eded1-c1de-4a37-9de6-ab4eec2328b1')\"\n",
              "              title=\"Convert this dataframe to an interactive table.\"\n",
              "              style=\"display:none;\">\n",
              "        \n",
              "  <svg xmlns=\"http://www.w3.org/2000/svg\" height=\"24px\"viewBox=\"0 0 24 24\"\n",
              "       width=\"24px\">\n",
              "    <path d=\"M0 0h24v24H0V0z\" fill=\"none\"/>\n",
              "    <path d=\"M18.56 5.44l.94 2.06.94-2.06 2.06-.94-2.06-.94-.94-2.06-.94 2.06-2.06.94zm-11 1L8.5 8.5l.94-2.06 2.06-.94-2.06-.94L8.5 2.5l-.94 2.06-2.06.94zm10 10l.94 2.06.94-2.06 2.06-.94-2.06-.94-.94-2.06-.94 2.06-2.06.94z\"/><path d=\"M17.41 7.96l-1.37-1.37c-.4-.4-.92-.59-1.43-.59-.52 0-1.04.2-1.43.59L10.3 9.45l-7.72 7.72c-.78.78-.78 2.05 0 2.83L4 21.41c.39.39.9.59 1.41.59.51 0 1.02-.2 1.41-.59l7.78-7.78 2.81-2.81c.8-.78.8-2.07 0-2.86zM5.41 20L4 18.59l7.72-7.72 1.47 1.35L5.41 20z\"/>\n",
              "  </svg>\n",
              "      </button>\n",
              "      \n",
              "  <style>\n",
              "    .colab-df-container {\n",
              "      display:flex;\n",
              "      flex-wrap:wrap;\n",
              "      gap: 12px;\n",
              "    }\n",
              "\n",
              "    .colab-df-convert {\n",
              "      background-color: #E8F0FE;\n",
              "      border: none;\n",
              "      border-radius: 50%;\n",
              "      cursor: pointer;\n",
              "      display: none;\n",
              "      fill: #1967D2;\n",
              "      height: 32px;\n",
              "      padding: 0 0 0 0;\n",
              "      width: 32px;\n",
              "    }\n",
              "\n",
              "    .colab-df-convert:hover {\n",
              "      background-color: #E2EBFA;\n",
              "      box-shadow: 0px 1px 2px rgba(60, 64, 67, 0.3), 0px 1px 3px 1px rgba(60, 64, 67, 0.15);\n",
              "      fill: #174EA6;\n",
              "    }\n",
              "\n",
              "    [theme=dark] .colab-df-convert {\n",
              "      background-color: #3B4455;\n",
              "      fill: #D2E3FC;\n",
              "    }\n",
              "\n",
              "    [theme=dark] .colab-df-convert:hover {\n",
              "      background-color: #434B5C;\n",
              "      box-shadow: 0px 1px 3px 1px rgba(0, 0, 0, 0.15);\n",
              "      filter: drop-shadow(0px 1px 2px rgba(0, 0, 0, 0.3));\n",
              "      fill: #FFFFFF;\n",
              "    }\n",
              "  </style>\n",
              "\n",
              "      <script>\n",
              "        const buttonEl =\n",
              "          document.querySelector('#df-975eded1-c1de-4a37-9de6-ab4eec2328b1 button.colab-df-convert');\n",
              "        buttonEl.style.display =\n",
              "          google.colab.kernel.accessAllowed ? 'block' : 'none';\n",
              "\n",
              "        async function convertToInteractive(key) {\n",
              "          const element = document.querySelector('#df-975eded1-c1de-4a37-9de6-ab4eec2328b1');\n",
              "          const dataTable =\n",
              "            await google.colab.kernel.invokeFunction('convertToInteractive',\n",
              "                                                     [key], {});\n",
              "          if (!dataTable) return;\n",
              "\n",
              "          const docLinkHtml = 'Like what you see? Visit the ' +\n",
              "            '<a target=\"_blank\" href=https://colab.research.google.com/notebooks/data_table.ipynb>data table notebook</a>'\n",
              "            + ' to learn more about interactive tables.';\n",
              "          element.innerHTML = '';\n",
              "          dataTable['output_type'] = 'display_data';\n",
              "          await google.colab.output.renderOutput(dataTable, element);\n",
              "          const docLink = document.createElement('div');\n",
              "          docLink.innerHTML = docLinkHtml;\n",
              "          element.appendChild(docLink);\n",
              "        }\n",
              "      </script>\n",
              "    </div>\n",
              "  </div>\n",
              "  "
            ]
          },
          "metadata": {},
          "execution_count": 8
        }
      ]
    },
    {
      "cell_type": "markdown",
      "source": [
        "Gene selection:  \n",
        "1) select top 300 genes from each michigan and irvine lab.   \n",
        "2) select the genes that overlap"
      ],
      "metadata": {
        "id": "giYGrjQ1blvG"
      }
    },
    {
      "cell_type": "code",
      "source": [
        "pd.options.display.float_format = '{:.1e}'.format\n",
        "# Gene selection from michigan and irvine\n",
        "m = pvals['michigan_t']\n",
        "m = m[m<0.05].sort_values()\n",
        "m = m.iloc[:300]\n",
        "\n",
        "i = pvals['irvine_t']\n",
        "i = i[i<0.05].sort_values()\n",
        "i = i.iloc[:300]\n",
        "\n",
        "m.reset_index().merge(i.reset_index(), on='index').sort_values('0_x')"
      ],
      "metadata": {
        "colab": {
          "base_uri": "https://localhost:8080/",
          "height": 291
        },
        "id": "6N7WQavXaJn5",
        "outputId": "93cd9e00-8266-4075-85e5-6b324243c9e0"
      },
      "execution_count": 9,
      "outputs": [
        {
          "output_type": "execute_result",
          "data": {
            "text/plain": [
              "       index     0_x     0_y\n",
              "0      RAB36 9.0e-06 2.0e-02\n",
              "1     ZNF862 9.5e-06 1.5e-02\n",
              "2       CHD1 1.5e-05 1.8e-02\n",
              "3      GABRE 3.1e-05 2.5e-02\n",
              "4  LOC283079 5.3e-05 1.4e-02\n",
              "5      INSM1 5.5e-05 1.4e-02\n",
              "6       LRP6 6.2e-05 1.7e-02\n",
              "7     ERLIN1 7.0e-05 1.8e-02"
            ],
            "text/html": [
              "\n",
              "  <div id=\"df-a9e97b1b-b607-4faf-94ed-38a34e321313\">\n",
              "    <div class=\"colab-df-container\">\n",
              "      <div>\n",
              "<style scoped>\n",
              "    .dataframe tbody tr th:only-of-type {\n",
              "        vertical-align: middle;\n",
              "    }\n",
              "\n",
              "    .dataframe tbody tr th {\n",
              "        vertical-align: top;\n",
              "    }\n",
              "\n",
              "    .dataframe thead th {\n",
              "        text-align: right;\n",
              "    }\n",
              "</style>\n",
              "<table border=\"1\" class=\"dataframe\">\n",
              "  <thead>\n",
              "    <tr style=\"text-align: right;\">\n",
              "      <th></th>\n",
              "      <th>index</th>\n",
              "      <th>0_x</th>\n",
              "      <th>0_y</th>\n",
              "    </tr>\n",
              "  </thead>\n",
              "  <tbody>\n",
              "    <tr>\n",
              "      <th>0</th>\n",
              "      <td>RAB36</td>\n",
              "      <td>9.0e-06</td>\n",
              "      <td>2.0e-02</td>\n",
              "    </tr>\n",
              "    <tr>\n",
              "      <th>1</th>\n",
              "      <td>ZNF862</td>\n",
              "      <td>9.5e-06</td>\n",
              "      <td>1.5e-02</td>\n",
              "    </tr>\n",
              "    <tr>\n",
              "      <th>2</th>\n",
              "      <td>CHD1</td>\n",
              "      <td>1.5e-05</td>\n",
              "      <td>1.8e-02</td>\n",
              "    </tr>\n",
              "    <tr>\n",
              "      <th>3</th>\n",
              "      <td>GABRE</td>\n",
              "      <td>3.1e-05</td>\n",
              "      <td>2.5e-02</td>\n",
              "    </tr>\n",
              "    <tr>\n",
              "      <th>4</th>\n",
              "      <td>LOC283079</td>\n",
              "      <td>5.3e-05</td>\n",
              "      <td>1.4e-02</td>\n",
              "    </tr>\n",
              "    <tr>\n",
              "      <th>5</th>\n",
              "      <td>INSM1</td>\n",
              "      <td>5.5e-05</td>\n",
              "      <td>1.4e-02</td>\n",
              "    </tr>\n",
              "    <tr>\n",
              "      <th>6</th>\n",
              "      <td>LRP6</td>\n",
              "      <td>6.2e-05</td>\n",
              "      <td>1.7e-02</td>\n",
              "    </tr>\n",
              "    <tr>\n",
              "      <th>7</th>\n",
              "      <td>ERLIN1</td>\n",
              "      <td>7.0e-05</td>\n",
              "      <td>1.8e-02</td>\n",
              "    </tr>\n",
              "  </tbody>\n",
              "</table>\n",
              "</div>\n",
              "      <button class=\"colab-df-convert\" onclick=\"convertToInteractive('df-a9e97b1b-b607-4faf-94ed-38a34e321313')\"\n",
              "              title=\"Convert this dataframe to an interactive table.\"\n",
              "              style=\"display:none;\">\n",
              "        \n",
              "  <svg xmlns=\"http://www.w3.org/2000/svg\" height=\"24px\"viewBox=\"0 0 24 24\"\n",
              "       width=\"24px\">\n",
              "    <path d=\"M0 0h24v24H0V0z\" fill=\"none\"/>\n",
              "    <path d=\"M18.56 5.44l.94 2.06.94-2.06 2.06-.94-2.06-.94-.94-2.06-.94 2.06-2.06.94zm-11 1L8.5 8.5l.94-2.06 2.06-.94-2.06-.94L8.5 2.5l-.94 2.06-2.06.94zm10 10l.94 2.06.94-2.06 2.06-.94-2.06-.94-.94-2.06-.94 2.06-2.06.94z\"/><path d=\"M17.41 7.96l-1.37-1.37c-.4-.4-.92-.59-1.43-.59-.52 0-1.04.2-1.43.59L10.3 9.45l-7.72 7.72c-.78.78-.78 2.05 0 2.83L4 21.41c.39.39.9.59 1.41.59.51 0 1.02-.2 1.41-.59l7.78-7.78 2.81-2.81c.8-.78.8-2.07 0-2.86zM5.41 20L4 18.59l7.72-7.72 1.47 1.35L5.41 20z\"/>\n",
              "  </svg>\n",
              "      </button>\n",
              "      \n",
              "  <style>\n",
              "    .colab-df-container {\n",
              "      display:flex;\n",
              "      flex-wrap:wrap;\n",
              "      gap: 12px;\n",
              "    }\n",
              "\n",
              "    .colab-df-convert {\n",
              "      background-color: #E8F0FE;\n",
              "      border: none;\n",
              "      border-radius: 50%;\n",
              "      cursor: pointer;\n",
              "      display: none;\n",
              "      fill: #1967D2;\n",
              "      height: 32px;\n",
              "      padding: 0 0 0 0;\n",
              "      width: 32px;\n",
              "    }\n",
              "\n",
              "    .colab-df-convert:hover {\n",
              "      background-color: #E2EBFA;\n",
              "      box-shadow: 0px 1px 2px rgba(60, 64, 67, 0.3), 0px 1px 3px 1px rgba(60, 64, 67, 0.15);\n",
              "      fill: #174EA6;\n",
              "    }\n",
              "\n",
              "    [theme=dark] .colab-df-convert {\n",
              "      background-color: #3B4455;\n",
              "      fill: #D2E3FC;\n",
              "    }\n",
              "\n",
              "    [theme=dark] .colab-df-convert:hover {\n",
              "      background-color: #434B5C;\n",
              "      box-shadow: 0px 1px 3px 1px rgba(0, 0, 0, 0.15);\n",
              "      filter: drop-shadow(0px 1px 2px rgba(0, 0, 0, 0.3));\n",
              "      fill: #FFFFFF;\n",
              "    }\n",
              "  </style>\n",
              "\n",
              "      <script>\n",
              "        const buttonEl =\n",
              "          document.querySelector('#df-a9e97b1b-b607-4faf-94ed-38a34e321313 button.colab-df-convert');\n",
              "        buttonEl.style.display =\n",
              "          google.colab.kernel.accessAllowed ? 'block' : 'none';\n",
              "\n",
              "        async function convertToInteractive(key) {\n",
              "          const element = document.querySelector('#df-a9e97b1b-b607-4faf-94ed-38a34e321313');\n",
              "          const dataTable =\n",
              "            await google.colab.kernel.invokeFunction('convertToInteractive',\n",
              "                                                     [key], {});\n",
              "          if (!dataTable) return;\n",
              "\n",
              "          const docLinkHtml = 'Like what you see? Visit the ' +\n",
              "            '<a target=\"_blank\" href=https://colab.research.google.com/notebooks/data_table.ipynb>data table notebook</a>'\n",
              "            + ' to learn more about interactive tables.';\n",
              "          element.innerHTML = '';\n",
              "          dataTable['output_type'] = 'display_data';\n",
              "          await google.colab.output.renderOutput(dataTable, element);\n",
              "          const docLink = document.createElement('div');\n",
              "          docLink.innerHTML = docLinkHtml;\n",
              "          element.appendChild(docLink);\n",
              "        }\n",
              "      </script>\n",
              "    </div>\n",
              "  </div>\n",
              "  "
            ]
          },
          "metadata": {},
          "execution_count": 9
        }
      ]
    }
  ]
}