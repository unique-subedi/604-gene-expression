{
  "nbformat": 4,
  "nbformat_minor": 0,
  "metadata": {
    "colab": {
      "provenance": [],
      "collapsed_sections": [],
      "include_colab_link": true
    },
    "kernelspec": {
      "name": "python3",
      "display_name": "Python 3"
    },
    "language_info": {
      "name": "python"
    }
  },
  "cells": [
    {
      "cell_type": "markdown",
      "metadata": {
        "id": "view-in-github",
        "colab_type": "text"
      },
      "source": [
        "<a href=\"https://colab.research.google.com/github/unique-subedi/gene-expression/blob/main/Unique_gene_expression_master.ipynb\" target=\"_parent\"><img src=\"https://colab.research.google.com/assets/colab-badge.svg\" alt=\"Open In Colab\"/></a>"
      ]
    },
    {
      "cell_type": "code",
      "source": [
        "import os\n",
        "import datetime\n",
        "import time\n",
        "import math\n",
        "import numpy as np\n",
        "from numpy import linalg as LA\n",
        "import pandas as pd\n",
        "import urllib.request"
      ],
      "metadata": {
        "id": "BmXo9Yr-pn3a"
      },
      "execution_count": 99,
      "outputs": []
    },
    {
      "cell_type": "code",
      "source": [
        "!pip install pyreadr\n",
        "import pyreadr\n",
        "urllib.request.urlretrieve(\"https://raw.githubusercontent.com/unique-subedi/gene-expression/main/data/brain.rda\", \"brain.rda\")\n",
        "brain = pyreadr.read_r(\"brain.rda\")"
      ],
      "metadata": {
        "id": "cISjdI7TGXg4",
        "outputId": "424637e6-facd-4d66-f531-a78cfd3e2152",
        "colab": {
          "base_uri": "https://localhost:8080/"
        }
      },
      "execution_count": 100,
      "outputs": [
        {
          "output_type": "stream",
          "name": "stdout",
          "text": [
            "Looking in indexes: https://pypi.org/simple, https://us-python.pkg.dev/colab-wheels/public/simple/\n",
            "Requirement already satisfied: pyreadr in /usr/local/lib/python3.7/dist-packages (0.4.7)\n",
            "Requirement already satisfied: pandas>=1.2.0 in /usr/local/lib/python3.7/dist-packages (from pyreadr) (1.3.5)\n",
            "Requirement already satisfied: numpy>=1.17.3 in /usr/local/lib/python3.7/dist-packages (from pandas>=1.2.0->pyreadr) (1.21.6)\n",
            "Requirement already satisfied: python-dateutil>=2.7.3 in /usr/local/lib/python3.7/dist-packages (from pandas>=1.2.0->pyreadr) (2.8.2)\n",
            "Requirement already satisfied: pytz>=2017.3 in /usr/local/lib/python3.7/dist-packages (from pandas>=1.2.0->pyreadr) (2022.2.1)\n",
            "Requirement already satisfied: six>=1.5 in /usr/local/lib/python3.7/dist-packages (from python-dateutil>=2.7.3->pandas>=1.2.0->pyreadr) (1.15.0)\n"
          ]
        }
      ]
    },
    {
      "cell_type": "code",
      "source": [
        "expression = pd.DataFrame(brain[\"expression\"])\n",
        "genes = pd.DataFrame(brain[\"genes\"])\n",
        "samples = pd.DataFrame(brain[\"samples\"])"
      ],
      "metadata": {
        "id": "Z9-4Xnp2GZZs"
      },
      "execution_count": 101,
      "outputs": []
    },
    {
      "cell_type": "code",
      "source": [
        "expression.head()\n",
        "genes.head()\n",
        "samples.iloc[:20,:]"
      ],
      "metadata": {
        "id": "bmgwqH_gGbWc"
      },
      "execution_count": null,
      "outputs": []
    },
    {
      "cell_type": "markdown",
      "source": [
        "`michigan` dataset contains the measurements, done at University of Michigan lab, of anterior cortex and dorsolateral cortex for each patient. \n",
        "\n",
        "`michigan_diff` subtracts measurement of anterior cortex from the dorsolateral cortex for each patient."
      ],
      "metadata": {
        "id": "aMLJR5wQr7UM"
      }
    },
    {
      "cell_type": "code",
      "source": [
        "michigan = expression[(expression.index.str[5] == 'M') & (expression.index.str[3] != 'c') ]\n",
        "michigan_diff = michigan.diff().iloc[1::2,:]\n",
        "michigan_diff.index = \"patient\" + michigan_diff.index.str[:2]\n",
        "michigan_diff"
      ],
      "metadata": {
        "colab": {
          "base_uri": "https://localhost:8080/",
          "height": 491
        },
        "id": "aVw9uUW5gQLz",
        "outputId": "fae3f759-6c54-4a3d-dae7-67e1e244a02b"
      },
      "execution_count": 103,
      "outputs": [
        {
          "output_type": "execute_result",
          "data": {
            "text/plain": [
              "            1000_at   1001_at  1002_f_at  1003_s_at   1004_at   1005_at  \\\n",
              "patient01  1.683506  1.078551   0.954802   1.156709  0.982425  1.161395   \n",
              "patient02  0.996391  0.544034   0.358586   0.683919  0.587913  0.984146   \n",
              "patient03  0.748157  0.410856   0.375251   0.664853  0.519776  0.806980   \n",
              "patient04  0.965669  0.526189   0.348966   0.575349  0.353175  0.445199   \n",
              "patient05  0.805991  0.436910   0.485836   0.179388  0.270416  0.651277   \n",
              "patient06  0.523212  0.548558   0.332666   0.131101  0.105857  0.221342   \n",
              "patient07  0.744211  0.529751   0.570855   0.402839  0.382700  0.699813   \n",
              "patient08  0.307347  0.097159   0.261037  -0.244442 -0.034621 -0.026341   \n",
              "patient09  0.632714  0.512219   0.452847   0.249875  0.268599  0.495261   \n",
              "patient10  0.817703  0.410601   0.404771   0.237337  0.246678  0.382905   \n",
              "\n",
              "            1006_at  1007_s_at  1008_f_at   1009_at  ...  AFFX-ThrX-5_at  \\\n",
              "patient01  0.890784   1.828306   1.124522  2.052794  ...        0.732205   \n",
              "patient02  0.349759   0.993259   1.090844  1.364808  ...        0.594352   \n",
              "patient03  0.566739   0.900413   1.118494  1.007720  ...        0.504707   \n",
              "patient04  0.361394   1.390621   0.703409  1.171899  ...        0.332539   \n",
              "patient05  0.387753   0.223662   0.560202  0.392694  ...        0.396176   \n",
              "patient06  0.260256   0.164966  -0.164174  0.405472  ...        0.330896   \n",
              "patient07  0.474074   0.725456   0.385778  0.179182  ...        0.616852   \n",
              "patient08 -0.008480   0.135303  -0.040331 -0.086372  ...        0.055827   \n",
              "patient09  0.314457   0.360264   0.214071 -0.038456  ...        0.502343   \n",
              "patient10  0.382378   0.391850   0.231995  0.225793  ...        0.451583   \n",
              "\n",
              "           AFFX-ThrX-M_at  AFFX-TrpnX-3_at  AFFX-TrpnX-5_at  AFFX-TrpnX-M_at  \\\n",
              "patient01        0.717167         0.600567         0.713971         0.576473   \n",
              "patient02        0.432579         0.375512         0.516236         0.421621   \n",
              "patient03        0.452460         0.378896         0.451803         0.356578   \n",
              "patient04        0.311592         0.209239         0.335892         0.255916   \n",
              "patient05        0.366402         0.532929         0.333441         0.287466   \n",
              "patient06        0.188302         0.309652         0.365562         0.230068   \n",
              "patient07        0.600624         0.649939         0.529744         0.603646   \n",
              "patient08        0.091226         0.225278         0.022298         0.051644   \n",
              "patient09        0.394397         0.472787         0.441500         0.462422   \n",
              "patient10        0.405504         0.511481         0.502447         0.503460   \n",
              "\n",
              "           AFFX-YEL002c/WBP1_at  AFFX-YEL018w/_at  AFFX-YEL021w/URA3_at  \\\n",
              "patient01              0.703452          0.676053              0.591423   \n",
              "patient02              0.533885          0.481034              0.352948   \n",
              "patient03              0.436162          0.509169              0.479238   \n",
              "patient04              0.270513          0.342929              0.264286   \n",
              "patient05              0.428850          0.365462              0.462509   \n",
              "patient06              0.495998          0.621407              0.600562   \n",
              "patient07              0.613554          0.463463              0.596304   \n",
              "patient08              0.089153         -0.030807              0.369845   \n",
              "patient09              0.510486          0.483740              0.581277   \n",
              "patient10              0.519477          0.444961              0.559787   \n",
              "\n",
              "           AFFX-YEL024w/RIP1_at  AFFX-hum_alu_at  \n",
              "patient01              0.763982         1.062522  \n",
              "patient02              0.443977         0.724038  \n",
              "patient03              0.485842         0.763825  \n",
              "patient04              0.342026         0.986904  \n",
              "patient05              0.414235        -0.063161  \n",
              "patient06              0.542592        -0.431859  \n",
              "patient07              0.379135         0.208659  \n",
              "patient08             -0.048141         0.075750  \n",
              "patient09              0.485722         0.255156  \n",
              "patient10              0.526603         0.080064  \n",
              "\n",
              "[10 rows x 12600 columns]"
            ],
            "text/html": [
              "\n",
              "  <div id=\"df-b698750a-4cad-4e00-928f-cf6d16780042\">\n",
              "    <div class=\"colab-df-container\">\n",
              "      <div>\n",
              "<style scoped>\n",
              "    .dataframe tbody tr th:only-of-type {\n",
              "        vertical-align: middle;\n",
              "    }\n",
              "\n",
              "    .dataframe tbody tr th {\n",
              "        vertical-align: top;\n",
              "    }\n",
              "\n",
              "    .dataframe thead th {\n",
              "        text-align: right;\n",
              "    }\n",
              "</style>\n",
              "<table border=\"1\" class=\"dataframe\">\n",
              "  <thead>\n",
              "    <tr style=\"text-align: right;\">\n",
              "      <th></th>\n",
              "      <th>1000_at</th>\n",
              "      <th>1001_at</th>\n",
              "      <th>1002_f_at</th>\n",
              "      <th>1003_s_at</th>\n",
              "      <th>1004_at</th>\n",
              "      <th>1005_at</th>\n",
              "      <th>1006_at</th>\n",
              "      <th>1007_s_at</th>\n",
              "      <th>1008_f_at</th>\n",
              "      <th>1009_at</th>\n",
              "      <th>...</th>\n",
              "      <th>AFFX-ThrX-5_at</th>\n",
              "      <th>AFFX-ThrX-M_at</th>\n",
              "      <th>AFFX-TrpnX-3_at</th>\n",
              "      <th>AFFX-TrpnX-5_at</th>\n",
              "      <th>AFFX-TrpnX-M_at</th>\n",
              "      <th>AFFX-YEL002c/WBP1_at</th>\n",
              "      <th>AFFX-YEL018w/_at</th>\n",
              "      <th>AFFX-YEL021w/URA3_at</th>\n",
              "      <th>AFFX-YEL024w/RIP1_at</th>\n",
              "      <th>AFFX-hum_alu_at</th>\n",
              "    </tr>\n",
              "  </thead>\n",
              "  <tbody>\n",
              "    <tr>\n",
              "      <th>patient01</th>\n",
              "      <td>1.683506</td>\n",
              "      <td>1.078551</td>\n",
              "      <td>0.954802</td>\n",
              "      <td>1.156709</td>\n",
              "      <td>0.982425</td>\n",
              "      <td>1.161395</td>\n",
              "      <td>0.890784</td>\n",
              "      <td>1.828306</td>\n",
              "      <td>1.124522</td>\n",
              "      <td>2.052794</td>\n",
              "      <td>...</td>\n",
              "      <td>0.732205</td>\n",
              "      <td>0.717167</td>\n",
              "      <td>0.600567</td>\n",
              "      <td>0.713971</td>\n",
              "      <td>0.576473</td>\n",
              "      <td>0.703452</td>\n",
              "      <td>0.676053</td>\n",
              "      <td>0.591423</td>\n",
              "      <td>0.763982</td>\n",
              "      <td>1.062522</td>\n",
              "    </tr>\n",
              "    <tr>\n",
              "      <th>patient02</th>\n",
              "      <td>0.996391</td>\n",
              "      <td>0.544034</td>\n",
              "      <td>0.358586</td>\n",
              "      <td>0.683919</td>\n",
              "      <td>0.587913</td>\n",
              "      <td>0.984146</td>\n",
              "      <td>0.349759</td>\n",
              "      <td>0.993259</td>\n",
              "      <td>1.090844</td>\n",
              "      <td>1.364808</td>\n",
              "      <td>...</td>\n",
              "      <td>0.594352</td>\n",
              "      <td>0.432579</td>\n",
              "      <td>0.375512</td>\n",
              "      <td>0.516236</td>\n",
              "      <td>0.421621</td>\n",
              "      <td>0.533885</td>\n",
              "      <td>0.481034</td>\n",
              "      <td>0.352948</td>\n",
              "      <td>0.443977</td>\n",
              "      <td>0.724038</td>\n",
              "    </tr>\n",
              "    <tr>\n",
              "      <th>patient03</th>\n",
              "      <td>0.748157</td>\n",
              "      <td>0.410856</td>\n",
              "      <td>0.375251</td>\n",
              "      <td>0.664853</td>\n",
              "      <td>0.519776</td>\n",
              "      <td>0.806980</td>\n",
              "      <td>0.566739</td>\n",
              "      <td>0.900413</td>\n",
              "      <td>1.118494</td>\n",
              "      <td>1.007720</td>\n",
              "      <td>...</td>\n",
              "      <td>0.504707</td>\n",
              "      <td>0.452460</td>\n",
              "      <td>0.378896</td>\n",
              "      <td>0.451803</td>\n",
              "      <td>0.356578</td>\n",
              "      <td>0.436162</td>\n",
              "      <td>0.509169</td>\n",
              "      <td>0.479238</td>\n",
              "      <td>0.485842</td>\n",
              "      <td>0.763825</td>\n",
              "    </tr>\n",
              "    <tr>\n",
              "      <th>patient04</th>\n",
              "      <td>0.965669</td>\n",
              "      <td>0.526189</td>\n",
              "      <td>0.348966</td>\n",
              "      <td>0.575349</td>\n",
              "      <td>0.353175</td>\n",
              "      <td>0.445199</td>\n",
              "      <td>0.361394</td>\n",
              "      <td>1.390621</td>\n",
              "      <td>0.703409</td>\n",
              "      <td>1.171899</td>\n",
              "      <td>...</td>\n",
              "      <td>0.332539</td>\n",
              "      <td>0.311592</td>\n",
              "      <td>0.209239</td>\n",
              "      <td>0.335892</td>\n",
              "      <td>0.255916</td>\n",
              "      <td>0.270513</td>\n",
              "      <td>0.342929</td>\n",
              "      <td>0.264286</td>\n",
              "      <td>0.342026</td>\n",
              "      <td>0.986904</td>\n",
              "    </tr>\n",
              "    <tr>\n",
              "      <th>patient05</th>\n",
              "      <td>0.805991</td>\n",
              "      <td>0.436910</td>\n",
              "      <td>0.485836</td>\n",
              "      <td>0.179388</td>\n",
              "      <td>0.270416</td>\n",
              "      <td>0.651277</td>\n",
              "      <td>0.387753</td>\n",
              "      <td>0.223662</td>\n",
              "      <td>0.560202</td>\n",
              "      <td>0.392694</td>\n",
              "      <td>...</td>\n",
              "      <td>0.396176</td>\n",
              "      <td>0.366402</td>\n",
              "      <td>0.532929</td>\n",
              "      <td>0.333441</td>\n",
              "      <td>0.287466</td>\n",
              "      <td>0.428850</td>\n",
              "      <td>0.365462</td>\n",
              "      <td>0.462509</td>\n",
              "      <td>0.414235</td>\n",
              "      <td>-0.063161</td>\n",
              "    </tr>\n",
              "    <tr>\n",
              "      <th>patient06</th>\n",
              "      <td>0.523212</td>\n",
              "      <td>0.548558</td>\n",
              "      <td>0.332666</td>\n",
              "      <td>0.131101</td>\n",
              "      <td>0.105857</td>\n",
              "      <td>0.221342</td>\n",
              "      <td>0.260256</td>\n",
              "      <td>0.164966</td>\n",
              "      <td>-0.164174</td>\n",
              "      <td>0.405472</td>\n",
              "      <td>...</td>\n",
              "      <td>0.330896</td>\n",
              "      <td>0.188302</td>\n",
              "      <td>0.309652</td>\n",
              "      <td>0.365562</td>\n",
              "      <td>0.230068</td>\n",
              "      <td>0.495998</td>\n",
              "      <td>0.621407</td>\n",
              "      <td>0.600562</td>\n",
              "      <td>0.542592</td>\n",
              "      <td>-0.431859</td>\n",
              "    </tr>\n",
              "    <tr>\n",
              "      <th>patient07</th>\n",
              "      <td>0.744211</td>\n",
              "      <td>0.529751</td>\n",
              "      <td>0.570855</td>\n",
              "      <td>0.402839</td>\n",
              "      <td>0.382700</td>\n",
              "      <td>0.699813</td>\n",
              "      <td>0.474074</td>\n",
              "      <td>0.725456</td>\n",
              "      <td>0.385778</td>\n",
              "      <td>0.179182</td>\n",
              "      <td>...</td>\n",
              "      <td>0.616852</td>\n",
              "      <td>0.600624</td>\n",
              "      <td>0.649939</td>\n",
              "      <td>0.529744</td>\n",
              "      <td>0.603646</td>\n",
              "      <td>0.613554</td>\n",
              "      <td>0.463463</td>\n",
              "      <td>0.596304</td>\n",
              "      <td>0.379135</td>\n",
              "      <td>0.208659</td>\n",
              "    </tr>\n",
              "    <tr>\n",
              "      <th>patient08</th>\n",
              "      <td>0.307347</td>\n",
              "      <td>0.097159</td>\n",
              "      <td>0.261037</td>\n",
              "      <td>-0.244442</td>\n",
              "      <td>-0.034621</td>\n",
              "      <td>-0.026341</td>\n",
              "      <td>-0.008480</td>\n",
              "      <td>0.135303</td>\n",
              "      <td>-0.040331</td>\n",
              "      <td>-0.086372</td>\n",
              "      <td>...</td>\n",
              "      <td>0.055827</td>\n",
              "      <td>0.091226</td>\n",
              "      <td>0.225278</td>\n",
              "      <td>0.022298</td>\n",
              "      <td>0.051644</td>\n",
              "      <td>0.089153</td>\n",
              "      <td>-0.030807</td>\n",
              "      <td>0.369845</td>\n",
              "      <td>-0.048141</td>\n",
              "      <td>0.075750</td>\n",
              "    </tr>\n",
              "    <tr>\n",
              "      <th>patient09</th>\n",
              "      <td>0.632714</td>\n",
              "      <td>0.512219</td>\n",
              "      <td>0.452847</td>\n",
              "      <td>0.249875</td>\n",
              "      <td>0.268599</td>\n",
              "      <td>0.495261</td>\n",
              "      <td>0.314457</td>\n",
              "      <td>0.360264</td>\n",
              "      <td>0.214071</td>\n",
              "      <td>-0.038456</td>\n",
              "      <td>...</td>\n",
              "      <td>0.502343</td>\n",
              "      <td>0.394397</td>\n",
              "      <td>0.472787</td>\n",
              "      <td>0.441500</td>\n",
              "      <td>0.462422</td>\n",
              "      <td>0.510486</td>\n",
              "      <td>0.483740</td>\n",
              "      <td>0.581277</td>\n",
              "      <td>0.485722</td>\n",
              "      <td>0.255156</td>\n",
              "    </tr>\n",
              "    <tr>\n",
              "      <th>patient10</th>\n",
              "      <td>0.817703</td>\n",
              "      <td>0.410601</td>\n",
              "      <td>0.404771</td>\n",
              "      <td>0.237337</td>\n",
              "      <td>0.246678</td>\n",
              "      <td>0.382905</td>\n",
              "      <td>0.382378</td>\n",
              "      <td>0.391850</td>\n",
              "      <td>0.231995</td>\n",
              "      <td>0.225793</td>\n",
              "      <td>...</td>\n",
              "      <td>0.451583</td>\n",
              "      <td>0.405504</td>\n",
              "      <td>0.511481</td>\n",
              "      <td>0.502447</td>\n",
              "      <td>0.503460</td>\n",
              "      <td>0.519477</td>\n",
              "      <td>0.444961</td>\n",
              "      <td>0.559787</td>\n",
              "      <td>0.526603</td>\n",
              "      <td>0.080064</td>\n",
              "    </tr>\n",
              "  </tbody>\n",
              "</table>\n",
              "<p>10 rows × 12600 columns</p>\n",
              "</div>\n",
              "      <button class=\"colab-df-convert\" onclick=\"convertToInteractive('df-b698750a-4cad-4e00-928f-cf6d16780042')\"\n",
              "              title=\"Convert this dataframe to an interactive table.\"\n",
              "              style=\"display:none;\">\n",
              "        \n",
              "  <svg xmlns=\"http://www.w3.org/2000/svg\" height=\"24px\"viewBox=\"0 0 24 24\"\n",
              "       width=\"24px\">\n",
              "    <path d=\"M0 0h24v24H0V0z\" fill=\"none\"/>\n",
              "    <path d=\"M18.56 5.44l.94 2.06.94-2.06 2.06-.94-2.06-.94-.94-2.06-.94 2.06-2.06.94zm-11 1L8.5 8.5l.94-2.06 2.06-.94-2.06-.94L8.5 2.5l-.94 2.06-2.06.94zm10 10l.94 2.06.94-2.06 2.06-.94-2.06-.94-.94-2.06-.94 2.06-2.06.94z\"/><path d=\"M17.41 7.96l-1.37-1.37c-.4-.4-.92-.59-1.43-.59-.52 0-1.04.2-1.43.59L10.3 9.45l-7.72 7.72c-.78.78-.78 2.05 0 2.83L4 21.41c.39.39.9.59 1.41.59.51 0 1.02-.2 1.41-.59l7.78-7.78 2.81-2.81c.8-.78.8-2.07 0-2.86zM5.41 20L4 18.59l7.72-7.72 1.47 1.35L5.41 20z\"/>\n",
              "  </svg>\n",
              "      </button>\n",
              "      \n",
              "  <style>\n",
              "    .colab-df-container {\n",
              "      display:flex;\n",
              "      flex-wrap:wrap;\n",
              "      gap: 12px;\n",
              "    }\n",
              "\n",
              "    .colab-df-convert {\n",
              "      background-color: #E8F0FE;\n",
              "      border: none;\n",
              "      border-radius: 50%;\n",
              "      cursor: pointer;\n",
              "      display: none;\n",
              "      fill: #1967D2;\n",
              "      height: 32px;\n",
              "      padding: 0 0 0 0;\n",
              "      width: 32px;\n",
              "    }\n",
              "\n",
              "    .colab-df-convert:hover {\n",
              "      background-color: #E2EBFA;\n",
              "      box-shadow: 0px 1px 2px rgba(60, 64, 67, 0.3), 0px 1px 3px 1px rgba(60, 64, 67, 0.15);\n",
              "      fill: #174EA6;\n",
              "    }\n",
              "\n",
              "    [theme=dark] .colab-df-convert {\n",
              "      background-color: #3B4455;\n",
              "      fill: #D2E3FC;\n",
              "    }\n",
              "\n",
              "    [theme=dark] .colab-df-convert:hover {\n",
              "      background-color: #434B5C;\n",
              "      box-shadow: 0px 1px 3px 1px rgba(0, 0, 0, 0.15);\n",
              "      filter: drop-shadow(0px 1px 2px rgba(0, 0, 0, 0.3));\n",
              "      fill: #FFFFFF;\n",
              "    }\n",
              "  </style>\n",
              "\n",
              "      <script>\n",
              "        const buttonEl =\n",
              "          document.querySelector('#df-b698750a-4cad-4e00-928f-cf6d16780042 button.colab-df-convert');\n",
              "        buttonEl.style.display =\n",
              "          google.colab.kernel.accessAllowed ? 'block' : 'none';\n",
              "\n",
              "        async function convertToInteractive(key) {\n",
              "          const element = document.querySelector('#df-b698750a-4cad-4e00-928f-cf6d16780042');\n",
              "          const dataTable =\n",
              "            await google.colab.kernel.invokeFunction('convertToInteractive',\n",
              "                                                     [key], {});\n",
              "          if (!dataTable) return;\n",
              "\n",
              "          const docLinkHtml = 'Like what you see? Visit the ' +\n",
              "            '<a target=\"_blank\" href=https://colab.research.google.com/notebooks/data_table.ipynb>data table notebook</a>'\n",
              "            + ' to learn more about interactive tables.';\n",
              "          element.innerHTML = '';\n",
              "          dataTable['output_type'] = 'display_data';\n",
              "          await google.colab.output.renderOutput(dataTable, element);\n",
              "          const docLink = document.createElement('div');\n",
              "          docLink.innerHTML = docLinkHtml;\n",
              "          element.appendChild(docLink);\n",
              "        }\n",
              "      </script>\n",
              "    </div>\n",
              "  </div>\n",
              "  "
            ]
          },
          "metadata": {},
          "execution_count": 103
        }
      ]
    },
    {
      "cell_type": "code",
      "source": [
        "(michigan_diff.loc['patient08']< 0).sum()"
      ],
      "metadata": {
        "id": "lAThA0u_zCUY",
        "outputId": "c1444bde-94ce-4050-d1bf-54efcbea6377",
        "colab": {
          "base_uri": "https://localhost:8080/"
        }
      },
      "execution_count": 130,
      "outputs": [
        {
          "output_type": "execute_result",
          "data": {
            "text/plain": [
              "4176"
            ]
          },
          "metadata": {},
          "execution_count": 130
        }
      ]
    },
    {
      "cell_type": "code",
      "source": [
        "michigan_diff.loc[:, '33942_s_at']"
      ],
      "metadata": {
        "id": "HHGY3QJ60Idg",
        "outputId": "a3087dd1-d27e-4899-a900-9efdacac3396",
        "colab": {
          "base_uri": "https://localhost:8080/"
        }
      },
      "execution_count": 133,
      "outputs": [
        {
          "output_type": "execute_result",
          "data": {
            "text/plain": [
              "patient01    3.089106\n",
              "patient02    1.849506\n",
              "patient03    1.621996\n",
              "patient04    1.514725\n",
              "patient05    1.296588\n",
              "patient06    1.890518\n",
              "patient07    1.154332\n",
              "patient08    0.658243\n",
              "patient09    1.048392\n",
              "patient10    1.169494\n",
              "Name: 33942_s_at, dtype: float64"
            ]
          },
          "metadata": {},
          "execution_count": 133
        }
      ]
    },
    {
      "cell_type": "markdown",
      "source": [
        "Out of 126000 entries in this dataset, only 6764 (~5%) of the entries are negative. That means, the measurement for dorsolateral region is generally larger than that of anterior region for every patient."
      ],
      "metadata": {
        "id": "PMCEJ54Xs0eu"
      }
    },
    {
      "cell_type": "code",
      "source": [
        "126000 - (michigan_diff > 0).sum().sum()"
      ],
      "metadata": {
        "colab": {
          "base_uri": "https://localhost:8080/"
        },
        "id": "BqVbOyFcmePu",
        "outputId": "54bd1662-704c-4d7d-f5f1-0d77f26d2d7e"
      },
      "execution_count": 104,
      "outputs": [
        {
          "output_type": "execute_result",
          "data": {
            "text/plain": [
              "6764"
            ]
          },
          "metadata": {},
          "execution_count": 104
        }
      ]
    },
    {
      "cell_type": "markdown",
      "source": [
        "Take absolute values of each difference and compute the average over all patients for each probe sets and obtain top 20 probe sets with highest magnitude."
      ],
      "metadata": {
        "id": "htwddLeftO0E"
      }
    },
    {
      "cell_type": "code",
      "source": [
        "top_probes_michigan = michigan_diff.abs().mean().sort_values(ascending = False).iloc[:100]\n",
        "top_probes_michigan"
      ],
      "metadata": {
        "id": "QTIa4583nrq9",
        "outputId": "fcc4b568-3f89-49f7-f0f5-2756b3c92db2",
        "colab": {
          "base_uri": "https://localhost:8080/"
        }
      },
      "execution_count": 134,
      "outputs": [
        {
          "output_type": "execute_result",
          "data": {
            "text/plain": [
              "38308_g_at    1.700100\n",
              "33925_at      1.581787\n",
              "33942_s_at    1.529290\n",
              "36608_at      1.494925\n",
              "35742_at      1.435630\n",
              "                ...   \n",
              "41498_at      1.140076\n",
              "38708_at      1.137271\n",
              "32315_at      1.136706\n",
              "40512_at      1.134779\n",
              "35174_i_at    1.133433\n",
              "Length: 100, dtype: float64"
            ]
          },
          "metadata": {},
          "execution_count": 134
        }
      ]
    },
    {
      "cell_type": "markdown",
      "source": [
        "Map top probe sets to top genes using `genes` dataset. "
      ],
      "metadata": {
        "id": "AQb-9lDMtl2L"
      }
    },
    {
      "cell_type": "code",
      "source": [
        "top_genes_michigan = genes.loc[top_probes_michigan.keys()].loc[:, 'sym'].values\n",
        "top_genes_michigan"
      ],
      "metadata": {
        "id": "1sArrLvspRLj",
        "outputId": "c6cbcbe2-6f1f-41fe-9184-273a0232d0cc",
        "colab": {
          "base_uri": "https://localhost:8080/"
        }
      },
      "execution_count": 106,
      "outputs": [
        {
          "output_type": "execute_result",
          "data": {
            "text/plain": [
              "['NCDN', 'NRGN', 'STXBP1', 'MDH1', 'C16orf45', ..., 'HNRNPK', 'NPTN', 'FAM127A', 'OLFM1', 'VAMP2']\n",
              "Length: 20\n",
              "Categories (8783, object): ['AADAC', 'AAK1', 'AAMP', 'AANAT', ..., 'ZYX', 'ZZEF1', 'ZZZ3', 'psiTPTE22']"
            ]
          },
          "metadata": {},
          "execution_count": 106
        }
      ]
    },
    {
      "cell_type": "code",
      "source": [
        "def get_top_genes(lab):\n",
        "  df = expression[(expression.index.str[5] == lab) & (expression.index.str[3] != 'c') ]\n",
        "  df_diff = df.diff().iloc[1::2,:]\n",
        "  top_probes = df_diff.abs().mean().sort_values(ascending = False).iloc[:20]\n",
        "  top_genes = genes.loc[top_probes.keys()].loc[:, 'sym'].values\n",
        "  return np.array(top_genes)\n"
      ],
      "metadata": {
        "id": "AuexcaDEuvXd"
      },
      "execution_count": 145,
      "outputs": []
    },
    {
      "cell_type": "code",
      "source": [
        "top_genes_michigan = get_top_genes(\"M\")\n",
        "top_genes_irvine = get_top_genes(\"I\")\n",
        "print(np.intersect1d(top_genes_michigan, top_genes_irvine))"
      ],
      "metadata": {
        "id": "BZfQRQGhvfDT",
        "outputId": "4484968c-24e2-4f86-b1cb-bb295be98344",
        "colab": {
          "base_uri": "https://localhost:8080/"
        }
      },
      "execution_count": 148,
      "outputs": [
        {
          "output_type": "stream",
          "name": "stdout",
          "text": [
            "['NCDN' 'NRGN' 'STXBP1' 'VSNL1']\n"
          ]
        }
      ]
    }
  ]
}